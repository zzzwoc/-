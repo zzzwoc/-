{
 "cells": [
  {
   "cell_type": "code",
   "execution_count": 3,
   "metadata": {},
   "outputs": [
    {
     "name": "stderr",
     "output_type": "stream",
     "text": [
      "Ultralytics YOLOv8.0.186 🚀 Python-3.8.5 torch-1.9.1+cu102 CUDA:1 (Tesla K80, 11441MiB)\n",
      "Model summary (fused): 168 layers, 11128680 parameters, 0 gradients, 28.5 GFLOPs\n",
      "\u001b[34m\u001b[1mval: \u001b[0mScanning /home/ubuntu/zoucheng/yolo/data_jsai/val.cache... 303 images, 0 backgrounds, 0 corrupt: 100%|██████████| 303/303 [00:00<?, ?it/s]\n",
      "                 Class     Images  Instances      Box(P          R      mAP50  mAP50-95): 100%|██████████| 19/19 [00:08<00:00,  2.25it/s]\n",
      "                   all        303        663      0.486      0.318      0.293      0.175\n",
      "       transverseCrack        303         25      0.256       0.18      0.109      0.056\n",
      "     longitudinalCrack        303        362      0.688       0.61      0.647      0.353\n",
      "           blockyCrack        303          7       0.47      0.571      0.433      0.358\n",
      "              cracking        303          9      0.463      0.222       0.18      0.103\n",
      "             pitGroove        303         14          0          0     0.0133    0.00428\n",
      "      repairMeshCracks        303         16      0.581      0.562       0.61      0.375\n",
      "          repairCracks        303        223      0.428      0.399       0.35      0.152\n",
      "  repairPitsAndGrooves        303          7          1          0    0.00257    0.00154\n",
      "Speed: 0.4ms preprocess, 18.8ms inference, 0.0ms loss, 2.2ms postprocess per image\n",
      "Results saved to \u001b[1mruns/detect/val50\u001b[0m\n",
      "Ultralytics YOLOv8.0.186 🚀 Python-3.8.5 torch-1.9.1+cu102 CUDA:1 (Tesla K80, 11441MiB)\n",
      "Model summary (fused): 168 layers, 11128680 parameters, 0 gradients, 28.5 GFLOPs\n",
      "\u001b[34m\u001b[1mval: \u001b[0mScanning /home/ubuntu/zoucheng/yolo/data_jsai/val.cache... 303 images, 0 backgrounds, 0 corrupt: 100%|██████████| 303/303 [00:00<?, ?it/s]\n",
      "                 Class     Images  Instances      Box(P          R      mAP50  mAP50-95): 100%|██████████| 19/19 [00:08<00:00,  2.14it/s]\n",
      "                   all        303        663      0.426      0.319       0.28      0.161\n",
      "       transverseCrack        303         25      0.359       0.12      0.128     0.0698\n",
      "     longitudinalCrack        303        362      0.605      0.633      0.645      0.357\n",
      "           blockyCrack        303          7      0.355      0.571      0.415      0.324\n",
      "              cracking        303          9      0.191      0.222      0.166     0.0795\n",
      "             pitGroove        303         14          0          0     0.0377     0.0132\n",
      "      repairMeshCracks        303         16      0.456      0.562      0.527      0.309\n",
      "          repairCracks        303        223       0.44       0.44      0.322      0.131\n",
      "  repairPitsAndGrooves        303          7          1          0          0          0\n",
      "Speed: 0.4ms preprocess, 19.0ms inference, 0.0ms loss, 2.4ms postprocess per image\n",
      "Results saved to \u001b[1mruns/detect/val51\u001b[0m\n",
      "Ultralytics YOLOv8.0.186 🚀 Python-3.8.5 torch-1.9.1+cu102 CUDA:1 (Tesla K80, 11441MiB)\n",
      "Model summary (fused): 168 layers, 11128680 parameters, 0 gradients, 28.5 GFLOPs\n",
      "\u001b[34m\u001b[1mval: \u001b[0mScanning /home/ubuntu/zoucheng/yolo/data_jsai/val.cache... 303 images, 0 backgrounds, 0 corrupt: 100%|██████████| 303/303 [00:00<?, ?it/s]\n",
      "                 Class     Images  Instances      Box(P          R      mAP50  mAP50-95): 100%|██████████| 19/19 [00:09<00:00,  1.91it/s]\n",
      "                   all        303        663      0.433      0.301       0.27      0.151\n",
      "       transverseCrack        303         25      0.377      0.146      0.136     0.0687\n",
      "     longitudinalCrack        303        362       0.58       0.66      0.637      0.353\n",
      "           blockyCrack        303          7      0.302      0.429      0.337      0.279\n",
      "              cracking        303          9      0.177      0.215      0.151     0.0631\n",
      "             pitGroove        303         14      0.117     0.0714     0.0349    0.00954\n",
      "      repairMeshCracks        303         16      0.494        0.5      0.536      0.303\n",
      "          repairCracks        303        223       0.42      0.387      0.329      0.125\n",
      "  repairPitsAndGrooves        303          7          1          0    0.00304    0.00243\n",
      "Speed: 2.9ms preprocess, 18.8ms inference, 0.0ms loss, 0.9ms postprocess per image\n",
      "Results saved to \u001b[1mruns/detect/val52\u001b[0m\n",
      "Ultralytics YOLOv8.0.186 🚀 Python-3.8.5 torch-1.9.1+cu102 CUDA:1 (Tesla K80, 11441MiB)\n",
      "Model summary (fused): 168 layers, 11128680 parameters, 0 gradients, 28.5 GFLOPs\n",
      "\u001b[34m\u001b[1mval: \u001b[0mScanning /home/ubuntu/zoucheng/yolo/data_jsai/val.cache... 303 images, 0 backgrounds, 0 corrupt: 100%|██████████| 303/303 [00:00<?, ?it/s]\n",
      "                 Class     Images  Instances      Box(P          R      mAP50  mAP50-95): 100%|██████████| 19/19 [00:08<00:00,  2.19it/s]\n",
      "                   all        303        663      0.306      0.237      0.203      0.107\n",
      "       transverseCrack        303         25     0.0629       0.04     0.0513     0.0358\n",
      "     longitudinalCrack        303        362      0.461      0.669       0.59      0.321\n",
      "           blockyCrack        303          7          0          0     0.0611     0.0317\n",
      "              cracking        303          9      0.184      0.111       0.06     0.0321\n",
      "             pitGroove        303         14          0          0     0.0269     0.0145\n",
      "      repairMeshCracks        303         16      0.469      0.608      0.601      0.334\n",
      "          repairCracks        303        223      0.273      0.466      0.233     0.0875\n",
      "  repairPitsAndGrooves        303          7          1          0    0.00177   0.000707\n",
      "Speed: 0.4ms preprocess, 18.9ms inference, 0.0ms loss, 0.9ms postprocess per image\n",
      "Results saved to \u001b[1mruns/detect/val53\u001b[0m\n",
      "Ultralytics YOLOv8.0.186 🚀 Python-3.8.5 torch-1.9.1+cu102 CUDA:1 (Tesla K80, 11441MiB)\n",
      "Model summary (fused): 168 layers, 11128680 parameters, 0 gradients, 28.5 GFLOPs\n",
      "\u001b[34m\u001b[1mval: \u001b[0mScanning /home/ubuntu/zoucheng/yolo/data_jsai/val.cache... 303 images, 0 backgrounds, 0 corrupt: 100%|██████████| 303/303 [00:00<?, ?it/s]\n",
      "                 Class     Images  Instances      Box(P          R      mAP50  mAP50-95): 100%|██████████| 19/19 [00:08<00:00,  2.17it/s]\n",
      "                   all        303        663      0.622      0.256      0.276      0.161\n",
      "       transverseCrack        303         25      0.454       0.08      0.106     0.0632\n",
      "     longitudinalCrack        303        362      0.733      0.532      0.614       0.34\n",
      "           blockyCrack        303          7      0.327      0.429      0.371      0.323\n",
      "              cracking        303          9      0.471      0.111      0.101     0.0685\n",
      "             pitGroove        303         14          1          0     0.0357      0.015\n",
      "      repairMeshCracks        303         16      0.473      0.562      0.563      0.324\n",
      "          repairCracks        303        223       0.52      0.335      0.378      0.135\n",
      "  repairPitsAndGrooves        303          7          1          0     0.0385     0.0153\n",
      "Speed: 0.4ms preprocess, 19.1ms inference, 0.0ms loss, 1.1ms postprocess per image\n",
      "Results saved to \u001b[1mruns/detect/val54\u001b[0m\n",
      "Ultralytics YOLOv8.0.186 🚀 Python-3.8.5 torch-1.9.1+cu102 CUDA:1 (Tesla K80, 11441MiB)\n",
      "Model summary (fused): 168 layers, 11128680 parameters, 0 gradients, 28.5 GFLOPs\n",
      "\u001b[34m\u001b[1mval: \u001b[0mScanning /home/ubuntu/zoucheng/yolo/data_jsai/val.cache... 303 images, 0 backgrounds, 0 corrupt: 100%|██████████| 303/303 [00:00<?, ?it/s]\n",
      "                 Class     Images  Instances      Box(P          R      mAP50  mAP50-95): 100%|██████████| 19/19 [00:10<00:00,  1.73it/s]\n",
      "                   all        303        663       0.44      0.298      0.278      0.163\n",
      "       transverseCrack        303         25      0.418       0.12     0.0889     0.0539\n",
      "     longitudinalCrack        303        362      0.674      0.588      0.643      0.364\n",
      "           blockyCrack        303          7       0.21      0.429      0.369        0.3\n",
      "              cracking        303          9      0.324      0.222      0.226     0.0921\n",
      "             pitGroove        303         14          0          0     0.0092    0.00562\n",
      "      repairMeshCracks        303         16      0.547      0.604      0.585      0.379\n",
      "          repairCracks        303        223       0.35      0.422      0.299      0.108\n",
      "  repairPitsAndGrooves        303          7          1          0    0.00128   0.000128\n"
     ]
    },
    {
     "name": "stderr",
     "output_type": "stream",
     "text": [
      "Speed: 5.8ms preprocess, 18.6ms inference, 0.0ms loss, 2.6ms postprocess per image\n",
      "Results saved to \u001b[1mruns/detect/val55\u001b[0m\n",
      "Ultralytics YOLOv8.0.186 🚀 Python-3.8.5 torch-1.9.1+cu102 CUDA:1 (Tesla K80, 11441MiB)\n",
      "Model summary (fused): 168 layers, 11128680 parameters, 0 gradients, 28.5 GFLOPs\n",
      "\u001b[34m\u001b[1mval: \u001b[0mScanning /home/ubuntu/zoucheng/yolo/data_jsai/val.cache... 303 images, 0 backgrounds, 0 corrupt: 100%|██████████| 303/303 [00:00<?, ?it/s]\n",
      "                 Class     Images  Instances      Box(P          R      mAP50  mAP50-95): 100%|██████████| 19/19 [00:10<00:00,  1.75it/s]\n",
      "                   all        303        663      0.449      0.278      0.282      0.168\n",
      "       transverseCrack        303         25      0.187       0.12       0.12     0.0827\n",
      "     longitudinalCrack        303        362      0.596      0.655      0.636      0.358\n",
      "           blockyCrack        303          7        0.3      0.286       0.32      0.241\n",
      "              cracking        303          9      0.393      0.222      0.253      0.151\n",
      "             pitGroove        303         14          0          0    0.00907     0.0039\n",
      "      repairMeshCracks        303         16      0.632      0.625      0.583      0.374\n",
      "          repairCracks        303        223      0.482      0.318      0.322      0.132\n",
      "  repairPitsAndGrooves        303          7          1          0     0.0159    0.00478\n",
      "Speed: 1.8ms preprocess, 18.8ms inference, 0.0ms loss, 1.0ms postprocess per image\n",
      "Results saved to \u001b[1mruns/detect/val56\u001b[0m\n",
      "Ultralytics YOLOv8.0.186 🚀 Python-3.8.5 torch-1.9.1+cu102 CUDA:1 (Tesla K80, 11441MiB)\n",
      "Model summary (fused): 168 layers, 11128680 parameters, 0 gradients, 28.5 GFLOPs\n",
      "\u001b[34m\u001b[1mval: \u001b[0mScanning /home/ubuntu/zoucheng/yolo/data_jsai/val.cache... 303 images, 0 backgrounds, 0 corrupt: 100%|██████████| 303/303 [00:00<?, ?it/s]\n",
      "                 Class     Images  Instances      Box(P          R      mAP50  mAP50-95): 100%|██████████| 19/19 [00:09<00:00,  1.96it/s]\n",
      "                   all        303        663      0.537      0.242      0.286      0.176\n",
      "       transverseCrack        303         25      0.482       0.08      0.114     0.0867\n",
      "     longitudinalCrack        303        362      0.685      0.559      0.619      0.359\n",
      "           blockyCrack        303          7      0.407      0.286      0.359       0.32\n",
      "              cracking        303          9      0.686      0.222      0.243      0.124\n",
      "             pitGroove        303         14          0          0     0.0136    0.00709\n",
      "      repairMeshCracks        303         16      0.479        0.5      0.568       0.37\n",
      "          repairCracks        303        223      0.557      0.291      0.357      0.139\n",
      "  repairPitsAndGrooves        303          7          1          0     0.0115    0.00314\n",
      "Speed: 3.3ms preprocess, 19.0ms inference, 0.0ms loss, 1.7ms postprocess per image\n",
      "Results saved to \u001b[1mruns/detect/val57\u001b[0m\n",
      "Ultralytics YOLOv8.0.186 🚀 Python-3.8.5 torch-1.9.1+cu102 CUDA:1 (Tesla K80, 11441MiB)\n",
      "Model summary (fused): 168 layers, 11128680 parameters, 0 gradients, 28.5 GFLOPs\n",
      "\u001b[34m\u001b[1mval: \u001b[0mScanning /home/ubuntu/zoucheng/yolo/data_jsai/val.cache... 303 images, 0 backgrounds, 0 corrupt: 100%|██████████| 303/303 [00:00<?, ?it/s]\n",
      "                 Class     Images  Instances      Box(P          R      mAP50  mAP50-95): 100%|██████████| 19/19 [00:12<00:00,  1.54it/s]\n",
      "                   all        303        663      0.437      0.333      0.308       0.17\n",
      "       transverseCrack        303         25      0.164       0.08     0.0839     0.0599\n",
      "     longitudinalCrack        303        362       0.71       0.55      0.639      0.371\n",
      "           blockyCrack        303          7       0.35      0.714      0.536      0.415\n",
      "              cracking        303          9      0.341      0.333       0.29     0.0775\n",
      "             pitGroove        303         14          0          0     0.0086    0.00318\n",
      "      repairMeshCracks        303         16      0.416      0.562      0.532      0.297\n",
      "          repairCracks        303        223      0.512      0.428      0.366      0.138\n",
      "  repairPitsAndGrooves        303          7          1          0    0.00803    0.00161\n",
      "Speed: 7.8ms preprocess, 19.0ms inference, 0.0ms loss, 1.1ms postprocess per image\n",
      "Results saved to \u001b[1mruns/detect/val58\u001b[0m\n",
      "Ultralytics YOLOv8.0.186 🚀 Python-3.8.5 torch-1.9.1+cu102 CUDA:1 (Tesla K80, 11441MiB)\n",
      "Model summary (fused): 168 layers, 11128680 parameters, 0 gradients, 28.5 GFLOPs\n",
      "\u001b[34m\u001b[1mval: \u001b[0mScanning /home/ubuntu/zoucheng/yolo/data_jsai/val.cache... 303 images, 0 backgrounds, 0 corrupt: 100%|██████████| 303/303 [00:00<?, ?it/s]\n",
      "                 Class     Images  Instances      Box(P          R      mAP50  mAP50-95): 100%|██████████| 19/19 [00:08<00:00,  2.20it/s]\n",
      "                   all        303        663      0.449      0.323      0.324      0.179\n",
      "       transverseCrack        303         25      0.188       0.16      0.154     0.0922\n",
      "     longitudinalCrack        303        362      0.628      0.602      0.646      0.366\n",
      "           blockyCrack        303          7      0.427      0.426      0.394      0.279\n",
      "              cracking        303          9      0.539      0.444      0.448      0.232\n",
      "             pitGroove        303         14          0          0    0.00869    0.00434\n",
      "      repairMeshCracks        303         16      0.395        0.5      0.441      0.248\n",
      "          repairCracks        303        223      0.413      0.453      0.348      0.139\n",
      "  repairPitsAndGrooves        303          7          1          0      0.152     0.0738\n",
      "Speed: 0.4ms preprocess, 19.0ms inference, 0.0ms loss, 1.0ms postprocess per image\n",
      "Results saved to \u001b[1mruns/detect/val59\u001b[0m\n",
      "Ultralytics YOLOv8.0.186 🚀 Python-3.8.5 torch-1.9.1+cu102 CUDA:1 (Tesla K80, 11441MiB)\n",
      "Model summary (fused): 168 layers, 11128680 parameters, 0 gradients, 28.5 GFLOPs\n",
      "\u001b[34m\u001b[1mval: \u001b[0mScanning /home/ubuntu/zoucheng/yolo/data_jsai/val.cache... 303 images, 0 backgrounds, 0 corrupt: 100%|██████████| 303/303 [00:00<?, ?it/s]\n",
      "                 Class     Images  Instances      Box(P          R      mAP50  mAP50-95): 100%|██████████| 19/19 [00:08<00:00,  2.18it/s]\n",
      "                   all        303        663       0.44      0.327      0.312      0.187\n",
      "       transverseCrack        303         25      0.184       0.08      0.102     0.0769\n",
      "     longitudinalCrack        303        362      0.635      0.608      0.653      0.368\n",
      "           blockyCrack        303          7      0.555      0.538      0.444       0.35\n",
      "              cracking        303          9      0.316      0.333      0.365      0.223\n",
      "             pitGroove        303         14          0          0     0.0137    0.00729\n",
      "      repairMeshCracks        303         16      0.411      0.625      0.579      0.333\n",
      "          repairCracks        303        223      0.416       0.43      0.312      0.124\n",
      "  repairPitsAndGrooves        303          7          1          0     0.0303     0.0126\n",
      "Speed: 0.4ms preprocess, 19.0ms inference, 0.0ms loss, 3.7ms postprocess per image\n",
      "Results saved to \u001b[1mruns/detect/val60\u001b[0m\n",
      "Ultralytics YOLOv8.0.186 🚀 Python-3.8.5 torch-1.9.1+cu102 CUDA:1 (Tesla K80, 11441MiB)\n",
      "Model summary (fused): 168 layers, 11128680 parameters, 0 gradients, 28.5 GFLOPs\n",
      "\u001b[34m\u001b[1mval: \u001b[0mScanning /home/ubuntu/zoucheng/yolo/data_jsai/val.cache... 303 images, 0 backgrounds, 0 corrupt: 100%|██████████| 303/303 [00:00<?, ?it/s]\n",
      "                 Class     Images  Instances      Box(P          R      mAP50  mAP50-95): 100%|██████████| 19/19 [00:08<00:00,  2.19it/s]\n",
      "                   all        303        663      0.468      0.293        0.3      0.181\n",
      "       transverseCrack        303         25      0.278       0.16      0.134     0.0875\n",
      "     longitudinalCrack        303        362      0.659      0.616      0.658      0.367\n",
      "           blockyCrack        303          7      0.381      0.286      0.283      0.248\n",
      "              cracking        303          9       0.35      0.333      0.137     0.0512\n",
      "             pitGroove        303         14          0          0     0.0203     0.0109\n",
      "      repairMeshCracks        303         16       0.64        0.5      0.597      0.376\n",
      "          repairCracks        303        223      0.436      0.453      0.358      0.148\n"
     ]
    },
    {
     "name": "stderr",
     "output_type": "stream",
     "text": [
      "  repairPitsAndGrooves        303          7          1          0      0.209      0.161\n",
      "Speed: 0.4ms preprocess, 18.5ms inference, 0.0ms loss, 2.8ms postprocess per image\n",
      "Results saved to \u001b[1mruns/detect/val61\u001b[0m\n",
      "Ultralytics YOLOv8.0.186 🚀 Python-3.8.5 torch-1.9.1+cu102 CUDA:1 (Tesla K80, 11441MiB)\n",
      "Model summary (fused): 168 layers, 11128680 parameters, 0 gradients, 28.5 GFLOPs\n",
      "\u001b[34m\u001b[1mval: \u001b[0mScanning /home/ubuntu/zoucheng/yolo/data_jsai/val.cache... 303 images, 0 backgrounds, 0 corrupt: 100%|██████████| 303/303 [00:00<?, ?it/s]\n",
      "                 Class     Images  Instances      Box(P          R      mAP50  mAP50-95): 100%|██████████| 19/19 [00:08<00:00,  2.20it/s]\n",
      "                   all        303        663       0.45      0.316      0.324        0.2\n",
      "       transverseCrack        303         25      0.344       0.16      0.141      0.091\n",
      "     longitudinalCrack        303        362      0.639      0.616      0.627      0.353\n",
      "           blockyCrack        303          7      0.317      0.286      0.395      0.324\n",
      "              cracking        303          9       0.33      0.444      0.303      0.166\n",
      "             pitGroove        303         14          0          0      0.045     0.0256\n",
      "      repairMeshCracks        303         16      0.512      0.625      0.607      0.388\n",
      "          repairCracks        303        223       0.46      0.395      0.324       0.13\n",
      "  repairPitsAndGrooves        303          7          1          0      0.154       0.12\n",
      "Speed: 0.4ms preprocess, 18.6ms inference, 0.0ms loss, 1.7ms postprocess per image\n",
      "Results saved to \u001b[1mruns/detect/val62\u001b[0m\n",
      "Ultralytics YOLOv8.0.186 🚀 Python-3.8.5 torch-1.9.1+cu102 CUDA:1 (Tesla K80, 11441MiB)\n",
      "Model summary (fused): 168 layers, 11128680 parameters, 0 gradients, 28.5 GFLOPs\n",
      "\u001b[34m\u001b[1mval: \u001b[0mScanning /home/ubuntu/zoucheng/yolo/data_jsai/val.cache... 303 images, 0 backgrounds, 0 corrupt: 100%|██████████| 303/303 [00:00<?, ?it/s]\n",
      "                 Class     Images  Instances      Box(P          R      mAP50  mAP50-95): 100%|██████████| 19/19 [00:08<00:00,  2.21it/s]\n",
      "                   all        303        663      0.367      0.358      0.305      0.184\n",
      "       transverseCrack        303         25      0.192       0.12      0.118      0.071\n",
      "     longitudinalCrack        303        362       0.63      0.644      0.667      0.371\n",
      "           blockyCrack        303          7      0.363      0.429      0.395      0.338\n",
      "              cracking        303          9      0.193      0.444      0.195     0.0836\n",
      "             pitGroove        303         14          0          0     0.0234      0.015\n",
      "      repairMeshCracks        303         16      0.309      0.562      0.524      0.332\n",
      "          repairCracks        303        223      0.372      0.525      0.342      0.134\n",
      "  repairPitsAndGrooves        303          7      0.878      0.143      0.173      0.125\n",
      "Speed: 0.4ms preprocess, 18.8ms inference, 0.0ms loss, 0.9ms postprocess per image\n",
      "Results saved to \u001b[1mruns/detect/val63\u001b[0m\n",
      "Ultralytics YOLOv8.0.186 🚀 Python-3.8.5 torch-1.9.1+cu102 CUDA:1 (Tesla K80, 11441MiB)\n",
      "Model summary (fused): 168 layers, 11128680 parameters, 0 gradients, 28.5 GFLOPs\n",
      "\u001b[34m\u001b[1mval: \u001b[0mScanning /home/ubuntu/zoucheng/yolo/data_jsai/val.cache... 303 images, 0 backgrounds, 0 corrupt: 100%|██████████| 303/303 [00:00<?, ?it/s]\n",
      "                 Class     Images  Instances      Box(P          R      mAP50  mAP50-95): 100%|██████████| 19/19 [00:08<00:00,  2.25it/s]\n",
      "                   all        303        663      0.469      0.322      0.341      0.202\n",
      "       transverseCrack        303         25      0.203       0.16      0.091     0.0631\n",
      "     longitudinalCrack        303        362      0.635       0.63      0.649      0.357\n",
      "           blockyCrack        303          7       0.42      0.416      0.372      0.302\n",
      "              cracking        303          9      0.509      0.333        0.4      0.204\n",
      "             pitGroove        303         14     0.0907     0.0714     0.0398     0.0213\n",
      "      repairMeshCracks        303         16      0.448      0.562      0.666      0.422\n",
      "          repairCracks        303        223      0.447      0.402      0.365      0.143\n",
      "  repairPitsAndGrooves        303          7          1          0      0.148      0.104\n",
      "Speed: 0.4ms preprocess, 18.8ms inference, 0.0ms loss, 1.9ms postprocess per image\n",
      "Results saved to \u001b[1mruns/detect/val64\u001b[0m\n",
      "Ultralytics YOLOv8.0.186 🚀 Python-3.8.5 torch-1.9.1+cu102 CUDA:1 (Tesla K80, 11441MiB)\n",
      "Model summary (fused): 168 layers, 11128680 parameters, 0 gradients, 28.5 GFLOPs\n",
      "\u001b[34m\u001b[1mval: \u001b[0mScanning /home/ubuntu/zoucheng/yolo/data_jsai/val.cache... 303 images, 0 backgrounds, 0 corrupt: 100%|██████████| 303/303 [00:00<?, ?it/s]\n",
      "                 Class     Images  Instances      Box(P          R      mAP50  mAP50-95): 100%|██████████| 19/19 [00:11<00:00,  1.70it/s]\n",
      "                   all        303        663      0.359      0.402      0.328      0.191\n",
      "       transverseCrack        303         25     0.0886        0.2     0.0995     0.0663\n",
      "     longitudinalCrack        303        362      0.467      0.702      0.639      0.354\n",
      "           blockyCrack        303          7      0.196      0.571      0.353      0.294\n",
      "              cracking        303          9      0.422      0.333      0.323      0.117\n",
      "             pitGroove        303         14      0.114     0.0714      0.043     0.0267\n",
      "      repairMeshCracks        303         16      0.776      0.625       0.72      0.427\n",
      "          repairCracks        303        223      0.237       0.57      0.297      0.124\n",
      "  repairPitsAndGrooves        303          7      0.574      0.143       0.15      0.119\n",
      "Speed: 0.4ms preprocess, 19.1ms inference, 0.0ms loss, 2.1ms postprocess per image\n",
      "Results saved to \u001b[1mruns/detect/val65\u001b[0m\n",
      "Ultralytics YOLOv8.0.186 🚀 Python-3.8.5 torch-1.9.1+cu102 CUDA:1 (Tesla K80, 11441MiB)\n",
      "Model summary (fused): 168 layers, 11128680 parameters, 0 gradients, 28.5 GFLOPs\n",
      "\u001b[34m\u001b[1mval: \u001b[0mScanning /home/ubuntu/zoucheng/yolo/data_jsai/val.cache... 303 images, 0 backgrounds, 0 corrupt: 100%|██████████| 303/303 [00:00<?, ?it/s]\n",
      "                 Class     Images  Instances      Box(P          R      mAP50  mAP50-95): 100%|██████████| 19/19 [00:09<00:00,  2.00it/s]\n",
      "                   all        303        663      0.385      0.332      0.313      0.194\n",
      "       transverseCrack        303         25      0.117       0.12       0.11     0.0741\n",
      "     longitudinalCrack        303        362      0.664      0.616      0.653      0.354\n",
      "           blockyCrack        303          7      0.593      0.418      0.414      0.358\n",
      "              cracking        303          9      0.315      0.333       0.29      0.117\n",
      "             pitGroove        303         14     0.0849     0.0364     0.0258     0.0141\n",
      "      repairMeshCracks        303         16      0.495      0.562      0.563      0.385\n",
      "          repairCracks        303        223      0.391      0.426      0.301      0.119\n",
      "  repairPitsAndGrooves        303          7      0.423      0.143      0.148      0.133\n",
      "Speed: 3.9ms preprocess, 19.8ms inference, 0.0ms loss, 1.0ms postprocess per image\n",
      "Results saved to \u001b[1mruns/detect/val66\u001b[0m\n",
      "Ultralytics YOLOv8.0.186 🚀 Python-3.8.5 torch-1.9.1+cu102 CUDA:1 (Tesla K80, 11441MiB)\n",
      "Model summary (fused): 168 layers, 11128680 parameters, 0 gradients, 28.5 GFLOPs\n",
      "\u001b[34m\u001b[1mval: \u001b[0mScanning /home/ubuntu/zoucheng/yolo/data_jsai/val.cache... 303 images, 0 backgrounds, 0 corrupt: 100%|██████████| 303/303 [00:00<?, ?it/s]\n",
      "                 Class     Images  Instances      Box(P          R      mAP50  mAP50-95): 100%|██████████| 19/19 [00:10<00:00,  1.77it/s]\n",
      "                   all        303        663      0.466      0.295      0.311       0.19\n",
      "       transverseCrack        303         25      0.367       0.12      0.101      0.066\n",
      "     longitudinalCrack        303        362      0.774       0.54      0.642      0.356\n",
      "           blockyCrack        303          7      0.342      0.429      0.383      0.322\n",
      "              cracking        303          9      0.399      0.222      0.215     0.0843\n",
      "             pitGroove        303         14          0          0     0.0344     0.0194\n",
      "      repairMeshCracks        303         16       0.61      0.562      0.631      0.433\n"
     ]
    },
    {
     "name": "stderr",
     "output_type": "stream",
     "text": [
      "          repairCracks        303        223      0.492      0.341      0.326      0.135\n",
      "  repairPitsAndGrooves        303          7      0.739      0.143      0.152      0.104\n",
      "Speed: 9.1ms preprocess, 18.7ms inference, 0.0ms loss, 2.2ms postprocess per image\n",
      "Results saved to \u001b[1mruns/detect/val67\u001b[0m\n",
      "Ultralytics YOLOv8.0.186 🚀 Python-3.8.5 torch-1.9.1+cu102 CUDA:1 (Tesla K80, 11441MiB)\n",
      "Model summary (fused): 168 layers, 11128680 parameters, 0 gradients, 28.5 GFLOPs\n",
      "\u001b[34m\u001b[1mval: \u001b[0mScanning /home/ubuntu/zoucheng/yolo/data_jsai/val.cache... 303 images, 0 backgrounds, 0 corrupt: 100%|██████████| 303/303 [00:00<?, ?it/s]\n",
      "                 Class     Images  Instances      Box(P          R      mAP50  mAP50-95): 100%|██████████| 19/19 [00:09<00:00,  2.09it/s]\n",
      "                   all        303        663      0.402      0.308      0.306       0.18\n",
      "       transverseCrack        303         25      0.144       0.12      0.077     0.0509\n",
      "     longitudinalCrack        303        362      0.614      0.635      0.638      0.354\n",
      "           blockyCrack        303          7      0.299      0.286      0.365      0.259\n",
      "              cracking        303          9        0.2      0.222      0.172     0.0902\n",
      "             pitGroove        303         14       0.14     0.0714     0.0227     0.0136\n",
      "      repairMeshCracks        303         16      0.555      0.625      0.671      0.414\n",
      "          repairCracks        303        223      0.477      0.363      0.356      0.142\n",
      "  repairPitsAndGrooves        303          7      0.788      0.143      0.148      0.118\n",
      "Speed: 3.0ms preprocess, 19.2ms inference, 0.0ms loss, 0.9ms postprocess per image\n",
      "Results saved to \u001b[1mruns/detect/val68\u001b[0m\n"
     ]
    }
   ],
   "source": [
    "from ultralytics import YOLO\n",
    "a = {}\n",
    "for i in range(11,56):\n",
    "# Load a model\n",
    "    model = YOLO(f'k80/train_split{i}/weights/best.pt')  # load an official model\n",
    "    # model = YOLO('path/to/best.pt')  # load a custom model\n",
    "    # Validate the model\n",
    "    metrics = model.val(data = 'data/data.yaml',device=1)  # no arguments needed, dataset and settings remembered\n",
    "#     metrics.box.f1\n",
    "    a[i]=metrics.box.f1"
   ]
  },
  {
   "cell_type": "code",
   "execution_count": 8,
   "metadata": {},
   "outputs": [
    {
     "data": {
      "text/html": [
       "<div>\n",
       "<style scoped>\n",
       "    .dataframe tbody tr th:only-of-type {\n",
       "        vertical-align: middle;\n",
       "    }\n",
       "\n",
       "    .dataframe tbody tr th {\n",
       "        vertical-align: top;\n",
       "    }\n",
       "\n",
       "    .dataframe thead th {\n",
       "        text-align: right;\n",
       "    }\n",
       "</style>\n",
       "<table border=\"1\" class=\"dataframe\">\n",
       "  <thead>\n",
       "    <tr style=\"text-align: right;\">\n",
       "      <th></th>\n",
       "      <th>0</th>\n",
       "      <th>1</th>\n",
       "      <th>2</th>\n",
       "      <th>3</th>\n",
       "      <th>4</th>\n",
       "      <th>5</th>\n",
       "      <th>6</th>\n",
       "      <th>7</th>\n",
       "    </tr>\n",
       "  </thead>\n",
       "  <tbody>\n",
       "    <tr>\n",
       "      <th>11</th>\n",
       "      <td>0.211059</td>\n",
       "      <td>0.646827</td>\n",
       "      <td>0.515672</td>\n",
       "      <td>0.300212</td>\n",
       "      <td>0.000000</td>\n",
       "      <td>0.571363</td>\n",
       "      <td>0.413051</td>\n",
       "      <td>0.000000</td>\n",
       "    </tr>\n",
       "    <tr>\n",
       "      <th>12</th>\n",
       "      <td>0.179864</td>\n",
       "      <td>0.618570</td>\n",
       "      <td>0.438193</td>\n",
       "      <td>0.205452</td>\n",
       "      <td>0.000000</td>\n",
       "      <td>0.503491</td>\n",
       "      <td>0.439540</td>\n",
       "      <td>0.000000</td>\n",
       "    </tr>\n",
       "    <tr>\n",
       "      <th>13</th>\n",
       "      <td>0.210869</td>\n",
       "      <td>0.617742</td>\n",
       "      <td>0.354430</td>\n",
       "      <td>0.193977</td>\n",
       "      <td>0.088730</td>\n",
       "      <td>0.496811</td>\n",
       "      <td>0.403045</td>\n",
       "      <td>0.000000</td>\n",
       "    </tr>\n",
       "    <tr>\n",
       "      <th>14</th>\n",
       "      <td>0.048900</td>\n",
       "      <td>0.545553</td>\n",
       "      <td>0.000000</td>\n",
       "      <td>0.138521</td>\n",
       "      <td>0.000000</td>\n",
       "      <td>0.529535</td>\n",
       "      <td>0.344156</td>\n",
       "      <td>0.000000</td>\n",
       "    </tr>\n",
       "    <tr>\n",
       "      <th>15</th>\n",
       "      <td>0.136008</td>\n",
       "      <td>0.616393</td>\n",
       "      <td>0.371265</td>\n",
       "      <td>0.179821</td>\n",
       "      <td>0.000000</td>\n",
       "      <td>0.513696</td>\n",
       "      <td>0.407123</td>\n",
       "      <td>0.000000</td>\n",
       "    </tr>\n",
       "    <tr>\n",
       "      <th>16</th>\n",
       "      <td>0.186515</td>\n",
       "      <td>0.628257</td>\n",
       "      <td>0.282154</td>\n",
       "      <td>0.263600</td>\n",
       "      <td>0.000000</td>\n",
       "      <td>0.573631</td>\n",
       "      <td>0.382548</td>\n",
       "      <td>0.000000</td>\n",
       "    </tr>\n",
       "    <tr>\n",
       "      <th>17</th>\n",
       "      <td>0.146144</td>\n",
       "      <td>0.623743</td>\n",
       "      <td>0.292809</td>\n",
       "      <td>0.284022</td>\n",
       "      <td>0.000000</td>\n",
       "      <td>0.628437</td>\n",
       "      <td>0.383335</td>\n",
       "      <td>0.000000</td>\n",
       "    </tr>\n",
       "    <tr>\n",
       "      <th>18</th>\n",
       "      <td>0.137235</td>\n",
       "      <td>0.615707</td>\n",
       "      <td>0.335857</td>\n",
       "      <td>0.335682</td>\n",
       "      <td>0.000000</td>\n",
       "      <td>0.489434</td>\n",
       "      <td>0.382682</td>\n",
       "      <td>0.000000</td>\n",
       "    </tr>\n",
       "    <tr>\n",
       "      <th>19</th>\n",
       "      <td>0.107547</td>\n",
       "      <td>0.619750</td>\n",
       "      <td>0.470009</td>\n",
       "      <td>0.337162</td>\n",
       "      <td>0.000000</td>\n",
       "      <td>0.478576</td>\n",
       "      <td>0.466241</td>\n",
       "      <td>0.000000</td>\n",
       "    </tr>\n",
       "    <tr>\n",
       "      <th>20</th>\n",
       "      <td>0.172969</td>\n",
       "      <td>0.614964</td>\n",
       "      <td>0.426417</td>\n",
       "      <td>0.487253</td>\n",
       "      <td>0.000000</td>\n",
       "      <td>0.441046</td>\n",
       "      <td>0.431938</td>\n",
       "      <td>0.000000</td>\n",
       "    </tr>\n",
       "    <tr>\n",
       "      <th>21</th>\n",
       "      <td>0.111435</td>\n",
       "      <td>0.621059</td>\n",
       "      <td>0.546527</td>\n",
       "      <td>0.324384</td>\n",
       "      <td>0.000000</td>\n",
       "      <td>0.495772</td>\n",
       "      <td>0.423357</td>\n",
       "      <td>0.000000</td>\n",
       "    </tr>\n",
       "    <tr>\n",
       "      <th>22</th>\n",
       "      <td>0.203179</td>\n",
       "      <td>0.636581</td>\n",
       "      <td>0.326476</td>\n",
       "      <td>0.341261</td>\n",
       "      <td>0.000000</td>\n",
       "      <td>0.561318</td>\n",
       "      <td>0.444113</td>\n",
       "      <td>0.000000</td>\n",
       "    </tr>\n",
       "    <tr>\n",
       "      <th>23</th>\n",
       "      <td>0.218512</td>\n",
       "      <td>0.627194</td>\n",
       "      <td>0.300505</td>\n",
       "      <td>0.379063</td>\n",
       "      <td>0.000000</td>\n",
       "      <td>0.562633</td>\n",
       "      <td>0.424770</td>\n",
       "      <td>0.000000</td>\n",
       "    </tr>\n",
       "    <tr>\n",
       "      <th>24</th>\n",
       "      <td>0.147770</td>\n",
       "      <td>0.636747</td>\n",
       "      <td>0.392981</td>\n",
       "      <td>0.268976</td>\n",
       "      <td>0.000000</td>\n",
       "      <td>0.398967</td>\n",
       "      <td>0.435442</td>\n",
       "      <td>0.245733</td>\n",
       "    </tr>\n",
       "    <tr>\n",
       "      <th>25</th>\n",
       "      <td>0.178842</td>\n",
       "      <td>0.632508</td>\n",
       "      <td>0.418317</td>\n",
       "      <td>0.402876</td>\n",
       "      <td>0.079909</td>\n",
       "      <td>0.498739</td>\n",
       "      <td>0.423443</td>\n",
       "      <td>0.000000</td>\n",
       "    </tr>\n",
       "    <tr>\n",
       "      <th>26</th>\n",
       "      <td>0.122798</td>\n",
       "      <td>0.560633</td>\n",
       "      <td>0.292080</td>\n",
       "      <td>0.372392</td>\n",
       "      <td>0.087807</td>\n",
       "      <td>0.692234</td>\n",
       "      <td>0.334301</td>\n",
       "      <td>0.228807</td>\n",
       "    </tr>\n",
       "    <tr>\n",
       "      <th>27</th>\n",
       "      <td>0.118706</td>\n",
       "      <td>0.639068</td>\n",
       "      <td>0.490513</td>\n",
       "      <td>0.323876</td>\n",
       "      <td>0.050934</td>\n",
       "      <td>0.526453</td>\n",
       "      <td>0.407986</td>\n",
       "      <td>0.213641</td>\n",
       "    </tr>\n",
       "    <tr>\n",
       "      <th>28</th>\n",
       "      <td>0.180910</td>\n",
       "      <td>0.636121</td>\n",
       "      <td>0.380299</td>\n",
       "      <td>0.285521</td>\n",
       "      <td>0.000000</td>\n",
       "      <td>0.585168</td>\n",
       "      <td>0.402840</td>\n",
       "      <td>0.239442</td>\n",
       "    </tr>\n",
       "    <tr>\n",
       "      <th>29</th>\n",
       "      <td>0.130743</td>\n",
       "      <td>0.624560</td>\n",
       "      <td>0.292175</td>\n",
       "      <td>0.210472</td>\n",
       "      <td>0.094607</td>\n",
       "      <td>0.587722</td>\n",
       "      <td>0.412250</td>\n",
       "      <td>0.241875</td>\n",
       "    </tr>\n",
       "  </tbody>\n",
       "</table>\n",
       "</div>"
      ],
      "text/plain": [
       "           0         1         2         3         4         5         6  \\\n",
       "11  0.211059  0.646827  0.515672  0.300212  0.000000  0.571363  0.413051   \n",
       "12  0.179864  0.618570  0.438193  0.205452  0.000000  0.503491  0.439540   \n",
       "13  0.210869  0.617742  0.354430  0.193977  0.088730  0.496811  0.403045   \n",
       "14  0.048900  0.545553  0.000000  0.138521  0.000000  0.529535  0.344156   \n",
       "15  0.136008  0.616393  0.371265  0.179821  0.000000  0.513696  0.407123   \n",
       "16  0.186515  0.628257  0.282154  0.263600  0.000000  0.573631  0.382548   \n",
       "17  0.146144  0.623743  0.292809  0.284022  0.000000  0.628437  0.383335   \n",
       "18  0.137235  0.615707  0.335857  0.335682  0.000000  0.489434  0.382682   \n",
       "19  0.107547  0.619750  0.470009  0.337162  0.000000  0.478576  0.466241   \n",
       "20  0.172969  0.614964  0.426417  0.487253  0.000000  0.441046  0.431938   \n",
       "21  0.111435  0.621059  0.546527  0.324384  0.000000  0.495772  0.423357   \n",
       "22  0.203179  0.636581  0.326476  0.341261  0.000000  0.561318  0.444113   \n",
       "23  0.218512  0.627194  0.300505  0.379063  0.000000  0.562633  0.424770   \n",
       "24  0.147770  0.636747  0.392981  0.268976  0.000000  0.398967  0.435442   \n",
       "25  0.178842  0.632508  0.418317  0.402876  0.079909  0.498739  0.423443   \n",
       "26  0.122798  0.560633  0.292080  0.372392  0.087807  0.692234  0.334301   \n",
       "27  0.118706  0.639068  0.490513  0.323876  0.050934  0.526453  0.407986   \n",
       "28  0.180910  0.636121  0.380299  0.285521  0.000000  0.585168  0.402840   \n",
       "29  0.130743  0.624560  0.292175  0.210472  0.094607  0.587722  0.412250   \n",
       "\n",
       "           7  \n",
       "11  0.000000  \n",
       "12  0.000000  \n",
       "13  0.000000  \n",
       "14  0.000000  \n",
       "15  0.000000  \n",
       "16  0.000000  \n",
       "17  0.000000  \n",
       "18  0.000000  \n",
       "19  0.000000  \n",
       "20  0.000000  \n",
       "21  0.000000  \n",
       "22  0.000000  \n",
       "23  0.000000  \n",
       "24  0.245733  \n",
       "25  0.000000  \n",
       "26  0.228807  \n",
       "27  0.213641  \n",
       "28  0.239442  \n",
       "29  0.241875  "
      ]
     },
     "execution_count": 8,
     "metadata": {},
     "output_type": "execute_result"
    }
   ],
   "source": [
    "import pandas as pd\n",
    "df = pd.DataFrame(a).T\n",
    "df"
   ]
  },
  {
   "cell_type": "code",
   "execution_count": 18,
   "metadata": {},
   "outputs": [],
   "source": [
    "df.columns=metrics.names.values()"
   ]
  },
  {
   "cell_type": "code",
   "execution_count": 25,
   "metadata": {},
   "outputs": [],
   "source": [
    "df.to_csv('a.csv')"
   ]
  },
  {
   "cell_type": "code",
   "execution_count": 24,
   "metadata": {},
   "outputs": [
    {
     "data": {
      "text/plain": [
       "<Figure size 640x480 with 1 Axes>"
      ]
     },
     "metadata": {},
     "output_type": "display_data"
    }
   ],
   "source": [
    "import seaborn as sns\n",
    "import matplotlib.pyplot as plt\n",
    "plt.plot(df)\n",
    "plt.show()"
   ]
  },
  {
   "cell_type": "code",
   "execution_count": 8,
   "metadata": {},
   "outputs": [
    {
     "name": "stderr",
     "output_type": "stream",
     "text": [
      "Ultralytics YOLOv8.0.186 🚀 Python-3.8.5 torch-1.9.1+cu102 CUDA:1 (Tesla K80, 11441MiB)\n",
      "Model summary (fused): 168 layers, 11128680 parameters, 0 gradients, 28.5 GFLOPs\n",
      "\u001b[34m\u001b[1mval: \u001b[0mScanning /home/ubuntu/zoucheng/yolo/data_jsai/vval/labels... 303 images, 14 backgrounds, 0 corrupt: 100%|██████████| 303/303 [00:00<00:00, 1283.54it/s]\n",
      "\u001b[34m\u001b[1mval: \u001b[0mNew cache created: /home/ubuntu/zoucheng/yolo/data_jsai/vval/labels.cache\n",
      "                 Class     Images  Instances      Box(P          R      mAP50  mAP50-95): 100%|██████████| 19/19 [00:08<00:00,  2.16it/s]\n",
      "                   all        303        842      0.844      0.807      0.872      0.779\n",
      "       transverseCrack        303         27      0.737      0.852      0.795      0.637\n",
      "     longitudinalCrack        303        359      0.937      0.908      0.959      0.906\n",
      "           blockyCrack        303          6      0.822      0.779      0.948      0.844\n",
      "              cracking        303          7          1      0.853      0.864      0.827\n",
      "             pitGroove        303          9      0.804      0.556      0.653      0.607\n",
      "      repairMeshCracks        303         13       0.88      0.692      0.849      0.744\n",
      "          repairCracks        303        420      0.903      0.816      0.911      0.773\n",
      "  repairPitsAndGrooves        303          1      0.667          1      0.995      0.895\n",
      "Speed: 0.4ms preprocess, 18.4ms inference, 0.0ms loss, 1.9ms postprocess per image\n",
      "Results saved to \u001b[1mruns/detect/val75\u001b[0m\n"
     ]
    },
    {
     "data": {
      "text/plain": [
       "array([    0.79055,     0.92215,      0.7999,      0.9207,     0.65712,     0.77482,     0.85685,     0.80046])"
      ]
     },
     "execution_count": 8,
     "metadata": {},
     "output_type": "execute_result"
    }
   ],
   "source": [
    "from ultralytics import YOLO\n",
    "model = YOLO(f'k80/train_split41/weights/best.pt')  # load an official model\n",
    "# model = YOLO('path/to/best.pt')  # load a custom model\n",
    "# Validate the model\n",
    "metrics = model.val(data = 'data/data_test_1.yaml',device=1)  # no arguments needed, dataset and settings remembered\n",
    "#     metrics.box.f1\n",
    "metrics.box.f1"
   ]
  },
  {
   "cell_type": "code",
   "execution_count": 15,
   "metadata": {},
   "outputs": [
    {
     "name": "stderr",
     "output_type": "stream",
     "text": [
      "Ultralytics YOLOv8.0.186 🚀 Python-3.8.5 torch-1.9.1+cu102 CUDA:1 (Tesla K80, 11441MiB)\n",
      "Model summary (fused): 168 layers, 11128680 parameters, 0 gradients, 28.5 GFLOPs\n",
      "\u001b[34m\u001b[1mval: \u001b[0mScanning /home/ubuntu/zoucheng/yolo/data_jsai/val.cache... 303 images, 0 backgrounds, 0 corrupt: 100%|██████████| 303/303 [00:00<?, ?it/s]\n",
      "                 Class     Images  Instances      Box(P          R      mAP50  mAP50-95): 100%|██████████| 19/19 [00:25<00:00,  1.34s/it]\n",
      "                   all        303        663      0.425      0.295        0.3      0.177\n",
      "       transverseCrack        303         25      0.176       0.16     0.0933     0.0584\n",
      "     longitudinalCrack        303        362      0.661      0.594       0.63       0.35\n",
      "           blockyCrack        303          7      0.369      0.286      0.406      0.274\n",
      "              cracking        303          9      0.362      0.222      0.288       0.16\n",
      "             pitGroove        303         14          0          0      0.017     0.0078\n",
      "      repairMeshCracks        303         16      0.794      0.482      0.497      0.312\n",
      "          repairCracks        303        223      0.323      0.471      0.314      0.118\n",
      "  repairPitsAndGrooves        303          7      0.712      0.143      0.158      0.137\n",
      "Speed: 49.3ms preprocess, 19.0ms inference, 0.0ms loss, 2.1ms postprocess per image\n",
      "Results saved to \u001b[1mruns/detect/val104\u001b[0m\n"
     ]
    },
    {
     "data": {
      "text/plain": [
       "0.32653386668497275"
      ]
     },
     "execution_count": 15,
     "metadata": {},
     "output_type": "execute_result"
    }
   ],
   "source": [
    "from ultralytics import YOLO\n",
    "model = YOLO(f'k80/train_split41/weights/best.pt')  # load an official model\n",
    "# model = YOLO('path/to/best.pt')  # load a custom model\n",
    "# Validate the model\n",
    "metrics = model.val(data = 'data/data_test_1.yaml',device=1)  # no arguments needed, dataset and settings remembered\n",
    "#     metrics.box.f1\n",
    "metrics.box.f1.mean()# 0.3836555147196151"
   ]
  },
  {
   "cell_type": "code",
   "execution_count": 11,
   "metadata": {},
   "outputs": [
    {
     "name": "stderr",
     "output_type": "stream",
     "text": [
      "Ultralytics YOLOv8.0.186 🚀 Python-3.8.5 torch-1.9.1+cu102 CUDA:1 (Tesla K80, 11441MiB)\n",
      "Model summary (fused): 268 layers, 43612776 parameters, 0 gradients, 164.8 GFLOPs\n",
      "\u001b[34m\u001b[1mval: \u001b[0mScanning /home/ubuntu/zoucheng/yolo/data_jsai/vval/labels... 303 images, 15 backgrounds, 0 corrupt: 100%|██████████| 303/303 [00:00<00:00, 1262.81it/s]\n",
      "\u001b[34m\u001b[1mval: \u001b[0mNew cache created: /home/ubuntu/zoucheng/yolo/data_jsai/vval/labels.cache\n",
      "                 Class     Images  Instances      Box(P          R      mAP50  mAP50-95): 100%|██████████| 19/19 [00:22<00:00,  1.19s/it]\n",
      "                   all        303        782      0.876        0.9      0.958      0.865\n",
      "       transverseCrack        303         22      0.949      0.843      0.953      0.771\n",
      "     longitudinalCrack        303        379      0.936      0.929      0.971      0.925\n",
      "           blockyCrack        303         20      0.969       0.85      0.957       0.89\n",
      "              cracking        303         15          1       0.81      0.936      0.796\n",
      "             pitGroove        303          1      0.507          1      0.995      0.995\n",
      "      repairMeshCracks        303         21      0.861      0.885      0.915      0.845\n",
      "          repairCracks        303        322      0.931      0.886       0.94      0.855\n",
      "  repairPitsAndGrooves        303          2      0.852          1      0.995      0.846\n",
      "Speed: 1.0ms preprocess, 68.0ms inference, 0.0ms loss, 0.8ms postprocess per image\n",
      "Results saved to \u001b[1mruns/detect/val76\u001b[0m\n"
     ]
    },
    {
     "data": {
      "text/plain": [
       "array([    0.89279,     0.93254,     0.90554,      0.8948,     0.67243,     0.87261,      0.9079,     0.92009])"
      ]
     },
     "execution_count": 11,
     "metadata": {},
     "output_type": "execute_result"
    }
   ],
   "source": [
    "from ultralytics import YOLO\n",
    "model = YOLO(f'kfold_demo_l/train22/weights/best.pt')  # load an official model\n",
    "# model = YOLO('path/to/best.pt')  # load a custom model\n",
    "# Validate the model\n",
    "metrics = model.val(data = 'data/data_test_1.yaml',device=1)  # no arguments needed, dataset and settings remembered\n",
    "#     metrics.box.f1\n",
    "metrics.box.f1"
   ]
  },
  {
   "cell_type": "code",
   "execution_count": 13,
   "metadata": {},
   "outputs": [
    {
     "name": "stderr",
     "output_type": "stream",
     "text": [
      "Ultralytics YOLOv8.0.186 🚀 Python-3.8.5 torch-1.9.1+cu102 CUDA:1 (Tesla K80, 11441MiB)\n",
      "Model summary (fused): 268 layers, 43612776 parameters, 0 gradients, 164.8 GFLOPs\n",
      "\u001b[34m\u001b[1mval: \u001b[0mScanning /home/ubuntu/zoucheng/yolo/data_jsai/val.cache... 303 images, 0 backgrounds, 0 corrupt: 100%|██████████| 303/303 [00:00<?, ?it/s]\n",
      "                 Class     Images  Instances      Box(P          R      mAP50  mAP50-95): 100%|██████████| 19/19 [00:22<00:00,  1.21s/it]\n",
      "                   all        303        663      0.384      0.345      0.326      0.187\n",
      "       transverseCrack        303         25      0.434        0.2      0.149     0.0975\n",
      "     longitudinalCrack        303        362      0.701      0.575       0.66       0.39\n",
      "           blockyCrack        303          7      0.251      0.429      0.288      0.207\n",
      "              cracking        303          9      0.524      0.444      0.315      0.101\n",
      "             pitGroove        303         14          0          0    0.00277    0.00166\n",
      "      repairMeshCracks        303         16      0.599      0.655      0.744      0.512\n",
      "          repairCracks        303        223      0.562      0.457      0.443      0.189\n",
      "  repairPitsAndGrooves        303          7          0          0    0.00957    0.00191\n",
      "Speed: 3.1ms preprocess, 66.2ms inference, 0.0ms loss, 1.3ms postprocess per image\n",
      "Results saved to \u001b[1mruns/detect/val102\u001b[0m\n"
     ]
    },
    {
     "data": {
      "text/plain": [
       "0.35412123893352865"
      ]
     },
     "execution_count": 13,
     "metadata": {},
     "output_type": "execute_result"
    }
   ],
   "source": [
    "from ultralytics import YOLO\n",
    "model = YOLO('kfold_demo_l/train22/weights/best.pt')  # load an official model\n",
    "# model = YOLO('path/to/best.pt')  # load a custom model\n",
    "# Validate the model\n",
    "metrics = model.val(data = 'data/data.yaml',device=1)  # no arguments needed, dataset and settings remembered\n",
    "#     metrics.box.f1\n",
    "metrics.box.f1.mean()"
   ]
  },
  {
   "cell_type": "code",
   "execution_count": 5,
   "metadata": {},
   "outputs": [
    {
     "name": "stderr",
     "output_type": "stream",
     "text": [
      "Ultralytics YOLOv8.0.186 🚀 Python-3.8.5 torch-1.9.1+cu102 CUDA:1 (Tesla K80, 11441MiB)\n",
      "Model summary (fused): 168 layers, 11128680 parameters, 0 gradients, 28.5 GFLOPs\n",
      "\u001b[34m\u001b[1mval: \u001b[0mScanning /home/ubuntu/zoucheng/yolo/jsai_data.cache... 2000 images, 3 backgrounds, 0 corrupt: 100%|██████████| 2000/2000 [00:00<?, ?it/s]\n",
      "                 Class     Images  Instances      Box(P          R      mAP50  mAP50-95): 100%|██████████| 125/125 [01:32<00:00,  1.35it/s]\n",
      "                   all       2000       4497        0.8      0.614      0.671      0.455\n",
      "       transverseCrack       2000        213      0.727      0.601      0.647      0.378\n",
      "     longitudinalCrack       2000       2483      0.875      0.798      0.864      0.609\n",
      "           blockyCrack       2000         66      0.927      0.697      0.758      0.638\n",
      "              cracking       2000         82       0.79      0.551      0.608      0.411\n",
      "             pitGroove       2000         92      0.788      0.554      0.576      0.366\n",
      "      repairMeshCracks       2000         95      0.774      0.632       0.68      0.528\n",
      "          repairCracks       2000       1441       0.71      0.643      0.661      0.389\n",
      "  repairPitsAndGrooves       2000         25      0.804       0.44      0.575      0.323\n",
      "Speed: 0.2ms preprocess, 18.8ms inference, 0.0ms loss, 1.2ms postprocess per image\n",
      "Results saved to \u001b[1mruns/detect/val88\u001b[0m\n"
     ]
    },
    {
     "data": {
      "text/plain": [
       "0.690913597291754"
      ]
     },
     "execution_count": 5,
     "metadata": {},
     "output_type": "execute_result"
    }
   ],
   "source": [
    "from ultralytics import YOLO\n",
    "model = YOLO(f'k80/train_split55/weights/best.pt')  # load an official model\n",
    "# model = YOLO('path/to/best.pt')  # load a custom model\n",
    "\n",
    "# Validate the model\n",
    "metrics = model.val(data = 'data/ai_data.yaml',device=1)  # no arguments needed, dataset and settings remembered\n",
    "#     metrics.box.f1\n",
    "metrics.box.f1.mean()"
   ]
  },
  {
   "cell_type": "code",
   "execution_count": 31,
   "metadata": {},
   "outputs": [],
   "source": [
    "from ultralytics import YOLO\n",
    "from PIL import Image\n",
    "import os\n",
    "import warnings\n",
    "import numpy as np\n",
    "import shutil  # Import shutil for file copying\n",
    "warnings.filterwarnings('ignore')\n",
    "\n",
    "def predict_images(input_folder, output_folder,mm):\n",
    "    # Load a model\n",
    "    model = YOLO(mm)  # load a custom model\n",
    "\n",
    "    # Create the output folder if it doesn't exist\n",
    "    os.makedirs(output_folder, exist_ok=True)\n",
    "\n",
    "    # List all image files in the input folder\n",
    "    image_files = [f for f in os.listdir(input_folder) if f.endswith(('.jpg', '.png', '.jpeg'))]\n",
    "\n",
    "    # Predict with the model for each image\n",
    "    for image_file in image_files:\n",
    "        input_image_path = os.path.join(input_folder, image_file)\n",
    "        output_txt_path = os.path.join(output_folder, os.path.splitext(image_file)[0] + '.txt')  # Create a .txt file path\n",
    "        output_tp_path = os.path.join(output_folder, image_file)\n",
    "        # augment\n",
    "        # Predict on the image\n",
    "        results = model(input_image_path, save=False,iou=0.34)  # Predict without saving\n",
    "\n",
    "        # Extract prediction data and save to .txt file\n",
    "        for i in results:\n",
    "            result_array = np.concatenate((i.boxes.cls.cpu().numpy()[:, np.newaxis], i.boxes.xywhn.cpu().numpy()), axis=1)\n",
    "            # 保存为txt文件，第一列为整数，后面的列为浮点数（保留6位小数），使用空格分隔\n",
    "            fmt = ['%d'] + ['%.6f'] * (result_array.shape[1] - 1)\n",
    "            delimiter = ' '  # 使用空格分隔\n",
    "            np.savetxt(output_txt_path, result_array, delimiter=delimiter, fmt=fmt)\n",
    "\n",
    "#         for r in results:\n",
    "#             im_array = r.plot()  # plot a BGR numpy array of predictions\n",
    "#             im = Image.fromarray(im_array[..., ::-1])  # RGB PIL image\n",
    "#             im.show()  # show image\n",
    "#             im.save(output_tp_path)  # save image\n",
    "        # Copy the original image to the output folder\n",
    "#         shutil.copy(input_image_path, output_folder)\n",
    "\n",
    "# predict_images('../../yolo/data_jsai/vval/images', '../../yolo/data_jsai/vval/labels','k80/train_split41/weights/best.pt')"
   ]
  },
  {
   "cell_type": "code",
   "execution_count": 29,
   "metadata": {},
   "outputs": [
    {
     "name": "stderr",
     "output_type": "stream",
     "text": [
      "\n",
      "image 1/1 /home/ubuntu/zoucheng/yolo/yolov5/../../yolo/data_jsai/vval/images/22914-out_ori.jpg: 384x640 1 longitudinalCrack, 124.8ms\n",
      "Speed: 2.1ms preprocess, 124.8ms inference, 1.7ms postprocess per image at shape (1, 3, 384, 640)\n",
      "\n",
      "image 1/1 /home/ubuntu/zoucheng/yolo/yolov5/../../yolo/data_jsai/vval/images/23035-out_ori.jpg: 384x640 1 longitudinalCrack, 1 repairCracks, 112.8ms\n",
      "Speed: 1.3ms preprocess, 112.8ms inference, 1.6ms postprocess per image at shape (1, 3, 384, 640)\n",
      "\n",
      "image 1/1 /home/ubuntu/zoucheng/yolo/yolov5/../../yolo/data_jsai/vval/images/104-out_ori.jpg: 384x640 2 repairCrackss, 104.1ms\n",
      "Speed: 1.9ms preprocess, 104.1ms inference, 2.4ms postprocess per image at shape (1, 3, 384, 640)\n",
      "\n",
      "image 1/1 /home/ubuntu/zoucheng/yolo/yolov5/../../yolo/data_jsai/vval/images/23166-out_ori.jpg: 384x640 1 longitudinalCrack, 99.8ms\n",
      "Speed: 1.3ms preprocess, 99.8ms inference, 2.3ms postprocess per image at shape (1, 3, 384, 640)\n",
      "\n",
      "image 1/1 /home/ubuntu/zoucheng/yolo/yolov5/../../yolo/data_jsai/vval/images/22813-out_ori.jpg: 384x640 5 longitudinalCracks, 92.5ms\n",
      "Speed: 1.3ms preprocess, 92.5ms inference, 1.6ms postprocess per image at shape (1, 3, 384, 640)\n",
      "\n",
      "image 1/1 /home/ubuntu/zoucheng/yolo/yolov5/../../yolo/data_jsai/vval/images/22644-out_ori.jpg: 384x640 1 longitudinalCrack, 1 repairCracks, 90.9ms\n",
      "Speed: 1.3ms preprocess, 90.9ms inference, 1.5ms postprocess per image at shape (1, 3, 384, 640)\n",
      "\n",
      "image 1/1 /home/ubuntu/zoucheng/yolo/yolov5/../../yolo/data_jsai/vval/images/23008-out_ori.jpg: 384x640 1 longitudinalCrack, 2 repairCrackss, 90.5ms\n",
      "Speed: 1.3ms preprocess, 90.5ms inference, 1.5ms postprocess per image at shape (1, 3, 384, 640)\n",
      "\n",
      "image 1/1 /home/ubuntu/zoucheng/yolo/yolov5/../../yolo/data_jsai/vval/images/20176-out_ori.jpg: 384x640 1 longitudinalCrack, 92.8ms\n",
      "Speed: 1.4ms preprocess, 92.8ms inference, 1.5ms postprocess per image at shape (1, 3, 384, 640)\n",
      "\n",
      "image 1/1 /home/ubuntu/zoucheng/yolo/yolov5/../../yolo/data_jsai/vval/images/24362-out_ori.jpg: 384x640 1 longitudinalCrack, 1 repairCracks, 93.9ms\n",
      "Speed: 1.3ms preprocess, 93.9ms inference, 1.5ms postprocess per image at shape (1, 3, 384, 640)\n",
      "\n",
      "image 1/1 /home/ubuntu/zoucheng/yolo/yolov5/../../yolo/data_jsai/vval/images/22928-out_ori.jpg: 384x640 3 repairCrackss, 1 repairPitsAndGrooves, 93.1ms\n",
      "Speed: 1.4ms preprocess, 93.1ms inference, 2.6ms postprocess per image at shape (1, 3, 384, 640)\n",
      "\n",
      "image 1/1 /home/ubuntu/zoucheng/yolo/yolov5/../../yolo/data_jsai/vval/images/22942-out_ori.jpg: 384x640 1 repairCracks, 91.7ms\n",
      "Speed: 2.3ms preprocess, 91.7ms inference, 1.5ms postprocess per image at shape (1, 3, 384, 640)\n",
      "\n",
      "image 1/1 /home/ubuntu/zoucheng/yolo/yolov5/../../yolo/data_jsai/vval/images/23733-out_ori.jpg: 384x640 1 longitudinalCrack, 1 repairCracks, 93.4ms\n",
      "Speed: 1.5ms preprocess, 93.4ms inference, 1.4ms postprocess per image at shape (1, 3, 384, 640)\n",
      "\n",
      "image 1/1 /home/ubuntu/zoucheng/yolo/yolov5/../../yolo/data_jsai/vval/images/22864-out_ori.jpg: 384x640 2 longitudinalCracks, 1 repairCracks, 94.3ms\n",
      "Speed: 1.5ms preprocess, 94.3ms inference, 1.4ms postprocess per image at shape (1, 3, 384, 640)\n",
      "\n",
      "image 1/1 /home/ubuntu/zoucheng/yolo/yolov5/../../yolo/data_jsai/vval/images/119-out_ori.jpg: 384x640 3 repairCrackss, 93.1ms\n",
      "Speed: 4.4ms preprocess, 93.1ms inference, 1.5ms postprocess per image at shape (1, 3, 384, 640)\n",
      "\n",
      "image 1/1 /home/ubuntu/zoucheng/yolo/yolov5/../../yolo/data_jsai/vval/images/23147-out_ori.jpg: 384x640 2 longitudinalCracks, 89.5ms\n",
      "Speed: 2.5ms preprocess, 89.5ms inference, 1.6ms postprocess per image at shape (1, 3, 384, 640)\n",
      "\n",
      "image 1/1 /home/ubuntu/zoucheng/yolo/yolov5/../../yolo/data_jsai/vval/images/24487-out_ori.jpg: 384x640 2 longitudinalCracks, 2 repairCrackss, 91.4ms\n",
      "Speed: 1.6ms preprocess, 91.4ms inference, 1.4ms postprocess per image at shape (1, 3, 384, 640)\n",
      "\n",
      "image 1/1 /home/ubuntu/zoucheng/yolo/yolov5/../../yolo/data_jsai/vval/images/20422-out_ori.jpg: 384x640 1 longitudinalCrack, 92.2ms\n",
      "Speed: 1.5ms preprocess, 92.2ms inference, 1.4ms postprocess per image at shape (1, 3, 384, 640)\n",
      "\n",
      "image 1/1 /home/ubuntu/zoucheng/yolo/yolov5/../../yolo/data_jsai/vval/images/24558-out_ori.jpg: 384x640 1 longitudinalCrack, 93.9ms\n",
      "Speed: 2.5ms preprocess, 93.9ms inference, 1.8ms postprocess per image at shape (1, 3, 384, 640)\n",
      "\n",
      "image 1/1 /home/ubuntu/zoucheng/yolo/yolov5/../../yolo/data_jsai/vval/images/23886-out_ori.jpg: 384x640 1 repairMeshCracks, 5 repairCrackss, 90.4ms\n",
      "Speed: 1.6ms preprocess, 90.4ms inference, 1.8ms postprocess per image at shape (1, 3, 384, 640)\n",
      "\n",
      "image 1/1 /home/ubuntu/zoucheng/yolo/yolov5/../../yolo/data_jsai/vval/images/160-out_ori.jpg: 384x640 (no detections), 90.3ms\n",
      "Speed: 2.1ms preprocess, 90.3ms inference, 1.0ms postprocess per image at shape (1, 3, 384, 640)\n",
      "\n",
      "image 1/1 /home/ubuntu/zoucheng/yolo/yolov5/../../yolo/data_jsai/vval/images/24097-out_ori.jpg: 384x640 2 longitudinalCracks, 2 repairCrackss, 92.1ms\n",
      "Speed: 1.5ms preprocess, 92.1ms inference, 1.8ms postprocess per image at shape (1, 3, 384, 640)\n",
      "\n",
      "image 1/1 /home/ubuntu/zoucheng/yolo/yolov5/../../yolo/data_jsai/vval/images/22643-out_ori.jpg: 384x640 1 blockyCrack, 1 repairMeshCracks, 1 repairCracks, 91.8ms\n",
      "Speed: 1.5ms preprocess, 91.8ms inference, 1.7ms postprocess per image at shape (1, 3, 384, 640)\n",
      "\n",
      "image 1/1 /home/ubuntu/zoucheng/yolo/yolov5/../../yolo/data_jsai/vval/images/22598-out_ori.jpg: 384x640 1 longitudinalCrack, 92.7ms\n",
      "Speed: 1.5ms preprocess, 92.7ms inference, 1.7ms postprocess per image at shape (1, 3, 384, 640)\n",
      "\n",
      "image 1/1 /home/ubuntu/zoucheng/yolo/yolov5/../../yolo/data_jsai/vval/images/24195-out_ori.jpg: 384x640 2 longitudinalCracks, 1 repairCracks, 91.5ms\n",
      "Speed: 1.5ms preprocess, 91.5ms inference, 1.5ms postprocess per image at shape (1, 3, 384, 640)\n",
      "\n",
      "image 1/1 /home/ubuntu/zoucheng/yolo/yolov5/../../yolo/data_jsai/vval/images/23710-out_ori.jpg: 384x640 2 longitudinalCracks, 91.0ms\n",
      "Speed: 1.3ms preprocess, 91.0ms inference, 1.5ms postprocess per image at shape (1, 3, 384, 640)\n",
      "\n",
      "image 1/1 /home/ubuntu/zoucheng/yolo/yolov5/../../yolo/data_jsai/vval/images/22871-out_ori.jpg: 384x640 1 longitudinalCrack, 1 repairCracks, 89.8ms\n",
      "Speed: 1.4ms preprocess, 89.8ms inference, 1.7ms postprocess per image at shape (1, 3, 384, 640)\n",
      "\n",
      "image 1/1 /home/ubuntu/zoucheng/yolo/yolov5/../../yolo/data_jsai/vval/images/19994-out_ori.jpg: 384x640 3 longitudinalCracks, 92.1ms\n",
      "Speed: 1.4ms preprocess, 92.1ms inference, 1.6ms postprocess per image at shape (1, 3, 384, 640)\n",
      "\n",
      "image 1/1 /home/ubuntu/zoucheng/yolo/yolov5/../../yolo/data_jsai/vval/images/23185-out_ori.jpg: 384x640 3 longitudinalCracks, 95.5ms\n",
      "Speed: 1.4ms preprocess, 95.5ms inference, 1.5ms postprocess per image at shape (1, 3, 384, 640)\n",
      "\n",
      "image 1/1 /home/ubuntu/zoucheng/yolo/yolov5/../../yolo/data_jsai/vval/images/20439-out_ori.jpg: 384x640 2 longitudinalCracks, 95.8ms\n",
      "Speed: 1.3ms preprocess, 95.8ms inference, 1.5ms postprocess per image at shape (1, 3, 384, 640)\n",
      "\n",
      "image 1/1 /home/ubuntu/zoucheng/yolo/yolov5/../../yolo/data_jsai/vval/images/23031-out_ori.jpg: 384x640 1 longitudinalCrack, 2 repairCrackss, 93.2ms\n",
      "Speed: 1.3ms preprocess, 93.2ms inference, 1.6ms postprocess per image at shape (1, 3, 384, 640)\n",
      "\n",
      "image 1/1 /home/ubuntu/zoucheng/yolo/yolov5/../../yolo/data_jsai/vval/images/24122-out_ori.jpg: 384x640 1 longitudinalCrack, 92.2ms\n",
      "Speed: 1.3ms preprocess, 92.2ms inference, 1.7ms postprocess per image at shape (1, 3, 384, 640)\n",
      "\n",
      "image 1/1 /home/ubuntu/zoucheng/yolo/yolov5/../../yolo/data_jsai/vval/images/23538-out_ori.jpg: 384x640 1 repairCracks, 90.9ms\n",
      "Speed: 1.3ms preprocess, 90.9ms inference, 1.5ms postprocess per image at shape (1, 3, 384, 640)\n",
      "\n",
      "image 1/1 /home/ubuntu/zoucheng/yolo/yolov5/../../yolo/data_jsai/vval/images/23574-out_ori.jpg: 384x640 1 longitudinalCrack, 90.6ms\n",
      "Speed: 1.3ms preprocess, 90.6ms inference, 1.6ms postprocess per image at shape (1, 3, 384, 640)\n",
      "\n",
      "image 1/1 /home/ubuntu/zoucheng/yolo/yolov5/../../yolo/data_jsai/vval/images/24099-out_ori.jpg: 384x640 1 longitudinalCrack, 1 repairCracks, 90.0ms\n",
      "Speed: 1.3ms preprocess, 90.0ms inference, 2.5ms postprocess per image at shape (1, 3, 384, 640)\n",
      "\n",
      "image 1/1 /home/ubuntu/zoucheng/yolo/yolov5/../../yolo/data_jsai/vval/images/23548-out_ori.jpg: 384x640 1 longitudinalCrack, 92.2ms\n"
     ]
    },
    {
     "name": "stderr",
     "output_type": "stream",
     "text": [
      "Speed: 2.2ms preprocess, 92.2ms inference, 1.4ms postprocess per image at shape (1, 3, 384, 640)\n",
      "\n",
      "image 1/1 /home/ubuntu/zoucheng/yolo/yolov5/../../yolo/data_jsai/vval/images/22971-out_ori.jpg: 384x640 1 repairMeshCracks, 3 repairCrackss, 94.0ms\n",
      "Speed: 1.5ms preprocess, 94.0ms inference, 1.4ms postprocess per image at shape (1, 3, 384, 640)\n",
      "\n",
      "image 1/1 /home/ubuntu/zoucheng/yolo/yolov5/../../yolo/data_jsai/vval/images/20124-out_ori.jpg: 384x640 3 longitudinalCracks, 2 repairCrackss, 93.3ms\n",
      "Speed: 1.5ms preprocess, 93.3ms inference, 1.5ms postprocess per image at shape (1, 3, 384, 640)\n",
      "\n",
      "image 1/1 /home/ubuntu/zoucheng/yolo/yolov5/../../yolo/data_jsai/vval/images/20165-out_ori.jpg: 384x640 2 repairCrackss, 92.4ms\n",
      "Speed: 1.6ms preprocess, 92.4ms inference, 1.5ms postprocess per image at shape (1, 3, 384, 640)\n",
      "\n",
      "image 1/1 /home/ubuntu/zoucheng/yolo/yolov5/../../yolo/data_jsai/vval/images/23589-out_ori.jpg: 384x640 2 repairCrackss, 89.6ms\n",
      "Speed: 2.5ms preprocess, 89.6ms inference, 1.9ms postprocess per image at shape (1, 3, 384, 640)\n",
      "\n",
      "image 1/1 /home/ubuntu/zoucheng/yolo/yolov5/../../yolo/data_jsai/vval/images/23677-out_ori.jpg: 384x640 2 longitudinalCracks, 91.5ms\n",
      "Speed: 1.6ms preprocess, 91.5ms inference, 1.9ms postprocess per image at shape (1, 3, 384, 640)\n",
      "\n",
      "image 1/1 /home/ubuntu/zoucheng/yolo/yolov5/../../yolo/data_jsai/vval/images/23920-out_ori.jpg: 384x640 1 repairCracks, 91.9ms\n",
      "Speed: 1.6ms preprocess, 91.9ms inference, 1.7ms postprocess per image at shape (1, 3, 384, 640)\n",
      "\n",
      "image 1/1 /home/ubuntu/zoucheng/yolo/yolov5/../../yolo/data_jsai/vval/images/23003-out_ori.jpg: 384x640 1 repairCracks, 93.6ms\n",
      "Speed: 1.5ms preprocess, 93.6ms inference, 1.7ms postprocess per image at shape (1, 3, 384, 640)\n",
      "\n",
      "image 1/1 /home/ubuntu/zoucheng/yolo/yolov5/../../yolo/data_jsai/vval/images/23813-out_ori.jpg: 384x640 3 transverseCracks, 1 longitudinalCrack, 92.2ms\n",
      "Speed: 1.5ms preprocess, 92.2ms inference, 1.7ms postprocess per image at shape (1, 3, 384, 640)\n",
      "\n",
      "image 1/1 /home/ubuntu/zoucheng/yolo/yolov5/../../yolo/data_jsai/vval/images/23046-out_ori.jpg: 384x640 2 transverseCracks, 1 longitudinalCrack, 91.8ms\n",
      "Speed: 1.5ms preprocess, 91.8ms inference, 1.7ms postprocess per image at shape (1, 3, 384, 640)\n",
      "\n",
      "image 1/1 /home/ubuntu/zoucheng/yolo/yolov5/../../yolo/data_jsai/vval/images/22733-out_ori.jpg: 384x640 1 longitudinalCrack, 91.4ms\n",
      "Speed: 1.5ms preprocess, 91.4ms inference, 1.5ms postprocess per image at shape (1, 3, 384, 640)\n",
      "\n",
      "image 1/1 /home/ubuntu/zoucheng/yolo/yolov5/../../yolo/data_jsai/vval/images/19797-out_ori.jpg: 384x640 1 transverseCrack, 2 longitudinalCracks, 2 repairCrackss, 90.7ms\n",
      "Speed: 1.3ms preprocess, 90.7ms inference, 1.4ms postprocess per image at shape (1, 3, 384, 640)\n",
      "\n",
      "image 1/1 /home/ubuntu/zoucheng/yolo/yolov5/../../yolo/data_jsai/vval/images/19912-out_ori.jpg: 384x640 1 repairMeshCracks, 4 repairCrackss, 91.9ms\n",
      "Speed: 1.3ms preprocess, 91.9ms inference, 1.5ms postprocess per image at shape (1, 3, 384, 640)\n",
      "\n",
      "image 1/1 /home/ubuntu/zoucheng/yolo/yolov5/../../yolo/data_jsai/vval/images/23159-out_ori.jpg: 384x640 1 longitudinalCrack, 95.0ms\n",
      "Speed: 1.3ms preprocess, 95.0ms inference, 1.4ms postprocess per image at shape (1, 3, 384, 640)\n",
      "\n",
      "image 1/1 /home/ubuntu/zoucheng/yolo/yolov5/../../yolo/data_jsai/vval/images/22578-out_ori.jpg: 384x640 2 longitudinalCracks, 96.6ms\n",
      "Speed: 1.3ms preprocess, 96.6ms inference, 1.4ms postprocess per image at shape (1, 3, 384, 640)\n",
      "\n",
      "image 1/1 /home/ubuntu/zoucheng/yolo/yolov5/../../yolo/data_jsai/vval/images/22629-out_ori.jpg: 384x640 1 longitudinalCrack, 1 blockyCrack, 96.2ms\n",
      "Speed: 1.3ms preprocess, 96.2ms inference, 1.4ms postprocess per image at shape (1, 3, 384, 640)\n",
      "\n",
      "image 1/1 /home/ubuntu/zoucheng/yolo/yolov5/../../yolo/data_jsai/vval/images/23840-out_ori.jpg: 384x640 (no detections), 93.9ms\n",
      "Speed: 1.2ms preprocess, 93.9ms inference, 0.8ms postprocess per image at shape (1, 3, 384, 640)\n",
      "\n",
      "image 1/1 /home/ubuntu/zoucheng/yolo/yolov5/../../yolo/data_jsai/vval/images/23552-out_ori.jpg: 384x640 1 longitudinalCrack, 92.6ms\n",
      "Speed: 1.3ms preprocess, 92.6ms inference, 1.5ms postprocess per image at shape (1, 3, 384, 640)\n",
      "\n",
      "image 1/1 /home/ubuntu/zoucheng/yolo/yolov5/../../yolo/data_jsai/vval/images/22825-out_ori.jpg: 384x640 1 longitudinalCrack, 91.7ms\n",
      "Speed: 1.3ms preprocess, 91.7ms inference, 1.5ms postprocess per image at shape (1, 3, 384, 640)\n",
      "\n",
      "image 1/1 /home/ubuntu/zoucheng/yolo/yolov5/../../yolo/data_jsai/vval/images/22664-out_ori.jpg: 384x640 1 longitudinalCrack, 1 repairCracks, 89.5ms\n",
      "Speed: 1.3ms preprocess, 89.5ms inference, 1.4ms postprocess per image at shape (1, 3, 384, 640)\n",
      "\n",
      "image 1/1 /home/ubuntu/zoucheng/yolo/yolov5/../../yolo/data_jsai/vval/images/24400-out_ori.jpg: 384x640 1 longitudinalCrack, 1 repairCracks, 91.8ms\n",
      "Speed: 1.3ms preprocess, 91.8ms inference, 1.5ms postprocess per image at shape (1, 3, 384, 640)\n",
      "\n",
      "image 1/1 /home/ubuntu/zoucheng/yolo/yolov5/../../yolo/data_jsai/vval/images/20308-out_ori.jpg: 384x640 2 longitudinalCracks, 97.4ms\n",
      "Speed: 1.3ms preprocess, 97.4ms inference, 1.5ms postprocess per image at shape (1, 3, 384, 640)\n",
      "\n",
      "image 1/1 /home/ubuntu/zoucheng/yolo/yolov5/../../yolo/data_jsai/vval/images/19919-out_ori.jpg: 384x640 1 longitudinalCrack, 2 repairCrackss, 96.4ms\n",
      "Speed: 1.2ms preprocess, 96.4ms inference, 1.5ms postprocess per image at shape (1, 3, 384, 640)\n",
      "\n",
      "image 1/1 /home/ubuntu/zoucheng/yolo/yolov5/../../yolo/data_jsai/vval/images/20390-out_ori.jpg: 384x640 2 longitudinalCracks, 94.2ms\n",
      "Speed: 1.3ms preprocess, 94.2ms inference, 1.5ms postprocess per image at shape (1, 3, 384, 640)\n",
      "\n",
      "image 1/1 /home/ubuntu/zoucheng/yolo/yolov5/../../yolo/data_jsai/vval/images/24188-out_ori.jpg: 384x640 1 longitudinalCrack, 1 repairCracks, 94.1ms\n",
      "Speed: 1.2ms preprocess, 94.1ms inference, 1.5ms postprocess per image at shape (1, 3, 384, 640)\n",
      "\n",
      "image 1/1 /home/ubuntu/zoucheng/yolo/yolov5/../../yolo/data_jsai/vval/images/192-out_ori.jpg: 384x640 1 cracking, 2 repairCrackss, 92.2ms\n",
      "Speed: 1.7ms preprocess, 92.2ms inference, 1.5ms postprocess per image at shape (1, 3, 384, 640)\n",
      "\n",
      "image 1/1 /home/ubuntu/zoucheng/yolo/yolov5/../../yolo/data_jsai/vval/images/23576-out_ori.jpg: 384x640 1 longitudinalCrack, 1 repairCracks, 89.9ms\n",
      "Speed: 1.3ms preprocess, 89.9ms inference, 2.5ms postprocess per image at shape (1, 3, 384, 640)\n",
      "\n",
      "image 1/1 /home/ubuntu/zoucheng/yolo/yolov5/../../yolo/data_jsai/vval/images/24293-out_ori.jpg: 384x640 2 repairCrackss, 93.4ms\n",
      "Speed: 2.3ms preprocess, 93.4ms inference, 1.4ms postprocess per image at shape (1, 3, 384, 640)\n",
      "\n",
      "image 1/1 /home/ubuntu/zoucheng/yolo/yolov5/../../yolo/data_jsai/vval/images/23382-out_ori.jpg: 384x640 (no detections), 93.0ms\n",
      "Speed: 1.5ms preprocess, 93.0ms inference, 0.8ms postprocess per image at shape (1, 3, 384, 640)\n",
      "\n",
      "image 1/1 /home/ubuntu/zoucheng/yolo/yolov5/../../yolo/data_jsai/vval/images/24098-out_ori.jpg: 384x640 2 longitudinalCracks, 1 repairCracks, 92.4ms\n",
      "Speed: 1.5ms preprocess, 92.4ms inference, 1.4ms postprocess per image at shape (1, 3, 384, 640)\n",
      "\n",
      "image 1/1 /home/ubuntu/zoucheng/yolo/yolov5/../../yolo/data_jsai/vval/images/22626-out_ori.jpg: 384x640 3 longitudinalCracks, 91.2ms\n",
      "Speed: 1.5ms preprocess, 91.2ms inference, 1.4ms postprocess per image at shape (1, 3, 384, 640)\n",
      "\n",
      "image 1/1 /home/ubuntu/zoucheng/yolo/yolov5/../../yolo/data_jsai/vval/images/147-out_ori.jpg: 384x640 2 repairCrackss, 90.8ms\n",
      "Speed: 2.1ms preprocess, 90.8ms inference, 1.4ms postprocess per image at shape (1, 3, 384, 640)\n",
      "\n",
      "image 1/1 /home/ubuntu/zoucheng/yolo/yolov5/../../yolo/data_jsai/vval/images/23531-out_ori.jpg: 384x640 1 transverseCrack, 1 longitudinalCrack, 2 repairCrackss, 92.8ms\n",
      "Speed: 1.5ms preprocess, 92.8ms inference, 1.8ms postprocess per image at shape (1, 3, 384, 640)\n",
      "\n",
      "image 1/1 /home/ubuntu/zoucheng/yolo/yolov5/../../yolo/data_jsai/vval/images/24147-out_ori.jpg: 384x640 2 longitudinalCracks, 1 repairCracks, 94.5ms\n",
      "Speed: 2.0ms preprocess, 94.5ms inference, 1.4ms postprocess per image at shape (1, 3, 384, 640)\n",
      "\n",
      "image 1/1 /home/ubuntu/zoucheng/yolo/yolov5/../../yolo/data_jsai/vval/images/22603-out_ori.jpg: 384x640 (no detections), 93.5ms\n",
      "Speed: 1.2ms preprocess, 93.5ms inference, 0.7ms postprocess per image at shape (1, 3, 384, 640)\n",
      "\n",
      "image 1/1 /home/ubuntu/zoucheng/yolo/yolov5/../../yolo/data_jsai/vval/images/24469-out_ori.jpg: 384x640 1 blockyCrack, 93.7ms\n"
     ]
    },
    {
     "name": "stderr",
     "output_type": "stream",
     "text": [
      "Speed: 1.3ms preprocess, 93.7ms inference, 1.3ms postprocess per image at shape (1, 3, 384, 640)\n",
      "\n",
      "image 1/1 /home/ubuntu/zoucheng/yolo/yolov5/../../yolo/data_jsai/vval/images/22932-out_ori.jpg: 384x640 1 repairMeshCracks, 94.4ms\n",
      "Speed: 1.3ms preprocess, 94.4ms inference, 1.2ms postprocess per image at shape (1, 3, 384, 640)\n",
      "\n",
      "image 1/1 /home/ubuntu/zoucheng/yolo/yolov5/../../yolo/data_jsai/vval/images/23257-out_ori.jpg: 384x640 1 longitudinalCrack, 92.9ms\n",
      "Speed: 1.3ms preprocess, 92.9ms inference, 1.2ms postprocess per image at shape (1, 3, 384, 640)\n",
      "\n",
      "image 1/1 /home/ubuntu/zoucheng/yolo/yolov5/../../yolo/data_jsai/vval/images/24541-out_ori.jpg: 384x640 1 repairMeshCracks, 91.9ms\n",
      "Speed: 1.3ms preprocess, 91.9ms inference, 1.2ms postprocess per image at shape (1, 3, 384, 640)\n",
      "\n",
      "image 1/1 /home/ubuntu/zoucheng/yolo/yolov5/../../yolo/data_jsai/vval/images/23567-out_ori.jpg: 384x640 4 longitudinalCracks, 2 repairCrackss, 92.3ms\n",
      "Speed: 1.3ms preprocess, 92.3ms inference, 1.4ms postprocess per image at shape (1, 3, 384, 640)\n",
      "\n",
      "image 1/1 /home/ubuntu/zoucheng/yolo/yolov5/../../yolo/data_jsai/vval/images/23397-out_ori.jpg: 384x640 2 longitudinalCracks, 95.6ms\n",
      "Speed: 1.3ms preprocess, 95.6ms inference, 1.5ms postprocess per image at shape (1, 3, 384, 640)\n",
      "\n",
      "image 1/1 /home/ubuntu/zoucheng/yolo/yolov5/../../yolo/data_jsai/vval/images/23584-out_ori.jpg: 384x640 (no detections), 94.5ms\n",
      "Speed: 1.3ms preprocess, 94.5ms inference, 0.6ms postprocess per image at shape (1, 3, 384, 640)\n",
      "\n",
      "image 1/1 /home/ubuntu/zoucheng/yolo/yolov5/../../yolo/data_jsai/vval/images/23601-out_ori.jpg: 384x640 1 repairCracks, 92.9ms\n",
      "Speed: 1.3ms preprocess, 92.9ms inference, 1.2ms postprocess per image at shape (1, 3, 384, 640)\n",
      "\n",
      "image 1/1 /home/ubuntu/zoucheng/yolo/yolov5/../../yolo/data_jsai/vval/images/23996-out_ori.jpg: 384x640 2 longitudinalCracks, 93.5ms\n",
      "Speed: 1.3ms preprocess, 93.5ms inference, 1.2ms postprocess per image at shape (1, 3, 384, 640)\n",
      "\n",
      "image 1/1 /home/ubuntu/zoucheng/yolo/yolov5/../../yolo/data_jsai/vval/images/22986-out_ori.jpg: 384x640 1 longitudinalCrack, 1 repairCracks, 91.2ms\n",
      "Speed: 1.3ms preprocess, 91.2ms inference, 1.2ms postprocess per image at shape (1, 3, 384, 640)\n",
      "\n",
      "image 1/1 /home/ubuntu/zoucheng/yolo/yolov5/../../yolo/data_jsai/vval/images/26-out_ori.jpg: 384x640 1 cracking, 1 repairCracks, 91.9ms\n",
      "Speed: 1.9ms preprocess, 91.9ms inference, 1.2ms postprocess per image at shape (1, 3, 384, 640)\n",
      "\n",
      "image 1/1 /home/ubuntu/zoucheng/yolo/yolov5/../../yolo/data_jsai/vval/images/24594-out_ori.jpg: 384x640 (no detections), 92.6ms\n",
      "Speed: 1.3ms preprocess, 92.6ms inference, 0.6ms postprocess per image at shape (1, 3, 384, 640)\n",
      "\n",
      "image 1/1 /home/ubuntu/zoucheng/yolo/yolov5/../../yolo/data_jsai/vval/images/23364-out_ori.jpg: 384x640 1 longitudinalCrack, 1 repairCracks, 94.5ms\n",
      "Speed: 1.3ms preprocess, 94.5ms inference, 1.2ms postprocess per image at shape (1, 3, 384, 640)\n",
      "\n",
      "image 1/1 /home/ubuntu/zoucheng/yolo/yolov5/../../yolo/data_jsai/vval/images/22972-out_ori.jpg: 384x640 1 longitudinalCrack, 1 repairCracks, 95.7ms\n",
      "Speed: 1.3ms preprocess, 95.7ms inference, 1.2ms postprocess per image at shape (1, 3, 384, 640)\n",
      "\n",
      "image 1/1 /home/ubuntu/zoucheng/yolo/yolov5/../../yolo/data_jsai/vval/images/24366-out_ori.jpg: 384x640 1 longitudinalCrack, 1 repairCracks, 94.8ms\n",
      "Speed: 1.2ms preprocess, 94.8ms inference, 1.2ms postprocess per image at shape (1, 3, 384, 640)\n",
      "\n",
      "image 1/1 /home/ubuntu/zoucheng/yolo/yolov5/../../yolo/data_jsai/vval/images/23936-out_ori.jpg: 384x640 1 longitudinalCrack, 1 repairMeshCracks, 3 repairCrackss, 94.8ms\n",
      "Speed: 1.3ms preprocess, 94.8ms inference, 1.2ms postprocess per image at shape (1, 3, 384, 640)\n",
      "\n",
      "image 1/1 /home/ubuntu/zoucheng/yolo/yolov5/../../yolo/data_jsai/vval/images/125-out_ori.jpg: 384x640 1 longitudinalCrack, 1 repairCracks, 91.5ms\n",
      "Speed: 1.8ms preprocess, 91.5ms inference, 1.3ms postprocess per image at shape (1, 3, 384, 640)\n",
      "\n",
      "image 1/1 /home/ubuntu/zoucheng/yolo/yolov5/../../yolo/data_jsai/vval/images/23323-out_ori.jpg: 384x640 1 longitudinalCrack, 90.6ms\n",
      "Speed: 1.3ms preprocess, 90.6ms inference, 1.1ms postprocess per image at shape (1, 3, 384, 640)\n",
      "\n",
      "image 1/1 /home/ubuntu/zoucheng/yolo/yolov5/../../yolo/data_jsai/vval/images/20219-out_ori.jpg: 384x640 1 longitudinalCrack, 92.2ms\n",
      "Speed: 1.3ms preprocess, 92.2ms inference, 1.2ms postprocess per image at shape (1, 3, 384, 640)\n",
      "\n",
      "image 1/1 /home/ubuntu/zoucheng/yolo/yolov5/../../yolo/data_jsai/vval/images/20087-out_ori.jpg: 384x640 1 longitudinalCrack, 95.9ms\n",
      "Speed: 1.3ms preprocess, 95.9ms inference, 1.2ms postprocess per image at shape (1, 3, 384, 640)\n",
      "\n",
      "image 1/1 /home/ubuntu/zoucheng/yolo/yolov5/../../yolo/data_jsai/vval/images/24537-out_ori.jpg: 384x640 (no detections), 97.4ms\n",
      "Speed: 1.3ms preprocess, 97.4ms inference, 0.6ms postprocess per image at shape (1, 3, 384, 640)\n",
      "\n",
      "image 1/1 /home/ubuntu/zoucheng/yolo/yolov5/../../yolo/data_jsai/vval/images/23128-out_ori.jpg: 384x640 1 longitudinalCrack, 95.7ms\n",
      "Speed: 1.3ms preprocess, 95.7ms inference, 1.2ms postprocess per image at shape (1, 3, 384, 640)\n",
      "\n",
      "image 1/1 /home/ubuntu/zoucheng/yolo/yolov5/../../yolo/data_jsai/vval/images/20084-out_ori.jpg: 384x640 (no detections), 94.2ms\n",
      "Speed: 1.3ms preprocess, 94.2ms inference, 0.7ms postprocess per image at shape (1, 3, 384, 640)\n",
      "\n",
      "image 1/1 /home/ubuntu/zoucheng/yolo/yolov5/../../yolo/data_jsai/vval/images/23292-out_ori.jpg: 384x640 2 longitudinalCracks, 1 repairCracks, 92.0ms\n",
      "Speed: 1.2ms preprocess, 92.0ms inference, 1.2ms postprocess per image at shape (1, 3, 384, 640)\n",
      "\n",
      "image 1/1 /home/ubuntu/zoucheng/yolo/yolov5/../../yolo/data_jsai/vval/images/23449-out_ori.jpg: 384x640 1 repairMeshCracks, 3 repairCrackss, 92.6ms\n",
      "Speed: 1.3ms preprocess, 92.6ms inference, 1.2ms postprocess per image at shape (1, 3, 384, 640)\n",
      "\n",
      "image 1/1 /home/ubuntu/zoucheng/yolo/yolov5/../../yolo/data_jsai/vval/images/22968-out_ori.jpg: 384x640 1 repairMeshCracks, 2 repairCrackss, 90.6ms\n",
      "Speed: 1.2ms preprocess, 90.6ms inference, 1.2ms postprocess per image at shape (1, 3, 384, 640)\n",
      "\n",
      "image 1/1 /home/ubuntu/zoucheng/yolo/yolov5/../../yolo/data_jsai/vval/images/23960-out_ori.jpg: 384x640 4 longitudinalCracks, 92.2ms\n",
      "Speed: 1.3ms preprocess, 92.2ms inference, 1.2ms postprocess per image at shape (1, 3, 384, 640)\n",
      "\n",
      "image 1/1 /home/ubuntu/zoucheng/yolo/yolov5/../../yolo/data_jsai/vval/images/23910-out_ori.jpg: 384x640 1 longitudinalCrack, 97.4ms\n",
      "Speed: 1.2ms preprocess, 97.4ms inference, 1.1ms postprocess per image at shape (1, 3, 384, 640)\n",
      "\n",
      "image 1/1 /home/ubuntu/zoucheng/yolo/yolov5/../../yolo/data_jsai/vval/images/24326-out_ori.jpg: 384x640 1 longitudinalCrack, 96.6ms\n",
      "Speed: 1.3ms preprocess, 96.6ms inference, 1.1ms postprocess per image at shape (1, 3, 384, 640)\n",
      "\n",
      "image 1/1 /home/ubuntu/zoucheng/yolo/yolov5/../../yolo/data_jsai/vval/images/23768-out_ori.jpg: 384x640 1 longitudinalCrack, 1 repairCracks, 93.2ms\n",
      "Speed: 1.3ms preprocess, 93.2ms inference, 1.2ms postprocess per image at shape (1, 3, 384, 640)\n",
      "\n",
      "image 1/1 /home/ubuntu/zoucheng/yolo/yolov5/../../yolo/data_jsai/vval/images/23858-out_ori.jpg: 384x640 1 longitudinalCrack, 1 repairCracks, 93.3ms\n",
      "Speed: 1.3ms preprocess, 93.3ms inference, 1.2ms postprocess per image at shape (1, 3, 384, 640)\n",
      "\n",
      "image 1/1 /home/ubuntu/zoucheng/yolo/yolov5/../../yolo/data_jsai/vval/images/23663-out_ori.jpg: 384x640 1 longitudinalCrack, 92.1ms\n",
      "Speed: 1.3ms preprocess, 92.1ms inference, 1.2ms postprocess per image at shape (1, 3, 384, 640)\n",
      "\n",
      "image 1/1 /home/ubuntu/zoucheng/yolo/yolov5/../../yolo/data_jsai/vval/images/23073-out_ori.jpg: 384x640 1 repairMeshCracks, 1 repairCracks, 91.6ms\n",
      "Speed: 1.3ms preprocess, 91.6ms inference, 1.2ms postprocess per image at shape (1, 3, 384, 640)\n",
      "\n",
      "image 1/1 /home/ubuntu/zoucheng/yolo/yolov5/../../yolo/data_jsai/vval/images/23066-out_ori.jpg: 384x640 1 longitudinalCrack, 1 repairCracks, 90.1ms\n",
      "Speed: 1.3ms preprocess, 90.1ms inference, 1.2ms postprocess per image at shape (1, 3, 384, 640)\n",
      "\n",
      "image 1/1 /home/ubuntu/zoucheng/yolo/yolov5/../../yolo/data_jsai/vval/images/22729-out_ori.jpg: 384x640 3 longitudinalCracks, 1 cracking, 2 repairCrackss, 92.2ms\n",
      "Speed: 1.3ms preprocess, 92.2ms inference, 1.5ms postprocess per image at shape (1, 3, 384, 640)\n",
      "\n",
      "image 1/1 /home/ubuntu/zoucheng/yolo/yolov5/../../yolo/data_jsai/vval/images/23529-out_ori.jpg: 384x640 1 repairCracks, 94.8ms\n"
     ]
    },
    {
     "name": "stderr",
     "output_type": "stream",
     "text": [
      "Speed: 1.4ms preprocess, 94.8ms inference, 1.2ms postprocess per image at shape (1, 3, 384, 640)\n",
      "\n",
      "image 1/1 /home/ubuntu/zoucheng/yolo/yolov5/../../yolo/data_jsai/vval/images/22949-out_ori.jpg: 384x640 1 repairCracks, 95.2ms\n",
      "Speed: 1.3ms preprocess, 95.2ms inference, 1.5ms postprocess per image at shape (1, 3, 384, 640)\n",
      "\n",
      "image 1/1 /home/ubuntu/zoucheng/yolo/yolov5/../../yolo/data_jsai/vval/images/24492-out_ori.jpg: 384x640 2 longitudinalCracks, 1 repairCracks, 95.6ms\n",
      "Speed: 1.3ms preprocess, 95.6ms inference, 1.2ms postprocess per image at shape (1, 3, 384, 640)\n",
      "\n",
      "image 1/1 /home/ubuntu/zoucheng/yolo/yolov5/../../yolo/data_jsai/vval/images/24599-out_ori.jpg: 384x640 1 longitudinalCrack, 2 repairCrackss, 94.8ms\n",
      "Speed: 1.3ms preprocess, 94.8ms inference, 1.2ms postprocess per image at shape (1, 3, 384, 640)\n",
      "\n",
      "image 1/1 /home/ubuntu/zoucheng/yolo/yolov5/../../yolo/data_jsai/vval/images/19835-out_ori.jpg: 384x640 3 transverseCracks, 92.7ms\n",
      "Speed: 1.3ms preprocess, 92.7ms inference, 1.5ms postprocess per image at shape (1, 3, 384, 640)\n",
      "\n",
      "image 1/1 /home/ubuntu/zoucheng/yolo/yolov5/../../yolo/data_jsai/vval/images/23554-out_ori.jpg: 384x640 2 longitudinalCracks, 91.8ms\n",
      "Speed: 1.4ms preprocess, 91.8ms inference, 1.2ms postprocess per image at shape (1, 3, 384, 640)\n",
      "\n",
      "image 1/1 /home/ubuntu/zoucheng/yolo/yolov5/../../yolo/data_jsai/vval/images/24249-out_ori.jpg: 384x640 1 longitudinalCrack, 90.1ms\n",
      "Speed: 1.3ms preprocess, 90.1ms inference, 1.3ms postprocess per image at shape (1, 3, 384, 640)\n",
      "\n",
      "image 1/1 /home/ubuntu/zoucheng/yolo/yolov5/../../yolo/data_jsai/vval/images/24295-out_ori.jpg: 384x640 1 longitudinalCrack, 3 repairCrackss, 92.1ms\n",
      "Speed: 1.3ms preprocess, 92.1ms inference, 1.2ms postprocess per image at shape (1, 3, 384, 640)\n",
      "\n",
      "image 1/1 /home/ubuntu/zoucheng/yolo/yolov5/../../yolo/data_jsai/vval/images/24597-out_ori.jpg: 384x640 1 longitudinalCrack, 94.8ms\n",
      "Speed: 1.4ms preprocess, 94.8ms inference, 1.4ms postprocess per image at shape (1, 3, 384, 640)\n",
      "\n",
      "image 1/1 /home/ubuntu/zoucheng/yolo/yolov5/../../yolo/data_jsai/vval/images/20374-out_ori.jpg: 384x640 2 longitudinalCracks, 1 repairCracks, 95.2ms\n",
      "Speed: 1.3ms preprocess, 95.2ms inference, 1.2ms postprocess per image at shape (1, 3, 384, 640)\n",
      "\n",
      "image 1/1 /home/ubuntu/zoucheng/yolo/yolov5/../../yolo/data_jsai/vval/images/24086-out_ori.jpg: 384x640 1 longitudinalCrack, 1 repairCracks, 94.4ms\n",
      "Speed: 1.2ms preprocess, 94.4ms inference, 1.2ms postprocess per image at shape (1, 3, 384, 640)\n",
      "\n",
      "image 1/1 /home/ubuntu/zoucheng/yolo/yolov5/../../yolo/data_jsai/vval/images/20013-out_ori.jpg: 384x640 2 longitudinalCracks, 94.7ms\n",
      "Speed: 1.3ms preprocess, 94.7ms inference, 1.2ms postprocess per image at shape (1, 3, 384, 640)\n",
      "\n",
      "image 1/1 /home/ubuntu/zoucheng/yolo/yolov5/../../yolo/data_jsai/vval/images/23714-out_ori.jpg: 384x640 1 blockyCrack, 91.6ms\n",
      "Speed: 1.2ms preprocess, 91.6ms inference, 1.2ms postprocess per image at shape (1, 3, 384, 640)\n",
      "\n",
      "image 1/1 /home/ubuntu/zoucheng/yolo/yolov5/../../yolo/data_jsai/vval/images/23324-out_ori.jpg: 384x640 1 longitudinalCrack, 91.7ms\n",
      "Speed: 1.3ms preprocess, 91.7ms inference, 1.1ms postprocess per image at shape (1, 3, 384, 640)\n",
      "\n",
      "image 1/1 /home/ubuntu/zoucheng/yolo/yolov5/../../yolo/data_jsai/vval/images/24606-out_ori.jpg: 384x640 1 longitudinalCrack, 1 repairCracks, 92.1ms\n",
      "Speed: 1.2ms preprocess, 92.1ms inference, 1.2ms postprocess per image at shape (1, 3, 384, 640)\n",
      "\n",
      "image 1/1 /home/ubuntu/zoucheng/yolo/yolov5/../../yolo/data_jsai/vval/images/22586-out_ori.jpg: 384x640 1 longitudinalCrack, 2 repairCrackss, 90.4ms\n",
      "Speed: 1.2ms preprocess, 90.4ms inference, 1.2ms postprocess per image at shape (1, 3, 384, 640)\n",
      "\n",
      "image 1/1 /home/ubuntu/zoucheng/yolo/yolov5/../../yolo/data_jsai/vval/images/23307-out_ori.jpg: 384x640 2 longitudinalCracks, 92.3ms\n",
      "Speed: 1.2ms preprocess, 92.3ms inference, 1.2ms postprocess per image at shape (1, 3, 384, 640)\n",
      "\n",
      "image 1/1 /home/ubuntu/zoucheng/yolo/yolov5/../../yolo/data_jsai/vval/images/23210-out_ori.jpg: 384x640 1 longitudinalCrack, 96.8ms\n",
      "Speed: 1.2ms preprocess, 96.8ms inference, 1.2ms postprocess per image at shape (1, 3, 384, 640)\n",
      "\n",
      "image 1/1 /home/ubuntu/zoucheng/yolo/yolov5/../../yolo/data_jsai/vval/images/22647-out_ori.jpg: 384x640 2 longitudinalCracks, 97.7ms\n",
      "Speed: 1.3ms preprocess, 97.7ms inference, 1.2ms postprocess per image at shape (1, 3, 384, 640)\n",
      "\n",
      "image 1/1 /home/ubuntu/zoucheng/yolo/yolov5/../../yolo/data_jsai/vval/images/23141-out_ori.jpg: 384x640 1 longitudinalCrack, 95.0ms\n",
      "Speed: 1.2ms preprocess, 95.0ms inference, 1.2ms postprocess per image at shape (1, 3, 384, 640)\n",
      "\n",
      "image 1/1 /home/ubuntu/zoucheng/yolo/yolov5/../../yolo/data_jsai/vval/images/20138-out_ori.jpg: 384x640 1 longitudinalCrack, 1 repairCracks, 93.6ms\n",
      "Speed: 1.4ms preprocess, 93.6ms inference, 1.3ms postprocess per image at shape (1, 3, 384, 640)\n",
      "\n",
      "image 1/1 /home/ubuntu/zoucheng/yolo/yolov5/../../yolo/data_jsai/vval/images/23599-out_ori.jpg: 384x640 (no detections), 93.0ms\n",
      "Speed: 1.2ms preprocess, 93.0ms inference, 0.6ms postprocess per image at shape (1, 3, 384, 640)\n",
      "\n",
      "image 1/1 /home/ubuntu/zoucheng/yolo/yolov5/../../yolo/data_jsai/vval/images/22890-out_ori.jpg: 384x640 3 longitudinalCracks, 2 crackings, 1 repairCracks, 90.6ms\n",
      "Speed: 1.3ms preprocess, 90.6ms inference, 1.2ms postprocess per image at shape (1, 3, 384, 640)\n",
      "\n",
      "image 1/1 /home/ubuntu/zoucheng/yolo/yolov5/../../yolo/data_jsai/vval/images/19827-out_ori.jpg: 384x640 1 longitudinalCrack, 91.6ms\n",
      "Speed: 3.4ms preprocess, 91.6ms inference, 2.0ms postprocess per image at shape (1, 3, 384, 640)\n",
      "\n",
      "image 1/1 /home/ubuntu/zoucheng/yolo/yolov5/../../yolo/data_jsai/vval/images/23865-out_ori.jpg: 384x640 1 transverseCrack, 1 longitudinalCrack, 92.0ms\n",
      "Speed: 1.5ms preprocess, 92.0ms inference, 1.6ms postprocess per image at shape (1, 3, 384, 640)\n",
      "\n",
      "image 1/1 /home/ubuntu/zoucheng/yolo/yolov5/../../yolo/data_jsai/vval/images/24592-out_ori.jpg: 384x640 1 longitudinalCrack, 1 repairCracks, 90.5ms\n",
      "Speed: 1.5ms preprocess, 90.5ms inference, 1.5ms postprocess per image at shape (1, 3, 384, 640)\n",
      "\n",
      "image 1/1 /home/ubuntu/zoucheng/yolo/yolov5/../../yolo/data_jsai/vval/images/24171-out_ori.jpg: 384x640 1 longitudinalCrack, 90.8ms\n",
      "Speed: 1.5ms preprocess, 90.8ms inference, 1.6ms postprocess per image at shape (1, 3, 384, 640)\n",
      "\n",
      "image 1/1 /home/ubuntu/zoucheng/yolo/yolov5/../../yolo/data_jsai/vval/images/126-out_ori.jpg: 384x640 1 longitudinalCrack, 91.7ms\n",
      "Speed: 2.2ms preprocess, 91.7ms inference, 1.6ms postprocess per image at shape (1, 3, 384, 640)\n",
      "\n",
      "image 1/1 /home/ubuntu/zoucheng/yolo/yolov5/../../yolo/data_jsai/vval/images/23857-out_ori.jpg: 384x640 4 longitudinalCracks, 90.6ms\n",
      "Speed: 1.6ms preprocess, 90.6ms inference, 1.5ms postprocess per image at shape (1, 3, 384, 640)\n",
      "\n",
      "image 1/1 /home/ubuntu/zoucheng/yolo/yolov5/../../yolo/data_jsai/vval/images/22868-out_ori.jpg: 384x640 1 longitudinalCrack, 1 repairCracks, 93.9ms\n",
      "Speed: 3.1ms preprocess, 93.9ms inference, 1.5ms postprocess per image at shape (1, 3, 384, 640)\n",
      "\n",
      "image 1/1 /home/ubuntu/zoucheng/yolo/yolov5/../../yolo/data_jsai/vval/images/22661-out_ori.jpg: 384x640 1 longitudinalCrack, 1 repairCracks, 92.9ms\n",
      "Speed: 2.5ms preprocess, 92.9ms inference, 1.9ms postprocess per image at shape (1, 3, 384, 640)\n",
      "\n",
      "image 1/1 /home/ubuntu/zoucheng/yolo/yolov5/../../yolo/data_jsai/vval/images/24343-out_ori.jpg: 384x640 1 longitudinalCrack, 1 repairCracks, 90.0ms\n",
      "Speed: 1.5ms preprocess, 90.0ms inference, 1.4ms postprocess per image at shape (1, 3, 384, 640)\n",
      "\n",
      "image 1/1 /home/ubuntu/zoucheng/yolo/yolov5/../../yolo/data_jsai/vval/images/24102-out_ori.jpg: 384x640 1 longitudinalCrack, 1 repairCracks, 89.8ms\n",
      "Speed: 1.5ms preprocess, 89.8ms inference, 1.4ms postprocess per image at shape (1, 3, 384, 640)\n",
      "\n",
      "image 1/1 /home/ubuntu/zoucheng/yolo/yolov5/../../yolo/data_jsai/vval/images/24134-out_ori.jpg: 384x640 1 longitudinalCrack, 1 repairCracks, 90.3ms\n",
      "Speed: 2.4ms preprocess, 90.3ms inference, 1.5ms postprocess per image at shape (1, 3, 384, 640)\n",
      "\n",
      "image 1/1 /home/ubuntu/zoucheng/yolo/yolov5/../../yolo/data_jsai/vval/images/23646-out_ori.jpg: 384x640 2 longitudinalCracks, 92.0ms\n",
      "Speed: 1.5ms preprocess, 92.0ms inference, 1.4ms postprocess per image at shape (1, 3, 384, 640)\n",
      "\n",
      "image 1/1 /home/ubuntu/zoucheng/yolo/yolov5/../../yolo/data_jsai/vval/images/24324-out_ori.jpg: 384x640 1 longitudinalCrack, 93.8ms\n"
     ]
    },
    {
     "name": "stderr",
     "output_type": "stream",
     "text": [
      "Speed: 1.5ms preprocess, 93.8ms inference, 1.4ms postprocess per image at shape (1, 3, 384, 640)\n",
      "\n",
      "image 1/1 /home/ubuntu/zoucheng/yolo/yolov5/../../yolo/data_jsai/vval/images/20540-out_ori.jpg: 384x640 2 crackings, 92.4ms\n",
      "Speed: 1.5ms preprocess, 92.4ms inference, 1.4ms postprocess per image at shape (1, 3, 384, 640)\n",
      "\n",
      "image 1/1 /home/ubuntu/zoucheng/yolo/yolov5/../../yolo/data_jsai/vval/images/33-out_ori.jpg: 384x640 2 crackings, 1 repairCracks, 91.9ms\n",
      "Speed: 2.2ms preprocess, 91.9ms inference, 1.4ms postprocess per image at shape (1, 3, 384, 640)\n",
      "\n",
      "image 1/1 /home/ubuntu/zoucheng/yolo/yolov5/../../yolo/data_jsai/vval/images/22612-out_ori.jpg: 384x640 1 transverseCrack, 1 longitudinalCrack, 1 repairCracks, 90.4ms\n",
      "Speed: 1.5ms preprocess, 90.4ms inference, 1.5ms postprocess per image at shape (1, 3, 384, 640)\n",
      "\n",
      "image 1/1 /home/ubuntu/zoucheng/yolo/yolov5/../../yolo/data_jsai/vval/images/23454-out_ori.jpg: 384x640 2 repairCrackss, 94.4ms\n",
      "Speed: 1.5ms preprocess, 94.4ms inference, 1.5ms postprocess per image at shape (1, 3, 384, 640)\n",
      "\n",
      "image 1/1 /home/ubuntu/zoucheng/yolo/yolov5/../../yolo/data_jsai/vval/images/23482-out_ori.jpg: 384x640 (no detections), 94.8ms\n",
      "Speed: 1.5ms preprocess, 94.8ms inference, 0.7ms postprocess per image at shape (1, 3, 384, 640)\n",
      "\n",
      "image 1/1 /home/ubuntu/zoucheng/yolo/yolov5/../../yolo/data_jsai/vval/images/22806-out_ori.jpg: 384x640 1 longitudinalCrack, 93.7ms\n",
      "Speed: 1.3ms preprocess, 93.7ms inference, 1.2ms postprocess per image at shape (1, 3, 384, 640)\n",
      "\n",
      "image 1/1 /home/ubuntu/zoucheng/yolo/yolov5/../../yolo/data_jsai/vval/images/24109-out_ori.jpg: 384x640 1 longitudinalCrack, 93.4ms\n",
      "Speed: 1.3ms preprocess, 93.4ms inference, 1.1ms postprocess per image at shape (1, 3, 384, 640)\n",
      "\n",
      "image 1/1 /home/ubuntu/zoucheng/yolo/yolov5/../../yolo/data_jsai/vval/images/24563-out_ori.jpg: 384x640 1 longitudinalCrack, 2 repairCrackss, 93.4ms\n",
      "Speed: 1.3ms preprocess, 93.4ms inference, 1.2ms postprocess per image at shape (1, 3, 384, 640)\n",
      "\n",
      "image 1/1 /home/ubuntu/zoucheng/yolo/yolov5/../../yolo/data_jsai/vval/images/24539-out_ori.jpg: 384x640 1 longitudinalCrack, 91.5ms\n",
      "Speed: 1.3ms preprocess, 91.5ms inference, 1.2ms postprocess per image at shape (1, 3, 384, 640)\n",
      "\n",
      "image 1/1 /home/ubuntu/zoucheng/yolo/yolov5/../../yolo/data_jsai/vval/images/22938-out_ori.jpg: 384x640 5 repairCrackss, 89.4ms\n",
      "Speed: 1.3ms preprocess, 89.4ms inference, 1.2ms postprocess per image at shape (1, 3, 384, 640)\n",
      "\n",
      "image 1/1 /home/ubuntu/zoucheng/yolo/yolov5/../../yolo/data_jsai/vval/images/24412-out_ori.jpg: 384x640 2 repairCrackss, 92.1ms\n",
      "Speed: 1.4ms preprocess, 92.1ms inference, 1.2ms postprocess per image at shape (1, 3, 384, 640)\n",
      "\n",
      "image 1/1 /home/ubuntu/zoucheng/yolo/yolov5/../../yolo/data_jsai/vval/images/23819-out_ori.jpg: 384x640 1 longitudinalCrack, 1 repairCracks, 94.8ms\n",
      "Speed: 1.3ms preprocess, 94.8ms inference, 1.2ms postprocess per image at shape (1, 3, 384, 640)\n",
      "\n",
      "image 1/1 /home/ubuntu/zoucheng/yolo/yolov5/../../yolo/data_jsai/vval/images/23586-out_ori.jpg: 384x640 1 repairCracks, 96.8ms\n",
      "Speed: 1.3ms preprocess, 96.8ms inference, 1.2ms postprocess per image at shape (1, 3, 384, 640)\n",
      "\n",
      "image 1/1 /home/ubuntu/zoucheng/yolo/yolov5/../../yolo/data_jsai/vval/images/23832-out_ori.jpg: 384x640 2 longitudinalCracks, 96.2ms\n",
      "Speed: 1.3ms preprocess, 96.2ms inference, 1.2ms postprocess per image at shape (1, 3, 384, 640)\n",
      "\n",
      "image 1/1 /home/ubuntu/zoucheng/yolo/yolov5/../../yolo/data_jsai/vval/images/23879-out_ori.jpg: 384x640 2 longitudinalCracks, 2 repairCrackss, 93.9ms\n",
      "Speed: 1.3ms preprocess, 93.9ms inference, 1.2ms postprocess per image at shape (1, 3, 384, 640)\n",
      "\n",
      "image 1/1 /home/ubuntu/zoucheng/yolo/yolov5/../../yolo/data_jsai/vval/images/23885-out_ori.jpg: 384x640 1 repairMeshCracks, 1 repairCracks, 92.5ms\n",
      "Speed: 1.3ms preprocess, 92.5ms inference, 1.2ms postprocess per image at shape (1, 3, 384, 640)\n",
      "\n",
      "image 1/1 /home/ubuntu/zoucheng/yolo/yolov5/../../yolo/data_jsai/vval/images/24041-out_ori.jpg: 384x640 2 longitudinalCracks, 92.0ms\n",
      "Speed: 1.2ms preprocess, 92.0ms inference, 1.2ms postprocess per image at shape (1, 3, 384, 640)\n",
      "\n",
      "image 1/1 /home/ubuntu/zoucheng/yolo/yolov5/../../yolo/data_jsai/vval/images/20398-out_ori.jpg: 384x640 2 longitudinalCracks, 91.1ms\n",
      "Speed: 1.2ms preprocess, 91.1ms inference, 1.2ms postprocess per image at shape (1, 3, 384, 640)\n",
      "\n",
      "image 1/1 /home/ubuntu/zoucheng/yolo/yolov5/../../yolo/data_jsai/vval/images/20560-out_ori.jpg: 384x640 1 longitudinalCrack, 1 repairCracks, 92.4ms\n",
      "Speed: 1.3ms preprocess, 92.4ms inference, 1.2ms postprocess per image at shape (1, 3, 384, 640)\n",
      "\n",
      "image 1/1 /home/ubuntu/zoucheng/yolo/yolov5/../../yolo/data_jsai/vval/images/24070-out_ori.jpg: 384x640 (no detections), 93.4ms\n",
      "Speed: 1.3ms preprocess, 93.4ms inference, 0.6ms postprocess per image at shape (1, 3, 384, 640)\n",
      "\n",
      "image 1/1 /home/ubuntu/zoucheng/yolo/yolov5/../../yolo/data_jsai/vval/images/23967-out_ori.jpg: 384x640 2 longitudinalCracks, 94.8ms\n",
      "Speed: 1.3ms preprocess, 94.8ms inference, 1.2ms postprocess per image at shape (1, 3, 384, 640)\n",
      "\n",
      "image 1/1 /home/ubuntu/zoucheng/yolo/yolov5/../../yolo/data_jsai/vval/images/50-out_ori.jpg: 384x640 3 repairCrackss, 95.8ms\n",
      "Speed: 1.8ms preprocess, 95.8ms inference, 1.2ms postprocess per image at shape (1, 3, 384, 640)\n",
      "\n",
      "image 1/1 /home/ubuntu/zoucheng/yolo/yolov5/../../yolo/data_jsai/vval/images/23130-out_ori.jpg: 384x640 1 longitudinalCrack, 92.8ms\n",
      "Speed: 1.3ms preprocess, 92.8ms inference, 1.1ms postprocess per image at shape (1, 3, 384, 640)\n",
      "\n",
      "image 1/1 /home/ubuntu/zoucheng/yolo/yolov5/../../yolo/data_jsai/vval/images/22723-out_ori.jpg: 384x640 1 repairCracks, 91.3ms\n",
      "Speed: 1.3ms preprocess, 91.3ms inference, 1.2ms postprocess per image at shape (1, 3, 384, 640)\n",
      "\n",
      "image 1/1 /home/ubuntu/zoucheng/yolo/yolov5/../../yolo/data_jsai/vval/images/22847-out_ori.jpg: 384x640 1 longitudinalCrack, 1 repairCracks, 90.5ms\n",
      "Speed: 2.7ms preprocess, 90.5ms inference, 2.0ms postprocess per image at shape (1, 3, 384, 640)\n",
      "\n",
      "image 1/1 /home/ubuntu/zoucheng/yolo/yolov5/../../yolo/data_jsai/vval/images/24430-out_ori.jpg: 384x640 1 longitudinalCrack, 1 repairCracks, 92.6ms\n",
      "Speed: 1.3ms preprocess, 92.6ms inference, 1.3ms postprocess per image at shape (1, 3, 384, 640)\n",
      "\n",
      "image 1/1 /home/ubuntu/zoucheng/yolo/yolov5/../../yolo/data_jsai/vval/images/22875-out_ori.jpg: 384x640 1 longitudinalCrack, 1 repairCracks, 95.9ms\n",
      "Speed: 1.2ms preprocess, 95.9ms inference, 1.2ms postprocess per image at shape (1, 3, 384, 640)\n",
      "\n",
      "image 1/1 /home/ubuntu/zoucheng/yolo/yolov5/../../yolo/data_jsai/vval/images/20557-out_ori.jpg: 384x640 2 longitudinalCracks, 2 repairCrackss, 95.1ms\n",
      "Speed: 1.3ms preprocess, 95.1ms inference, 1.5ms postprocess per image at shape (1, 3, 384, 640)\n",
      "\n",
      "image 1/1 /home/ubuntu/zoucheng/yolo/yolov5/../../yolo/data_jsai/vval/images/23981-out_ori.jpg: 384x640 3 longitudinalCracks, 94.9ms\n",
      "Speed: 1.4ms preprocess, 94.9ms inference, 1.3ms postprocess per image at shape (1, 3, 384, 640)\n",
      "\n",
      "image 1/1 /home/ubuntu/zoucheng/yolo/yolov5/../../yolo/data_jsai/vval/images/23380-out_ori.jpg: 384x640 1 transverseCrack, 92.9ms\n",
      "Speed: 1.3ms preprocess, 92.9ms inference, 1.2ms postprocess per image at shape (1, 3, 384, 640)\n",
      "\n",
      "image 1/1 /home/ubuntu/zoucheng/yolo/yolov5/../../yolo/data_jsai/vval/images/20248-out_ori.jpg: 384x640 2 longitudinalCracks, 91.5ms\n",
      "Speed: 1.3ms preprocess, 91.5ms inference, 1.3ms postprocess per image at shape (1, 3, 384, 640)\n",
      "\n",
      "image 1/1 /home/ubuntu/zoucheng/yolo/yolov5/../../yolo/data_jsai/vval/images/22896-out_ori.jpg: 384x640 1 longitudinalCrack, 1 repairCracks, 91.5ms\n",
      "Speed: 1.2ms preprocess, 91.5ms inference, 1.3ms postprocess per image at shape (1, 3, 384, 640)\n",
      "\n",
      "image 1/1 /home/ubuntu/zoucheng/yolo/yolov5/../../yolo/data_jsai/vval/images/22701-out_ori.jpg: 384x640 2 longitudinalCracks, 2 repairCrackss, 94.8ms\n",
      "Speed: 1.2ms preprocess, 94.8ms inference, 1.2ms postprocess per image at shape (1, 3, 384, 640)\n",
      "\n",
      "image 1/1 /home/ubuntu/zoucheng/yolo/yolov5/../../yolo/data_jsai/vval/images/22724-out_ori.jpg: 384x640 1 longitudinalCrack, 1 cracking, 96.8ms\n",
      "Speed: 1.3ms preprocess, 96.8ms inference, 1.2ms postprocess per image at shape (1, 3, 384, 640)\n",
      "\n",
      "image 1/1 /home/ubuntu/zoucheng/yolo/yolov5/../../yolo/data_jsai/vval/images/23782-out_ori.jpg: 384x640 1 longitudinalCrack, 96.9ms\n"
     ]
    },
    {
     "name": "stderr",
     "output_type": "stream",
     "text": [
      "Speed: 1.2ms preprocess, 96.9ms inference, 1.3ms postprocess per image at shape (1, 3, 384, 640)\n",
      "\n",
      "image 1/1 /home/ubuntu/zoucheng/yolo/yolov5/../../yolo/data_jsai/vval/images/23988-out_ori.jpg: 384x640 1 longitudinalCrack, 96.2ms\n",
      "Speed: 1.3ms preprocess, 96.2ms inference, 1.4ms postprocess per image at shape (1, 3, 384, 640)\n",
      "\n",
      "image 1/1 /home/ubuntu/zoucheng/yolo/yolov5/../../yolo/data_jsai/vval/images/22842-out_ori.jpg: 384x640 1 longitudinalCrack, 1 repairCracks, 94.4ms\n",
      "Speed: 1.3ms preprocess, 94.4ms inference, 1.2ms postprocess per image at shape (1, 3, 384, 640)\n",
      "\n",
      "image 1/1 /home/ubuntu/zoucheng/yolo/yolov5/../../yolo/data_jsai/vval/images/20436-out_ori.jpg: 384x640 1 blockyCrack, 91.6ms\n",
      "Speed: 1.4ms preprocess, 91.6ms inference, 1.2ms postprocess per image at shape (1, 3, 384, 640)\n",
      "\n",
      "image 1/1 /home/ubuntu/zoucheng/yolo/yolov5/../../yolo/data_jsai/vval/images/20492-out_ori.jpg: 384x640 2 longitudinalCracks, 90.7ms\n",
      "Speed: 1.5ms preprocess, 90.7ms inference, 1.3ms postprocess per image at shape (1, 3, 384, 640)\n",
      "\n",
      "image 1/1 /home/ubuntu/zoucheng/yolo/yolov5/../../yolo/data_jsai/vval/images/22952-out_ori.jpg: 384x640 2 repairCrackss, 92.8ms\n",
      "Speed: 1.3ms preprocess, 92.8ms inference, 1.4ms postprocess per image at shape (1, 3, 384, 640)\n",
      "\n",
      "image 1/1 /home/ubuntu/zoucheng/yolo/yolov5/../../yolo/data_jsai/vval/images/23676-out_ori.jpg: 384x640 1 longitudinalCrack, 95.5ms\n",
      "Speed: 1.3ms preprocess, 95.5ms inference, 1.5ms postprocess per image at shape (1, 3, 384, 640)\n",
      "\n",
      "image 1/1 /home/ubuntu/zoucheng/yolo/yolov5/../../yolo/data_jsai/vval/images/23116-out_ori.jpg: 384x640 2 longitudinalCracks, 96.2ms\n",
      "Speed: 2.3ms preprocess, 96.2ms inference, 1.5ms postprocess per image at shape (1, 3, 384, 640)\n",
      "\n",
      "image 1/1 /home/ubuntu/zoucheng/yolo/yolov5/../../yolo/data_jsai/vval/images/23843-out_ori.jpg: 384x640 (no detections), 94.1ms\n",
      "Speed: 1.5ms preprocess, 94.1ms inference, 0.8ms postprocess per image at shape (1, 3, 384, 640)\n",
      "\n",
      "image 1/1 /home/ubuntu/zoucheng/yolo/yolov5/../../yolo/data_jsai/vval/images/22883-out_ori.jpg: 384x640 1 longitudinalCrack, 89.8ms\n",
      "Speed: 1.5ms preprocess, 89.8ms inference, 1.4ms postprocess per image at shape (1, 3, 384, 640)\n",
      "\n",
      "image 1/1 /home/ubuntu/zoucheng/yolo/yolov5/../../yolo/data_jsai/vval/images/23334-out_ori.jpg: 384x640 1 longitudinalCrack, 90.1ms\n",
      "Speed: 1.5ms preprocess, 90.1ms inference, 1.5ms postprocess per image at shape (1, 3, 384, 640)\n",
      "\n",
      "image 1/1 /home/ubuntu/zoucheng/yolo/yolov5/../../yolo/data_jsai/vval/images/22844-out_ori.jpg: 384x640 2 longitudinalCracks, 1 repairCracks, 93.7ms\n",
      "Speed: 1.5ms preprocess, 93.7ms inference, 1.5ms postprocess per image at shape (1, 3, 384, 640)\n",
      "\n",
      "image 1/1 /home/ubuntu/zoucheng/yolo/yolov5/../../yolo/data_jsai/vval/images/22670-out_ori.jpg: 384x640 3 repairCrackss, 95.1ms\n",
      "Speed: 1.5ms preprocess, 95.1ms inference, 1.4ms postprocess per image at shape (1, 3, 384, 640)\n",
      "\n",
      "image 1/1 /home/ubuntu/zoucheng/yolo/yolov5/../../yolo/data_jsai/vval/images/101-out_ori.jpg: 384x640 1 transverseCrack, 1 repairMeshCracks, 95.9ms\n",
      "Speed: 2.2ms preprocess, 95.9ms inference, 1.3ms postprocess per image at shape (1, 3, 384, 640)\n",
      "\n",
      "image 1/1 /home/ubuntu/zoucheng/yolo/yolov5/../../yolo/data_jsai/vval/images/22970-out_ori.jpg: 384x640 1 repairMeshCracks, 3 repairCrackss, 91.3ms\n",
      "Speed: 1.2ms preprocess, 91.3ms inference, 1.2ms postprocess per image at shape (1, 3, 384, 640)\n",
      "\n",
      "image 1/1 /home/ubuntu/zoucheng/yolo/yolov5/../../yolo/data_jsai/vval/images/24416-out_ori.jpg: 384x640 1 longitudinalCrack, 1 repairCracks, 90.1ms\n",
      "Speed: 1.3ms preprocess, 90.1ms inference, 1.3ms postprocess per image at shape (1, 3, 384, 640)\n",
      "\n",
      "image 1/1 /home/ubuntu/zoucheng/yolo/yolov5/../../yolo/data_jsai/vval/images/19917-out_ori.jpg: 384x640 3 longitudinalCracks, 91.3ms\n",
      "Speed: 1.3ms preprocess, 91.3ms inference, 1.1ms postprocess per image at shape (1, 3, 384, 640)\n",
      "\n",
      "image 1/1 /home/ubuntu/zoucheng/yolo/yolov5/../../yolo/data_jsai/vval/images/24403-out_ori.jpg: 384x640 1 longitudinalCrack, 1 repairCracks, 95.6ms\n",
      "Speed: 1.3ms preprocess, 95.6ms inference, 1.3ms postprocess per image at shape (1, 3, 384, 640)\n",
      "\n",
      "image 1/1 /home/ubuntu/zoucheng/yolo/yolov5/../../yolo/data_jsai/vval/images/22954-out_ori.jpg: 384x640 7 repairCrackss, 94.4ms\n",
      "Speed: 1.2ms preprocess, 94.4ms inference, 1.2ms postprocess per image at shape (1, 3, 384, 640)\n",
      "\n",
      "image 1/1 /home/ubuntu/zoucheng/yolo/yolov5/../../yolo/data_jsai/vval/images/22848-out_ori.jpg: 384x640 3 repairCrackss, 94.8ms\n",
      "Speed: 1.3ms preprocess, 94.8ms inference, 1.4ms postprocess per image at shape (1, 3, 384, 640)\n",
      "\n",
      "image 1/1 /home/ubuntu/zoucheng/yolo/yolov5/../../yolo/data_jsai/vval/images/23983-out_ori.jpg: 384x640 3 longitudinalCracks, 95.5ms\n",
      "Speed: 1.4ms preprocess, 95.5ms inference, 1.2ms postprocess per image at shape (1, 3, 384, 640)\n",
      "\n",
      "image 1/1 /home/ubuntu/zoucheng/yolo/yolov5/../../yolo/data_jsai/vval/images/23568-out_ori.jpg: 384x640 1 longitudinalCrack, 1 repairCracks, 93.8ms\n",
      "Speed: 1.3ms preprocess, 93.8ms inference, 1.2ms postprocess per image at shape (1, 3, 384, 640)\n",
      "\n",
      "image 1/1 /home/ubuntu/zoucheng/yolo/yolov5/../../yolo/data_jsai/vval/images/23007-out_ori.jpg: 384x640 1 longitudinalCrack, 91.7ms\n",
      "Speed: 1.3ms preprocess, 91.7ms inference, 1.2ms postprocess per image at shape (1, 3, 384, 640)\n",
      "\n",
      "image 1/1 /home/ubuntu/zoucheng/yolo/yolov5/../../yolo/data_jsai/vval/images/122-out_ori.jpg: 384x640 3 repairCrackss, 91.2ms\n",
      "Speed: 1.7ms preprocess, 91.2ms inference, 1.3ms postprocess per image at shape (1, 3, 384, 640)\n",
      "\n",
      "image 1/1 /home/ubuntu/zoucheng/yolo/yolov5/../../yolo/data_jsai/vval/images/23342-out_ori.jpg: 384x640 1 longitudinalCrack, 2 repairCrackss, 92.7ms\n",
      "Speed: 1.4ms preprocess, 92.7ms inference, 1.2ms postprocess per image at shape (1, 3, 384, 640)\n",
      "\n",
      "image 1/1 /home/ubuntu/zoucheng/yolo/yolov5/../../yolo/data_jsai/vval/images/23976-out_ori.jpg: 384x640 1 blockyCrack, 94.3ms\n",
      "Speed: 1.3ms preprocess, 94.3ms inference, 1.1ms postprocess per image at shape (1, 3, 384, 640)\n",
      "\n",
      "image 1/1 /home/ubuntu/zoucheng/yolo/yolov5/../../yolo/data_jsai/vval/images/24504-out_ori.jpg: 384x640 1 repairCracks, 95.3ms\n",
      "Speed: 1.3ms preprocess, 95.3ms inference, 1.2ms postprocess per image at shape (1, 3, 384, 640)\n",
      "\n",
      "image 1/1 /home/ubuntu/zoucheng/yolo/yolov5/../../yolo/data_jsai/vval/images/23006-out_ori.jpg: 384x640 1 repairCracks, 94.5ms\n",
      "Speed: 1.3ms preprocess, 94.5ms inference, 1.1ms postprocess per image at shape (1, 3, 384, 640)\n",
      "\n",
      "image 1/1 /home/ubuntu/zoucheng/yolo/yolov5/../../yolo/data_jsai/vval/images/20461-out_ori.jpg: 384x640 1 repairMeshCracks, 2 repairCrackss, 93.7ms\n",
      "Speed: 1.3ms preprocess, 93.7ms inference, 1.5ms postprocess per image at shape (1, 3, 384, 640)\n",
      "\n",
      "image 1/1 /home/ubuntu/zoucheng/yolo/yolov5/../../yolo/data_jsai/vval/images/20290-out_ori.jpg: 384x640 2 longitudinalCracks, 91.9ms\n",
      "Speed: 1.5ms preprocess, 91.9ms inference, 1.6ms postprocess per image at shape (1, 3, 384, 640)\n",
      "\n",
      "image 1/1 /home/ubuntu/zoucheng/yolo/yolov5/../../yolo/data_jsai/vval/images/24411-out_ori.jpg: 384x640 1 transverseCrack, 1 repairCracks, 92.4ms\n",
      "Speed: 1.4ms preprocess, 92.4ms inference, 1.6ms postprocess per image at shape (1, 3, 384, 640)\n",
      "\n",
      "image 1/1 /home/ubuntu/zoucheng/yolo/yolov5/../../yolo/data_jsai/vval/images/23137-out_ori.jpg: 384x640 2 longitudinalCracks, 93.8ms\n",
      "Speed: 1.4ms preprocess, 93.8ms inference, 2.8ms postprocess per image at shape (1, 3, 384, 640)\n",
      "\n",
      "image 1/1 /home/ubuntu/zoucheng/yolo/yolov5/../../yolo/data_jsai/vval/images/23135-out_ori.jpg: 384x640 3 longitudinalCracks, 95.5ms\n",
      "Speed: 2.4ms preprocess, 95.5ms inference, 1.7ms postprocess per image at shape (1, 3, 384, 640)\n",
      "\n",
      "image 1/1 /home/ubuntu/zoucheng/yolo/yolov5/../../yolo/data_jsai/vval/images/23390-out_ori.jpg: 384x640 1 transverseCrack, 2 longitudinalCracks, 92.0ms\n",
      "Speed: 1.6ms preprocess, 92.0ms inference, 1.5ms postprocess per image at shape (1, 3, 384, 640)\n",
      "\n",
      "image 1/1 /home/ubuntu/zoucheng/yolo/yolov5/../../yolo/data_jsai/vval/images/23841-out_ori.jpg: 384x640 (no detections), 90.5ms\n",
      "Speed: 2.6ms preprocess, 90.5ms inference, 1.5ms postprocess per image at shape (1, 3, 384, 640)\n",
      "\n",
      "image 1/1 /home/ubuntu/zoucheng/yolo/yolov5/../../yolo/data_jsai/vval/images/23495-out_ori.jpg: 384x640 1 longitudinalCrack, 91.8ms\n",
      "Speed: 2.5ms preprocess, 91.8ms inference, 2.0ms postprocess per image at shape (1, 3, 384, 640)\n"
     ]
    },
    {
     "name": "stderr",
     "output_type": "stream",
     "text": [
      "\n",
      "image 1/1 /home/ubuntu/zoucheng/yolo/yolov5/../../yolo/data_jsai/vval/images/23860-out_ori.jpg: 384x640 2 repairCrackss, 90.2ms\n",
      "Speed: 1.6ms preprocess, 90.2ms inference, 1.7ms postprocess per image at shape (1, 3, 384, 640)\n",
      "\n",
      "image 1/1 /home/ubuntu/zoucheng/yolo/yolov5/../../yolo/data_jsai/vval/images/23086-out_ori.jpg: 384x640 1 longitudinalCrack, 91.8ms\n",
      "Speed: 1.5ms preprocess, 91.8ms inference, 1.7ms postprocess per image at shape (1, 3, 384, 640)\n",
      "\n",
      "image 1/1 /home/ubuntu/zoucheng/yolo/yolov5/../../yolo/data_jsai/vval/images/20295-out_ori.jpg: 384x640 2 longitudinalCracks, 2 repairCrackss, 91.2ms\n",
      "Speed: 1.5ms preprocess, 91.2ms inference, 1.8ms postprocess per image at shape (1, 3, 384, 640)\n",
      "\n",
      "image 1/1 /home/ubuntu/zoucheng/yolo/yolov5/../../yolo/data_jsai/vval/images/22770-out_ori.jpg: 384x640 2 longitudinalCracks, 2 repairCrackss, 90.0ms\n",
      "Speed: 1.5ms preprocess, 90.0ms inference, 1.9ms postprocess per image at shape (1, 3, 384, 640)\n",
      "\n",
      "image 1/1 /home/ubuntu/zoucheng/yolo/yolov5/../../yolo/data_jsai/vval/images/19918-out_ori.jpg: 384x640 1 repairCracks, 92.3ms\n",
      "Speed: 1.6ms preprocess, 92.3ms inference, 1.9ms postprocess per image at shape (1, 3, 384, 640)\n",
      "\n",
      "image 1/1 /home/ubuntu/zoucheng/yolo/yolov5/../../yolo/data_jsai/vval/images/22693-out_ori.jpg: 384x640 2 longitudinalCracks, 2 repairCrackss, 96.3ms\n",
      "Speed: 1.7ms preprocess, 96.3ms inference, 1.9ms postprocess per image at shape (1, 3, 384, 640)\n",
      "\n",
      "image 1/1 /home/ubuntu/zoucheng/yolo/yolov5/../../yolo/data_jsai/vval/images/19752-out_ori.jpg: 384x640 1 longitudinalCrack, 1 repairCracks, 95.2ms\n",
      "Speed: 1.3ms preprocess, 95.2ms inference, 1.5ms postprocess per image at shape (1, 3, 384, 640)\n",
      "\n",
      "image 1/1 /home/ubuntu/zoucheng/yolo/yolov5/../../yolo/data_jsai/vval/images/22766-out_ori.jpg: 384x640 1 longitudinalCrack, 2 repairCrackss, 94.1ms\n",
      "Speed: 1.2ms preprocess, 94.1ms inference, 2.2ms postprocess per image at shape (1, 3, 384, 640)\n",
      "\n",
      "image 1/1 /home/ubuntu/zoucheng/yolo/yolov5/../../yolo/data_jsai/vval/images/23437-out_ori.jpg: 384x640 1 longitudinalCrack, 1 repairCracks, 91.4ms\n",
      "Speed: 2.0ms preprocess, 91.4ms inference, 1.5ms postprocess per image at shape (1, 3, 384, 640)\n",
      "\n",
      "image 1/1 /home/ubuntu/zoucheng/yolo/yolov5/../../yolo/data_jsai/vval/images/23071-out_ori.jpg: 384x640 1 repairCracks, 89.8ms\n",
      "Speed: 1.3ms preprocess, 89.8ms inference, 1.4ms postprocess per image at shape (1, 3, 384, 640)\n",
      "\n",
      "image 1/1 /home/ubuntu/zoucheng/yolo/yolov5/../../yolo/data_jsai/vval/images/23994-out_ori.jpg: 384x640 1 longitudinalCrack, 91.8ms\n",
      "Speed: 1.3ms preprocess, 91.8ms inference, 1.4ms postprocess per image at shape (1, 3, 384, 640)\n",
      "\n",
      "image 1/1 /home/ubuntu/zoucheng/yolo/yolov5/../../yolo/data_jsai/vval/images/22998-out_ori.jpg: 384x640 1 longitudinalCrack, 95.2ms\n",
      "Speed: 1.3ms preprocess, 95.2ms inference, 1.5ms postprocess per image at shape (1, 3, 384, 640)\n",
      "\n",
      "image 1/1 /home/ubuntu/zoucheng/yolo/yolov5/../../yolo/data_jsai/vval/images/23255-out_ori.jpg: 384x640 2 longitudinalCracks, 96.7ms\n",
      "Speed: 1.3ms preprocess, 96.7ms inference, 1.5ms postprocess per image at shape (1, 3, 384, 640)\n",
      "\n",
      "image 1/1 /home/ubuntu/zoucheng/yolo/yolov5/../../yolo/data_jsai/vval/images/23227-out_ori.jpg: 384x640 2 longitudinalCracks, 95.5ms\n",
      "Speed: 3.3ms preprocess, 95.5ms inference, 1.6ms postprocess per image at shape (1, 3, 384, 640)\n",
      "\n",
      "image 1/1 /home/ubuntu/zoucheng/yolo/yolov5/../../yolo/data_jsai/vval/images/24386-out_ori.jpg: 384x640 1 longitudinalCrack, 1 repairCracks, 94.0ms\n",
      "Speed: 1.3ms preprocess, 94.0ms inference, 1.5ms postprocess per image at shape (1, 3, 384, 640)\n",
      "\n",
      "image 1/1 /home/ubuntu/zoucheng/yolo/yolov5/../../yolo/data_jsai/vval/images/19881-out_ori.jpg: 384x640 2 repairCrackss, 94.8ms\n",
      "Speed: 1.3ms preprocess, 94.8ms inference, 1.5ms postprocess per image at shape (1, 3, 384, 640)\n",
      "\n",
      "image 1/1 /home/ubuntu/zoucheng/yolo/yolov5/../../yolo/data_jsai/vval/images/184-out_ori.jpg: 384x640 2 repairCrackss, 91.4ms\n",
      "Speed: 2.0ms preprocess, 91.4ms inference, 1.6ms postprocess per image at shape (1, 3, 384, 640)\n",
      "\n",
      "image 1/1 /home/ubuntu/zoucheng/yolo/yolov5/../../yolo/data_jsai/vval/images/22934-out_ori.jpg: 384x640 2 repairCrackss, 92.3ms\n",
      "Speed: 1.3ms preprocess, 92.3ms inference, 2.0ms postprocess per image at shape (1, 3, 384, 640)\n",
      "\n",
      "image 1/1 /home/ubuntu/zoucheng/yolo/yolov5/../../yolo/data_jsai/vval/images/22936-out_ori.jpg: 384x640 2 repairCrackss, 94.1ms\n",
      "Speed: 2.4ms preprocess, 94.1ms inference, 1.6ms postprocess per image at shape (1, 3, 384, 640)\n",
      "\n",
      "image 1/1 /home/ubuntu/zoucheng/yolo/yolov5/../../yolo/data_jsai/vval/images/23415-out_ori.jpg: 384x640 2 longitudinalCracks, 92.9ms\n",
      "Speed: 1.6ms preprocess, 92.9ms inference, 1.5ms postprocess per image at shape (1, 3, 384, 640)\n",
      "\n",
      "image 1/1 /home/ubuntu/zoucheng/yolo/yolov5/../../yolo/data_jsai/vval/images/23767-out_ori.jpg: 384x640 2 repairCrackss, 90.4ms\n",
      "Speed: 1.5ms preprocess, 90.4ms inference, 1.7ms postprocess per image at shape (1, 3, 384, 640)\n",
      "\n",
      "image 1/1 /home/ubuntu/zoucheng/yolo/yolov5/../../yolo/data_jsai/vval/images/22617-out_ori.jpg: 384x640 3 longitudinalCracks, 1 blockyCrack, 90.4ms\n",
      "Speed: 1.6ms preprocess, 90.4ms inference, 1.4ms postprocess per image at shape (1, 3, 384, 640)\n",
      "\n",
      "image 1/1 /home/ubuntu/zoucheng/yolo/yolov5/../../yolo/data_jsai/vval/images/22745-out_ori.jpg: 384x640 3 longitudinalCracks, 1 repairCracks, 92.1ms\n",
      "Speed: 1.5ms preprocess, 92.1ms inference, 1.4ms postprocess per image at shape (1, 3, 384, 640)\n",
      "\n",
      "image 1/1 /home/ubuntu/zoucheng/yolo/yolov5/../../yolo/data_jsai/vval/images/20083-out_ori.jpg: 384x640 2 repairCrackss, 94.7ms\n",
      "Speed: 1.5ms preprocess, 94.7ms inference, 1.4ms postprocess per image at shape (1, 3, 384, 640)\n",
      "\n",
      "image 1/1 /home/ubuntu/zoucheng/yolo/yolov5/../../yolo/data_jsai/vval/images/23359-out_ori.jpg: 384x640 1 transverseCrack, 4 longitudinalCracks, 1 cracking, 1 repairCracks, 95.7ms\n",
      "Speed: 1.5ms preprocess, 95.7ms inference, 1.4ms postprocess per image at shape (1, 3, 384, 640)\n",
      "\n",
      "image 1/1 /home/ubuntu/zoucheng/yolo/yolov5/../../yolo/data_jsai/vval/images/20501-out_ori.jpg: 384x640 1 longitudinalCrack, 93.7ms\n",
      "Speed: 1.5ms preprocess, 93.7ms inference, 1.2ms postprocess per image at shape (1, 3, 384, 640)\n",
      "\n",
      "image 1/1 /home/ubuntu/zoucheng/yolo/yolov5/../../yolo/data_jsai/vval/images/22957-out_ori.jpg: 384x640 1 repairCracks, 91.9ms\n",
      "Speed: 1.2ms preprocess, 91.9ms inference, 1.2ms postprocess per image at shape (1, 3, 384, 640)\n",
      "\n",
      "image 1/1 /home/ubuntu/zoucheng/yolo/yolov5/../../yolo/data_jsai/vval/images/20122-out_ori.jpg: 384x640 2 longitudinalCracks, 3 repairCrackss, 92.2ms\n",
      "Speed: 1.3ms preprocess, 92.2ms inference, 1.2ms postprocess per image at shape (1, 3, 384, 640)\n",
      "\n",
      "image 1/1 /home/ubuntu/zoucheng/yolo/yolov5/../../yolo/data_jsai/vval/images/23501-out_ori.jpg: 384x640 3 repairCrackss, 91.2ms\n",
      "Speed: 1.3ms preprocess, 91.2ms inference, 1.2ms postprocess per image at shape (1, 3, 384, 640)\n",
      "\n",
      "image 1/1 /home/ubuntu/zoucheng/yolo/yolov5/../../yolo/data_jsai/vval/images/24230-out_ori.jpg: 384x640 1 longitudinalCrack, 1 repairCracks, 91.6ms\n",
      "Speed: 1.2ms preprocess, 91.6ms inference, 1.3ms postprocess per image at shape (1, 3, 384, 640)\n",
      "\n",
      "image 1/1 /home/ubuntu/zoucheng/yolo/yolov5/../../yolo/data_jsai/vval/images/22680-out_ori.jpg: 384x640 1 longitudinalCrack, 2 repairCrackss, 96.5ms\n",
      "Speed: 1.4ms preprocess, 96.5ms inference, 1.4ms postprocess per image at shape (1, 3, 384, 640)\n",
      "\n",
      "image 1/1 /home/ubuntu/zoucheng/yolo/yolov5/../../yolo/data_jsai/vval/images/19832-out_ori.jpg: 384x640 (no detections), 96.0ms\n",
      "Speed: 1.3ms preprocess, 96.0ms inference, 0.6ms postprocess per image at shape (1, 3, 384, 640)\n",
      "\n",
      "image 1/1 /home/ubuntu/zoucheng/yolo/yolov5/../../yolo/data_jsai/vval/images/22698-out_ori.jpg: 384x640 1 longitudinalCrack, 1 repairCracks, 96.2ms\n",
      "Speed: 1.2ms preprocess, 96.2ms inference, 1.2ms postprocess per image at shape (1, 3, 384, 640)\n",
      "\n",
      "image 1/1 /home/ubuntu/zoucheng/yolo/yolov5/../../yolo/data_jsai/vval/images/19934-out_ori.jpg: 384x640 3 longitudinalCracks, 95.1ms\n",
      "Speed: 1.3ms preprocess, 95.1ms inference, 1.3ms postprocess per image at shape (1, 3, 384, 640)\n",
      "\n",
      "image 1/1 /home/ubuntu/zoucheng/yolo/yolov5/../../yolo/data_jsai/vval/images/23301-out_ori.jpg: 384x640 2 longitudinalCracks, 2 repairCrackss, 93.0ms\n",
      "Speed: 1.2ms preprocess, 93.0ms inference, 1.5ms postprocess per image at shape (1, 3, 384, 640)\n"
     ]
    },
    {
     "name": "stderr",
     "output_type": "stream",
     "text": [
      "\n",
      "image 1/1 /home/ubuntu/zoucheng/yolo/yolov5/../../yolo/data_jsai/vval/images/23940-out_ori.jpg: 384x640 1 longitudinalCrack, 2 repairCrackss, 91.5ms\n",
      "Speed: 1.4ms preprocess, 91.5ms inference, 1.2ms postprocess per image at shape (1, 3, 384, 640)\n",
      "\n",
      "image 1/1 /home/ubuntu/zoucheng/yolo/yolov5/../../yolo/data_jsai/vval/images/20489-out_ori.jpg: 384x640 3 longitudinalCracks, 89.9ms\n",
      "Speed: 1.3ms preprocess, 89.9ms inference, 1.3ms postprocess per image at shape (1, 3, 384, 640)\n",
      "\n",
      "image 1/1 /home/ubuntu/zoucheng/yolo/yolov5/../../yolo/data_jsai/vval/images/55-out_ori.jpg: 384x640 1 transverseCrack, 1 longitudinalCrack, 3 repairCrackss, 92.4ms\n",
      "Speed: 1.8ms preprocess, 92.4ms inference, 1.2ms postprocess per image at shape (1, 3, 384, 640)\n",
      "\n",
      "image 1/1 /home/ubuntu/zoucheng/yolo/yolov5/../../yolo/data_jsai/vval/images/23638-out_ori.jpg: 384x640 1 longitudinalCrack, 1 repairCracks, 93.8ms\n",
      "Speed: 1.3ms preprocess, 93.8ms inference, 1.3ms postprocess per image at shape (1, 3, 384, 640)\n",
      "\n",
      "image 1/1 /home/ubuntu/zoucheng/yolo/yolov5/../../yolo/data_jsai/vval/images/23322-out_ori.jpg: 384x640 1 longitudinalCrack, 1 repairCracks, 93.7ms\n",
      "Speed: 1.3ms preprocess, 93.7ms inference, 1.2ms postprocess per image at shape (1, 3, 384, 640)\n",
      "\n",
      "image 1/1 /home/ubuntu/zoucheng/yolo/yolov5/../../yolo/data_jsai/vval/images/24096-out_ori.jpg: 384x640 1 longitudinalCrack, 94.2ms\n",
      "Speed: 1.2ms preprocess, 94.2ms inference, 1.3ms postprocess per image at shape (1, 3, 384, 640)\n",
      "\n",
      "image 1/1 /home/ubuntu/zoucheng/yolo/yolov5/../../yolo/data_jsai/vval/images/23157-out_ori.jpg: 384x640 1 blockyCrack, 93.1ms\n",
      "Speed: 2.5ms preprocess, 93.1ms inference, 2.1ms postprocess per image at shape (1, 3, 384, 640)\n",
      "\n",
      "image 1/1 /home/ubuntu/zoucheng/yolo/yolov5/../../yolo/data_jsai/vval/images/22992-out_ori.jpg: 384x640 1 longitudinalCrack, 2 repairCrackss, 90.0ms\n",
      "Speed: 1.9ms preprocess, 90.0ms inference, 1.8ms postprocess per image at shape (1, 3, 384, 640)\n",
      "\n",
      "image 1/1 /home/ubuntu/zoucheng/yolo/yolov5/../../yolo/data_jsai/vval/images/23368-out_ori.jpg: 384x640 1 repairCracks, 92.8ms\n",
      "Speed: 1.5ms preprocess, 92.8ms inference, 1.7ms postprocess per image at shape (1, 3, 384, 640)\n",
      "\n",
      "image 1/1 /home/ubuntu/zoucheng/yolo/yolov5/../../yolo/data_jsai/vval/images/20213-out_ori.jpg: 384x640 5 longitudinalCracks, 94.1ms\n",
      "Speed: 1.5ms preprocess, 94.1ms inference, 1.9ms postprocess per image at shape (1, 3, 384, 640)\n",
      "\n",
      "image 1/1 /home/ubuntu/zoucheng/yolo/yolov5/../../yolo/data_jsai/vval/images/23084-out_ori.jpg: 384x640 1 longitudinalCrack, 1 repairCracks, 94.5ms\n",
      "Speed: 1.6ms preprocess, 94.5ms inference, 2.0ms postprocess per image at shape (1, 3, 384, 640)\n",
      "\n",
      "image 1/1 /home/ubuntu/zoucheng/yolo/yolov5/../../yolo/data_jsai/vval/images/23349-out_ori.jpg: 384x640 2 longitudinalCracks, 92.4ms\n",
      "Speed: 1.6ms preprocess, 92.4ms inference, 1.8ms postprocess per image at shape (1, 3, 384, 640)\n",
      "\n",
      "image 1/1 /home/ubuntu/zoucheng/yolo/yolov5/../../yolo/data_jsai/vval/images/23434-out_ori.jpg: 384x640 2 repairCrackss, 91.4ms\n",
      "Speed: 1.5ms preprocess, 91.4ms inference, 2.1ms postprocess per image at shape (1, 3, 384, 640)\n",
      "\n",
      "image 1/1 /home/ubuntu/zoucheng/yolo/yolov5/../../yolo/data_jsai/vval/images/22983-out_ori.jpg: 384x640 1 longitudinalCrack, 91.8ms\n",
      "Speed: 1.8ms preprocess, 91.8ms inference, 1.6ms postprocess per image at shape (1, 3, 384, 640)\n",
      "\n",
      "image 1/1 /home/ubuntu/zoucheng/yolo/yolov5/../../yolo/data_jsai/vval/images/23826-out_ori.jpg: 384x640 2 longitudinalCracks, 1 repairCracks, 94.3ms\n",
      "Speed: 1.3ms preprocess, 94.3ms inference, 1.6ms postprocess per image at shape (1, 3, 384, 640)\n",
      "\n",
      "image 1/1 /home/ubuntu/zoucheng/yolo/yolov5/../../yolo/data_jsai/vval/images/24407-out_ori.jpg: 384x640 1 longitudinalCrack, 1 repairCracks, 95.0ms\n",
      "Speed: 1.4ms preprocess, 95.0ms inference, 1.5ms postprocess per image at shape (1, 3, 384, 640)\n",
      "\n",
      "image 1/1 /home/ubuntu/zoucheng/yolo/yolov5/../../yolo/data_jsai/vval/images/23000-out_ori.jpg: 384x640 1 longitudinalCrack, 1 repairCracks, 94.9ms\n",
      "Speed: 1.3ms preprocess, 94.9ms inference, 1.5ms postprocess per image at shape (1, 3, 384, 640)\n",
      "\n",
      "image 1/1 /home/ubuntu/zoucheng/yolo/yolov5/../../yolo/data_jsai/vval/images/23901-out_ori.jpg: 384x640 5 longitudinalCracks, 93.7ms\n",
      "Speed: 1.3ms preprocess, 93.7ms inference, 1.4ms postprocess per image at shape (1, 3, 384, 640)\n",
      "\n",
      "image 1/1 /home/ubuntu/zoucheng/yolo/yolov5/../../yolo/data_jsai/vval/images/19738-out_ori.jpg: 384x640 1 repairMeshCracks, 92.9ms\n",
      "Speed: 1.3ms preprocess, 92.9ms inference, 1.5ms postprocess per image at shape (1, 3, 384, 640)\n",
      "\n",
      "image 1/1 /home/ubuntu/zoucheng/yolo/yolov5/../../yolo/data_jsai/vval/images/22996-out_ori.jpg: 384x640 3 longitudinalCracks, 1 repairCracks, 91.3ms\n",
      "Speed: 1.3ms preprocess, 91.3ms inference, 1.5ms postprocess per image at shape (1, 3, 384, 640)\n",
      "\n",
      "image 1/1 /home/ubuntu/zoucheng/yolo/yolov5/../../yolo/data_jsai/vval/images/23585-out_ori.jpg: 384x640 1 longitudinalCrack, 90.3ms\n",
      "Speed: 1.4ms preprocess, 90.3ms inference, 1.5ms postprocess per image at shape (1, 3, 384, 640)\n",
      "\n",
      "image 1/1 /home/ubuntu/zoucheng/yolo/yolov5/../../yolo/data_jsai/vval/images/22700-out_ori.jpg: 384x640 2 longitudinalCracks, 3 repairCrackss, 92.5ms\n",
      "Speed: 1.2ms preprocess, 92.5ms inference, 1.6ms postprocess per image at shape (1, 3, 384, 640)\n",
      "\n",
      "image 1/1 /home/ubuntu/zoucheng/yolo/yolov5/../../yolo/data_jsai/vval/images/23295-out_ori.jpg: 384x640 1 longitudinalCrack, 94.8ms\n",
      "Speed: 1.3ms preprocess, 94.8ms inference, 1.5ms postprocess per image at shape (1, 3, 384, 640)\n",
      "\n",
      "image 1/1 /home/ubuntu/zoucheng/yolo/yolov5/../../yolo/data_jsai/vval/images/23833-out_ori.jpg: 384x640 2 longitudinalCracks, 1 repairCracks, 95.5ms\n",
      "Speed: 1.3ms preprocess, 95.5ms inference, 1.5ms postprocess per image at shape (1, 3, 384, 640)\n",
      "\n",
      "image 1/1 /home/ubuntu/zoucheng/yolo/yolov5/../../yolo/data_jsai/vval/images/23827-out_ori.jpg: 384x640 1 longitudinalCrack, 94.1ms\n",
      "Speed: 1.3ms preprocess, 94.1ms inference, 1.5ms postprocess per image at shape (1, 3, 384, 640)\n",
      "\n",
      "image 1/1 /home/ubuntu/zoucheng/yolo/yolov5/../../yolo/data_jsai/vval/images/22966-out_ori.jpg: 384x640 1 repairMeshCracks, 5 repairCrackss, 94.1ms\n",
      "Speed: 1.3ms preprocess, 94.1ms inference, 1.6ms postprocess per image at shape (1, 3, 384, 640)\n",
      "\n",
      "image 1/1 /home/ubuntu/zoucheng/yolo/yolov5/../../yolo/data_jsai/vval/images/76-out_ori.jpg: 384x640 1 longitudinalCrack, 1 repairMeshCracks, 5 repairCrackss, 93.6ms\n",
      "Speed: 1.9ms preprocess, 93.6ms inference, 1.5ms postprocess per image at shape (1, 3, 384, 640)\n",
      "\n",
      "image 1/1 /home/ubuntu/zoucheng/yolo/yolov5/../../yolo/data_jsai/vval/images/23652-out_ori.jpg: 384x640 3 longitudinalCracks, 92.3ms\n",
      "Speed: 1.2ms preprocess, 92.3ms inference, 1.8ms postprocess per image at shape (1, 3, 384, 640)\n",
      "\n",
      "image 1/1 /home/ubuntu/zoucheng/yolo/yolov5/../../yolo/data_jsai/vval/images/24418-out_ori.jpg: 384x640 2 longitudinalCracks, 1 repairCracks, 93.8ms\n",
      "Speed: 1.3ms preprocess, 93.8ms inference, 1.5ms postprocess per image at shape (1, 3, 384, 640)\n",
      "\n",
      "image 1/1 /home/ubuntu/zoucheng/yolo/yolov5/../../yolo/data_jsai/vval/images/22619-out_ori.jpg: 384x640 1 blockyCrack, 93.7ms\n",
      "Speed: 1.3ms preprocess, 93.7ms inference, 1.4ms postprocess per image at shape (1, 3, 384, 640)\n",
      "\n",
      "image 1/1 /home/ubuntu/zoucheng/yolo/yolov5/../../yolo/data_jsai/vval/images/24423-out_ori.jpg: 384x640 2 longitudinalCracks, 2 repairCrackss, 93.6ms\n",
      "Speed: 1.3ms preprocess, 93.6ms inference, 1.5ms postprocess per image at shape (1, 3, 384, 640)\n",
      "\n",
      "image 1/1 /home/ubuntu/zoucheng/yolo/yolov5/../../yolo/data_jsai/vval/images/23896-out_ori.jpg: 384x640 3 repairCrackss, 93.6ms\n",
      "Speed: 1.2ms preprocess, 93.6ms inference, 1.5ms postprocess per image at shape (1, 3, 384, 640)\n",
      "\n",
      "image 1/1 /home/ubuntu/zoucheng/yolo/yolov5/../../yolo/data_jsai/vval/images/24525-out_ori.jpg: 384x640 1 longitudinalCrack, 1 repairCracks, 93.3ms\n",
      "Speed: 1.3ms preprocess, 93.3ms inference, 1.5ms postprocess per image at shape (1, 3, 384, 640)\n",
      "\n",
      "image 1/1 /home/ubuntu/zoucheng/yolo/yolov5/../../yolo/data_jsai/vval/images/23985-out_ori.jpg: 384x640 2 longitudinalCracks, 92.3ms\n",
      "Speed: 1.3ms preprocess, 92.3ms inference, 1.5ms postprocess per image at shape (1, 3, 384, 640)\n",
      "\n",
      "image 1/1 /home/ubuntu/zoucheng/yolo/yolov5/../../yolo/data_jsai/vval/images/23237-out_ori.jpg: 384x640 2 longitudinalCracks, 91.2ms\n"
     ]
    },
    {
     "name": "stderr",
     "output_type": "stream",
     "text": [
      "Speed: 1.3ms preprocess, 91.2ms inference, 1.8ms postprocess per image at shape (1, 3, 384, 640)\n",
      "\n",
      "image 1/1 /home/ubuntu/zoucheng/yolo/yolov5/../../yolo/data_jsai/vval/images/24121-out_ori.jpg: 384x640 2 longitudinalCracks, 94.0ms\n",
      "Speed: 1.5ms preprocess, 94.0ms inference, 1.5ms postprocess per image at shape (1, 3, 384, 640)\n",
      "\n",
      "image 1/1 /home/ubuntu/zoucheng/yolo/yolov5/../../yolo/data_jsai/vval/images/23338-out_ori.jpg: 384x640 1 longitudinalCrack, 96.4ms\n",
      "Speed: 1.3ms preprocess, 96.4ms inference, 1.6ms postprocess per image at shape (1, 3, 384, 640)\n",
      "\n",
      "image 1/1 /home/ubuntu/zoucheng/yolo/yolov5/../../yolo/data_jsai/vval/images/22645-out_ori.jpg: 384x640 2 longitudinalCracks, 1 pitGroove, 96.2ms\n",
      "Speed: 1.3ms preprocess, 96.2ms inference, 1.6ms postprocess per image at shape (1, 3, 384, 640)\n",
      "\n",
      "image 1/1 /home/ubuntu/zoucheng/yolo/yolov5/../../yolo/data_jsai/vval/images/19772-out_ori.jpg: 384x640 2 longitudinalCracks, 94.7ms\n",
      "Speed: 1.3ms preprocess, 94.7ms inference, 1.5ms postprocess per image at shape (1, 3, 384, 640)\n",
      "\n",
      "image 1/1 /home/ubuntu/zoucheng/yolo/yolov5/../../yolo/data_jsai/vval/images/24482-out_ori.jpg: 384x640 1 longitudinalCrack, 91.6ms\n",
      "Speed: 1.3ms preprocess, 91.6ms inference, 1.5ms postprocess per image at shape (1, 3, 384, 640)\n",
      "\n",
      "image 1/1 /home/ubuntu/zoucheng/yolo/yolov5/../../yolo/data_jsai/vval/images/24072-out_ori.jpg: 384x640 (no detections), 91.8ms\n",
      "Speed: 1.3ms preprocess, 91.8ms inference, 0.8ms postprocess per image at shape (1, 3, 384, 640)\n",
      "\n",
      "image 1/1 /home/ubuntu/zoucheng/yolo/yolov5/../../yolo/data_jsai/vval/images/23878-out_ori.jpg: 384x640 1 longitudinalCrack, 1 repairCracks, 91.1ms\n",
      "Speed: 1.4ms preprocess, 91.1ms inference, 1.5ms postprocess per image at shape (1, 3, 384, 640)\n",
      "\n",
      "image 1/1 /home/ubuntu/zoucheng/yolo/yolov5/../../yolo/data_jsai/vval/images/22945-out_ori.jpg: 384x640 1 repairCracks, 90.1ms\n",
      "Speed: 1.3ms preprocess, 90.1ms inference, 1.5ms postprocess per image at shape (1, 3, 384, 640)\n",
      "\n",
      "image 1/1 /home/ubuntu/zoucheng/yolo/yolov5/../../yolo/data_jsai/vval/images/23716-out_ori.jpg: 384x640 1 blockyCrack, 93.6ms\n",
      "Speed: 1.4ms preprocess, 93.6ms inference, 1.5ms postprocess per image at shape (1, 3, 384, 640)\n",
      "\n",
      "image 1/1 /home/ubuntu/zoucheng/yolo/yolov5/../../yolo/data_jsai/vval/images/23158-out_ori.jpg: 384x640 2 longitudinalCracks, 1 blockyCrack, 97.0ms\n",
      "Speed: 1.4ms preprocess, 97.0ms inference, 1.5ms postprocess per image at shape (1, 3, 384, 640)\n",
      "\n",
      "image 1/1 /home/ubuntu/zoucheng/yolo/yolov5/../../yolo/data_jsai/vval/images/23526-out_ori.jpg: 384x640 1 longitudinalCrack, 96.7ms\n",
      "Speed: 1.3ms preprocess, 96.7ms inference, 1.5ms postprocess per image at shape (1, 3, 384, 640)\n",
      "\n",
      "image 1/1 /home/ubuntu/zoucheng/yolo/yolov5/../../yolo/data_jsai/vval/images/23215-out_ori.jpg: 384x640 1 longitudinalCrack, 94.8ms\n",
      "Speed: 1.3ms preprocess, 94.8ms inference, 1.4ms postprocess per image at shape (1, 3, 384, 640)\n",
      "\n",
      "image 1/1 /home/ubuntu/zoucheng/yolo/yolov5/../../yolo/data_jsai/vval/images/23721-out_ori.jpg: 384x640 2 longitudinalCracks, 1 blockyCrack, 92.9ms\n",
      "Speed: 1.2ms preprocess, 92.9ms inference, 1.5ms postprocess per image at shape (1, 3, 384, 640)\n",
      "\n",
      "image 1/1 /home/ubuntu/zoucheng/yolo/yolov5/../../yolo/data_jsai/vval/images/20361-out_ori.jpg: 384x640 1 transverseCrack, 1 longitudinalCrack, 1 repairCracks, 91.7ms\n",
      "Speed: 1.3ms preprocess, 91.7ms inference, 1.5ms postprocess per image at shape (1, 3, 384, 640)\n",
      "\n",
      "image 1/1 /home/ubuntu/zoucheng/yolo/yolov5/../../yolo/data_jsai/vval/images/23114-out_ori.jpg: 384x640 1 longitudinalCrack, 91.0ms\n",
      "Speed: 1.4ms preprocess, 91.0ms inference, 1.5ms postprocess per image at shape (1, 3, 384, 640)\n",
      "\n",
      "image 1/1 /home/ubuntu/zoucheng/yolo/yolov5/../../yolo/data_jsai/vval/images/22676-out_ori.jpg: 384x640 5 longitudinalCracks, 90.6ms\n",
      "Speed: 1.3ms preprocess, 90.6ms inference, 1.5ms postprocess per image at shape (1, 3, 384, 640)\n",
      "\n",
      "image 1/1 /home/ubuntu/zoucheng/yolo/yolov5/../../yolo/data_jsai/vval/images/23300-out_ori.jpg: 384x640 2 longitudinalCracks, 2 repairCrackss, 95.1ms\n",
      "Speed: 1.3ms preprocess, 95.1ms inference, 1.5ms postprocess per image at shape (1, 3, 384, 640)\n",
      "\n",
      "image 1/1 /home/ubuntu/zoucheng/yolo/yolov5/../../yolo/data_jsai/vval/images/19977-out_ori.jpg: 384x640 1 longitudinalCrack, 98.5ms\n",
      "Speed: 1.3ms preprocess, 98.5ms inference, 1.5ms postprocess per image at shape (1, 3, 384, 640)\n",
      "\n",
      "image 1/1 /home/ubuntu/zoucheng/yolo/yolov5/../../yolo/data_jsai/vval/images/23950-out_ori.jpg: 384x640 2 repairCrackss, 95.9ms\n",
      "Speed: 1.4ms preprocess, 95.9ms inference, 1.4ms postprocess per image at shape (1, 3, 384, 640)\n",
      "\n",
      "image 1/1 /home/ubuntu/zoucheng/yolo/yolov5/../../yolo/data_jsai/vval/images/23162-out_ori.jpg: 384x640 2 longitudinalCracks, 93.6ms\n",
      "Speed: 1.3ms preprocess, 93.6ms inference, 1.8ms postprocess per image at shape (1, 3, 384, 640)\n",
      "\n",
      "image 1/1 /home/ubuntu/zoucheng/yolo/yolov5/../../yolo/data_jsai/vval/images/19972-out_ori.jpg: 384x640 1 longitudinalCrack, 91.4ms\n",
      "Speed: 2.0ms preprocess, 91.4ms inference, 1.4ms postprocess per image at shape (1, 3, 384, 640)\n",
      "\n",
      "image 1/1 /home/ubuntu/zoucheng/yolo/yolov5/../../yolo/data_jsai/vval/images/23203-out_ori.jpg: 384x640 2 longitudinalCracks, 91.0ms\n",
      "Speed: 1.5ms preprocess, 91.0ms inference, 1.4ms postprocess per image at shape (1, 3, 384, 640)\n",
      "\n",
      "image 1/1 /home/ubuntu/zoucheng/yolo/yolov5/../../yolo/data_jsai/vval/images/23018-out_ori.jpg: 384x640 2 longitudinalCracks, 94.0ms\n",
      "Speed: 1.5ms preprocess, 94.0ms inference, 1.4ms postprocess per image at shape (1, 3, 384, 640)\n"
     ]
    }
   ],
   "source": [
    "predict_images('../../yolo/data_jsai/vval/images', '../../yolo/data_jsai/vval/labels','kfold_demo_l/train22/weights/best.pt')"
   ]
  },
  {
   "cell_type": "code",
   "execution_count": 2,
   "metadata": {},
   "outputs": [
    {
     "name": "stderr",
     "output_type": "stream",
     "text": [
      "Ultralytics YOLOv8.0.186 🚀 Python-3.8.5 torch-1.9.1+cu102 CUDA:1 (Tesla K80, 11441MiB)\n",
      "Model summary (fused): 168 layers, 11128680 parameters, 0 gradients, 28.5 GFLOPs\n",
      "\u001b[34m\u001b[1mval: \u001b[0mScanning /home/ubuntu/zoucheng/yolo/ai_data/test... 400 images, 1 backgrounds, 0 corrupt: 100%|██████████| 400/400 [00:00<00:00, 906.51it/s]\n",
      "\u001b[34m\u001b[1mval: \u001b[0mNew cache created: /home/ubuntu/zoucheng/yolo/ai_data/test.cache\n",
      "                 Class     Images  Instances      Box(P          R      mAP50  mAP50-95): 100%|██████████| 25/25 [00:11<00:00,  2.15it/s]\n",
      "                   all        400        907        0.6      0.298      0.316      0.207\n",
      "       transverseCrack        400         51      0.632      0.135      0.162     0.0986\n",
      "     longitudinalCrack        400        508       0.71      0.528      0.612      0.349\n",
      "           blockyCrack        400         11      0.376      0.545      0.432      0.317\n",
      "              cracking        400         18          1          0          0          0\n",
      "             pitGroove        400         10          0          0     0.0317    0.00633\n",
      "      repairMeshCracks        400         18      0.743      0.643      0.629      0.439\n",
      "          repairCracks        400        286      0.617      0.338      0.398      0.181\n",
      "  repairPitsAndGrooves        400          5      0.724        0.2      0.263      0.263\n",
      "Speed: 0.4ms preprocess, 18.9ms inference, 0.0ms loss, 2.9ms postprocess per image\n",
      "Results saved to \u001b[1mruns/detect/val90\u001b[0m\n"
     ]
    },
    {
     "data": {
      "text/plain": [
       "0.3389130446188448"
      ]
     },
     "execution_count": 2,
     "metadata": {},
     "output_type": "execute_result"
    }
   ],
   "source": [
    "from ultralytics import YOLO\n",
    "model = YOLO(f'runs/detect/train55/weights/best.pt')  # load an official model\n",
    "# model = YOLO('path/to/best.pt')  # load a custom model\n",
    "\n",
    "# Validate the model\n",
    "metrics = model.val(data = 'data/ai_data.yaml',device=1)  # no arguments needed, dataset and settings remembered\n",
    "#     metrics.box.f1\n",
    "metrics.box.f1.mean()"
   ]
  },
  {
   "cell_type": "code",
   "execution_count": 22,
   "metadata": {},
   "outputs": [
    {
     "name": "stderr",
     "output_type": "stream",
     "text": [
      "Ultralytics YOLOv8.0.186 🚀 Python-3.8.5 torch-1.9.1+cu102 CUDA:3 (Tesla K80, 11441MiB)\n",
      "Model summary (fused): 168 layers, 11128680 parameters, 0 gradients, 28.5 GFLOPs\n",
      "\u001b[34m\u001b[1mval: \u001b[0mScanning /home/ubuntu/zoucheng/yolo/ai_data/test.cache... 400 images, 1 backgrounds, 0 corrupt: 100%|██████████| 400/400 [00:00<?, ?it/s]\n",
      "                 Class     Images  Instances      Box(P          R      mAP50  mAP50-95): 100%|██████████| 25/25 [00:10<00:00,  2.45it/s]\n",
      "                   all        400        907      0.914      0.756      0.822      0.591\n",
      "       transverseCrack        400         51      0.925      0.729      0.848       0.56\n",
      "     longitudinalCrack        400        508      0.923       0.87      0.924      0.657\n",
      "           blockyCrack        400         11      0.904      0.909      0.913      0.821\n",
      "              cracking        400         18      0.949      0.833      0.884      0.611\n",
      "             pitGroove        400         10          1       0.52      0.655      0.414\n",
      "      repairMeshCracks        400         18      0.958      0.889       0.92      0.772\n",
      "          repairCracks        400        286      0.839      0.699      0.827       0.52\n",
      "  repairPitsAndGrooves        400          5      0.811        0.6      0.603      0.375\n",
      "Speed: 1.2ms preprocess, 18.7ms inference, 0.0ms loss, 0.8ms postprocess per image\n",
      "Results saved to \u001b[1mruns/detect/val111\u001b[0m\n"
     ]
    },
    {
     "data": {
      "text/plain": [
       "0.8205758027932769"
      ]
     },
     "execution_count": 22,
     "metadata": {},
     "output_type": "execute_result"
    }
   ],
   "source": [
    "from ultralytics import YOLO\n",
    "model = YOLO(f'kfold_demo_ss/train_split4/weights/best.pt')  # load an official model\n",
    "# model = YOLO('path/to/best.pt')  # load a custom model\n",
    "\n",
    "# Validate the model\n",
    "metrics = model.val(data = 'data/ai_data.yaml',device=3)  # no arguments needed, dataset and settings remembered\n",
    "#     metrics.box.f1\n",
    "metrics.box.f1.mean()"
   ]
  },
  {
   "cell_type": "markdown",
   "metadata": {},
   "source": [
    "## 调参 + k"
   ]
  },
  {
   "cell_type": "code",
   "execution_count": 7,
   "metadata": {},
   "outputs": [
    {
     "name": "stderr",
     "output_type": "stream",
     "text": [
      "Ultralytics YOLOv8.0.186 🚀 Python-3.8.5 torch-1.9.1+cu102 CUDA:3 (Tesla K80, 11441MiB)\n",
      "Model summary (fused): 168 layers, 11128680 parameters, 0 gradients, 28.5 GFLOPs\n",
      "\u001b[34m\u001b[1mval: \u001b[0mScanning /home/ubuntu/zoucheng/yolo/data_jsai/val.cache... 303 images, 0 backgrounds, 0 corrupt: 100%|██████████| 303/303 [00:00<?, ?it/s]\n",
      "                 Class     Images  Instances      Box(P          R      mAP50  mAP50-95): 100%|██████████| 19/19 [00:08<00:00,  2.17it/s]\n",
      "                   all        303        663        0.5      0.335      0.359      0.213\n",
      "       transverseCrack        303         25      0.407       0.12      0.178      0.113\n",
      "     longitudinalCrack        303        362      0.567       0.63      0.644      0.383\n",
      "           blockyCrack        303          7      0.342      0.571      0.413       0.34\n",
      "              cracking        303          9      0.515      0.239       0.49      0.221\n",
      "             pitGroove        303         14          1          0          0          0\n",
      "      repairMeshCracks        303         16      0.662      0.812      0.785      0.503\n",
      "          repairCracks        303        223      0.508      0.306      0.362      0.147\n",
      "  repairPitsAndGrooves        303          7          0          0          0          0\n",
      "Speed: 0.4ms preprocess, 18.7ms inference, 0.0ms loss, 1.9ms postprocess per image\n",
      "Results saved to \u001b[1mruns/detect/val142\u001b[0m\n",
      "Ultralytics YOLOv8.0.186 🚀 Python-3.8.5 torch-1.9.1+cu102 CUDA:3 (Tesla K80, 11441MiB)\n"
     ]
    },
    {
     "name": "stdout",
     "output_type": "stream",
     "text": [
      "0\t0.3310121599993756\n"
     ]
    },
    {
     "name": "stderr",
     "output_type": "stream",
     "text": [
      "Model summary (fused): 168 layers, 11128680 parameters, 0 gradients, 28.5 GFLOPs\n",
      "\u001b[34m\u001b[1mval: \u001b[0mScanning /home/ubuntu/zoucheng/yolo/data_jsai/val.cache... 303 images, 0 backgrounds, 0 corrupt: 100%|██████████| 303/303 [00:00<?, ?it/s]\n",
      "                 Class     Images  Instances      Box(P          R      mAP50  mAP50-95): 100%|██████████| 19/19 [00:08<00:00,  2.13it/s]\n",
      "                   all        303        663      0.307      0.286      0.291      0.163\n",
      "       transverseCrack        303         25      0.139       0.12      0.101     0.0702\n",
      "     longitudinalCrack        303        362      0.608      0.577      0.616      0.383\n",
      "           blockyCrack        303          7      0.122      0.429      0.315      0.203\n",
      "              cracking        303          9      0.476      0.111      0.262      0.105\n",
      "             pitGroove        303         14          0          0          0          0\n",
      "      repairMeshCracks        303         16      0.664      0.625       0.65      0.398\n",
      "          repairCracks        303        223      0.446      0.429      0.382      0.146\n",
      "  repairPitsAndGrooves        303          7          0          0          0          0\n",
      "Speed: 0.4ms preprocess, 18.7ms inference, 0.0ms loss, 0.9ms postprocess per image\n",
      "Results saved to \u001b[1mruns/detect/val143\u001b[0m\n",
      "Ultralytics YOLOv8.0.186 🚀 Python-3.8.5 torch-1.9.1+cu102 CUDA:3 (Tesla K80, 11441MiB)\n"
     ]
    },
    {
     "name": "stdout",
     "output_type": "stream",
     "text": [
      "1\t0.27143091289446125\n"
     ]
    },
    {
     "name": "stderr",
     "output_type": "stream",
     "text": [
      "Model summary (fused): 168 layers, 11128680 parameters, 0 gradients, 28.5 GFLOPs\n",
      "\u001b[34m\u001b[1mval: \u001b[0mScanning /home/ubuntu/zoucheng/yolo/data_jsai/val.cache... 303 images, 0 backgrounds, 0 corrupt: 100%|██████████| 303/303 [00:00<?, ?it/s]\n",
      "                 Class     Images  Instances      Box(P          R      mAP50  mAP50-95): 100%|██████████| 19/19 [00:08<00:00,  2.30it/s]\n",
      "                   all        303        663      0.334      0.276      0.299       0.19\n",
      "       transverseCrack        303         25      0.432       0.12      0.166      0.111\n",
      "     longitudinalCrack        303        362      0.658      0.569      0.638      0.398\n",
      "           blockyCrack        303          7      0.419      0.286      0.387      0.294\n",
      "              cracking        303          9      0.103      0.111      0.105     0.0421\n",
      "             pitGroove        303         14          0          0          0          0\n",
      "      repairMeshCracks        303         16      0.562      0.722      0.693      0.511\n",
      "          repairCracks        303        223      0.501      0.399      0.403      0.165\n",
      "  repairPitsAndGrooves        303          7          0          0          0          0\n",
      "Speed: 0.4ms preprocess, 18.3ms inference, 0.0ms loss, 1.5ms postprocess per image\n",
      "Results saved to \u001b[1mruns/detect/val144\u001b[0m\n",
      "Ultralytics YOLOv8.0.186 🚀 Python-3.8.5 torch-1.9.1+cu102 CUDA:3 (Tesla K80, 11441MiB)\n"
     ]
    },
    {
     "name": "stdout",
     "output_type": "stream",
     "text": [
      "2\t0.29010752793868755\n"
     ]
    },
    {
     "name": "stderr",
     "output_type": "stream",
     "text": [
      "Model summary (fused): 168 layers, 11128680 parameters, 0 gradients, 28.5 GFLOPs\n",
      "\u001b[34m\u001b[1mval: \u001b[0mScanning /home/ubuntu/zoucheng/yolo/data_jsai/val.cache... 303 images, 0 backgrounds, 0 corrupt: 100%|██████████| 303/303 [00:00<?, ?it/s]\n",
      "                 Class     Images  Instances      Box(P          R      mAP50  mAP50-95): 100%|██████████| 19/19 [00:08<00:00,  2.17it/s]\n",
      "                   all        303        663      0.442      0.301      0.313      0.176\n",
      "       transverseCrack        303         25      0.144      0.142       0.11     0.0703\n",
      "     longitudinalCrack        303        362      0.611      0.541      0.605      0.378\n",
      "           blockyCrack        303          7      0.418      0.429      0.427      0.305\n",
      "              cracking        303          9      0.185      0.222      0.244      0.104\n",
      "             pitGroove        303         14          0          0          0          0\n",
      "      repairMeshCracks        303         16       0.74      0.688      0.765      0.403\n",
      "          repairCracks        303        223       0.44      0.384      0.354      0.148\n",
      "  repairPitsAndGrooves        303          7          1          0          0          0\n",
      "Speed: 0.4ms preprocess, 18.7ms inference, 0.0ms loss, 0.9ms postprocess per image\n",
      "Results saved to \u001b[1mruns/detect/val145\u001b[0m\n",
      "Ultralytics YOLOv8.0.186 🚀 Python-3.8.5 torch-1.9.1+cu102 CUDA:3 (Tesla K80, 11441MiB)\n"
     ]
    },
    {
     "name": "stdout",
     "output_type": "stream",
     "text": [
      "3\t0.30806736736544604\n"
     ]
    },
    {
     "name": "stderr",
     "output_type": "stream",
     "text": [
      "Model summary (fused): 168 layers, 11128680 parameters, 0 gradients, 28.5 GFLOPs\n",
      "\u001b[34m\u001b[1mval: \u001b[0mScanning /home/ubuntu/zoucheng/yolo/data_jsai/val.cache... 303 images, 0 backgrounds, 0 corrupt: 100%|██████████| 303/303 [00:00<?, ?it/s]\n",
      "                 Class     Images  Instances      Box(P          R      mAP50  mAP50-95): 100%|██████████| 19/19 [00:08<00:00,  2.15it/s]\n",
      "Exception ignored in: <function _MultiProcessingDataLoaderIter.__del__ at 0x7fa8d5800b80>\n",
      "Traceback (most recent call last):\n",
      "  File \"/home/ubuntu/anaconda3/lib/python3.8/site-packages/torch/utils/data/dataloader.py\", line 1328, in __del__\n",
      "    self._shutdown_workers()\n",
      "  File \"/home/ubuntu/anaconda3/lib/python3.8/site-packages/torch/utils/data/dataloader.py\", line 1301, in _shutdown_workers\n",
      "    w.join(timeout=_utils.MP_STATUS_CHECK_INTERVAL)\n",
      "  File \"/home/ubuntu/anaconda3/lib/python3.8/multiprocessing/process.py\", line 149, in join\n",
      "    res = self._popen.wait(timeout)\n",
      "  File \"/home/ubuntu/anaconda3/lib/python3.8/multiprocessing/popen_fork.py\", line 44, in wait\n",
      "    if not wait([self.sentinel], timeout):\n",
      "  File \"/home/ubuntu/anaconda3/lib/python3.8/multiprocessing/connection.py\", line 931, in wait\n",
      "    ready = selector.select(timeout)\n",
      "  File \"/home/ubuntu/anaconda3/lib/python3.8/selectors.py\", line 415, in select\n",
      "    fd_event_list = self._selector.poll(timeout)\n",
      "KeyboardInterrupt: \n",
      "                   all        303        663      0.309      0.346      0.333      0.194\n",
      "       transverseCrack        303         25      0.425       0.08      0.208      0.146\n",
      "     longitudinalCrack        303        362      0.577      0.597      0.629      0.391\n",
      "           blockyCrack        303          7      0.173      0.714      0.452      0.268\n",
      "              cracking        303          9      0.254      0.222      0.279     0.0904\n",
      "             pitGroove        303         14          0          0          0          0\n",
      "      repairMeshCracks        303         16       0.52      0.688      0.643      0.474\n",
      "          repairCracks        303        223      0.519      0.466      0.456      0.181\n",
      "  repairPitsAndGrooves        303          7          0          0          0          0\n",
      "Speed: 0.4ms preprocess, 18.4ms inference, 0.0ms loss, 1.4ms postprocess per image\n",
      "Results saved to \u001b[1mruns/detect/val146\u001b[0m\n"
     ]
    },
    {
     "name": "stdout",
     "output_type": "stream",
     "text": [
      "4\t0.29007340072504606\n"
     ]
    }
   ],
   "source": [
    "from ultralytics import YOLO\n",
    "for i in range(0,5):\n",
    "    model = YOLO(f'kfold_demo_ss_quanbu/train_split{i}/weights/best.pt')  # load an official model\n",
    "    # model = YOLO('path/to/best.pt')  # load a custom model\n",
    "\n",
    "    # Validate the model\n",
    "    metrics = model.val(data = 'data/data.yaml',device=3,iou=0.5,conf=0.2) # no arguments needed, dataset and settings remembered\n",
    "    #     metrics.box.f1\n",
    "    print(i,metrics.box.f1.mean(),sep='\\t')#0.33 1 0.35"
   ]
  },
  {
   "cell_type": "markdown",
   "metadata": {},
   "source": [
    "# tnue"
   ]
  },
  {
   "cell_type": "code",
   "execution_count": 20,
   "metadata": {},
   "outputs": [
    {
     "name": "stderr",
     "output_type": "stream",
     "text": [
      "Ultralytics YOLOv8.0.186 🚀 Python-3.8.5 torch-1.9.1+cu102 CUDA:3 (Tesla K80, 11441MiB)\n",
      "Model summary (fused): 168 layers, 11128680 parameters, 0 gradients, 28.5 GFLOPs\n",
      "\u001b[34m\u001b[1mval: \u001b[0mScanning /home/ubuntu/zoucheng/yolo/ai_data/test.cache... 400 images, 1 backgrounds, 0 corrupt: 100%|██████████| 400/400 [00:00<?, ?it/s]\n",
      "                 Class     Images  Instances      Box(P          R      mAP50  mAP50-95): 100%|██████████| 25/25 [00:16<00:00,  1.51it/s]\n",
      "                   all        400        907      0.444      0.247      0.285      0.166\n",
      "       transverseCrack        400         51       0.29     0.0588     0.0716     0.0374\n",
      "     longitudinalCrack        400        508       0.74      0.559      0.638      0.367\n",
      "           blockyCrack        400         11      0.358      0.545      0.602      0.368\n",
      "              cracking        400         18          1          0     0.0133    0.00385\n",
      "             pitGroove        400         10          0          0     0.0321     0.0102\n",
      "      repairMeshCracks        400         18      0.657      0.556      0.607      0.421\n",
      "          repairCracks        400        286      0.504       0.26      0.314      0.118\n",
      "  repairPitsAndGrooves        400          5          0          0    0.00424    0.00101\n",
      "Speed: 7.8ms preprocess, 19.0ms inference, 0.0ms loss, 2.0ms postprocess per image\n",
      "Results saved to \u001b[1mruns/detect/val110\u001b[0m\n"
     ]
    },
    {
     "data": {
      "text/plain": [
       "0.264038839752538"
      ]
     },
     "execution_count": 20,
     "metadata": {},
     "output_type": "execute_result"
    }
   ],
   "source": [
    "from ultralytics import YOLO\n",
    "model = YOLO(f'runs/detect/tune/weights/best.pt')  # load an official model\n",
    "# model = YOLO('path/to/best.pt')  # load a custom model\n",
    "\n",
    "# Validate the model\n",
    "metrics = model.val(data = 'data/ai_data.yaml',device=3)  # no arguments needed, dataset and settings remembered\n",
    "#     metrics.box.f1\n",
    "metrics.box.f1.mean()"
   ]
  },
  {
   "cell_type": "markdown",
   "metadata": {},
   "source": [
    "# new"
   ]
  },
  {
   "cell_type": "code",
   "execution_count": 7,
   "metadata": {},
   "outputs": [
    {
     "name": "stderr",
     "output_type": "stream",
     "text": [
      "Ultralytics YOLOv8.0.186 🚀 Python-3.8.5 torch-1.9.1+cu102 CUDA:3 (Tesla K80, 11441MiB)\n",
      "Model summary (fused): 168 layers, 11128680 parameters, 0 gradients, 28.5 GFLOPs\n",
      "\u001b[34m\u001b[1mval: \u001b[0mScanning /home/ubuntu/zoucheng/yolo/data_jsai/val.cache... 303 images, 0 backgrounds, 0 corrupt: 100%|██████████| 303/303 [00:00<?, ?it/s]\n",
      "                 Class     Images  Instances      Box(P          R      mAP50  mAP50-95): 100%|██████████| 19/19 [00:24<00:00,  1.27s/it]\n",
      "                   all        303        663      0.325      0.289      0.309      0.151\n",
      "       transverseCrack        303         25      0.188       0.12      0.188      0.134\n",
      "     longitudinalCrack        303        362      0.602       0.58      0.593      0.374\n",
      "           blockyCrack        303          7      0.333      0.286      0.358      0.131\n",
      "              cracking        303          9        0.5      0.222      0.306     0.0722\n",
      "             pitGroove        303         14          0          0          0          0\n",
      "      repairMeshCracks        303         16       0.55      0.688       0.63      0.344\n",
      "          repairCracks        303        223      0.431      0.417        0.4      0.152\n",
      "  repairPitsAndGrooves        303          7          0          0          0          0\n",
      "Speed: 0.8ms preprocess, 40.4ms inference, 0.0ms loss, 8.8ms postprocess per image\n",
      "Results saved to \u001b[1mruns/detect/val193\u001b[0m\n"
     ]
    },
    {
     "name": "stdout",
     "output_type": "stream",
     "text": [
      "0\t0.2984055868124761\n"
     ]
    },
    {
     "name": "stderr",
     "output_type": "stream",
     "text": [
      "Ultralytics YOLOv8.0.186 🚀 Python-3.8.5 torch-1.9.1+cu102 CUDA:3 (Tesla K80, 11441MiB)\n",
      "Model summary (fused): 168 layers, 11128680 parameters, 0 gradients, 28.5 GFLOPs\n",
      "\u001b[34m\u001b[1mval: \u001b[0mScanning /home/ubuntu/zoucheng/yolo/data_jsai/val.cache... 303 images, 0 backgrounds, 0 corrupt: 100%|██████████| 303/303 [00:00<?, ?it/s]\n",
      "                 Class     Images  Instances      Box(P          R      mAP50  mAP50-95): 100%|██████████| 19/19 [00:24<00:00,  1.26s/it]\n",
      "                   all        303        663      0.322      0.314       0.31      0.174\n",
      "       transverseCrack        303         25      0.333       0.08       0.23      0.161\n",
      "     longitudinalCrack        303        362      0.645      0.616       0.62      0.383\n",
      "           blockyCrack        303          7      0.174      0.571      0.278      0.119\n",
      "              cracking        303          9       0.25      0.111      0.139     0.0694\n",
      "             pitGroove        303         14          0          0          0          0\n",
      "      repairMeshCracks        303         16      0.647      0.688      0.763      0.484\n",
      "          repairCracks        303        223      0.529      0.444      0.448      0.173\n",
      "  repairPitsAndGrooves        303          7          0          0          0          0\n",
      "Speed: 0.7ms preprocess, 40.4ms inference, 0.0ms loss, 7.8ms postprocess per image\n",
      "Results saved to \u001b[1mruns/detect/val194\u001b[0m\n"
     ]
    },
    {
     "name": "stdout",
     "output_type": "stream",
     "text": [
      "1\t0.2911352596671444\n"
     ]
    },
    {
     "name": "stderr",
     "output_type": "stream",
     "text": [
      "Ultralytics YOLOv8.0.186 🚀 Python-3.8.5 torch-1.9.1+cu102 CUDA:3 (Tesla K80, 11441MiB)\n",
      "Model summary (fused): 168 layers, 11128680 parameters, 0 gradients, 28.5 GFLOPs\n",
      "\u001b[34m\u001b[1mval: \u001b[0mScanning /home/ubuntu/zoucheng/yolo/data_jsai/val.cache... 303 images, 0 backgrounds, 0 corrupt: 100%|██████████| 303/303 [00:00<?, ?it/s]\n",
      "                 Class     Images  Instances      Box(P          R      mAP50  mAP50-95): 100%|██████████| 19/19 [00:23<00:00,  1.25s/it]\n",
      "                   all        303        663      0.276      0.301      0.274      0.167\n",
      "       transverseCrack        303         25      0.286       0.08      0.208      0.154\n",
      "     longitudinalCrack        303        362      0.584      0.646       0.62      0.389\n",
      "           blockyCrack        303          7      0.286      0.571      0.324      0.177\n",
      "              cracking        303          9       0.25      0.111      0.148      0.104\n",
      "             pitGroove        303         14          0          0          0          0\n",
      "      repairMeshCracks        303         16      0.412      0.438      0.481      0.351\n",
      "          repairCracks        303        223      0.389      0.561      0.409      0.162\n",
      "  repairPitsAndGrooves        303          7          0          0          0          0\n",
      "Speed: 0.8ms preprocess, 39.6ms inference, 0.0ms loss, 6.8ms postprocess per image\n",
      "Results saved to \u001b[1mruns/detect/val195\u001b[0m\n"
     ]
    },
    {
     "name": "stdout",
     "output_type": "stream",
     "text": [
      "2\t0.269621008207928\n"
     ]
    },
    {
     "name": "stderr",
     "output_type": "stream",
     "text": [
      "Ultralytics YOLOv8.0.186 🚀 Python-3.8.5 torch-1.9.1+cu102 CUDA:3 (Tesla K80, 11441MiB)\n",
      "Model summary (fused): 168 layers, 11128680 parameters, 0 gradients, 28.5 GFLOPs\n",
      "\u001b[34m\u001b[1mval: \u001b[0mScanning /home/ubuntu/zoucheng/yolo/data_jsai/val.cache... 303 images, 0 backgrounds, 0 corrupt: 100%|██████████| 303/303 [00:00<?, ?it/s]\n",
      "                 Class     Images  Instances      Box(P          R      mAP50  mAP50-95): 100%|██████████| 19/19 [00:23<00:00,  1.21s/it]\n",
      "                   all        303        663      0.519      0.314      0.408      0.225\n",
      "       transverseCrack        303         25      0.214        0.2      0.188      0.129\n",
      "     longitudinalCrack        303        362      0.724      0.552      0.637      0.403\n",
      "           blockyCrack        303          7      0.278      0.429      0.337      0.235\n",
      "              cracking        303          9      0.557      0.333      0.418      0.168\n",
      "             pitGroove        303         14          1     0.0714      0.536      0.107\n",
      "      repairMeshCracks        303         16      0.778      0.625      0.733      0.576\n",
      "          repairCracks        303        223      0.602      0.305      0.416      0.183\n",
      "  repairPitsAndGrooves        303          7          0          0          0          0\n",
      "Speed: 0.7ms preprocess, 39.5ms inference, 0.0ms loss, 8.8ms postprocess per image\n",
      "Results saved to \u001b[1mruns/detect/val196\u001b[0m\n"
     ]
    },
    {
     "name": "stdout",
     "output_type": "stream",
     "text": [
      "3\t0.35239271559613955\n"
     ]
    },
    {
     "name": "stderr",
     "output_type": "stream",
     "text": [
      "Ultralytics YOLOv8.0.186 🚀 Python-3.8.5 torch-1.9.1+cu102 CUDA:3 (Tesla K80, 11441MiB)\n",
      "Model summary (fused): 168 layers, 11128680 parameters, 0 gradients, 28.5 GFLOPs\n",
      "\u001b[34m\u001b[1mval: \u001b[0mScanning /home/ubuntu/zoucheng/yolo/data_jsai/val.cache... 303 images, 0 backgrounds, 0 corrupt: 100%|██████████| 303/303 [00:00<?, ?it/s]\n",
      "                 Class     Images  Instances      Box(P          R      mAP50  mAP50-95): 100%|██████████| 19/19 [00:11<00:00,  1.61it/s]\n",
      "                   all        303        663      0.348      0.318      0.318      0.199\n",
      "       transverseCrack        303         25          1       0.08       0.54      0.378\n",
      "     longitudinalCrack        303        362      0.645      0.608      0.648      0.393\n",
      "           blockyCrack        303          7      0.156      0.714      0.304      0.185\n",
      "              cracking        303          9          0          0          0          0\n",
      "             pitGroove        303         14          0          0          0          0\n",
      "      repairMeshCracks        303         16      0.419       0.75      0.617      0.437\n",
      "          repairCracks        303        223      0.565      0.396      0.434      0.196\n",
      "  repairPitsAndGrooves        303          7          0          0          0          0\n",
      "Speed: 0.4ms preprocess, 24.5ms inference, 0.0ms loss, 2.4ms postprocess per image\n",
      "Results saved to \u001b[1mruns/detect/val197\u001b[0m\n"
     ]
    },
    {
     "name": "stdout",
     "output_type": "stream",
     "text": [
      "4\t0.254125867561116\n"
     ]
    }
   ],
   "source": [
    "from ultralytics import YOLO\n",
    "for i in range(0,5):\n",
    "    model = YOLO(f'kfold_demo_sss/train_split{i}/weights/best.pt')  # load an official model\n",
    "    # model = YOLO('path/to/best.pt')  # load a custom model\n",
    "\n",
    "    # Validate the model\n",
    "    metrics = model.val(data = 'data/data.yaml',device=3,iou=0.5,conf=0.3) # no arguments needed, dataset and settings remembered\n",
    "    #     metrics.box.f1\n",
    "    print(i,metrics.box.f1.mean(),sep='\\t')"
   ]
  },
  {
   "cell_type": "code",
   "execution_count": 4,
   "metadata": {},
   "outputs": [
    {
     "name": "stderr",
     "output_type": "stream",
     "text": [
      "Ultralytics YOLOv8.0.186 🚀 Python-3.8.5 torch-1.9.1+cu102 CUDA:3 (Tesla K80, 11441MiB)\n",
      "Model summary (fused): 168 layers, 11128680 parameters, 0 gradients, 28.5 GFLOPs\n",
      "\u001b[34m\u001b[1mval: \u001b[0mScanning /home/ubuntu/zoucheng/yolo/labels1.cache... 936 images, 0 backgrounds, 0 corrupt: 100%|██████████| 936/936 [00:00<?, ?it/s]\n",
      "                 Class     Images  Instances      Box(P          R      mAP50  mAP50-95): 100%|██████████| 59/59 [00:51<00:00,  1.15it/s]\n",
      "                   all        936       2108      0.506       0.37      0.361      0.277\n",
      "       transverseCrack        936        359      0.401      0.167      0.188      0.111\n",
      "     longitudinalCrack        936       1138      0.828      0.684       0.74       0.53\n",
      "           blockyCrack        936         46      0.483      0.348      0.362      0.323\n",
      "              cracking        936         28      0.457      0.214      0.155       0.12\n",
      "             pitGroove        936         24      0.408      0.333      0.253      0.196\n",
      "      repairMeshCracks        936         57      0.615      0.588      0.502      0.413\n",
      "          repairCracks        936        449      0.628      0.486      0.498      0.367\n",
      "  repairPitsAndGrooves        936          7      0.226      0.143      0.193      0.159\n",
      "Speed: 0.5ms preprocess, 29.8ms inference, 0.0ms loss, 4.0ms postprocess per image\n",
      "Results saved to \u001b[1mruns/detect/val186\u001b[0m\n",
      "Ultralytics YOLOv8.0.186 🚀 Python-3.8.5 torch-1.9.1+cu102 CUDA:3 (Tesla K80, 11441MiB)\n"
     ]
    },
    {
     "name": "stdout",
     "output_type": "stream",
     "text": [
      "0\t0.4214897407765953\n"
     ]
    },
    {
     "name": "stderr",
     "output_type": "stream",
     "text": [
      "Model summary (fused): 168 layers, 11128680 parameters, 0 gradients, 28.5 GFLOPs\n",
      "\u001b[34m\u001b[1mval: \u001b[0mScanning /home/ubuntu/zoucheng/yolo/labels1.cache... 936 images, 0 backgrounds, 0 corrupt: 100%|██████████| 936/936 [00:00<?, ?it/s]\n",
      "                 Class     Images  Instances      Box(P          R      mAP50  mAP50-95): 100%|██████████| 59/59 [00:54<00:00,  1.08it/s]\n",
      "                   all        936       2108      0.544      0.364      0.346      0.254\n",
      "       transverseCrack        936        359      0.437      0.136      0.158     0.0967\n",
      "     longitudinalCrack        936       1138      0.825      0.667      0.747      0.516\n",
      "           blockyCrack        936         46      0.492      0.326       0.33      0.288\n",
      "              cracking        936         28      0.566      0.214       0.17      0.113\n",
      "             pitGroove        936         24       0.42      0.333      0.257      0.179\n",
      "      repairMeshCracks        936         57      0.581      0.526      0.499       0.41\n",
      "          repairCracks        936        449      0.707      0.425      0.482      0.341\n",
      "  repairPitsAndGrooves        936          7      0.322      0.286      0.121     0.0849\n",
      "Speed: 0.5ms preprocess, 32.0ms inference, 0.0ms loss, 6.1ms postprocess per image\n",
      "Results saved to \u001b[1mruns/detect/val187\u001b[0m\n",
      "Ultralytics YOLOv8.0.186 🚀 Python-3.8.5 torch-1.9.1+cu102 CUDA:3 (Tesla K80, 11441MiB)\n"
     ]
    },
    {
     "name": "stdout",
     "output_type": "stream",
     "text": [
      "1\t0.4258969839093896\n"
     ]
    },
    {
     "name": "stderr",
     "output_type": "stream",
     "text": [
      "Model summary (fused): 168 layers, 11128680 parameters, 0 gradients, 28.5 GFLOPs\n",
      "\u001b[34m\u001b[1mval: \u001b[0mScanning /home/ubuntu/zoucheng/yolo/labels1.cache... 936 images, 0 backgrounds, 0 corrupt: 100%|██████████| 936/936 [00:00<?, ?it/s]\n",
      "                 Class     Images  Instances      Box(P          R      mAP50  mAP50-95):  59%|█████▉    | 35/59 [00:34<00:29,  1.23s/it]WARNING ⚠️ NMS time limit 1.300s exceeded\n",
      "                 Class     Images  Instances      Box(P          R      mAP50  mAP50-95): 100%|██████████| 59/59 [02:09<00:00,  2.19s/it]\n",
      "                   all        936       2108      0.536      0.389      0.368       0.27\n",
      "       transverseCrack        936        359      0.394      0.187      0.197      0.103\n",
      "     longitudinalCrack        936       1138       0.83      0.673      0.747      0.509\n",
      "           blockyCrack        936         46      0.517      0.348      0.351      0.302\n",
      "              cracking        936         28      0.508      0.214      0.161      0.124\n",
      "             pitGroove        936         24      0.428      0.333      0.227      0.173\n",
      "      repairMeshCracks        936         57      0.622      0.579      0.537      0.424\n",
      "          repairCracks        936        449      0.646      0.492      0.506      0.365\n",
      "  repairPitsAndGrooves        936          7      0.343      0.286      0.216      0.162\n",
      "Speed: 0.5ms preprocess, 30.1ms inference, 0.0ms loss, 89.5ms postprocess per image\n",
      "Results saved to \u001b[1mruns/detect/val188\u001b[0m\n",
      "Ultralytics YOLOv8.0.186 🚀 Python-3.8.5 torch-1.9.1+cu102 CUDA:3 (Tesla K80, 11441MiB)\n"
     ]
    },
    {
     "name": "stdout",
     "output_type": "stream",
     "text": [
      "2\t0.44483545911196287\n"
     ]
    },
    {
     "name": "stderr",
     "output_type": "stream",
     "text": [
      "Model summary (fused): 168 layers, 11128680 parameters, 0 gradients, 28.5 GFLOPs\n",
      "\u001b[34m\u001b[1mval: \u001b[0mScanning /home/ubuntu/zoucheng/yolo/labels1.cache... 936 images, 0 backgrounds, 0 corrupt: 100%|██████████| 936/936 [00:00<?, ?it/s]\n",
      "                 Class     Images  Instances      Box(P          R      mAP50  mAP50-95): 100%|██████████| 59/59 [01:12<00:00,  1.22s/it]\n",
      "                   all        936       2108      0.553      0.363      0.345      0.249\n",
      "       transverseCrack        936        359      0.414      0.145      0.174     0.0988\n",
      "     longitudinalCrack        936       1138      0.847      0.632       0.74        0.5\n",
      "           blockyCrack        936         46      0.531      0.326      0.318      0.282\n",
      "              cracking        936         28      0.392      0.214      0.148      0.103\n",
      "             pitGroove        936         24      0.459      0.292      0.213      0.139\n",
      "      repairMeshCracks        936         57      0.713      0.568      0.501       0.39\n",
      "          repairCracks        936        449      0.683      0.441      0.464       0.32\n",
      "  repairPitsAndGrooves        936          7      0.385      0.286      0.203       0.16\n",
      "Speed: 0.6ms preprocess, 38.9ms inference, 0.0ms loss, 7.8ms postprocess per image\n",
      "Results saved to \u001b[1mruns/detect/val189\u001b[0m\n",
      "Ultralytics YOLOv8.0.186 🚀 Python-3.8.5 torch-1.9.1+cu102 CUDA:3 (Tesla K80, 11441MiB)\n"
     ]
    },
    {
     "name": "stdout",
     "output_type": "stream",
     "text": [
      "3\t0.4340486157801621\n"
     ]
    },
    {
     "name": "stderr",
     "output_type": "stream",
     "text": [
      "Model summary (fused): 168 layers, 11128680 parameters, 0 gradients, 28.5 GFLOPs\n",
      "\u001b[34m\u001b[1mval: \u001b[0mScanning /home/ubuntu/zoucheng/yolo/labels1.cache... 936 images, 0 backgrounds, 0 corrupt: 100%|██████████| 936/936 [00:00<?, ?it/s]\n",
      "                 Class     Images  Instances      Box(P          R      mAP50  mAP50-95): 100%|██████████| 59/59 [00:50<00:00,  1.16it/s]\n",
      "                   all        936       2108      0.511      0.363      0.352      0.256\n",
      "       transverseCrack        936        359      0.398      0.139      0.196      0.103\n",
      "     longitudinalCrack        936       1138      0.858      0.651      0.761      0.514\n",
      "           blockyCrack        936         46        0.5       0.37      0.349      0.301\n",
      "              cracking        936         28      0.346      0.214      0.116     0.0947\n",
      "             pitGroove        936         24      0.472      0.333      0.263      0.199\n",
      "      repairMeshCracks        936         57      0.672      0.561      0.538       0.42\n",
      "          repairCracks        936        449      0.612       0.49      0.487      0.337\n",
      "  repairPitsAndGrooves        936          7      0.235      0.143      0.105     0.0825\n",
      "Speed: 0.5ms preprocess, 29.4ms inference, 0.0ms loss, 5.2ms postprocess per image\n",
      "Results saved to \u001b[1mruns/detect/val190\u001b[0m\n"
     ]
    },
    {
     "name": "stdout",
     "output_type": "stream",
     "text": [
      "4\t0.4200438226987385\n"
     ]
    }
   ],
   "source": [
    "from ultralytics import YOLO\n",
    "for i in range(0,5):\n",
    "    model = YOLO(f'k1duo/train_split{i}/weights/best.pt')  # load an official model\n",
    "    # model = YOLO('path/to/best.pt')  # load a custom model\n",
    "\n",
    "    # Validate the model\n",
    "    metrics = model.val(data = 'data/train_aa.yaml',device=3) # no arguments needed, dataset and settings remembered\n",
    "    #     metrics.box.f1\n",
    "    print(i,metrics.box.f1.mean(),sep='\\t') #3\t0.3602812786583732 0.35"
   ]
  },
  {
   "cell_type": "markdown",
   "metadata": {},
   "source": [
    "# GAI"
   ]
  },
  {
   "cell_type": "code",
   "execution_count": 15,
   "metadata": {},
   "outputs": [
    {
     "name": "stderr",
     "output_type": "stream",
     "text": [
      "Ultralytics YOLOv8.0.186 🚀 Python-3.8.5 torch-1.9.1+cu102 CUDA:3 (Tesla K80, 11441MiB)\n",
      "Model summary (fused): 168 layers, 11128680 parameters, 0 gradients, 28.5 GFLOPs\n",
      "\u001b[34m\u001b[1mval: \u001b[0mScanning /home/ubuntu/zoucheng/yolo/labels1.cache... 936 images, 0 backgrounds, 0 corrupt: 100%|██████████| 936/936 [00:00<?, ?it/s]\n",
      "                 Class     Images  Instances      Box(P          R      mAP50  mAP50-95): 100%|██████████| 59/59 [00:22<00:00,  2.57it/s]\n",
      "                   all        936       2108      0.416      0.303      0.289       0.17\n",
      "       transverseCrack        936        359      0.305     0.0891      0.142     0.0579\n",
      "     longitudinalCrack        936       1138      0.736      0.635      0.671      0.391\n",
      "           blockyCrack        936         46      0.631      0.304      0.324      0.224\n",
      "              cracking        936         28      0.242      0.107     0.0902     0.0477\n",
      "             pitGroove        936         24      0.227      0.125      0.112     0.0544\n",
      "      repairMeshCracks        936         57      0.588      0.475      0.476      0.307\n",
      "          repairCracks        936        449      0.475      0.399      0.385        0.2\n",
      "  repairPitsAndGrooves        936          7      0.122      0.286      0.114     0.0752\n",
      "Speed: 0.3ms preprocess, 18.5ms inference, 0.0ms loss, 1.1ms postprocess per image\n",
      "Results saved to \u001b[1mruns/detect/val168\u001b[0m\n"
     ]
    },
    {
     "data": {
      "text/plain": [
       "0.33378636834680064"
      ]
     },
     "execution_count": 15,
     "metadata": {},
     "output_type": "execute_result"
    }
   ],
   "source": [
    "from ultralytics import YOLO\n",
    "model = YOLO(f'kfold_21/train_split4/weights/best.pt')  # load an official model\n",
    "# model = YOLO('path/to/best.pt')  # load a custom model\n",
    "\n",
    "# Validate the model\n",
    "metrics = model.val(data = 'data/train_aa.yaml',device=3)  # no arguments needed, dataset and settings remembered\n",
    "#     metrics.box.f1\n",
    "metrics.box.f1.mean()\n",
    "#0.325017474952611 0.3318370028399589\n",
    "#0.3163345819792561 0.32148421884380185\n",
    "#0.3232649375841482 0.30663994841675113\n",
    "#0.3129940011380246 0.2994898729507362\n",
    "#0.35403778807610814 0.33378636834680064"
   ]
  },
  {
   "cell_type": "code",
   "execution_count": null,
   "metadata": {},
   "outputs": [],
   "source": [
    "from ultralytics import YOLO\n",
    "model = YOLO(f'kfold_221/train_split8/weights/best.pt')  # load an official model\n",
    "# model = YOLO('path/to/best.pt')  # load a custom model\n",
    "\n",
    "# Validate the model\n",
    "metrics = model.val(data = 'data/train_aa.yaml',device=2)  # no arguments needed, dataset and settings remembered\n",
    "#     metrics.box.f1\n",
    "metrics.box.f1.mean()\n",
    "#0.325017474952611 0.3318370028399589\n",
    "#0.3163345819792561 0.32148421884380185\n",
    "#0.3232649375841482 0.30663994841675113\n",
    "#0.3129940011380246 0.2994898729507362\n",
    "#0.35403778807610814 0.33378636834680064"
   ]
  },
  {
   "cell_type": "code",
   "execution_count": 3,
   "metadata": {},
   "outputs": [
    {
     "name": "stderr",
     "output_type": "stream",
     "text": [
      "Ultralytics YOLOv8.0.186 🚀 Python-3.8.5 torch-1.9.1+cu102 CUDA:3 (Tesla K80, 11441MiB)\n",
      "Model summary (fused): 168 layers, 11128680 parameters, 0 gradients, 28.5 GFLOPs\n",
      "\u001b[34m\u001b[1mval: \u001b[0mScanning /home/ubuntu/zoucheng/yolo/labels1.cache... 936 images, 0 backgrounds, 0 corrupt: 100%|██████████| 936/936 [00:00<?, ?it/s]\n",
      "                 Class     Images  Instances      Box(P          R      mAP50  mAP50-95): 100%|██████████| 59/59 [00:56<00:00,  1.04it/s]\n",
      "                   all        936       2108       0.58      0.368      0.383      0.317\n",
      "       transverseCrack        936        359      0.399      0.153        0.2      0.122\n",
      "     longitudinalCrack        936       1138       0.86      0.647      0.754      0.583\n",
      "           blockyCrack        936         46       0.51       0.34      0.363      0.337\n",
      "              cracking        936         28      0.535      0.214      0.196      0.176\n",
      "             pitGroove        936         24      0.544      0.292      0.252      0.213\n",
      "      repairMeshCracks        936         57      0.704      0.501      0.546      0.483\n",
      "          repairCracks        936        449      0.704      0.508      0.515       0.42\n",
      "  repairPitsAndGrooves        936          7      0.383      0.286      0.235      0.202\n",
      "Speed: 0.5ms preprocess, 32.4ms inference, 0.0ms loss, 4.6ms postprocess per image\n",
      "Results saved to \u001b[1mruns/detect/val183\u001b[0m\n"
     ]
    },
    {
     "name": "stdout",
     "output_type": "stream",
     "text": [
      "0\t0.44459377097796016\n"
     ]
    },
    {
     "name": "stderr",
     "output_type": "stream",
     "text": [
      "Ultralytics YOLOv8.0.186 🚀 Python-3.8.5 torch-1.9.1+cu102 CUDA:3 (Tesla K80, 11441MiB)\n",
      "Model summary (fused): 168 layers, 11128680 parameters, 0 gradients, 28.5 GFLOPs\n",
      "\u001b[34m\u001b[1mval: \u001b[0mScanning /home/ubuntu/zoucheng/yolo/labels1.cache... 936 images, 0 backgrounds, 0 corrupt: 100%|██████████| 936/936 [00:00<?, ?it/s]\n",
      "                 Class     Images  Instances      Box(P          R      mAP50  mAP50-95): 100%|██████████| 59/59 [01:11<00:00,  1.22s/it]\n",
      "                   all        936       2108      0.586      0.411      0.428      0.329\n",
      "       transverseCrack        936        359      0.366      0.175      0.166     0.0972\n",
      "     longitudinalCrack        936       1138      0.823      0.688      0.753      0.532\n",
      "           blockyCrack        936         46      0.614       0.38      0.415      0.349\n",
      "              cracking        936         28      0.401      0.214      0.189      0.128\n",
      "             pitGroove        936         24       0.79      0.417      0.456      0.309\n",
      "      repairMeshCracks        936         57      0.588      0.456      0.526      0.455\n",
      "          repairCracks        936        449      0.642      0.527      0.517      0.379\n",
      "  repairPitsAndGrooves        936          7      0.464      0.429      0.402       0.38\n",
      "Speed: 0.6ms preprocess, 39.3ms inference, 0.0ms loss, 7.4ms postprocess per image\n",
      "Results saved to \u001b[1mruns/detect/val184\u001b[0m\n",
      "Ultralytics YOLOv8.0.186 🚀 Python-3.8.5 torch-1.9.1+cu102 CUDA:3 (Tesla K80, 11441MiB)\n"
     ]
    },
    {
     "name": "stdout",
     "output_type": "stream",
     "text": [
      "1\t0.47751990907856756\n"
     ]
    },
    {
     "name": "stderr",
     "output_type": "stream",
     "text": [
      "Model summary (fused): 168 layers, 11128680 parameters, 0 gradients, 28.5 GFLOPs\n",
      "\u001b[34m\u001b[1mval: \u001b[0mScanning /home/ubuntu/zoucheng/yolo/labels1.cache... 936 images, 0 backgrounds, 0 corrupt: 100%|██████████| 936/936 [00:00<?, ?it/s]\n",
      "                 Class     Images  Instances      Box(P          R      mAP50  mAP50-95): 100%|██████████| 59/59 [00:57<00:00,  1.02it/s]\n",
      "                   all        936       2108      0.581      0.422      0.435       0.35\n",
      "       transverseCrack        936        359      0.352      0.156      0.189       0.12\n",
      "     longitudinalCrack        936       1138      0.885      0.653      0.774       0.57\n",
      "           blockyCrack        936         46      0.518      0.351      0.387      0.348\n",
      "              cracking        936         28      0.494      0.286      0.221      0.161\n",
      "             pitGroove        936         24      0.692      0.375      0.368      0.298\n",
      "      repairMeshCracks        936         57       0.64      0.614      0.561      0.477\n",
      "          repairCracks        936        449      0.636      0.514      0.532      0.398\n",
      "  repairPitsAndGrooves        936          7      0.427      0.429      0.445      0.426\n",
      "Speed: 0.6ms preprocess, 34.1ms inference, 0.0ms loss, 6.0ms postprocess per image\n",
      "Results saved to \u001b[1mruns/detect/val185\u001b[0m\n"
     ]
    },
    {
     "name": "stdout",
     "output_type": "stream",
     "text": [
      "2\t0.48219751054031257\n"
     ]
    }
   ],
   "source": [
    "from ultralytics import YOLO\n",
    "for i in range(0,3):\n",
    "    model = YOLO(f'kfold_221/train_split{i}/weights/best.pt')  # load an official model\n",
    "    # model = YOLO('path/to/best.pt')  # load a custom model\n",
    "\n",
    "    # Validate the model\n",
    "    metrics = model.val(data = 'data/train_aa.yaml',device=3) # no arguments needed, dataset and settings remembered\n",
    "    #     metrics.box.f1\n",
    "    print(i,metrics.box.f1.mean(),sep='\\t') #3\t0.3602812786583732 0.35"
   ]
  },
  {
   "cell_type": "code",
   "execution_count": 6,
   "metadata": {},
   "outputs": [
    {
     "name": "stderr",
     "output_type": "stream",
     "text": [
      "Ultralytics YOLOv8.0.186 🚀 Python-3.8.5 torch-1.9.1+cu102 CUDA:3 (Tesla K80, 11441MiB)\n",
      "Model summary (fused): 168 layers, 11128680 parameters, 0 gradients, 28.5 GFLOPs\n",
      "\u001b[34m\u001b[1mval: \u001b[0mScanning /home/ubuntu/zoucheng/yolo/labels1.cache... 936 images, 0 backgrounds, 0 corrupt: 100%|██████████| 936/936 [00:00<?, ?it/s]\n",
      "                 Class     Images  Instances      Box(P          R      mAP50  mAP50-95): 100%|██████████| 59/59 [01:50<00:00,  1.88s/it]\n",
      "                   all        936       2108        0.6      0.413      0.438       0.35\n",
      "       transverseCrack        936        359      0.398      0.146      0.202      0.125\n",
      "     longitudinalCrack        936       1138      0.895      0.652       0.78       0.58\n",
      "           blockyCrack        936         46      0.568      0.348      0.408      0.374\n",
      "              cracking        936         28       0.43      0.286      0.269      0.222\n",
      "             pitGroove        936         24        0.7      0.417      0.372      0.281\n",
      "      repairMeshCracks        936         57      0.643      0.526      0.574      0.496\n",
      "          repairCracks        936        449      0.687      0.503      0.521      0.398\n",
      "  repairPitsAndGrooves        936          7      0.479      0.429      0.375      0.327\n",
      "Speed: 0.7ms preprocess, 39.1ms inference, 0.0ms loss, 6.6ms postprocess per image\n",
      "Results saved to \u001b[1mruns/detect/val192\u001b[0m\n"
     ]
    },
    {
     "name": "stdout",
     "output_type": "stream",
     "text": [
      "4\t0.4846562347421817\n"
     ]
    }
   ],
   "source": [
    "from ultralytics import YOLO\n",
    "model = YOLO(f'kfold_221/train_split2/weights/best.pt')  # load an official model\n",
    "# model = YOLO('path/to/best.pt')  # load a custom model\n",
    "\n",
    "# Validate the model\n",
    "metrics = model.val(data = 'data/train_aa.yaml',device=3) # no arguments needed, dataset and settings remembered\n",
    "#     metrics.box.f1\n",
    "print(i,metrics.box.f1.mean(),sep='\\t') #3\t0.3602812786583732 0.35 "
   ]
  },
  {
   "cell_type": "code",
   "execution_count": 3,
   "metadata": {},
   "outputs": [
    {
     "name": "stderr",
     "output_type": "stream",
     "text": [
      "Ultralytics YOLOv8.0.186 🚀 Python-3.8.5 torch-1.9.1+cu102 CUDA:3 (Tesla K80, 11441MiB)\n",
      "Model summary (fused): 168 layers, 11128680 parameters, 0 gradients, 28.5 GFLOPs\n",
      "\u001b[34m\u001b[1mval: \u001b[0mScanning /home/ubuntu/zoucheng/yolo/aii/test.cache... 1000 images, 1 backgrounds, 0 corrupt: 100%|██████████| 1000/1000 [00:00<?, ?it/s]\n",
      "                 Class     Images  Instances      Box(P          R      mAP50  mAP50-95): 100%|██████████| 63/63 [00:24<00:00,  2.58it/s]\n",
      "                   all       1000       2281      0.303      0.248      0.236      0.121\n",
      "       transverseCrack       1000        114       0.26      0.149      0.118     0.0614\n",
      "     longitudinalCrack       1000       1265      0.603       0.52      0.533      0.278\n",
      "           blockyCrack       1000         39      0.451      0.308      0.314      0.197\n",
      "              cracking       1000         49      0.225      0.102      0.126     0.0488\n",
      "             pitGroove       1000         52          0          0     0.0255     0.0105\n",
      "      repairMeshCracks       1000         46      0.466      0.532      0.467      0.258\n",
      "          repairCracks       1000        703      0.417      0.373      0.303      0.116\n",
      "  repairPitsAndGrooves       1000         13          0          0          0          0\n",
      "Speed: 0.3ms preprocess, 18.4ms inference, 0.0ms loss, 1.4ms postprocess per image\n",
      "Results saved to \u001b[1mruns/detect/val201\u001b[0m\n",
      "Ultralytics YOLOv8.0.186 🚀 Python-3.8.5 torch-1.9.1+cu102 CUDA:3 (Tesla K80, 11441MiB)\n"
     ]
    },
    {
     "name": "stdout",
     "output_type": "stream",
     "text": [
      "0\t0.26812997513369147\n"
     ]
    },
    {
     "name": "stderr",
     "output_type": "stream",
     "text": [
      "Model summary (fused): 168 layers, 11128680 parameters, 0 gradients, 28.5 GFLOPs\n",
      "\u001b[34m\u001b[1mval: \u001b[0mScanning /home/ubuntu/zoucheng/yolo/aii/test.cache... 1000 images, 1 backgrounds, 0 corrupt: 100%|██████████| 1000/1000 [00:00<?, ?it/s]\n",
      "                 Class     Images  Instances      Box(P          R      mAP50  mAP50-95): 100%|██████████| 63/63 [00:24<00:00,  2.56it/s]\n",
      "                   all       1000       2281      0.607      0.206      0.244      0.131\n",
      "       transverseCrack       1000        114      0.373     0.0965      0.108     0.0546\n",
      "     longitudinalCrack       1000       1265      0.701      0.455      0.539       0.29\n",
      "           blockyCrack       1000         39      0.631      0.282      0.307      0.192\n",
      "              cracking       1000         49      0.877      0.122      0.162     0.0831\n",
      "             pitGroove       1000         52      0.156     0.0192      0.045     0.0193\n",
      "      repairMeshCracks       1000         46       0.64       0.37      0.482      0.284\n",
      "          repairCracks       1000        703       0.48      0.302      0.314      0.124\n",
      "  repairPitsAndGrooves       1000         13          1          0          0          0\n",
      "Speed: 0.3ms preprocess, 18.4ms inference, 0.0ms loss, 1.6ms postprocess per image\n",
      "Results saved to \u001b[1mruns/detect/val202\u001b[0m\n",
      "Ultralytics YOLOv8.0.186 🚀 Python-3.8.5 torch-1.9.1+cu102 CUDA:3 (Tesla K80, 11441MiB)\n"
     ]
    },
    {
     "name": "stdout",
     "output_type": "stream",
     "text": [
      "1\t0.2728266630731067\n"
     ]
    },
    {
     "name": "stderr",
     "output_type": "stream",
     "text": [
      "Model summary (fused): 168 layers, 11128680 parameters, 0 gradients, 28.5 GFLOPs\n",
      "\u001b[34m\u001b[1mval: \u001b[0mScanning /home/ubuntu/zoucheng/yolo/aii/test.cache... 1000 images, 1 backgrounds, 0 corrupt: 100%|██████████| 1000/1000 [00:00<?, ?it/s]\n",
      "                 Class     Images  Instances      Box(P          R      mAP50  mAP50-95): 100%|██████████| 63/63 [00:25<00:00,  2.45it/s]\n",
      "                   all       1000       2281       0.54      0.231      0.244      0.123\n",
      "       transverseCrack       1000        114      0.243      0.105     0.0992     0.0472\n",
      "     longitudinalCrack       1000       1265      0.586      0.548       0.53      0.273\n",
      "           blockyCrack       1000         39      0.571      0.282      0.334      0.179\n",
      "              cracking       1000         49      0.609      0.122      0.149     0.0666\n",
      "             pitGroove       1000         52      0.331     0.0385     0.0454     0.0181\n",
      "      repairMeshCracks       1000         46       0.67      0.348      0.406      0.276\n",
      "          repairCracks       1000        703      0.456      0.325      0.307      0.116\n",
      "  repairPitsAndGrooves       1000         13      0.854     0.0769       0.08      0.008\n",
      "Speed: 0.3ms preprocess, 18.4ms inference, 0.0ms loss, 1.4ms postprocess per image\n",
      "Results saved to \u001b[1mruns/detect/val203\u001b[0m\n",
      "Ultralytics YOLOv8.0.186 🚀 Python-3.8.5 torch-1.9.1+cu102 CUDA:3 (Tesla K80, 11441MiB)\n"
     ]
    },
    {
     "name": "stdout",
     "output_type": "stream",
     "text": [
      "2\t0.29275128676304674\n"
     ]
    },
    {
     "name": "stderr",
     "output_type": "stream",
     "text": [
      "Model summary (fused): 168 layers, 11128680 parameters, 0 gradients, 28.5 GFLOPs\n",
      "\u001b[34m\u001b[1mval: \u001b[0mScanning /home/ubuntu/zoucheng/yolo/aii/test.cache... 1000 images, 1 backgrounds, 0 corrupt: 100%|██████████| 1000/1000 [00:00<?, ?it/s]\n",
      "                 Class     Images  Instances      Box(P          R      mAP50  mAP50-95): 100%|██████████| 63/63 [00:24<00:00,  2.54it/s]\n",
      "                   all       1000       2281      0.437       0.24      0.246      0.128\n",
      "       transverseCrack       1000        114      0.351       0.14      0.139     0.0737\n",
      "     longitudinalCrack       1000       1265      0.517      0.594       0.54      0.276\n",
      "           blockyCrack       1000         39      0.613      0.244      0.301      0.176\n",
      "              cracking       1000         49          1     0.0987      0.149     0.0894\n",
      "             pitGroove       1000         52       0.13     0.0577     0.0381     0.0111\n",
      "      repairMeshCracks       1000         46      0.428      0.457      0.492      0.269\n",
      "          repairCracks       1000        703      0.457      0.327      0.302      0.124\n",
      "  repairPitsAndGrooves       1000         13          0          0    0.00928    0.00186\n",
      "Speed: 0.3ms preprocess, 18.4ms inference, 0.0ms loss, 1.3ms postprocess per image\n",
      "Results saved to \u001b[1mruns/detect/val204\u001b[0m\n",
      "Ultralytics YOLOv8.0.186 🚀 Python-3.8.5 torch-1.9.1+cu102 CUDA:3 (Tesla K80, 11441MiB)\n"
     ]
    },
    {
     "name": "stdout",
     "output_type": "stream",
     "text": [
      "3\t0.27316866257076405\n"
     ]
    },
    {
     "name": "stderr",
     "output_type": "stream",
     "text": [
      "Model summary (fused): 168 layers, 11128680 parameters, 0 gradients, 28.5 GFLOPs\n",
      "\u001b[34m\u001b[1mval: \u001b[0mScanning /home/ubuntu/zoucheng/yolo/aii/test.cache... 1000 images, 1 backgrounds, 0 corrupt: 100%|██████████| 1000/1000 [00:00<?, ?it/s]\n",
      "                 Class     Images  Instances      Box(P          R      mAP50  mAP50-95): 100%|██████████| 63/63 [00:25<00:00,  2.50it/s]\n",
      "                   all       1000       2281      0.479      0.235      0.256      0.137\n",
      "       transverseCrack       1000        114      0.282      0.162      0.155     0.0922\n",
      "     longitudinalCrack       1000       1265      0.557      0.564      0.555      0.303\n",
      "           blockyCrack       1000         39      0.491      0.223      0.278      0.195\n",
      "              cracking       1000         49       0.43      0.102       0.13     0.0475\n",
      "             pitGroove       1000         52      0.133     0.0192      0.051     0.0183\n",
      "      repairMeshCracks       1000         46      0.569      0.457      0.512      0.315\n",
      "          repairCracks       1000        703      0.371      0.356      0.294       0.12\n",
      "  repairPitsAndGrooves       1000         13          1          0     0.0704    0.00704\n",
      "Speed: 0.3ms preprocess, 18.4ms inference, 0.0ms loss, 1.7ms postprocess per image\n",
      "Results saved to \u001b[1mruns/detect/val205\u001b[0m\n"
     ]
    },
    {
     "name": "stdout",
     "output_type": "stream",
     "text": [
      "4\t0.2676624998735496\n"
     ]
    }
   ],
   "source": [
    "from ultralytics import YOLO\n",
    "for i in range(0,5):\n",
    "    model = YOLO(f'k1yuan/train_split{i}/weights/best.pt')  # load an official model\n",
    "    # model = YOLO('path/to/best.pt')  # load a custom model\n",
    "\n",
    "    # Validate the model\n",
    "    metrics = model.val(data = 'data/data_oversampling_1.yaml',device=3) # no arguments needed, dataset and settings remembered\n",
    "    #     metrics.box.f1\n",
    "    print(i,metrics.box.f1.mean(),sep='\\t') #3\t0.36028127                                                                                                 86583732 0.35"
   ]
  },
  {
   "cell_type": "code",
   "execution_count": 2,
   "metadata": {},
   "outputs": [
    {
     "name": "stderr",
     "output_type": "stream",
     "text": [
      "Ultralytics YOLOv8.0.186 🚀 Python-3.8.5 torch-1.9.1+cu102 CUDA:3 (Tesla K80, 11441MiB)\n",
      "Model summary (fused): 168 layers, 11128680 parameters, 0 gradients, 28.5 GFLOPs\n",
      "\u001b[34m\u001b[1mval: \u001b[0mScanning /home/ubuntu/zoucheng/yolo/end/test.cache... 517 images, 6 backgrounds, 0 corrupt: 100%|██████████| 517/517 [00:00<?, ?it/s]\n",
      "\u001b[34m\u001b[1mval: \u001b[0mWARNING ⚠️ /home/ubuntu/zoucheng/yolo/end/test/29.jpg: corrupt JPEG restored and saved\n",
      "\u001b[34m\u001b[1mval: \u001b[0mWARNING ⚠️ /home/ubuntu/zoucheng/yolo/end/test/99.jpg: corrupt JPEG restored and saved\n",
      "\u001b[34m\u001b[1mval: \u001b[0mWARNING ⚠️ /home/ubuntu/zoucheng/yolo/end/test/lumian168.jpg: corrupt JPEG restored and saved\n",
      "                 Class     Images  Instances      Box(P          R      mAP50  mAP50-95): 100%|██████████| 33/33 [00:51<00:00,  1.56s/it]\n",
      "                   all        517       1196       0.42      0.292      0.274      0.151\n",
      "       transverseCrack        517         72      0.214     0.0694     0.0844     0.0514\n",
      "     longitudinalCrack        517        562       0.58      0.589      0.561      0.306\n",
      "           blockyCrack        517         33      0.664      0.424      0.494      0.277\n",
      "              cracking        517         50      0.326       0.18      0.122     0.0611\n",
      "             pitGroove        517         52      0.115     0.0385     0.0298     0.0111\n",
      "      repairMeshCracks        517         52      0.565      0.462      0.468      0.298\n",
      "          repairCracks        517        343      0.398      0.359      0.264       0.11\n",
      "  repairPitsAndGrooves        517         32      0.498      0.219       0.17     0.0907\n",
      "Speed: 2.7ms preprocess, 45.9ms inference, 0.0ms loss, 10.2ms postprocess per image\n",
      "Results saved to \u001b[1mruns/detect/val207\u001b[0m\n",
      "Ultralytics YOLOv8.0.186 🚀 Python-3.8.5 torch-1.9.1+cu102 CUDA:3 (Tesla K80, 11441MiB)\n"
     ]
    },
    {
     "name": "stdout",
     "output_type": "stream",
     "text": [
      "0\t0.3356389831579655\n"
     ]
    },
    {
     "name": "stderr",
     "output_type": "stream",
     "text": [
      "Model summary (fused): 168 layers, 11128680 parameters, 0 gradients, 28.5 GFLOPs\n",
      "\u001b[34m\u001b[1mval: \u001b[0mScanning /home/ubuntu/zoucheng/yolo/end/test.cache... 517 images, 6 backgrounds, 0 corrupt: 100%|██████████| 517/517 [00:00<?, ?it/s]\n",
      "\u001b[34m\u001b[1mval: \u001b[0mWARNING ⚠️ /home/ubuntu/zoucheng/yolo/end/test/29.jpg: corrupt JPEG restored and saved\n",
      "\u001b[34m\u001b[1mval: \u001b[0mWARNING ⚠️ /home/ubuntu/zoucheng/yolo/end/test/99.jpg: corrupt JPEG restored and saved\n",
      "\u001b[34m\u001b[1mval: \u001b[0mWARNING ⚠️ /home/ubuntu/zoucheng/yolo/end/test/lumian168.jpg: corrupt JPEG restored and saved\n",
      "                 Class     Images  Instances      Box(P          R      mAP50  mAP50-95): 100%|██████████| 33/33 [00:36<00:00,  1.10s/it]\n",
      "                   all        517       1196      0.409      0.331      0.319      0.185\n",
      "       transverseCrack        517         72      0.238      0.111      0.111     0.0694\n",
      "     longitudinalCrack        517        562      0.587      0.605      0.582      0.327\n",
      "           blockyCrack        517         33      0.628      0.485      0.564      0.369\n",
      "              cracking        517         50      0.274       0.12      0.118     0.0645\n",
      "             pitGroove        517         52      0.171      0.135      0.102     0.0291\n",
      "      repairMeshCracks        517         52      0.585      0.519      0.536      0.356\n",
      "          repairCracks        517        343      0.434      0.452      0.343      0.144\n",
      "  repairPitsAndGrooves        517         32      0.358      0.219      0.193      0.124\n",
      "Speed: 8.4ms preprocess, 29.2ms inference, 0.0ms loss, 8.9ms postprocess per image\n",
      "Results saved to \u001b[1mruns/detect/val208\u001b[0m\n",
      "Ultralytics YOLOv8.0.186 🚀 Python-3.8.5 torch-1.9.1+cu102 CUDA:3 (Tesla K80, 11441MiB)\n"
     ]
    },
    {
     "name": "stdout",
     "output_type": "stream",
     "text": [
      "1\t0.35955346612114936\n"
     ]
    },
    {
     "name": "stderr",
     "output_type": "stream",
     "text": [
      "Model summary (fused): 168 layers, 11128680 parameters, 0 gradients, 28.5 GFLOPs\n",
      "\u001b[34m\u001b[1mval: \u001b[0mScanning /home/ubuntu/zoucheng/yolo/end/test.cache... 517 images, 6 backgrounds, 0 corrupt: 100%|██████████| 517/517 [00:00<?, ?it/s]\n",
      "\u001b[34m\u001b[1mval: \u001b[0mWARNING ⚠️ /home/ubuntu/zoucheng/yolo/end/test/29.jpg: corrupt JPEG restored and saved\n",
      "\u001b[34m\u001b[1mval: \u001b[0mWARNING ⚠️ /home/ubuntu/zoucheng/yolo/end/test/99.jpg: corrupt JPEG restored and saved\n",
      "\u001b[34m\u001b[1mval: \u001b[0mWARNING ⚠️ /home/ubuntu/zoucheng/yolo/end/test/lumian168.jpg: corrupt JPEG restored and saved\n",
      "                 Class     Images  Instances      Box(P          R      mAP50  mAP50-95): 100%|██████████| 33/33 [00:52<00:00,  1.60s/it]\n",
      "                   all        517       1196      0.439      0.325      0.318      0.186\n",
      "       transverseCrack        517         72      0.279      0.139      0.145     0.0702\n",
      "     longitudinalCrack        517        562      0.581      0.646      0.586       0.33\n",
      "           blockyCrack        517         33      0.624      0.424      0.519      0.351\n",
      "              cracking        517         50      0.283       0.14      0.107     0.0546\n",
      "             pitGroove        517         52       0.25      0.173     0.0826     0.0263\n",
      "      repairMeshCracks        517         52      0.558      0.442      0.493      0.332\n",
      "          repairCracks        517        343      0.448      0.385      0.361      0.156\n",
      "  repairPitsAndGrooves        517         32      0.487       0.25      0.252      0.165\n",
      "Speed: 8.8ms preprocess, 44.6ms inference, 0.0ms loss, 9.4ms postprocess per image\n",
      "Results saved to \u001b[1mruns/detect/val209\u001b[0m\n",
      "Ultralytics YOLOv8.0.186 🚀 Python-3.8.5 torch-1.9.1+cu102 CUDA:3 (Tesla K80, 11441MiB)\n"
     ]
    },
    {
     "name": "stdout",
     "output_type": "stream",
     "text": [
      "2\t0.3664565492119263\n"
     ]
    },
    {
     "name": "stderr",
     "output_type": "stream",
     "text": [
      "Model summary (fused): 168 layers, 11128680 parameters, 0 gradients, 28.5 GFLOPs\n",
      "\u001b[34m\u001b[1mval: \u001b[0mScanning /home/ubuntu/zoucheng/yolo/end/test.cache... 517 images, 6 backgrounds, 0 corrupt: 100%|██████████| 517/517 [00:00<?, ?it/s]\n",
      "\u001b[34m\u001b[1mval: \u001b[0mWARNING ⚠️ /home/ubuntu/zoucheng/yolo/end/test/29.jpg: corrupt JPEG restored and saved\n",
      "\u001b[34m\u001b[1mval: \u001b[0mWARNING ⚠️ /home/ubuntu/zoucheng/yolo/end/test/99.jpg: corrupt JPEG restored and saved\n",
      "\u001b[34m\u001b[1mval: \u001b[0mWARNING ⚠️ /home/ubuntu/zoucheng/yolo/end/test/lumian168.jpg: corrupt JPEG restored and saved\n",
      "                 Class     Images  Instances      Box(P          R      mAP50  mAP50-95): 100%|██████████| 33/33 [00:57<00:00,  1.75s/it]\n",
      "                   all        517       1196      0.491      0.316      0.332      0.188\n",
      "       transverseCrack        517         72      0.407      0.125      0.159     0.0696\n",
      "     longitudinalCrack        517        562      0.623       0.56      0.579      0.326\n",
      "           blockyCrack        517         33      0.538      0.485      0.574      0.362\n",
      "              cracking        517         50      0.416       0.16       0.15     0.0813\n",
      "             pitGroove        517         52      0.279      0.135     0.0978     0.0289\n",
      "      repairMeshCracks        517         52      0.678        0.5      0.524      0.352\n",
      "          repairCracks        517        343      0.559      0.376      0.359      0.147\n",
      "  repairPitsAndGrooves        517         32       0.43      0.188      0.215      0.133\n",
      "Speed: 18.6ms preprocess, 36.9ms inference, 0.0ms loss, 6.4ms postprocess per image\n",
      "Results saved to \u001b[1mruns/detect/val210\u001b[0m\n",
      "Ultralytics YOLOv8.0.186 🚀 Python-3.8.5 torch-1.9.1+cu102 CUDA:3 (Tesla K80, 11441MiB)\n"
     ]
    },
    {
     "name": "stdout",
     "output_type": "stream",
     "text": [
      "3\t0.3738444299751998\n"
     ]
    },
    {
     "name": "stderr",
     "output_type": "stream",
     "text": [
      "Model summary (fused): 168 layers, 11128680 parameters, 0 gradients, 28.5 GFLOPs\n",
      "\u001b[34m\u001b[1mval: \u001b[0mScanning /home/ubuntu/zoucheng/yolo/end/test.cache... 517 images, 6 backgrounds, 0 corrupt: 100%|██████████| 517/517 [00:00<?, ?it/s]\n",
      "\u001b[34m\u001b[1mval: \u001b[0mWARNING ⚠️ /home/ubuntu/zoucheng/yolo/end/test/29.jpg: corrupt JPEG restored and saved\n",
      "\u001b[34m\u001b[1mval: \u001b[0mWARNING ⚠️ /home/ubuntu/zoucheng/yolo/end/test/99.jpg: corrupt JPEG restored and saved\n",
      "\u001b[34m\u001b[1mval: \u001b[0mWARNING ⚠️ /home/ubuntu/zoucheng/yolo/end/test/lumian168.jpg: corrupt JPEG restored and saved\n",
      "                 Class     Images  Instances      Box(P          R      mAP50  mAP50-95): 100%|██████████| 33/33 [01:06<00:00,  2.01s/it]\n",
      "                   all        517       1196      0.449      0.336      0.325      0.184\n",
      "       transverseCrack        517         72      0.351      0.125       0.14     0.0559\n",
      "     longitudinalCrack        517        562      0.617      0.603      0.579      0.326\n",
      "           blockyCrack        517         33      0.552      0.485      0.556      0.341\n",
      "              cracking        517         50      0.292       0.14      0.124     0.0728\n",
      "             pitGroove        517         52      0.242      0.192      0.093     0.0265\n",
      "      repairMeshCracks        517         52        0.6      0.481      0.515      0.344\n",
      "          repairCracks        517        343      0.491      0.414      0.374      0.159\n",
      "  repairPitsAndGrooves        517         32      0.444       0.25      0.222      0.147\n",
      "Speed: 14.7ms preprocess, 44.3ms inference, 0.0ms loss, 9.5ms postprocess per image\n",
      "Results saved to \u001b[1mruns/detect/val211\u001b[0m\n",
      "Ultralytics YOLOv8.0.186 🚀 Python-3.8.5 torch-1.9.1+cu102 CUDA:3 (Tesla K80, 11441MiB)\n"
     ]
    },
    {
     "name": "stdout",
     "output_type": "stream",
     "text": [
      "4\t0.37708965531633687\n"
     ]
    },
    {
     "name": "stderr",
     "output_type": "stream",
     "text": [
      "Model summary (fused): 168 layers, 11128680 parameters, 0 gradients, 28.5 GFLOPs\n",
      "\u001b[34m\u001b[1mval: \u001b[0mScanning /home/ubuntu/zoucheng/yolo/end/test.cache... 517 images, 6 backgrounds, 0 corrupt: 100%|██████████| 517/517 [00:00<?, ?it/s]\n",
      "\u001b[34m\u001b[1mval: \u001b[0mWARNING ⚠️ /home/ubuntu/zoucheng/yolo/end/test/29.jpg: corrupt JPEG restored and saved\n",
      "\u001b[34m\u001b[1mval: \u001b[0mWARNING ⚠️ /home/ubuntu/zoucheng/yolo/end/test/99.jpg: corrupt JPEG restored and saved\n",
      "\u001b[34m\u001b[1mval: \u001b[0mWARNING ⚠️ /home/ubuntu/zoucheng/yolo/end/test/lumian168.jpg: corrupt JPEG restored and saved\n",
      "                 Class     Images  Instances      Box(P          R      mAP50  mAP50-95): 100%|██████████| 33/33 [00:52<00:00,  1.60s/it]\n",
      "                   all        517       1196      0.494       0.31      0.322      0.182\n",
      "       transverseCrack        517         72      0.387      0.125       0.16     0.0662\n",
      "     longitudinalCrack        517        562      0.643      0.584      0.568      0.321\n",
      "           blockyCrack        517         33      0.707      0.515      0.577      0.353\n",
      "              cracking        517         50       0.26       0.14      0.122     0.0632\n",
      "             pitGroove        517         52      0.231      0.115     0.0765     0.0251\n",
      "      repairMeshCracks        517         52      0.671      0.481      0.522      0.337\n",
      "          repairCracks        517        343      0.492      0.321      0.333      0.139\n",
      "  repairPitsAndGrooves        517         32      0.564      0.203      0.221       0.15\n",
      "Speed: 8.5ms preprocess, 44.2ms inference, 0.0ms loss, 8.2ms postprocess per image\n",
      "Results saved to \u001b[1mruns/detect/val212\u001b[0m\n",
      "Ultralytics YOLOv8.0.186 🚀 Python-3.8.5 torch-1.9.1+cu102 CUDA:3 (Tesla K80, 11441MiB)\n"
     ]
    },
    {
     "name": "stdout",
     "output_type": "stream",
     "text": [
      "5\t0.372381956333419\n"
     ]
    },
    {
     "name": "stderr",
     "output_type": "stream",
     "text": [
      "Model summary (fused): 168 layers, 11128680 parameters, 0 gradients, 28.5 GFLOPs\n",
      "\u001b[34m\u001b[1mval: \u001b[0mScanning /home/ubuntu/zoucheng/yolo/end/test.cache... 517 images, 6 backgrounds, 0 corrupt: 100%|██████████| 517/517 [00:00<?, ?it/s]\n",
      "\u001b[34m\u001b[1mval: \u001b[0mWARNING ⚠️ /home/ubuntu/zoucheng/yolo/end/test/29.jpg: corrupt JPEG restored and saved\n",
      "\u001b[34m\u001b[1mval: \u001b[0mWARNING ⚠️ /home/ubuntu/zoucheng/yolo/end/test/99.jpg: corrupt JPEG restored and saved\n",
      "\u001b[34m\u001b[1mval: \u001b[0mWARNING ⚠️ /home/ubuntu/zoucheng/yolo/end/test/lumian168.jpg: corrupt JPEG restored and saved\n",
      "                 Class     Images  Instances      Box(P          R      mAP50  mAP50-95): 100%|██████████| 33/33 [01:01<00:00,  1.85s/it]\n",
      "                   all        517       1196      0.415      0.347      0.317      0.182\n",
      "       transverseCrack        517         72      0.265      0.167      0.133      0.067\n",
      "     longitudinalCrack        517        562      0.611      0.586      0.569       0.32\n",
      "           blockyCrack        517         33      0.529      0.545      0.543      0.358\n",
      "              cracking        517         50      0.257       0.18      0.133     0.0635\n",
      "             pitGroove        517         52      0.214      0.135     0.0568     0.0187\n",
      "      repairMeshCracks        517         52      0.624      0.478      0.508       0.33\n",
      "          repairCracks        517        343      0.427      0.469      0.353      0.149\n",
      "  repairPitsAndGrooves        517         32       0.39      0.219      0.244      0.154\n",
      "Speed: 14.1ms preprocess, 47.4ms inference, 0.0ms loss, 11.8ms postprocess per image\n",
      "Results saved to \u001b[1mruns/detect/val213\u001b[0m\n",
      "Ultralytics YOLOv8.0.186 🚀 Python-3.8.5 torch-1.9.1+cu102 CUDA:3 (Tesla K80, 11441MiB)\n"
     ]
    },
    {
     "name": "stdout",
     "output_type": "stream",
     "text": [
      "6\t0.3731694496220432\n"
     ]
    },
    {
     "name": "stderr",
     "output_type": "stream",
     "text": [
      "Model summary (fused): 168 layers, 11128680 parameters, 0 gradients, 28.5 GFLOPs\n",
      "\u001b[34m\u001b[1mval: \u001b[0mScanning /home/ubuntu/zoucheng/yolo/end/test.cache... 517 images, 6 backgrounds, 0 corrupt: 100%|██████████| 517/517 [00:00<?, ?it/s]\n",
      "\u001b[34m\u001b[1mval: \u001b[0mWARNING ⚠️ /home/ubuntu/zoucheng/yolo/end/test/29.jpg: corrupt JPEG restored and saved\n",
      "\u001b[34m\u001b[1mval: \u001b[0mWARNING ⚠️ /home/ubuntu/zoucheng/yolo/end/test/99.jpg: corrupt JPEG restored and saved\n",
      "\u001b[34m\u001b[1mval: \u001b[0mWARNING ⚠️ /home/ubuntu/zoucheng/yolo/end/test/lumian168.jpg: corrupt JPEG restored and saved\n",
      "                 Class     Images  Instances      Box(P          R      mAP50  mAP50-95):  12%|█▏        | 4/33 [00:20<02:19,  4.80s/it]WARNING ⚠️ NMS time limit 1.300s exceeded\n",
      "                 Class     Images  Instances      Box(P          R      mAP50  mAP50-95): 100%|██████████| 33/33 [00:52<00:00,  1.59s/it]\n",
      "                   all        517       1196      0.476      0.297      0.308      0.177\n",
      "       transverseCrack        517         72      0.344      0.139      0.139     0.0679\n",
      "     longitudinalCrack        517        562      0.596      0.596      0.572      0.323\n",
      "           blockyCrack        517         33      0.708      0.394       0.49      0.318\n",
      "              cracking        517         50       0.36       0.16      0.134     0.0707\n",
      "             pitGroove        517         52      0.237      0.115       0.08     0.0276\n",
      "      repairMeshCracks        517         52      0.727      0.423      0.481      0.309\n",
      "          repairCracks        517        343      0.473      0.392      0.343      0.139\n",
      "  repairPitsAndGrooves        517         32      0.364      0.156      0.226       0.16\n",
      "Speed: 24.9ms preprocess, 37.4ms inference, 0.0ms loss, 9.0ms postprocess per image\n",
      "Results saved to \u001b[1mruns/detect/val214\u001b[0m\n",
      "Ultralytics YOLOv8.0.186 🚀 Python-3.8.5 torch-1.9.1+cu102 CUDA:3 (Tesla K80, 11441MiB)\n"
     ]
    },
    {
     "name": "stdout",
     "output_type": "stream",
     "text": [
      "7\t0.35739665042184626\n"
     ]
    },
    {
     "name": "stderr",
     "output_type": "stream",
     "text": [
      "Model summary (fused): 168 layers, 11128680 parameters, 0 gradients, 28.5 GFLOPs\n",
      "\u001b[34m\u001b[1mval: \u001b[0mScanning /home/ubuntu/zoucheng/yolo/end/test.cache... 517 images, 6 backgrounds, 0 corrupt: 100%|██████████| 517/517 [00:00<?, ?it/s]\n",
      "\u001b[34m\u001b[1mval: \u001b[0mWARNING ⚠️ /home/ubuntu/zoucheng/yolo/end/test/29.jpg: corrupt JPEG restored and saved\n",
      "\u001b[34m\u001b[1mval: \u001b[0mWARNING ⚠️ /home/ubuntu/zoucheng/yolo/end/test/99.jpg: corrupt JPEG restored and saved\n",
      "\u001b[34m\u001b[1mval: \u001b[0mWARNING ⚠️ /home/ubuntu/zoucheng/yolo/end/test/lumian168.jpg: corrupt JPEG restored and saved\n",
      "                 Class     Images  Instances      Box(P          R      mAP50  mAP50-95): 100%|██████████| 33/33 [00:53<00:00,  1.63s/it]\n",
      "                   all        517       1196      0.458      0.311      0.322      0.188\n",
      "       transverseCrack        517         72      0.285      0.153      0.143     0.0664\n",
      "     longitudinalCrack        517        562      0.614      0.589      0.567      0.319\n",
      "           blockyCrack        517         33      0.589      0.424      0.536       0.35\n",
      "              cracking        517         50      0.303       0.16      0.122     0.0616\n",
      "             pitGroove        517         52      0.208      0.115     0.0959     0.0345\n",
      "      repairMeshCracks        517         52      0.652      0.462      0.521      0.338\n",
      "          repairCracks        517        343      0.461      0.362      0.353      0.149\n",
      "  repairPitsAndGrooves        517         32      0.553      0.219       0.24      0.181\n",
      "Speed: 3.9ms preprocess, 44.9ms inference, 0.0ms loss, 9.6ms postprocess per image\n",
      "Results saved to \u001b[1mruns/detect/val215\u001b[0m\n"
     ]
    },
    {
     "name": "stdout",
     "output_type": "stream",
     "text": [
      "8\t0.36393530242743466\n"
     ]
    }
   ],
   "source": [
    "from ultralytics import YOLO\n",
    "for i in range(0,9):\n",
    "    model = YOLO(f'end/train_split{i}/weights/best.pt')  # load an official model\n",
    "    # model = YOLO('path/to/best.pt')  # load a custom model\n",
    "\n",
    "    # Validate the model\n",
    "    metrics = model.val(data = 'data/data_oversampling_new.yaml',device=3) # no arguments needed, dataset and settings remembered\n",
    "    #     metrics.box.f1\n",
    "    print(i,metrics.box.f1.mean(),sep='\\t') #3\t0.36028127                                                                                                 86583732 0.35"
   ]
  },
  {
   "cell_type": "code",
   "execution_count": 3,
   "metadata": {},
   "outputs": [
    {
     "name": "stderr",
     "output_type": "stream",
     "text": [
      "Ultralytics YOLOv8.0.186 🚀 Python-3.8.5 torch-1.9.1+cu102 CUDA:3 (Tesla K80, 11441MiB)\n",
      "Model summary (fused): 168 layers, 11128680 parameters, 0 gradients, 28.5 GFLOPs\n",
      "\u001b[34m\u001b[1mval: \u001b[0mScanning /home/ubuntu/zoucheng/yolo/end/test.cache... 517 images, 6 backgrounds, 0 corrupt: 100%|██████████| 517/517 [00:00<?, ?it/s]\n",
      "\u001b[34m\u001b[1mval: \u001b[0mWARNING ⚠️ /home/ubuntu/zoucheng/yolo/end/test/29.jpg: corrupt JPEG restored and saved\n",
      "\u001b[34m\u001b[1mval: \u001b[0mWARNING ⚠️ /home/ubuntu/zoucheng/yolo/end/test/99.jpg: corrupt JPEG restored and saved\n",
      "\u001b[34m\u001b[1mval: \u001b[0mWARNING ⚠️ /home/ubuntu/zoucheng/yolo/end/test/lumian168.jpg: corrupt JPEG restored and saved\n",
      "                 Class     Images  Instances      Box(P          R      mAP50  mAP50-95): 100%|██████████| 33/33 [00:59<00:00,  1.81s/it]\n",
      "                   all        517       1196      0.448      0.285      0.359      0.216\n",
      "       transverseCrack        517         72      0.263     0.0694      0.171      0.118\n",
      "     longitudinalCrack        517        562      0.588      0.578      0.586      0.353\n",
      "           blockyCrack        517         33      0.684      0.394      0.586      0.352\n",
      "              cracking        517         50       0.36       0.18      0.236      0.123\n",
      "             pitGroove        517         52      0.133     0.0385     0.0709     0.0389\n",
      "      repairMeshCracks        517         52        0.6      0.462      0.573       0.39\n",
      "          repairCracks        517        343      0.415      0.341      0.297      0.146\n",
      "  repairPitsAndGrooves        517         32      0.538      0.219      0.349      0.209\n",
      "Speed: 9.9ms preprocess, 54.1ms inference, 0.0ms loss, 9.6ms postprocess per image\n",
      "Results saved to \u001b[1mruns/detect/val216\u001b[0m\n",
      "Ultralytics YOLOv8.0.186 🚀 Python-3.8.5 torch-1.9.1+cu102 CUDA:3 (Tesla K80, 11441MiB)\n"
     ]
    },
    {
     "name": "stdout",
     "output_type": "stream",
     "text": [
      "0\t0.33747518565361523\n"
     ]
    },
    {
     "name": "stderr",
     "output_type": "stream",
     "text": [
      "Model summary (fused): 168 layers, 11128680 parameters, 0 gradients, 28.5 GFLOPs\n",
      "\u001b[34m\u001b[1mval: \u001b[0mScanning /home/ubuntu/zoucheng/yolo/end/test.cache... 517 images, 6 backgrounds, 0 corrupt: 100%|██████████| 517/517 [00:00<?, ?it/s]\n",
      "\u001b[34m\u001b[1mval: \u001b[0mWARNING ⚠️ /home/ubuntu/zoucheng/yolo/end/test/29.jpg: corrupt JPEG restored and saved\n",
      "\u001b[34m\u001b[1mval: \u001b[0mWARNING ⚠️ /home/ubuntu/zoucheng/yolo/end/test/99.jpg: corrupt JPEG restored and saved\n",
      "\u001b[34m\u001b[1mval: \u001b[0mWARNING ⚠️ /home/ubuntu/zoucheng/yolo/end/test/lumian168.jpg: corrupt JPEG restored and saved\n",
      "                 Class     Images  Instances      Box(P          R      mAP50  mAP50-95): 100%|██████████| 33/33 [01:00<00:00,  1.82s/it]\n",
      "                   all        517       1196      0.427      0.328      0.382      0.248\n",
      "       transverseCrack        517         72       0.25      0.111      0.185      0.139\n",
      "     longitudinalCrack        517        562      0.597      0.598      0.599      0.372\n",
      "           blockyCrack        517         33       0.64      0.485       0.63      0.434\n",
      "              cracking        517         50        0.3       0.12        0.2       0.15\n",
      "             pitGroove        517         52      0.179      0.135      0.145     0.0435\n",
      "      repairMeshCracks        517         52        0.6      0.519      0.612      0.446\n",
      "          repairCracks        517        343      0.458      0.434      0.385      0.187\n",
      "  repairPitsAndGrooves        517         32      0.389      0.219      0.304      0.214\n",
      "Speed: 28.4ms preprocess, 44.3ms inference, 0.0ms loss, 8.0ms postprocess per image\n",
      "Results saved to \u001b[1mruns/detect/val217\u001b[0m\n",
      "Ultralytics YOLOv8.0.186 🚀 Python-3.8.5 torch-1.9.1+cu102 CUDA:3 (Tesla K80, 11441MiB)\n"
     ]
    },
    {
     "name": "stdout",
     "output_type": "stream",
     "text": [
      "1\t0.3638733957180274\n"
     ]
    },
    {
     "name": "stderr",
     "output_type": "stream",
     "text": [
      "Model summary (fused): 168 layers, 11128680 parameters, 0 gradients, 28.5 GFLOPs\n",
      "\u001b[34m\u001b[1mval: \u001b[0mScanning /home/ubuntu/zoucheng/yolo/end/test.cache... 517 images, 6 backgrounds, 0 corrupt: 100%|██████████| 517/517 [00:00<?, ?it/s]\n",
      "\u001b[34m\u001b[1mval: \u001b[0mWARNING ⚠️ /home/ubuntu/zoucheng/yolo/end/test/29.jpg: corrupt JPEG restored and saved\n",
      "\u001b[34m\u001b[1mval: \u001b[0mWARNING ⚠️ /home/ubuntu/zoucheng/yolo/end/test/99.jpg: corrupt JPEG restored and saved\n",
      "\u001b[34m\u001b[1mval: \u001b[0mWARNING ⚠️ /home/ubuntu/zoucheng/yolo/end/test/lumian168.jpg: corrupt JPEG restored and saved\n",
      "                 Class     Images  Instances      Box(P          R      mAP50  mAP50-95): 100%|██████████| 33/33 [01:07<00:00,  2.03s/it]\n",
      "                   all        517       1196      0.431      0.329      0.387       0.25\n",
      "       transverseCrack        517         72      0.282      0.153      0.217      0.126\n",
      "     longitudinalCrack        517        562      0.577      0.655      0.607      0.375\n",
      "           blockyCrack        517         33      0.636      0.424      0.599      0.437\n",
      "              cracking        517         50       0.28       0.14      0.184      0.122\n",
      "             pitGroove        517         52      0.231      0.173      0.154      0.067\n",
      "      repairMeshCracks        517         52      0.535      0.442      0.566      0.415\n",
      "          repairCracks        517        343      0.436      0.397      0.384      0.189\n",
      "  repairPitsAndGrooves        517         32      0.471       0.25      0.384      0.266\n",
      "Speed: 50.3ms preprocess, 37.9ms inference, 0.0ms loss, 6.6ms postprocess per image\n",
      "Results saved to \u001b[1mruns/detect/val218\u001b[0m\n",
      "Ultralytics YOLOv8.0.186 🚀 Python-3.8.5 torch-1.9.1+cu102 CUDA:3 (Tesla K80, 11441MiB)\n"
     ]
    },
    {
     "name": "stdout",
     "output_type": "stream",
     "text": [
      "2\t0.3663874524030639\n"
     ]
    },
    {
     "name": "stderr",
     "output_type": "stream",
     "text": [
      "Model summary (fused): 168 layers, 11128680 parameters, 0 gradients, 28.5 GFLOPs\n",
      "\u001b[34m\u001b[1mval: \u001b[0mScanning /home/ubuntu/zoucheng/yolo/end/test.cache... 517 images, 6 backgrounds, 0 corrupt: 100%|██████████| 517/517 [00:00<?, ?it/s]\n",
      "\u001b[34m\u001b[1mval: \u001b[0mWARNING ⚠️ /home/ubuntu/zoucheng/yolo/end/test/29.jpg: corrupt JPEG restored and saved\n",
      "\u001b[34m\u001b[1mval: \u001b[0mWARNING ⚠️ /home/ubuntu/zoucheng/yolo/end/test/99.jpg: corrupt JPEG restored and saved\n",
      "\u001b[34m\u001b[1mval: \u001b[0mWARNING ⚠️ /home/ubuntu/zoucheng/yolo/end/test/lumian168.jpg: corrupt JPEG restored and saved\n",
      "                 Class     Images  Instances      Box(P          R      mAP50  mAP50-95): 100%|██████████| 33/33 [00:37<00:00,  1.14s/it]\n",
      "                   all        517       1196      0.491      0.316      0.396      0.247\n",
      "       transverseCrack        517         72      0.407      0.125      0.242      0.143\n",
      "     longitudinalCrack        517        562      0.623       0.56      0.596      0.371\n",
      "           blockyCrack        517         33      0.538      0.485      0.592      0.396\n",
      "              cracking        517         50      0.416       0.16      0.244      0.151\n",
      "             pitGroove        517         52      0.279      0.135       0.16     0.0624\n",
      "      repairMeshCracks        517         52      0.678        0.5      0.611      0.444\n",
      "          repairCracks        517        343      0.559      0.376      0.405      0.192\n",
      "  repairPitsAndGrooves        517         32       0.43      0.188      0.314      0.215\n",
      "Speed: 4.6ms preprocess, 37.7ms inference, 0.0ms loss, 7.1ms postprocess per image\n",
      "Results saved to \u001b[1mruns/detect/val219\u001b[0m\n",
      "Ultralytics YOLOv8.0.186 🚀 Python-3.8.5 torch-1.9.1+cu102 CUDA:3 (Tesla K80, 11441MiB)\n"
     ]
    },
    {
     "name": "stdout",
     "output_type": "stream",
     "text": [
      "3\t0.3738444299751998\n"
     ]
    },
    {
     "name": "stderr",
     "output_type": "stream",
     "text": [
      "Model summary (fused): 168 layers, 11128680 parameters, 0 gradients, 28.5 GFLOPs\n",
      "\u001b[34m\u001b[1mval: \u001b[0mScanning /home/ubuntu/zoucheng/yolo/end/test.cache... 517 images, 6 backgrounds, 0 corrupt: 100%|██████████| 517/517 [00:00<?, ?it/s]\n",
      "\u001b[34m\u001b[1mval: \u001b[0mWARNING ⚠️ /home/ubuntu/zoucheng/yolo/end/test/29.jpg: corrupt JPEG restored and saved\n",
      "\u001b[34m\u001b[1mval: \u001b[0mWARNING ⚠️ /home/ubuntu/zoucheng/yolo/end/test/99.jpg: corrupt JPEG restored and saved\n",
      "\u001b[34m\u001b[1mval: \u001b[0mWARNING ⚠️ /home/ubuntu/zoucheng/yolo/end/test/lumian168.jpg: corrupt JPEG restored and saved\n",
      "                 Class     Images  Instances      Box(P          R      mAP50  mAP50-95): 100%|██████████| 33/33 [00:55<00:00,  1.68s/it]\n",
      "                   all        517       1196      0.431      0.344      0.394      0.245\n",
      "       transverseCrack        517         72        0.3      0.125      0.226      0.127\n",
      "     longitudinalCrack        517        562      0.605      0.621      0.607      0.373\n",
      "           blockyCrack        517         33      0.552      0.485      0.599      0.389\n",
      "              cracking        517         50      0.308       0.16      0.223      0.143\n",
      "             pitGroove        517         52      0.208      0.192      0.153     0.0553\n",
      "      repairMeshCracks        517         52      0.595      0.481      0.594      0.435\n",
      "          repairCracks        517        343      0.459      0.437      0.409      0.199\n",
      "  repairPitsAndGrooves        517         32      0.421       0.25      0.341      0.238\n",
      "Speed: 12.6ms preprocess, 44.9ms inference, 0.0ms loss, 8.9ms postprocess per image\n",
      "Results saved to \u001b[1mruns/detect/val220\u001b[0m\n",
      "Ultralytics YOLOv8.0.186 🚀 Python-3.8.5 torch-1.9.1+cu102 CUDA:3 (Tesla K80, 11441MiB)\n"
     ]
    },
    {
     "name": "stdout",
     "output_type": "stream",
     "text": [
      "4\t0.3761682219698493\n"
     ]
    },
    {
     "name": "stderr",
     "output_type": "stream",
     "text": [
      "Model summary (fused): 168 layers, 11128680 parameters, 0 gradients, 28.5 GFLOPs\n",
      "\u001b[34m\u001b[1mval: \u001b[0mScanning /home/ubuntu/zoucheng/yolo/end/test.cache... 517 images, 6 backgrounds, 0 corrupt: 100%|██████████| 517/517 [00:00<?, ?it/s]\n",
      "\u001b[34m\u001b[1mval: \u001b[0mWARNING ⚠️ /home/ubuntu/zoucheng/yolo/end/test/29.jpg: corrupt JPEG restored and saved\n",
      "\u001b[34m\u001b[1mval: \u001b[0mWARNING ⚠️ /home/ubuntu/zoucheng/yolo/end/test/99.jpg: corrupt JPEG restored and saved\n",
      "\u001b[34m\u001b[1mval: \u001b[0mWARNING ⚠️ /home/ubuntu/zoucheng/yolo/end/test/lumian168.jpg: corrupt JPEG restored and saved\n",
      "                 Class     Images  Instances      Box(P          R      mAP50  mAP50-95): 100%|██████████| 33/33 [00:42<00:00,  1.30s/it]\n",
      "                   all        517       1196      0.475      0.316       0.39      0.247\n",
      "       transverseCrack        517         72      0.331      0.125      0.222      0.124\n",
      "     longitudinalCrack        517        562      0.624      0.587      0.592      0.366\n",
      "           blockyCrack        517         33      0.694      0.515      0.658      0.422\n",
      "              cracking        517         50      0.255       0.14      0.179      0.115\n",
      "             pitGroove        517         52        0.2      0.115      0.123     0.0541\n",
      "      repairMeshCracks        517         52      0.638      0.481      0.603      0.426\n",
      "          repairCracks        517        343      0.484       0.35      0.365      0.177\n",
      "  repairPitsAndGrooves        517         32      0.575      0.212       0.38      0.293\n",
      "Speed: 6.0ms preprocess, 38.6ms inference, 0.0ms loss, 6.1ms postprocess per image\n",
      "Results saved to \u001b[1mruns/detect/val221\u001b[0m\n",
      "Ultralytics YOLOv8.0.186 🚀 Python-3.8.5 torch-1.9.1+cu102 CUDA:3 (Tesla K80, 11441MiB)\n"
     ]
    },
    {
     "name": "stdout",
     "output_type": "stream",
     "text": [
      "5\t0.3712220297608073\n"
     ]
    },
    {
     "name": "stderr",
     "output_type": "stream",
     "text": [
      "Model summary (fused): 168 layers, 11128680 parameters, 0 gradients, 28.5 GFLOPs\n",
      "\u001b[34m\u001b[1mval: \u001b[0mScanning /home/ubuntu/zoucheng/yolo/end/test.cache... 517 images, 6 backgrounds, 0 corrupt: 100%|██████████| 517/517 [00:00<?, ?it/s]\n",
      "\u001b[34m\u001b[1mval: \u001b[0mWARNING ⚠️ /home/ubuntu/zoucheng/yolo/end/test/29.jpg: corrupt JPEG restored and saved\n",
      "\u001b[34m\u001b[1mval: \u001b[0mWARNING ⚠️ /home/ubuntu/zoucheng/yolo/end/test/99.jpg: corrupt JPEG restored and saved\n",
      "\u001b[34m\u001b[1mval: \u001b[0mWARNING ⚠️ /home/ubuntu/zoucheng/yolo/end/test/lumian168.jpg: corrupt JPEG restored and saved\n",
      "                 Class     Images  Instances      Box(P          R      mAP50  mAP50-95): 100%|██████████| 33/33 [00:50<00:00,  1.53s/it]\n",
      "                   all        517       1196      0.429      0.332      0.383      0.241\n",
      "       transverseCrack        517         72      0.293      0.167      0.213       0.12\n",
      "     longitudinalCrack        517        562      0.625      0.575      0.595      0.371\n",
      "           blockyCrack        517         33      0.531      0.515      0.569      0.403\n",
      "              cracking        517         50      0.281       0.18      0.213       0.12\n",
      "             pitGroove        517         52      0.185     0.0962      0.112     0.0538\n",
      "      repairMeshCracks        517         52      0.632      0.462      0.597      0.415\n",
      "          repairCracks        517        343      0.451      0.443      0.391      0.192\n",
      "  repairPitsAndGrooves        517         32      0.438      0.219      0.372      0.255\n",
      "Speed: 11.7ms preprocess, 43.5ms inference, 0.0ms loss, 8.4ms postprocess per image\n",
      "Results saved to \u001b[1mruns/detect/val222\u001b[0m\n",
      "Ultralytics YOLOv8.0.186 🚀 Python-3.8.5 torch-1.9.1+cu102 CUDA:3 (Tesla K80, 11441MiB)\n"
     ]
    },
    {
     "name": "stdout",
     "output_type": "stream",
     "text": [
      "6\t0.36904026288215397\n"
     ]
    },
    {
     "name": "stderr",
     "output_type": "stream",
     "text": [
      "Model summary (fused): 168 layers, 11128680 parameters, 0 gradients, 28.5 GFLOPs\n",
      "\u001b[34m\u001b[1mval: \u001b[0mScanning /home/ubuntu/zoucheng/yolo/end/test.cache... 517 images, 6 backgrounds, 0 corrupt: 100%|██████████| 517/517 [00:00<?, ?it/s]\n",
      "\u001b[34m\u001b[1mval: \u001b[0mWARNING ⚠️ /home/ubuntu/zoucheng/yolo/end/test/29.jpg: corrupt JPEG restored and saved\n",
      "\u001b[34m\u001b[1mval: \u001b[0mWARNING ⚠️ /home/ubuntu/zoucheng/yolo/end/test/99.jpg: corrupt JPEG restored and saved\n",
      "\u001b[34m\u001b[1mval: \u001b[0mWARNING ⚠️ /home/ubuntu/zoucheng/yolo/end/test/lumian168.jpg: corrupt JPEG restored and saved\n",
      "                 Class     Images  Instances      Box(P          R      mAP50  mAP50-95): 100%|██████████| 33/33 [00:51<00:00,  1.58s/it]\n",
      "                   all        517       1196       0.49      0.296       0.38      0.241\n",
      "       transverseCrack        517         72      0.386      0.122       0.22      0.124\n",
      "     longitudinalCrack        517        562      0.607       0.59      0.594      0.369\n",
      "           blockyCrack        517         33      0.716      0.394      0.573      0.394\n",
      "              cracking        517         50      0.376       0.16      0.207       0.13\n",
      "             pitGroove        517         52      0.246      0.115      0.154     0.0575\n",
      "      repairMeshCracks        517         52      0.733      0.442      0.611      0.425\n",
      "          repairCracks        517        343       0.48      0.391      0.387       0.18\n",
      "  repairPitsAndGrooves        517         32      0.374      0.156      0.291      0.248\n",
      "Speed: 10.3ms preprocess, 43.8ms inference, 0.0ms loss, 9.5ms postprocess per image\n",
      "Results saved to \u001b[1mruns/detect/val223\u001b[0m\n",
      "Ultralytics YOLOv8.0.186 🚀 Python-3.8.5 torch-1.9.1+cu102 CUDA:3 (Tesla K80, 11441MiB)\n"
     ]
    },
    {
     "name": "stdout",
     "output_type": "stream",
     "text": [
      "7\t0.3595356180260607\n"
     ]
    },
    {
     "name": "stderr",
     "output_type": "stream",
     "text": [
      "Model summary (fused): 168 layers, 11128680 parameters, 0 gradients, 28.5 GFLOPs\n",
      "\u001b[34m\u001b[1mval: \u001b[0mScanning /home/ubuntu/zoucheng/yolo/end/test.cache... 517 images, 6 backgrounds, 0 corrupt: 100%|██████████| 517/517 [00:00<?, ?it/s]\n",
      "\u001b[34m\u001b[1mval: \u001b[0mWARNING ⚠️ /home/ubuntu/zoucheng/yolo/end/test/29.jpg: corrupt JPEG restored and saved\n",
      "\u001b[34m\u001b[1mval: \u001b[0mWARNING ⚠️ /home/ubuntu/zoucheng/yolo/end/test/99.jpg: corrupt JPEG restored and saved\n",
      "\u001b[34m\u001b[1mval: \u001b[0mWARNING ⚠️ /home/ubuntu/zoucheng/yolo/end/test/lumian168.jpg: corrupt JPEG restored and saved\n",
      "                 Class     Images  Instances      Box(P          R      mAP50  mAP50-95): 100%|██████████| 33/33 [00:48<00:00,  1.47s/it]\n",
      "                   all        517       1196      0.439      0.321      0.388      0.248\n",
      "       transverseCrack        517         72      0.286      0.167      0.222       0.12\n",
      "     longitudinalCrack        517        562      0.601      0.603      0.596      0.369\n",
      "           blockyCrack        517         33       0.56      0.424      0.556      0.393\n",
      "              cracking        517         50      0.276       0.16        0.2      0.121\n",
      "             pitGroove        517         52      0.219      0.135      0.159     0.0646\n",
      "      repairMeshCracks        517         52      0.649      0.462      0.608      0.427\n",
      "          repairCracks        517        343      0.452      0.402      0.386      0.185\n",
      "  repairPitsAndGrooves        517         32      0.467      0.219      0.378      0.304\n",
      "Speed: 4.6ms preprocess, 44.3ms inference, 0.0ms loss, 8.3ms postprocess per image\n",
      "Results saved to \u001b[1mruns/detect/val224\u001b[0m\n"
     ]
    },
    {
     "name": "stdout",
     "output_type": "stream",
     "text": [
      "8\t0.3659673495605799\n"
     ]
    }
   ],
   "source": [
    "from ultralytics import YOLO\n",
    "for i in range(0,9):\n",
    "    model = YOLO(f'end/train_split{i}/weights/best.pt')  # load an official model\n",
    "    # model = YOLO('path/to/best.pt')  # load a custom model\n",
    "\n",
    "    # Validate the model\n",
    "    metrics = model.val(data = 'data/data_oversampling_new.yaml',device=3,conf=0.3) # no arguments needed, dataset and settings remembered\n",
    "    #     metrics.box.f1\n",
    "    print(i,metrics.box.f1.mean(),sep='\\t') #3\t0.36028127                                                                                                 86583732 0.35"
   ]
  },
  {
   "cell_type": "code",
   "execution_count": 4,
   "metadata": {},
   "outputs": [
    {
     "name": "stderr",
     "output_type": "stream",
     "text": [
      "Ultralytics YOLOv8.0.186 🚀 Python-3.8.5 torch-1.9.1+cu102 CUDA:3 (Tesla K80, 11441MiB)\n",
      "Model summary (fused): 168 layers, 11128680 parameters, 0 gradients, 28.5 GFLOPs\n",
      "\u001b[34m\u001b[1mval: \u001b[0mScanning /home/ubuntu/zoucheng/yolo/end/test.cache... 517 images, 6 backgrounds, 0 corrupt: 100%|██████████| 517/517 [00:00<?, ?it/s]\n",
      "\u001b[34m\u001b[1mval: \u001b[0mWARNING ⚠️ /home/ubuntu/zoucheng/yolo/end/test/29.jpg: corrupt JPEG restored and saved\n",
      "\u001b[34m\u001b[1mval: \u001b[0mWARNING ⚠️ /home/ubuntu/zoucheng/yolo/end/test/99.jpg: corrupt JPEG restored and saved\n",
      "\u001b[34m\u001b[1mval: \u001b[0mWARNING ⚠️ /home/ubuntu/zoucheng/yolo/end/test/lumian168.jpg: corrupt JPEG restored and saved\n",
      "                 Class     Images  Instances      Box(P          R      mAP50  mAP50-95): 100%|██████████| 33/33 [00:51<00:00,  1.55s/it]\n",
      "                   all        517       1196      0.389      0.303       0.28      0.151\n",
      "       transverseCrack        517         72       0.22     0.0833     0.0931     0.0557\n",
      "     longitudinalCrack        517        562      0.578      0.617      0.568      0.304\n",
      "           blockyCrack        517         33      0.634      0.424      0.535       0.29\n",
      "              cracking        517         50      0.251       0.16      0.116     0.0579\n",
      "             pitGroove        517         52     0.0857     0.0385     0.0361     0.0121\n",
      "      repairMeshCracks        517         52      0.527      0.442      0.455      0.294\n",
      "          repairCracks        517        343      0.399      0.437      0.287      0.108\n",
      "  repairPitsAndGrooves        517         32      0.415      0.219      0.152     0.0819\n",
      "Speed: 8.1ms preprocess, 44.3ms inference, 0.0ms loss, 9.2ms postprocess per image\n",
      "Results saved to \u001b[1mruns/detect/val225\u001b[0m\n",
      "Ultralytics YOLOv8.0.186 🚀 Python-3.8.5 torch-1.9.1+cu102 CUDA:3 (Tesla K80, 11441MiB)\n"
     ]
    },
    {
     "name": "stdout",
     "output_type": "stream",
     "text": [
      "0\t0.33234513383431585\n"
     ]
    },
    {
     "name": "stderr",
     "output_type": "stream",
     "text": [
      "Model summary (fused): 168 layers, 11128680 parameters, 0 gradients, 28.5 GFLOPs\n",
      "\u001b[34m\u001b[1mval: \u001b[0mScanning /home/ubuntu/zoucheng/yolo/end/test.cache... 517 images, 6 backgrounds, 0 corrupt: 100%|██████████| 517/517 [00:00<?, ?it/s]\n",
      "\u001b[34m\u001b[1mval: \u001b[0mWARNING ⚠️ /home/ubuntu/zoucheng/yolo/end/test/29.jpg: corrupt JPEG restored and saved\n",
      "\u001b[34m\u001b[1mval: \u001b[0mWARNING ⚠️ /home/ubuntu/zoucheng/yolo/end/test/99.jpg: corrupt JPEG restored and saved\n",
      "\u001b[34m\u001b[1mval: \u001b[0mWARNING ⚠️ /home/ubuntu/zoucheng/yolo/end/test/lumian168.jpg: corrupt JPEG restored and saved\n",
      "                 Class     Images  Instances      Box(P          R      mAP50  mAP50-95): 100%|██████████| 33/33 [00:55<00:00,  1.69s/it]\n",
      "                   all        517       1196      0.401      0.346      0.324      0.186\n",
      "       transverseCrack        517         72      0.216      0.139      0.117     0.0725\n",
      "     longitudinalCrack        517        562      0.581      0.632      0.591      0.326\n",
      "           blockyCrack        517         33      0.586      0.485       0.59      0.375\n",
      "              cracking        517         50      0.262      0.149      0.122      0.067\n",
      "             pitGroove        517         52       0.17      0.154      0.108     0.0307\n",
      "      repairMeshCracks        517         52      0.621      0.505      0.516      0.344\n",
      "          repairCracks        517        343      0.453      0.484      0.359      0.143\n",
      "  repairPitsAndGrooves        517         32      0.322      0.219      0.191      0.126\n",
      "Speed: 20.0ms preprocess, 44.0ms inference, 0.0ms loss, 8.2ms postprocess per image\n",
      "Results saved to \u001b[1mruns/detect/val226\u001b[0m\n",
      "Ultralytics YOLOv8.0.186 🚀 Python-3.8.5 torch-1.9.1+cu102 CUDA:3 (Tesla K80, 11441MiB)\n"
     ]
    },
    {
     "name": "stdout",
     "output_type": "stream",
     "text": [
      "1\t0.3677435877421059\n"
     ]
    },
    {
     "name": "stderr",
     "output_type": "stream",
     "text": [
      "Model summary (fused): 168 layers, 11128680 parameters, 0 gradients, 28.5 GFLOPs\n",
      "\u001b[34m\u001b[1mval: \u001b[0mScanning /home/ubuntu/zoucheng/yolo/end/test.cache... 517 images, 6 backgrounds, 0 corrupt: 100%|██████████| 517/517 [00:00<?, ?it/s]\n",
      "\u001b[34m\u001b[1mval: \u001b[0mWARNING ⚠️ /home/ubuntu/zoucheng/yolo/end/test/29.jpg: corrupt JPEG restored and saved\n",
      "\u001b[34m\u001b[1mval: \u001b[0mWARNING ⚠️ /home/ubuntu/zoucheng/yolo/end/test/99.jpg: corrupt JPEG restored and saved\n",
      "\u001b[34m\u001b[1mval: \u001b[0mWARNING ⚠️ /home/ubuntu/zoucheng/yolo/end/test/lumian168.jpg: corrupt JPEG restored and saved\n",
      "                 Class     Images  Instances      Box(P          R      mAP50  mAP50-95): 100%|██████████| 33/33 [00:48<00:00,  1.47s/it]\n",
      "                   all        517       1196      0.448       0.33      0.326      0.184\n",
      "       transverseCrack        517         72      0.275      0.153      0.154     0.0728\n",
      "     longitudinalCrack        517        562      0.597      0.658      0.586      0.326\n",
      "           blockyCrack        517         33      0.621      0.424      0.546      0.351\n",
      "              cracking        517         50      0.256       0.14      0.102     0.0568\n",
      "             pitGroove        517         52      0.221      0.173       0.09     0.0276\n",
      "      repairMeshCracks        517         52      0.611      0.462      0.503      0.321\n",
      "          repairCracks        517        343      0.517      0.411      0.392      0.155\n",
      "  repairPitsAndGrooves        517         32      0.487      0.219      0.237      0.161\n",
      "Speed: 3.3ms preprocess, 44.8ms inference, 0.0ms loss, 9.0ms postprocess per image\n",
      "Results saved to \u001b[1mruns/detect/val227\u001b[0m\n",
      "Ultralytics YOLOv8.0.186 🚀 Python-3.8.5 torch-1.9.1+cu102 CUDA:3 (Tesla K80, 11441MiB)\n"
     ]
    },
    {
     "name": "stdout",
     "output_type": "stream",
     "text": [
      "2\t0.3734396327831153\n"
     ]
    },
    {
     "name": "stderr",
     "output_type": "stream",
     "text": [
      "Model summary (fused): 168 layers, 11128680 parameters, 0 gradients, 28.5 GFLOPs\n",
      "\u001b[34m\u001b[1mval: \u001b[0mScanning /home/ubuntu/zoucheng/yolo/end/test.cache... 517 images, 6 backgrounds, 0 corrupt: 100%|██████████| 517/517 [00:00<?, ?it/s]\n",
      "\u001b[34m\u001b[1mval: \u001b[0mWARNING ⚠️ /home/ubuntu/zoucheng/yolo/end/test/29.jpg: corrupt JPEG restored and saved\n",
      "\u001b[34m\u001b[1mval: \u001b[0mWARNING ⚠️ /home/ubuntu/zoucheng/yolo/end/test/99.jpg: corrupt JPEG restored and saved\n",
      "\u001b[34m\u001b[1mval: \u001b[0mWARNING ⚠️ /home/ubuntu/zoucheng/yolo/end/test/lumian168.jpg: corrupt JPEG restored and saved\n",
      "                 Class     Images  Instances      Box(P          R      mAP50  mAP50-95):   3%|▎         | 1/33 [00:01<01:03,  1.98s/it]WARNING ⚠️ NMS time limit 1.300s exceeded\n",
      "                 Class     Images  Instances      Box(P          R      mAP50  mAP50-95): 100%|██████████| 33/33 [01:09<00:00,  2.11s/it]\n",
      "                   all        517       1196      0.512      0.309      0.344      0.184\n",
      "       transverseCrack        517         72      0.456      0.125      0.175     0.0717\n",
      "     longitudinalCrack        517        562      0.635      0.558      0.578      0.323\n",
      "           blockyCrack        517         33      0.551      0.485      0.596      0.366\n",
      "              cracking        517         50      0.399       0.16      0.166      0.093\n",
      "             pitGroove        517         52      0.297      0.135      0.109     0.0298\n",
      "      repairMeshCracks        517         52      0.712      0.462       0.53       0.33\n",
      "          repairCracks        517        343      0.607      0.376      0.375      0.148\n",
      "  repairPitsAndGrooves        517         32      0.435      0.169       0.22       0.11\n",
      "Speed: 29.4ms preprocess, 44.3ms inference, 0.0ms loss, 22.9ms postprocess per image\n",
      "Results saved to \u001b[1mruns/detect/val228\u001b[0m\n",
      "Ultralytics YOLOv8.0.186 🚀 Python-3.8.5 torch-1.9.1+cu102 CUDA:3 (Tesla K80, 11441MiB)\n"
     ]
    },
    {
     "name": "stdout",
     "output_type": "stream",
     "text": [
      "3\t0.3734596300109837\n"
     ]
    },
    {
     "name": "stderr",
     "output_type": "stream",
     "text": [
      "Model summary (fused): 168 layers, 11128680 parameters, 0 gradients, 28.5 GFLOPs\n",
      "\u001b[34m\u001b[1mval: \u001b[0mScanning /home/ubuntu/zoucheng/yolo/end/test.cache... 517 images, 6 backgrounds, 0 corrupt: 100%|██████████| 517/517 [00:00<?, ?it/s]\n",
      "\u001b[34m\u001b[1mval: \u001b[0mWARNING ⚠️ /home/ubuntu/zoucheng/yolo/end/test/29.jpg: corrupt JPEG restored and saved\n",
      "\u001b[34m\u001b[1mval: \u001b[0mWARNING ⚠️ /home/ubuntu/zoucheng/yolo/end/test/99.jpg: corrupt JPEG restored and saved\n",
      "\u001b[34m\u001b[1mval: \u001b[0mWARNING ⚠️ /home/ubuntu/zoucheng/yolo/end/test/lumian168.jpg: corrupt JPEG restored and saved\n",
      "                 Class     Images  Instances      Box(P          R      mAP50  mAP50-95): 100%|██████████| 33/33 [01:00<00:00,  1.83s/it]\n",
      "                   all        517       1196      0.466      0.335      0.334      0.186\n",
      "       transverseCrack        517         72      0.359      0.125      0.155     0.0571\n",
      "     longitudinalCrack        517        562      0.628      0.619      0.585      0.326\n",
      "           blockyCrack        517         33      0.575      0.485      0.579      0.351\n",
      "              cracking        517         50      0.305       0.16      0.129     0.0732\n",
      "             pitGroove        517         52      0.243      0.192     0.0977     0.0284\n",
      "      repairMeshCracks        517         52      0.656      0.462      0.507      0.335\n",
      "          repairCracks        517        343      0.531       0.42      0.394      0.158\n",
      "  repairPitsAndGrooves        517         32      0.431      0.219      0.225      0.162\n",
      "Speed: 27.6ms preprocess, 44.6ms inference, 0.0ms loss, 9.5ms postprocess per image\n",
      "Results saved to \u001b[1mruns/detect/val229\u001b[0m\n",
      "Ultralytics YOLOv8.0.186 🚀 Python-3.8.5 torch-1.9.1+cu102 CUDA:3 (Tesla K80, 11441MiB)\n"
     ]
    },
    {
     "name": "stdout",
     "output_type": "stream",
     "text": [
      "4\t0.38254041667113264\n"
     ]
    },
    {
     "name": "stderr",
     "output_type": "stream",
     "text": [
      "Model summary (fused): 168 layers, 11128680 parameters, 0 gradients, 28.5 GFLOPs\n",
      "\u001b[34m\u001b[1mval: \u001b[0mScanning /home/ubuntu/zoucheng/yolo/end/test.cache... 517 images, 6 backgrounds, 0 corrupt: 100%|██████████| 517/517 [00:00<?, ?it/s]\n",
      "\u001b[34m\u001b[1mval: \u001b[0mWARNING ⚠️ /home/ubuntu/zoucheng/yolo/end/test/29.jpg: corrupt JPEG restored and saved\n",
      "\u001b[34m\u001b[1mval: \u001b[0mWARNING ⚠️ /home/ubuntu/zoucheng/yolo/end/test/99.jpg: corrupt JPEG restored and saved\n",
      "\u001b[34m\u001b[1mval: \u001b[0mWARNING ⚠️ /home/ubuntu/zoucheng/yolo/end/test/lumian168.jpg: corrupt JPEG restored and saved\n",
      "                 Class     Images  Instances      Box(P          R      mAP50  mAP50-95): 100%|██████████| 33/33 [00:50<00:00,  1.52s/it]\n",
      "                   all        517       1196      0.509      0.312      0.333      0.182\n",
      "       transverseCrack        517         72      0.382      0.125       0.18     0.0656\n",
      "     longitudinalCrack        517        562      0.644      0.587      0.574      0.317\n",
      "           blockyCrack        517         33      0.697      0.515      0.593      0.358\n",
      "              cracking        517         50      0.257       0.14      0.125     0.0647\n",
      "             pitGroove        517         52       0.23      0.115     0.0817     0.0283\n",
      "      repairMeshCracks        517         52      0.705      0.481      0.533      0.326\n",
      "          repairCracks        517        343      0.541      0.347      0.352      0.139\n",
      "  repairPitsAndGrooves        517         32      0.615      0.188      0.223      0.159\n",
      "Speed: 4.6ms preprocess, 45.4ms inference, 0.0ms loss, 8.9ms postprocess per image\n",
      "Results saved to \u001b[1mruns/detect/val230\u001b[0m\n"
     ]
    },
    {
     "name": "stdout",
     "output_type": "stream",
     "text": [
      "5\t0.37651031035292654\n"
     ]
    },
    {
     "name": "stderr",
     "output_type": "stream",
     "text": [
      "Ultralytics YOLOv8.0.186 🚀 Python-3.8.5 torch-1.9.1+cu102 CUDA:3 (Tesla K80, 11441MiB)\n",
      "Model summary (fused): 168 layers, 11128680 parameters, 0 gradients, 28.5 GFLOPs\n",
      "\u001b[34m\u001b[1mval: \u001b[0mScanning /home/ubuntu/zoucheng/yolo/end/test.cache... 517 images, 6 backgrounds, 0 corrupt: 100%|██████████| 517/517 [00:00<?, ?it/s]\n",
      "\u001b[34m\u001b[1mval: \u001b[0mWARNING ⚠️ /home/ubuntu/zoucheng/yolo/end/test/29.jpg: corrupt JPEG restored and saved\n",
      "\u001b[34m\u001b[1mval: \u001b[0mWARNING ⚠️ /home/ubuntu/zoucheng/yolo/end/test/99.jpg: corrupt JPEG restored and saved\n",
      "\u001b[34m\u001b[1mval: \u001b[0mWARNING ⚠️ /home/ubuntu/zoucheng/yolo/end/test/lumian168.jpg: corrupt JPEG restored and saved\n",
      "                 Class     Images  Instances      Box(P          R      mAP50  mAP50-95): 100%|██████████| 33/33 [01:04<00:00,  1.95s/it]\n",
      "                   all        517       1196      0.457      0.351      0.333      0.185\n",
      "       transverseCrack        517         72      0.308      0.181      0.141     0.0695\n",
      "     longitudinalCrack        517        562      0.632      0.589      0.577      0.321\n",
      "           blockyCrack        517         33      0.575      0.576      0.572      0.367\n",
      "              cracking        517         50       0.28       0.18      0.141     0.0649\n",
      "             pitGroove        517         52      0.239      0.135     0.0669     0.0221\n",
      "      repairMeshCracks        517         52      0.711      0.481      0.537      0.323\n",
      "          repairCracks        517        343      0.491      0.446      0.371      0.149\n",
      "  repairPitsAndGrooves        517         32       0.42      0.219       0.26      0.161\n",
      "Speed: 30.0ms preprocess, 44.5ms inference, 0.0ms loss, 8.6ms postprocess per image\n",
      "Results saved to \u001b[1mruns/detect/val231\u001b[0m\n",
      "Ultralytics YOLOv8.0.186 🚀 Python-3.8.5 torch-1.9.1+cu102 CUDA:3 (Tesla K80, 11441MiB)\n"
     ]
    },
    {
     "name": "stdout",
     "output_type": "stream",
     "text": [
      "6\t0.39165617013002774\n"
     ]
    },
    {
     "name": "stderr",
     "output_type": "stream",
     "text": [
      "Model summary (fused): 168 layers, 11128680 parameters, 0 gradients, 28.5 GFLOPs\n",
      "\u001b[34m\u001b[1mval: \u001b[0mScanning /home/ubuntu/zoucheng/yolo/end/test.cache... 517 images, 6 backgrounds, 0 corrupt: 100%|██████████| 517/517 [00:00<?, ?it/s]\n",
      "\u001b[34m\u001b[1mval: \u001b[0mWARNING ⚠️ /home/ubuntu/zoucheng/yolo/end/test/29.jpg: corrupt JPEG restored and saved\n",
      "\u001b[34m\u001b[1mval: \u001b[0mWARNING ⚠️ /home/ubuntu/zoucheng/yolo/end/test/99.jpg: corrupt JPEG restored and saved\n",
      "\u001b[34m\u001b[1mval: \u001b[0mWARNING ⚠️ /home/ubuntu/zoucheng/yolo/end/test/lumian168.jpg: corrupt JPEG restored and saved\n",
      "                 Class     Images  Instances      Box(P          R      mAP50  mAP50-95): 100%|██████████| 33/33 [00:59<00:00,  1.80s/it]\n",
      "                   all        517       1196      0.469       0.31      0.322       0.18\n",
      "       transverseCrack        517         72      0.314      0.139      0.149     0.0711\n",
      "     longitudinalCrack        517        562      0.594      0.601      0.577      0.323\n",
      "           blockyCrack        517         33      0.728      0.394      0.529      0.333\n",
      "              cracking        517         50      0.275       0.16      0.131     0.0713\n",
      "             pitGroove        517         52      0.254      0.115     0.0878     0.0289\n",
      "      repairMeshCracks        517         52      0.702      0.454      0.512      0.314\n",
      "          repairCracks        517        343      0.503      0.443      0.371       0.14\n",
      "  repairPitsAndGrooves        517         32      0.383      0.175      0.222      0.162\n",
      "Speed: 23.1ms preprocess, 44.9ms inference, 0.0ms loss, 8.0ms postprocess per image\n",
      "Results saved to \u001b[1mruns/detect/val232\u001b[0m\n",
      "Ultralytics YOLOv8.0.186 🚀 Python-3.8.5 torch-1.9.1+cu102 CUDA:3 (Tesla K80, 11441MiB)\n"
     ]
    },
    {
     "name": "stdout",
     "output_type": "stream",
     "text": [
      "7\t0.365749592574243\n"
     ]
    },
    {
     "name": "stderr",
     "output_type": "stream",
     "text": [
      "Model summary (fused): 168 layers, 11128680 parameters, 0 gradients, 28.5 GFLOPs\n",
      "\u001b[34m\u001b[1mval: \u001b[0mScanning /home/ubuntu/zoucheng/yolo/end/test.cache... 517 images, 6 backgrounds, 0 corrupt: 100%|██████████| 517/517 [00:00<?, ?it/s]\n",
      "\u001b[34m\u001b[1mval: \u001b[0mWARNING ⚠️ /home/ubuntu/zoucheng/yolo/end/test/29.jpg: corrupt JPEG restored and saved\n",
      "\u001b[34m\u001b[1mval: \u001b[0mWARNING ⚠️ /home/ubuntu/zoucheng/yolo/end/test/99.jpg: corrupt JPEG restored and saved\n",
      "\u001b[34m\u001b[1mval: \u001b[0mWARNING ⚠️ /home/ubuntu/zoucheng/yolo/end/test/lumian168.jpg: corrupt JPEG restored and saved\n",
      "                 Class     Images  Instances      Box(P          R      mAP50  mAP50-95): 100%|██████████| 33/33 [00:52<00:00,  1.59s/it]\n",
      "                   all        517       1196      0.395      0.361      0.333       0.19\n",
      "       transverseCrack        517         72      0.238      0.181      0.152     0.0682\n",
      "     longitudinalCrack        517        562      0.567      0.639      0.575       0.32\n",
      "           blockyCrack        517         33      0.555      0.567      0.561      0.362\n",
      "              cracking        517         50      0.194       0.16      0.119     0.0619\n",
      "             pitGroove        517         52       0.16      0.154        0.1     0.0366\n",
      "      repairMeshCracks        517         52       0.69        0.5      0.541      0.334\n",
      "          repairCracks        517        343      0.433      0.467      0.372      0.149\n",
      "  repairPitsAndGrooves        517         32      0.322      0.219      0.244      0.186\n",
      "Speed: 6.9ms preprocess, 45.2ms inference, 0.0ms loss, 9.1ms postprocess per image\n",
      "Results saved to \u001b[1mruns/detect/val233\u001b[0m\n"
     ]
    },
    {
     "name": "stdout",
     "output_type": "stream",
     "text": [
      "8\t0.37363194494481966\n"
     ]
    }
   ],
   "source": [
    "from ultralytics import YOLO\n",
    "for i in range(0,9):\n",
    "    model = YOLO(f'end/train_split{i}/weights/best.pt')  # load an official model\n",
    "    # model = YOLO('path/to/best.pt')  # load a custom model\n",
    "\n",
    "    # Validate the model\n",
    "    metrics = model.val(data = 'data/data_oversampling_new.yaml',device=3,iou=0.34) # no arguments needed, dataset and settings remembered\n",
    "    #     metrics.box.f1\n",
    "    print(i,metrics.box.f1.mean(),sep='\\t') #3\t0.36028127                                                                                                 86583732 0.35"
   ]
  },
  {
   "cell_type": "code",
   "execution_count": 5,
   "metadata": {},
   "outputs": [
    {
     "name": "stderr",
     "output_type": "stream",
     "text": [
      "Ultralytics YOLOv8.0.186 🚀 Python-3.8.5 torch-1.9.1+cu102 CUDA:3 (Tesla K80, 11441MiB)\n",
      "Model summary (fused): 168 layers, 11128680 parameters, 0 gradients, 28.5 GFLOPs\n",
      "\u001b[34m\u001b[1mval: \u001b[0mScanning /home/ubuntu/zoucheng/yolo/end/test.cache... 517 images, 6 backgrounds, 0 corrupt: 100%|██████████| 517/517 [00:00<?, ?it/s]\n",
      "\u001b[34m\u001b[1mval: \u001b[0mWARNING ⚠️ /home/ubuntu/zoucheng/yolo/end/test/29.jpg: corrupt JPEG restored and saved\n",
      "\u001b[34m\u001b[1mval: \u001b[0mWARNING ⚠️ /home/ubuntu/zoucheng/yolo/end/test/99.jpg: corrupt JPEG restored and saved\n",
      "\u001b[34m\u001b[1mval: \u001b[0mWARNING ⚠️ /home/ubuntu/zoucheng/yolo/end/test/lumian168.jpg: corrupt JPEG restored and saved\n",
      "                 Class     Images  Instances      Box(P          R      mAP50  mAP50-95): 100%|██████████| 33/33 [00:45<00:00,  1.39s/it]\n",
      "                   all        517       1196      0.486      0.271      0.368      0.226\n",
      "       transverseCrack        517         72      0.312     0.0694      0.194      0.134\n",
      "     longitudinalCrack        517        562      0.616      0.564      0.588      0.355\n",
      "           blockyCrack        517         33      0.812      0.394      0.625       0.38\n",
      "              cracking        517         50      0.364       0.16      0.234      0.132\n",
      "             pitGroove        517         52      0.154     0.0385     0.0809     0.0444\n",
      "      repairMeshCracks        517         52      0.629      0.423      0.569      0.398\n",
      "          repairCracks        517        343      0.459      0.329       0.32       0.15\n",
      "  repairPitsAndGrooves        517         32      0.545      0.188      0.334      0.212\n",
      "Speed: 2.9ms preprocess, 45.7ms inference, 0.0ms loss, 7.9ms postprocess per image\n",
      "Results saved to \u001b[1mruns/detect/val234\u001b[0m\n",
      "Ultralytics YOLOv8.0.186 🚀 Python-3.8.5 torch-1.9.1+cu102 CUDA:3 (Tesla K80, 11441MiB)\n"
     ]
    },
    {
     "name": "stdout",
     "output_type": "stream",
     "text": [
      "0\t0.3356499515407455\n"
     ]
    },
    {
     "name": "stderr",
     "output_type": "stream",
     "text": [
      "Model summary (fused): 168 layers, 11128680 parameters, 0 gradients, 28.5 GFLOPs\n",
      "\u001b[34m\u001b[1mval: \u001b[0mScanning /home/ubuntu/zoucheng/yolo/end/test.cache... 517 images, 6 backgrounds, 0 corrupt: 100%|██████████| 517/517 [00:00<?, ?it/s]\n",
      "\u001b[34m\u001b[1mval: \u001b[0mWARNING ⚠️ /home/ubuntu/zoucheng/yolo/end/test/29.jpg: corrupt JPEG restored and saved\n",
      "\u001b[34m\u001b[1mval: \u001b[0mWARNING ⚠️ /home/ubuntu/zoucheng/yolo/end/test/99.jpg: corrupt JPEG restored and saved\n",
      "\u001b[34m\u001b[1mval: \u001b[0mWARNING ⚠️ /home/ubuntu/zoucheng/yolo/end/test/lumian168.jpg: corrupt JPEG restored and saved\n",
      "                 Class     Images  Instances      Box(P          R      mAP50  mAP50-95): 100%|██████████| 33/33 [00:55<00:00,  1.67s/it]\n",
      "                   all        517       1196       0.46      0.319      0.391      0.254\n",
      "       transverseCrack        517         72      0.258      0.111       0.19      0.143\n",
      "     longitudinalCrack        517        562      0.629      0.589      0.604      0.375\n",
      "           blockyCrack        517         33      0.667      0.485      0.638       0.44\n",
      "              cracking        517         50        0.3       0.12        0.2       0.15\n",
      "             pitGroove        517         52      0.206      0.135      0.157     0.0473\n",
      "      repairMeshCracks        517         52      0.703        0.5      0.634      0.458\n",
      "          repairCracks        517        343      0.518      0.423      0.403      0.195\n",
      "  repairPitsAndGrooves        517         32        0.4      0.188      0.302      0.227\n",
      "Speed: 14.6ms preprocess, 44.0ms inference, 0.0ms loss, 8.6ms postprocess per image\n",
      "Results saved to \u001b[1mruns/detect/val235\u001b[0m\n",
      "Ultralytics YOLOv8.0.186 🚀 Python-3.8.5 torch-1.9.1+cu102 CUDA:3 (Tesla K80, 11441MiB)\n"
     ]
    },
    {
     "name": "stdout",
     "output_type": "stream",
     "text": [
      "1\t0.37056210556547303\n"
     ]
    },
    {
     "name": "stderr",
     "output_type": "stream",
     "text": [
      "Model summary (fused): 168 layers, 11128680 parameters, 0 gradients, 28.5 GFLOPs\n",
      "\u001b[34m\u001b[1mval: \u001b[0mScanning /home/ubuntu/zoucheng/yolo/end/test.cache... 517 images, 6 backgrounds, 0 corrupt: 100%|██████████| 517/517 [00:00<?, ?it/s]\n",
      "\u001b[34m\u001b[1mval: \u001b[0mWARNING ⚠️ /home/ubuntu/zoucheng/yolo/end/test/29.jpg: corrupt JPEG restored and saved\n",
      "\u001b[34m\u001b[1mval: \u001b[0mWARNING ⚠️ /home/ubuntu/zoucheng/yolo/end/test/99.jpg: corrupt JPEG restored and saved\n",
      "\u001b[34m\u001b[1mval: \u001b[0mWARNING ⚠️ /home/ubuntu/zoucheng/yolo/end/test/lumian168.jpg: corrupt JPEG restored and saved\n",
      "                 Class     Images  Instances      Box(P          R      mAP50  mAP50-95): 100%|██████████| 33/33 [00:48<00:00,  1.47s/it]\n",
      "                   all        517       1196      0.471      0.323        0.4      0.256\n",
      "       transverseCrack        517         72      0.324      0.153      0.236      0.137\n",
      "     longitudinalCrack        517        562      0.606      0.644       0.61      0.378\n",
      "           blockyCrack        517         33      0.667      0.424      0.609      0.429\n",
      "              cracking        517         50       0.28       0.14      0.184      0.122\n",
      "             pitGroove        517         52       0.25      0.173      0.163     0.0718\n",
      "      repairMeshCracks        517         52      0.622      0.442      0.594      0.429\n",
      "          repairCracks        517        343       0.52      0.388      0.419      0.201\n",
      "  repairPitsAndGrooves        517         32        0.5      0.219      0.384      0.279\n",
      "Speed: 2.6ms preprocess, 44.4ms inference, 0.0ms loss, 8.5ms postprocess per image\n",
      "Results saved to \u001b[1mruns/detect/val236\u001b[0m\n",
      "Ultralytics YOLOv8.0.186 🚀 Python-3.8.5 torch-1.9.1+cu102 CUDA:3 (Tesla K80, 11441MiB)\n"
     ]
    },
    {
     "name": "stdout",
     "output_type": "stream",
     "text": [
      "2\t0.37590368364802185\n"
     ]
    },
    {
     "name": "stderr",
     "output_type": "stream",
     "text": [
      "Model summary (fused): 168 layers, 11128680 parameters, 0 gradients, 28.5 GFLOPs\n",
      "\u001b[34m\u001b[1mval: \u001b[0mScanning /home/ubuntu/zoucheng/yolo/end/test.cache... 517 images, 6 backgrounds, 0 corrupt: 100%|██████████| 517/517 [00:00<?, ?it/s]\n",
      "\u001b[34m\u001b[1mval: \u001b[0mWARNING ⚠️ /home/ubuntu/zoucheng/yolo/end/test/29.jpg: corrupt JPEG restored and saved\n",
      "\u001b[34m\u001b[1mval: \u001b[0mWARNING ⚠️ /home/ubuntu/zoucheng/yolo/end/test/99.jpg: corrupt JPEG restored and saved\n",
      "\u001b[34m\u001b[1mval: \u001b[0mWARNING ⚠️ /home/ubuntu/zoucheng/yolo/end/test/lumian168.jpg: corrupt JPEG restored and saved\n",
      "                 Class     Images  Instances      Box(P          R      mAP50  mAP50-95): 100%|██████████| 33/33 [00:13<00:00,  2.38it/s]\n",
      "                   all        517       1196      0.506       0.31      0.408      0.247\n",
      "       transverseCrack        517         72      0.455      0.125      0.268      0.148\n",
      "     longitudinalCrack        517        562      0.639      0.569      0.605      0.376\n",
      "           blockyCrack        517         33      0.551      0.485      0.601      0.402\n",
      "              cracking        517         50      0.379       0.16       0.25      0.155\n",
      "             pitGroove        517         52      0.295      0.135      0.181     0.0713\n",
      "      repairMeshCracks        517         52       0.69      0.462      0.613      0.439\n",
      "          repairCracks        517        343      0.602      0.379      0.429      0.204\n",
      "  repairPitsAndGrooves        517         32      0.436       0.17      0.317      0.185\n",
      "Speed: 0.3ms preprocess, 18.7ms inference, 0.0ms loss, 0.9ms postprocess per image\n",
      "Results saved to \u001b[1mruns/detect/val237\u001b[0m\n",
      "Ultralytics YOLOv8.0.186 🚀 Python-3.8.5 torch-1.9.1+cu102 CUDA:3 (Tesla K80, 11441MiB)\n"
     ]
    },
    {
     "name": "stdout",
     "output_type": "stream",
     "text": [
      "3\t0.37327829554654796\n"
     ]
    },
    {
     "name": "stderr",
     "output_type": "stream",
     "text": [
      "Model summary (fused): 168 layers, 11128680 parameters, 0 gradients, 28.5 GFLOPs\n",
      "\u001b[34m\u001b[1mval: \u001b[0mScanning /home/ubuntu/zoucheng/yolo/end/test.cache... 517 images, 6 backgrounds, 0 corrupt: 100%|██████████| 517/517 [00:00<?, ?it/s]\n",
      "\u001b[34m\u001b[1mval: \u001b[0mWARNING ⚠️ /home/ubuntu/zoucheng/yolo/end/test/29.jpg: corrupt JPEG restored and saved\n",
      "\u001b[34m\u001b[1mval: \u001b[0mWARNING ⚠️ /home/ubuntu/zoucheng/yolo/end/test/99.jpg: corrupt JPEG restored and saved\n",
      "\u001b[34m\u001b[1mval: \u001b[0mWARNING ⚠️ /home/ubuntu/zoucheng/yolo/end/test/lumian168.jpg: corrupt JPEG restored and saved\n",
      "                 Class     Images  Instances      Box(P          R      mAP50  mAP50-95): 100%|██████████| 33/33 [00:13<00:00,  2.41it/s]\n",
      "                   all        517       1196       0.47      0.335      0.407      0.253\n",
      "       transverseCrack        517         72       0.36      0.125      0.253      0.132\n",
      "     longitudinalCrack        517        562      0.627      0.619      0.611      0.377\n",
      "           blockyCrack        517         33      0.593      0.485       0.61      0.397\n",
      "              cracking        517         50      0.308       0.16      0.224      0.143\n",
      "             pitGroove        517         52      0.244      0.192       0.17     0.0629\n",
      "      repairMeshCracks        517         52      0.667      0.462      0.608      0.439\n",
      "          repairCracks        517        343      0.527       0.42      0.431      0.208\n",
      "  repairPitsAndGrooves        517         32      0.438      0.219       0.35      0.267\n",
      "Speed: 0.3ms preprocess, 18.8ms inference, 0.0ms loss, 0.8ms postprocess per image\n",
      "Results saved to \u001b[1mruns/detect/val238\u001b[0m\n",
      "Ultralytics YOLOv8.0.186 🚀 Python-3.8.5 torch-1.9.1+cu102 CUDA:3 (Tesla K80, 11441MiB)\n"
     ]
    },
    {
     "name": "stdout",
     "output_type": "stream",
     "text": [
      "4\t0.38402896066721576\n"
     ]
    },
    {
     "name": "stderr",
     "output_type": "stream",
     "text": [
      "Model summary (fused): 168 layers, 11128680 parameters, 0 gradients, 28.5 GFLOPs\n",
      "\u001b[34m\u001b[1mval: \u001b[0mScanning /home/ubuntu/zoucheng/yolo/end/test.cache... 517 images, 6 backgrounds, 0 corrupt: 100%|██████████| 517/517 [00:00<?, ?it/s]\n",
      "\u001b[34m\u001b[1mval: \u001b[0mWARNING ⚠️ /home/ubuntu/zoucheng/yolo/end/test/29.jpg: corrupt JPEG restored and saved\n",
      "\u001b[34m\u001b[1mval: \u001b[0mWARNING ⚠️ /home/ubuntu/zoucheng/yolo/end/test/99.jpg: corrupt JPEG restored and saved\n",
      "\u001b[34m\u001b[1mval: \u001b[0mWARNING ⚠️ /home/ubuntu/zoucheng/yolo/end/test/lumian168.jpg: corrupt JPEG restored and saved\n",
      "                 Class     Images  Instances      Box(P          R      mAP50  mAP50-95): 100%|██████████| 33/33 [00:13<00:00,  2.43it/s]\n",
      "                   all        517       1196      0.503      0.314      0.405      0.258\n",
      "       transverseCrack        517         72      0.357      0.125      0.244      0.125\n",
      "     longitudinalCrack        517        562      0.639      0.593      0.597      0.368\n",
      "           blockyCrack        517         33      0.708      0.515      0.665      0.427\n",
      "              cracking        517         50      0.252       0.14      0.179      0.115\n",
      "             pitGroove        517         52       0.22      0.115      0.141     0.0624\n",
      "      repairMeshCracks        517         52      0.696      0.481       0.62      0.439\n",
      "          repairCracks        517        343      0.543      0.356      0.388      0.187\n",
      "  repairPitsAndGrooves        517         32      0.608      0.188      0.408      0.337\n",
      "Speed: 0.3ms preprocess, 18.9ms inference, 0.0ms loss, 0.8ms postprocess per image\n",
      "Results saved to \u001b[1mruns/detect/val239\u001b[0m\n",
      "Ultralytics YOLOv8.0.186 🚀 Python-3.8.5 torch-1.9.1+cu102 CUDA:3 (Tesla K80, 11441MiB)\n"
     ]
    },
    {
     "name": "stdout",
     "output_type": "stream",
     "text": [
      "5\t0.37667378926454714\n"
     ]
    },
    {
     "name": "stderr",
     "output_type": "stream",
     "text": [
      "Model summary (fused): 168 layers, 11128680 parameters, 0 gradients, 28.5 GFLOPs\n",
      "\u001b[34m\u001b[1mval: \u001b[0mScanning /home/ubuntu/zoucheng/yolo/end/test.cache... 517 images, 6 backgrounds, 0 corrupt: 100%|██████████| 517/517 [00:00<?, ?it/s]\n",
      "\u001b[34m\u001b[1mval: \u001b[0mWARNING ⚠️ /home/ubuntu/zoucheng/yolo/end/test/29.jpg: corrupt JPEG restored and saved\n",
      "\u001b[34m\u001b[1mval: \u001b[0mWARNING ⚠️ /home/ubuntu/zoucheng/yolo/end/test/99.jpg: corrupt JPEG restored and saved\n",
      "\u001b[34m\u001b[1mval: \u001b[0mWARNING ⚠️ /home/ubuntu/zoucheng/yolo/end/test/lumian168.jpg: corrupt JPEG restored and saved\n",
      "                 Class     Images  Instances      Box(P          R      mAP50  mAP50-95): 100%|██████████| 33/33 [00:13<00:00,  2.42it/s]\n",
      "                   all        517       1196      0.478       0.33      0.401       0.25\n",
      "       transverseCrack        517         72      0.343      0.167      0.236      0.132\n",
      "     longitudinalCrack        517        562       0.64      0.573      0.599      0.374\n",
      "           blockyCrack        517         33      0.586      0.515      0.589      0.409\n",
      "              cracking        517         50        0.3       0.18      0.221      0.125\n",
      "             pitGroove        517         52      0.238     0.0962      0.138     0.0674\n",
      "      repairMeshCracks        517         52      0.706      0.462      0.618      0.421\n",
      "          repairCracks        517        343      0.514      0.429       0.41      0.201\n",
      "  repairPitsAndGrooves        517         32        0.5      0.219      0.397      0.273\n",
      "Speed: 0.3ms preprocess, 18.8ms inference, 0.0ms loss, 0.8ms postprocess per image\n",
      "Results saved to \u001b[1mruns/detect/val240\u001b[0m\n",
      "Ultralytics YOLOv8.0.186 🚀 Python-3.8.5 torch-1.9.1+cu102 CUDA:3 (Tesla K80, 11441MiB)\n"
     ]
    },
    {
     "name": "stdout",
     "output_type": "stream",
     "text": [
      "6\t0.38365790565896124\n"
     ]
    },
    {
     "name": "stderr",
     "output_type": "stream",
     "text": [
      "Model summary (fused): 168 layers, 11128680 parameters, 0 gradients, 28.5 GFLOPs\n",
      "\u001b[34m\u001b[1mval: \u001b[0mScanning /home/ubuntu/zoucheng/yolo/end/test.cache... 517 images, 6 backgrounds, 0 corrupt: 100%|██████████| 517/517 [00:00<?, ?it/s]\n",
      "\u001b[34m\u001b[1mval: \u001b[0mWARNING ⚠️ /home/ubuntu/zoucheng/yolo/end/test/29.jpg: corrupt JPEG restored and saved\n",
      "\u001b[34m\u001b[1mval: \u001b[0mWARNING ⚠️ /home/ubuntu/zoucheng/yolo/end/test/99.jpg: corrupt JPEG restored and saved\n",
      "\u001b[34m\u001b[1mval: \u001b[0mWARNING ⚠️ /home/ubuntu/zoucheng/yolo/end/test/lumian168.jpg: corrupt JPEG restored and saved\n",
      "                 Class     Images  Instances      Box(P          R      mAP50  mAP50-95): 100%|██████████| 33/33 [00:13<00:00,  2.38it/s]\n",
      "                   all        517       1196      0.495      0.301      0.391      0.247\n",
      "       transverseCrack        517         72      0.355      0.139      0.224      0.126\n",
      "     longitudinalCrack        517        562      0.608      0.594      0.598      0.371\n",
      "           blockyCrack        517         33      0.747      0.394      0.589      0.405\n",
      "              cracking        517         50      0.346       0.16      0.211      0.133\n",
      "             pitGroove        517         52      0.268      0.115      0.169     0.0634\n",
      "      repairMeshCracks        517         52      0.737      0.442      0.628      0.431\n",
      "          repairCracks        517        343      0.514      0.408      0.409      0.187\n",
      "  repairPitsAndGrooves        517         32      0.388      0.156      0.301      0.256\n",
      "Speed: 0.4ms preprocess, 19.0ms inference, 0.0ms loss, 0.9ms postprocess per image\n",
      "Results saved to \u001b[1mruns/detect/val241\u001b[0m\n",
      "Ultralytics YOLOv8.0.186 🚀 Python-3.8.5 torch-1.9.1+cu102 CUDA:3 (Tesla K80, 11441MiB)\n"
     ]
    },
    {
     "name": "stdout",
     "output_type": "stream",
     "text": [
      "7\t0.3659401607460069\n"
     ]
    },
    {
     "name": "stderr",
     "output_type": "stream",
     "text": [
      "Model summary (fused): 168 layers, 11128680 parameters, 0 gradients, 28.5 GFLOPs\n",
      "\u001b[34m\u001b[1mval: \u001b[0mScanning /home/ubuntu/zoucheng/yolo/end/test.cache... 517 images, 6 backgrounds, 0 corrupt: 100%|██████████| 517/517 [00:00<?, ?it/s]\n",
      "\u001b[34m\u001b[1mval: \u001b[0mWARNING ⚠️ /home/ubuntu/zoucheng/yolo/end/test/29.jpg: corrupt JPEG restored and saved\n",
      "\u001b[34m\u001b[1mval: \u001b[0mWARNING ⚠️ /home/ubuntu/zoucheng/yolo/end/test/99.jpg: corrupt JPEG restored and saved\n",
      "\u001b[34m\u001b[1mval: \u001b[0mWARNING ⚠️ /home/ubuntu/zoucheng/yolo/end/test/lumian168.jpg: corrupt JPEG restored and saved\n",
      "                 Class     Images  Instances      Box(P          R      mAP50  mAP50-95): 100%|██████████| 33/33 [00:13<00:00,  2.42it/s]\n",
      "                   all        517       1196      0.478      0.319      0.403      0.257\n",
      "       transverseCrack        517         72      0.324      0.167      0.241       0.13\n",
      "     longitudinalCrack        517        562      0.628      0.598      0.601      0.371\n",
      "           blockyCrack        517         33      0.583      0.424      0.565        0.4\n",
      "              cracking        517         50      0.286       0.16      0.204      0.123\n",
      "             pitGroove        517         52      0.241      0.135       0.17     0.0692\n",
      "      repairMeshCracks        517         52      0.686      0.462      0.619      0.431\n",
      "          repairCracks        517        343      0.494      0.388      0.399      0.192\n",
      "  repairPitsAndGrooves        517         32      0.583      0.219      0.427      0.343\n",
      "Speed: 0.3ms preprocess, 19.0ms inference, 0.0ms loss, 0.9ms postprocess per image\n",
      "Results saved to \u001b[1mruns/detect/val242\u001b[0m\n"
     ]
    },
    {
     "name": "stdout",
     "output_type": "stream",
     "text": [
      "8\t0.3758131887117072\n"
     ]
    }
   ],
   "source": [
    "from ultralytics import YOLO\n",
    "for i in range(0,9):\n",
    "    model = YOLO(f'end/train_split{i}/weights/best.pt')  # load an official model\n",
    "    # model = YOLO('path/to/best.pt')  # load a custom model\n",
    "\n",
    "    # Validate the model\n",
    "    metrics = model.val(data = 'data/data_oversampling_new.yaml',device=3,iou=0.34,conf=0.3) # no arguments needed, dataset and settings remembered\n",
    "    #     metrics.box.f1\n",
    "    print(i,metrics.box.f1.mean(),sep='\\t') #3\t0.36028127                                                                                                 86583732 0.35"
   ]
  },
  {
   "cell_type": "code",
   "execution_count": 7,
   "metadata": {},
   "outputs": [
    {
     "name": "stderr",
     "output_type": "stream",
     "text": [
      "Ultralytics YOLOv8.0.186 🚀 Python-3.8.5 torch-1.9.1+cu102 CUDA:3 (Tesla K80, 11441MiB)\n",
      "Model summary (fused): 168 layers, 11128680 parameters, 0 gradients, 28.5 GFLOPs\n",
      "\u001b[34m\u001b[1mval: \u001b[0mScanning /home/ubuntu/zoucheng/yolo/end/test.cache... 517 images, 6 backgrounds, 0 corrupt: 100%|██████████| 517/517 [00:00<?, ?it/s]\n",
      "\u001b[34m\u001b[1mval: \u001b[0mWARNING ⚠️ /home/ubuntu/zoucheng/yolo/end/test/29.jpg: corrupt JPEG restored and saved\n",
      "\u001b[34m\u001b[1mval: \u001b[0mWARNING ⚠️ /home/ubuntu/zoucheng/yolo/end/test/99.jpg: corrupt JPEG restored and saved\n",
      "\u001b[34m\u001b[1mval: \u001b[0mWARNING ⚠️ /home/ubuntu/zoucheng/yolo/end/test/lumian168.jpg: corrupt JPEG restored and saved\n",
      "                 Class     Images  Instances      Box(P          R      mAP50  mAP50-95): 100%|██████████| 33/33 [00:13<00:00,  2.47it/s]\n",
      "                   all        517       1196      0.511      0.309      0.411       0.27\n",
      "       transverseCrack        517         72      0.292     0.0972      0.216      0.144\n",
      "     longitudinalCrack        517        562       0.62      0.577      0.597      0.374\n",
      "           blockyCrack        517         33      0.682      0.455      0.606      0.411\n",
      "              cracking        517         50       0.24       0.12      0.167      0.133\n",
      "             pitGroove        517         52      0.258      0.154      0.179     0.0774\n",
      "      repairMeshCracks        517         52      0.833      0.481      0.676      0.469\n",
      "          repairCracks        517        343      0.527      0.367      0.402      0.203\n",
      "  repairPitsAndGrooves        517         32      0.636      0.219      0.449      0.347\n",
      "Speed: 0.3ms preprocess, 18.8ms inference, 0.0ms loss, 0.7ms postprocess per image\n",
      "Results saved to \u001b[1mruns/detect/val243\u001b[0m\n"
     ]
    },
    {
     "name": "stdout",
     "output_type": "stream",
     "text": [
      "8\t0.3762026462247706\n"
     ]
    }
   ],
   "source": [
    "model = YOLO(f'end/train_split9/weights/best.pt')  # load an official model\n",
    "# model = YOLO('path/to/best.pt')  # load a custom model\n",
    "\n",
    "# Validate the model\n",
    "metrics = model.val(data = 'data/data_oversampling_new.yaml',device=3,iou=0.34,conf=0.3) # no arguments needed, dataset and settings remembered\n",
    "#     metrics.box.f1\n",
    "print(i,metrics.box.f1.mean(),sep='\\t')"
   ]
  },
  {
   "cell_type": "code",
   "execution_count": 8,
   "metadata": {},
   "outputs": [
    {
     "name": "stderr",
     "output_type": "stream",
     "text": [
      "Ultralytics YOLOv8.0.186 🚀 Python-3.8.5 torch-1.9.1+cu102 CUDA:3 (Tesla K80, 11441MiB)\n",
      "Model summary (fused): 168 layers, 11128680 parameters, 0 gradients, 28.5 GFLOPs\n",
      "\u001b[34m\u001b[1mval: \u001b[0mScanning /home/ubuntu/zoucheng/yolo/end/test.cache... 517 images, 6 backgrounds, 0 corrupt: 100%|██████████| 517/517 [00:00<?, ?it/s]\n",
      "\u001b[34m\u001b[1mval: \u001b[0mWARNING ⚠️ /home/ubuntu/zoucheng/yolo/end/test/29.jpg: corrupt JPEG restored and saved\n",
      "\u001b[34m\u001b[1mval: \u001b[0mWARNING ⚠️ /home/ubuntu/zoucheng/yolo/end/test/99.jpg: corrupt JPEG restored and saved\n",
      "\u001b[34m\u001b[1mval: \u001b[0mWARNING ⚠️ /home/ubuntu/zoucheng/yolo/end/test/lumian168.jpg: corrupt JPEG restored and saved\n",
      "                 Class     Images  Instances      Box(P          R      mAP50  mAP50-95): 100%|██████████| 33/33 [00:13<00:00,  2.38it/s]\n",
      "                   all        517       1196       0.48      0.332      0.336      0.192\n",
      "       transverseCrack        517         72      0.284      0.125      0.149     0.0717\n",
      "     longitudinalCrack        517        562        0.6      0.598      0.579      0.326\n",
      "           blockyCrack        517         33      0.625      0.485      0.555      0.353\n",
      "              cracking        517         50      0.261       0.14       0.09     0.0585\n",
      "             pitGroove        517         52      0.228       0.17      0.114     0.0446\n",
      "      repairMeshCracks        517         52       0.78        0.5      0.577      0.349\n",
      "          repairCracks        517        343      0.514      0.416      0.374      0.153\n",
      "  repairPitsAndGrooves        517         32      0.544      0.219      0.251      0.183\n",
      "Speed: 0.3ms preprocess, 18.8ms inference, 0.0ms loss, 1.0ms postprocess per image\n",
      "Results saved to \u001b[1mruns/detect/val244\u001b[0m\n"
     ]
    },
    {
     "name": "stdout",
     "output_type": "stream",
     "text": [
      "8\t0.3846329440187408\n"
     ]
    }
   ],
   "source": [
    "model = YOLO(f'end/train_split9/weights/best.pt')  # load an official model\n",
    "# model = YOLO('path/to/best.pt')  # load a custom model\n",
    "\n",
    "# Validate the model\n",
    "metrics = model.val(data = 'data/data_oversampling_new.yaml',device=3,iou=0.34) # no arguments needed, dataset and settings remembered\n",
    "#     metrics.box.f1\n",
    "print(i,metrics.box.f1.mean(),sep='\\t')"
   ]
  },
  {
   "cell_type": "code",
   "execution_count": 11,
   "metadata": {},
   "outputs": [
    {
     "name": "stderr",
     "output_type": "stream",
     "text": [
      "Ultralytics YOLOv8.0.186 🚀 Python-3.8.5 torch-1.9.1+cu102 CUDA:3 (Tesla K80, 11441MiB)\n",
      "Model summary (fused): 168 layers, 11128680 parameters, 0 gradients, 28.5 GFLOPs\n",
      "\u001b[34m\u001b[1mval: \u001b[0mScanning /home/ubuntu/zoucheng/yolo/end/test.cache... 517 images, 6 backgrounds, 0 corrupt: 100%|██████████| 517/517 [00:00<?, ?it/s]\n",
      "\u001b[34m\u001b[1mval: \u001b[0mWARNING ⚠️ /home/ubuntu/zoucheng/yolo/end/test/29.jpg: corrupt JPEG restored and saved\n",
      "\u001b[34m\u001b[1mval: \u001b[0mWARNING ⚠️ /home/ubuntu/zoucheng/yolo/end/test/99.jpg: corrupt JPEG restored and saved\n",
      "\u001b[34m\u001b[1mval: \u001b[0mWARNING ⚠️ /home/ubuntu/zoucheng/yolo/end/test/lumian168.jpg: corrupt JPEG restored and saved\n",
      "                 Class     Images  Instances      Box(P          R      mAP50  mAP50-95): 100%|██████████| 33/33 [00:12<00:00,  2.55it/s]\n",
      "                   all        517       1196      0.544      0.266       0.41      0.281\n",
      "       transverseCrack        517         72      0.333     0.0972      0.235      0.157\n",
      "     longitudinalCrack        517        562      0.662      0.548      0.596      0.378\n",
      "           blockyCrack        517         33      0.765      0.394      0.608      0.421\n",
      "              cracking        517         50       0.25        0.1      0.169      0.134\n",
      "             pitGroove        517         52      0.158     0.0577      0.114     0.0448\n",
      "      repairMeshCracks        517         52        0.8      0.462      0.657       0.46\n",
      "          repairCracks        517        343      0.554      0.315      0.391      0.203\n",
      "  repairPitsAndGrooves        517         32      0.833      0.156      0.508      0.448\n",
      "Speed: 0.3ms preprocess, 19.0ms inference, 0.0ms loss, 0.7ms postprocess per image\n",
      "Results saved to \u001b[1mruns/detect/val247\u001b[0m\n"
     ]
    },
    {
     "name": "stdout",
     "output_type": "stream",
     "text": [
      "8\t0.34346472684941676\n"
     ]
    }
   ],
   "source": [
    "model = YOLO(f'end/train_split9/weights/best.pt')  # load an official model\n",
    "# model = YOLO('path/to/best.pt')  # load a custom model\n",
    "\n",
    "# Validate the model\n",
    "metrics = model.val(data = 'data/data_oversampling_new.yaml',device=3,conf=0.4) # no arguments needed, dataset and settings remembered\n",
    "#     metrics.box.f1\n",
    "print(i,metrics.box.f1.mean(),sep='\\t')"
   ]
  },
  {
   "cell_type": "code",
   "execution_count": 14,
   "metadata": {},
   "outputs": [
    {
     "name": "stderr",
     "output_type": "stream",
     "text": [
      "Ultralytics YOLOv8.0.186 🚀 Python-3.8.5 torch-1.9.1+cu102 CUDA:3 (Tesla K80, 11441MiB)\n",
      "Model summary (fused): 168 layers, 11128680 parameters, 0 gradients, 28.5 GFLOPs\n",
      "\u001b[34m\u001b[1mval: \u001b[0mScanning /home/ubuntu/zoucheng/yolo/end/test.cache... 517 images, 6 backgrounds, 0 corrupt: 100%|██████████| 517/517 [00:00<?, ?it/s]\n",
      "\u001b[34m\u001b[1mval: \u001b[0mWARNING ⚠️ /home/ubuntu/zoucheng/yolo/end/test/29.jpg: corrupt JPEG restored and saved\n",
      "\u001b[34m\u001b[1mval: \u001b[0mWARNING ⚠️ /home/ubuntu/zoucheng/yolo/end/test/99.jpg: corrupt JPEG restored and saved\n",
      "\u001b[34m\u001b[1mval: \u001b[0mWARNING ⚠️ /home/ubuntu/zoucheng/yolo/end/test/lumian168.jpg: corrupt JPEG restored and saved\n",
      "                 Class     Images  Instances      Box(P          R      mAP50  mAP50-95): 100%|██████████| 33/33 [00:13<00:00,  2.42it/s]\n",
      "                   all        517       1196      0.452      0.351       0.37      0.223\n",
      "       transverseCrack        517         72      0.308      0.181      0.182     0.0963\n",
      "     longitudinalCrack        517        562      0.631       0.59      0.601      0.363\n",
      "           blockyCrack        517         33      0.575      0.576      0.589        0.4\n",
      "              cracking        517         50      0.271       0.18      0.176      0.092\n",
      "             pitGroove        517         52      0.225      0.135     0.0981     0.0382\n",
      "      repairMeshCracks        517         52      0.704      0.481      0.595      0.395\n",
      "          repairCracks        517        343      0.489      0.449        0.4       0.18\n",
      "  repairPitsAndGrooves        517         32      0.415      0.219       0.32      0.218\n",
      "Speed: 0.3ms preprocess, 18.8ms inference, 0.0ms loss, 0.8ms postprocess per image\n",
      "Results saved to \u001b[1mruns/detect/val259\u001b[0m\n"
     ]
    },
    {
     "name": "stdout",
     "output_type": "stream",
     "text": [
      "0.39046141428738246\n"
     ]
    }
   ],
   "source": [
    "model = YOLO(f'end/train_split6/weights/best.pt')  # load an official model\n",
    "# model = YOLO('path/to/best.pt')  # load a custom model\n",
    "\n",
    "# Validate the model\n",
    "metrics = model.val(data = 'data/data_oversampling_new.yaml',device=3,iou=0.4,conf=0.1) # no arguments needed, dataset and settings remembered\n",
    "#     metrics.box.f1\n",
    "print(metrics.box.f1.mean(),sep='\\t')"
   ]
  },
  {
   "cell_type": "code",
   "execution_count": 2,
   "metadata": {},
   "outputs": [
    {
     "name": "stderr",
     "output_type": "stream",
     "text": [
      "Ultralytics YOLOv8.0.186 🚀 Python-3.8.5 torch-1.9.1+cu102 CUDA:1 (Tesla K80, 11441MiB)\n",
      "Model summary (fused): 168 layers, 11128680 parameters, 0 gradients, 28.5 GFLOPs\n",
      "\u001b[34m\u001b[1mval: \u001b[0mScanning /home/ubuntu/zoucheng/yolo/gr_ai_kuochong/test.cache... 2595 images, 1 backgrounds, 0 corrupt: 100%|██████████| 2595/2595 [00:00<?, ?it/s]\n",
      "\u001b[34m\u001b[1mval: \u001b[0mWARNING ⚠️ /home/ubuntu/zoucheng/yolo/gr_ai_kuochong/test/54.jpg: corrupt JPEG restored and saved\n",
      "                 Class     Images  Instances      Box(P          R      mAP50  mAP50-95): 100%|██████████| 163/163 [03:48<00:00,  1.40s/it]\n",
      "                   all       2595       5446      0.576      0.411      0.502      0.284\n",
      "       transverseCrack       2595       1018      0.532      0.402      0.453      0.191\n",
      "     longitudinalCrack       2595       1720      0.635      0.472      0.551      0.306\n",
      "           blockyCrack       2595         39      0.536      0.385      0.484      0.303\n",
      "              cracking       2595       1440      0.701      0.607      0.667      0.382\n",
      "             pitGroove       2595        834      0.622      0.372      0.488      0.238\n",
      "      repairMeshCracks       2595         48       0.52      0.542      0.606      0.466\n",
      "          repairCracks       2595        313      0.559      0.364      0.434      0.203\n",
      "  repairPitsAndGrooves       2595         34        0.5      0.147      0.336      0.186\n",
      "Speed: 0.8ms preprocess, 67.6ms inference, 0.0ms loss, 4.6ms postprocess per image\n",
      "Results saved to \u001b[1mruns/detect/val273\u001b[0m\n"
     ]
    },
    {
     "name": "stdout",
     "output_type": "stream",
     "text": [
      "0.4702019204867426\n"
     ]
    }
   ],
   "source": [
    "from ultralytics import YOLO\n",
    "model = YOLO(f'kuochong/train_split1/weights/best.pt')  # load an official model\n",
    "# model = YOLO('path/to/best.pt')  # load a custom model\n",
    "\n",
    "# Validate the model\n",
    "metrics = model.val(data = 'data/ai_data.yaml',device=1,iou=0.5,conf=0.3) # no arguments needed, dataset and settings remembered\n",
    "#     metrics.box.f1\n",
    "print(metrics.box.f1.mean(),sep='\\t')"
   ]
  },
  {
   "cell_type": "code",
   "execution_count": 3,
   "metadata": {},
   "outputs": [
    {
     "name": "stderr",
     "output_type": "stream",
     "text": [
      "Ultralytics YOLOv8.0.186 🚀 Python-3.8.5 torch-1.9.1+cu102 CUDA:1 (Tesla K80, 11441MiB)\n",
      "Model summary (fused): 168 layers, 11128680 parameters, 0 gradients, 28.5 GFLOPs\n",
      "\u001b[34m\u001b[1mval: \u001b[0mScanning /home/ubuntu/zoucheng/yolo/gr_ai_kuochong/test.cache... 2595 images, 1 backgrounds, 0 corrupt: 100%|██████████| 2595/2595 [00:00<?, ?it/s]\n",
      "\u001b[34m\u001b[1mval: \u001b[0mWARNING ⚠️ /home/ubuntu/zoucheng/yolo/gr_ai_kuochong/test/54.jpg: corrupt JPEG restored and saved\n",
      "                 Class     Images  Instances      Box(P          R      mAP50  mAP50-95): 100%|██████████| 163/163 [03:52<00:00,  1.43s/it]\n",
      "                   all       2595       5446      0.611      0.405      0.519      0.292\n",
      "       transverseCrack       2595       1018       0.55      0.386      0.453      0.198\n",
      "     longitudinalCrack       2595       1720      0.604       0.52      0.563      0.308\n",
      "           blockyCrack       2595         39      0.481      0.333      0.457      0.295\n",
      "              cracking       2595       1440        0.7      0.626       0.68      0.387\n",
      "             pitGroove       2595        834      0.627      0.416      0.518      0.246\n",
      "      repairMeshCracks       2595         48        0.6      0.438       0.58      0.437\n",
      "          repairCracks       2595        313      0.525      0.406      0.429      0.203\n",
      "  repairPitsAndGrooves       2595         34        0.8      0.118       0.47      0.261\n",
      "Speed: 1.2ms preprocess, 68.0ms inference, 0.0ms loss, 4.7ms postprocess per image\n",
      "Results saved to \u001b[1mruns/detect/val274\u001b[0m\n"
     ]
    },
    {
     "name": "stdout",
     "output_type": "stream",
     "text": [
      "0.4671133569509677\n"
     ]
    }
   ],
   "source": [
    "from ultralytics import YOLO\n",
    "model = YOLO(f'kuochong/train_split2/weights/best.pt')  # load an official model\n",
    "# model = YOLO('path/to/best.pt')  # load a custom model\n",
    "\n",
    "# Validate the model\n",
    "metrics = model.val(data = 'data/ai_data.yaml',device=1,iou=0.5,conf=0.3) # no arguments needed, dataset and settings remembered\n",
    "#     metrics.box.f1\n",
    "print(metrics.box.f1.mean(),sep='\\t')"
   ]
  },
  {
   "cell_type": "code",
   "execution_count": 5,
   "metadata": {},
   "outputs": [
    {
     "name": "stderr",
     "output_type": "stream",
     "text": [
      "Ultralytics YOLOv8.0.186 🚀 Python-3.8.5 torch-1.9.1+cu102 CUDA:0 (Tesla K80, 11441MiB)\n",
      "Model summary (fused): 168 layers, 11128680 parameters, 0 gradients, 28.5 GFLOPs\n",
      "\u001b[34m\u001b[1mval: \u001b[0mScanning /home/ubuntu/zoucheng/yolo/gr_ai_kuochong/test.cache... 2595 images, 1 backgrounds, 0 corrupt: 100%|██████████| 2595/2595 [00:00<?, ?it/s]\n",
      "\u001b[34m\u001b[1mval: \u001b[0mWARNING ⚠️ /home/ubuntu/zoucheng/yolo/gr_ai_kuochong/test/54.jpg: corrupt JPEG restored and saved\n",
      "                 Class     Images  Instances      Box(P          R      mAP50  mAP50-95): 100%|██████████| 163/163 [01:49<00:00,  1.49it/s]\n",
      "                   all       2595       5446       0.59      0.434      0.517      0.295\n",
      "       transverseCrack       2595       1018      0.524      0.417      0.457      0.196\n",
      "     longitudinalCrack       2595       1720      0.588      0.544      0.562      0.309\n",
      "           blockyCrack       2595         39      0.467      0.359      0.444      0.285\n",
      "              cracking       2595       1440      0.665      0.636      0.671      0.383\n",
      "             pitGroove       2595        834      0.586      0.452      0.523      0.246\n",
      "      repairMeshCracks       2595         48      0.667        0.5      0.629      0.483\n",
      "          repairCracks       2595        313      0.506      0.419       0.42      0.201\n",
      "  repairPitsAndGrooves       2595         34      0.714      0.147      0.425      0.255\n",
      "Speed: 1.5ms preprocess, 34.6ms inference, 0.0ms loss, 0.9ms postprocess per image\n",
      "Results saved to \u001b[1mruns/detect/val270\u001b[0m\n"
     ]
    },
    {
     "name": "stdout",
     "output_type": "stream",
     "text": [
      "0.48369005427039324\n"
     ]
    }
   ],
   "source": [
    "from ultralytics import YOLO\n",
    "model = YOLO(f'kuochong/train_split0/weights/best.pt')  # load an official model\n",
    "# model = YOLO('path/to/best.pt')  # load a custom model\n",
    "\n",
    "# Validate the model\n",
    "metrics = model.val(data = 'data/ai_data.yaml',device=0,iou=0.5,conf=0.3) # no arguments needed, dataset and settings remembered\n",
    "#     metrics.box.f1\n",
    "print(metrics.box.f1.mean(),sep='\\t')"
   ]
  },
  {
   "cell_type": "code",
   "execution_count": 6,
   "metadata": {},
   "outputs": [
    {
     "name": "stderr",
     "output_type": "stream",
     "text": [
      "Ultralytics YOLOv8.0.186 🚀 Python-3.8.5 torch-1.9.1+cu102 CUDA:0 (Tesla K80, 11441MiB)\n",
      "Model summary (fused): 168 layers, 11128680 parameters, 0 gradients, 28.5 GFLOPs\n",
      "\u001b[34m\u001b[1mval: \u001b[0mScanning /home/ubuntu/zoucheng/yolo/gg_noA/test.cache... 2486 images, 0 backgrounds, 0 corrupt: 100%|██████████| 2486/2486 [00:00<?, ?it/s]\n",
      "                 Class     Images  Instances      Box(P          R      mAP50  mAP50-95): 100%|██████████| 156/156 [01:41<00:00,  1.54it/s]\n",
      "                   all       2486       5214      0.592      0.448       0.53      0.314\n",
      "       transverseCrack       2486        964      0.537      0.411      0.457      0.202\n",
      "     longitudinalCrack       2486       1586      0.593      0.516      0.559      0.302\n",
      "           blockyCrack       2486         13        0.5      0.538      0.559      0.341\n",
      "              cracking       2486       1492      0.644      0.625      0.661      0.372\n",
      "             pitGroove       2486        816      0.584      0.473      0.524      0.254\n",
      "      repairMeshCracks       2486         19      0.833      0.526      0.715      0.612\n",
      "          repairCracks       2486        313       0.54      0.406      0.445      0.204\n",
      "  repairPitsAndGrooves       2486         11        0.5     0.0909       0.32      0.224\n",
      "Speed: 0.3ms preprocess, 35.5ms inference, 0.0ms loss, 1.5ms postprocess per image\n",
      "Results saved to \u001b[1mruns/detect/val271\u001b[0m\n"
     ]
    },
    {
     "name": "stdout",
     "output_type": "stream",
     "text": [
      "0.4944729654391826\n"
     ]
    }
   ],
   "source": [
    "from ultralytics import YOLO\n",
    "model = YOLO(f'endx/train_split0/weights/best.pt')  # load an official model\n",
    "# model = YOLO('path/to/best.pt')  # load a custom model\n",
    "\n",
    "# Validate the model\n",
    "metrics = model.val(data = 'data/ai_datanoA.yaml',device=0,iou=0.5,conf=0.3) # no arguments needed, dataset and settings remembered\n",
    "#     metrics.box.f1\n",
    "print(metrics.box.f1.mean(),sep='\\t')"
   ]
  },
  {
   "cell_type": "code",
   "execution_count": 4,
   "metadata": {},
   "outputs": [
    {
     "name": "stderr",
     "output_type": "stream",
     "text": [
      "Ultralytics YOLOv8.0.186 🚀 Python-3.8.5 torch-1.9.1+cu102 CUDA:1 (Tesla K80, 11441MiB)\n",
      "Model summary (fused): 168 layers, 11128680 parameters, 0 gradients, 28.5 GFLOPs\n",
      "\u001b[34m\u001b[1mval: \u001b[0mScanning /home/ubuntu/zoucheng/yolo/gg_noA/test.cache... 2486 images, 0 backgrounds, 0 corrupt: 100%|██████████| 2486/2486 [00:00<?, ?it/s]\n",
      "                 Class     Images  Instances      Box(P          R      mAP50  mAP50-95): 100%|██████████| 156/156 [03:45<00:00,  1.45s/it]\n",
      "                   all       2486       5214       0.61      0.443       0.54      0.317\n",
      "       transverseCrack       2486        964       0.55        0.4      0.458      0.201\n",
      "     longitudinalCrack       2486       1586      0.583      0.506      0.552      0.298\n",
      "           blockyCrack       2486         13        0.4      0.462      0.527      0.336\n",
      "              cracking       2486       1492      0.677      0.595      0.662      0.376\n",
      "             pitGroove       2486        816      0.607      0.463      0.536      0.259\n",
      "      repairMeshCracks       2486         19      0.833      0.526      0.715       0.61\n",
      "          repairCracks       2486        313      0.561      0.412      0.449      0.209\n",
      "  repairPitsAndGrooves       2486         11      0.667      0.182      0.426      0.244\n",
      "Speed: 0.9ms preprocess, 69.5ms inference, 0.0ms loss, 4.7ms postprocess per image\n",
      "Results saved to \u001b[1mruns/detect/val275\u001b[0m\n"
     ]
    },
    {
     "name": "stdout",
     "output_type": "stream",
     "text": [
      "0.499780274673566\n"
     ]
    }
   ],
   "source": [
    "from ultralytics import YOLO\n",
    "model = YOLO(f'endx/train_split1/weights/best.pt')  # load an official model\n",
    "# model = YOLO('path/to/best.pt')  # load a custom model\n",
    "\n",
    "# Validate the model\n",
    "metrics = model.val(data = 'data/ai_datanoA.yaml',device=1,iou=0.1,conf=0.3) # no arguments needed, dataset and settings remembered\n",
    "#     metrics.box.f1\n",
    "print(metrics.box.f1.mean(),sep='\\t')"
   ]
  },
  {
   "cell_type": "code",
   "execution_count": 6,
   "metadata": {},
   "outputs": [
    {
     "name": "stderr",
     "output_type": "stream",
     "text": [
      "Ultralytics YOLOv8.0.186 🚀 Python-3.8.5 torch-1.9.1+cu102 CUDA:2 (Tesla K80, 11441MiB)\n",
      "Model summary (fused): 168 layers, 11128680 parameters, 0 gradients, 28.5 GFLOPs\n",
      "\u001b[34m\u001b[1mval: \u001b[0mScanning /home/ubuntu/zoucheng/yolo/gg_noA/test.cache... 2486 images, 0 backgrounds, 0 corrupt: 100%|██████████| 2486/2486 [00:00<?, ?it/s]\n",
      "                 Class     Images  Instances      Box(P          R      mAP50  mAP50-95): 100%|██████████| 156/156 [01:47<00:00,  1.45it/s]\n",
      "                   all       2486       5214      0.592      0.448       0.53      0.314\n",
      "       transverseCrack       2486        964      0.537      0.411      0.457      0.202\n",
      "     longitudinalCrack       2486       1586      0.593      0.516      0.559      0.302\n",
      "           blockyCrack       2486         13        0.5      0.538      0.559      0.341\n",
      "              cracking       2486       1492      0.644      0.625      0.661      0.372\n",
      "             pitGroove       2486        816      0.584      0.473      0.524      0.254\n",
      "      repairMeshCracks       2486         19      0.833      0.526      0.715      0.612\n",
      "          repairCracks       2486        313       0.54      0.406      0.445      0.204\n",
      "  repairPitsAndGrooves       2486         11        0.5     0.0909       0.32      0.224\n",
      "Speed: 0.3ms preprocess, 38.0ms inference, 0.0ms loss, 1.0ms postprocess per image\n",
      "Results saved to \u001b[1mruns/detect/val277\u001b[0m\n"
     ]
    },
    {
     "name": "stdout",
     "output_type": "stream",
     "text": [
      "0\t0.4944729654391826\n"
     ]
    },
    {
     "name": "stderr",
     "output_type": "stream",
     "text": [
      "Ultralytics YOLOv8.0.186 🚀 Python-3.8.5 torch-1.9.1+cu102 CUDA:2 (Tesla K80, 11441MiB)\n",
      "Model summary (fused): 168 layers, 11128680 parameters, 0 gradients, 28.5 GFLOPs\n",
      "\u001b[34m\u001b[1mval: \u001b[0mScanning /home/ubuntu/zoucheng/yolo/gg_noA/test.cache... 2486 images, 0 backgrounds, 0 corrupt: 100%|██████████| 2486/2486 [00:00<?, ?it/s]\n",
      "                 Class     Images  Instances      Box(P          R      mAP50  mAP50-95): 100%|██████████| 156/156 [01:46<00:00,  1.47it/s]\n",
      "                   all       2486       5214      0.603      0.451      0.541      0.316\n",
      "       transverseCrack       2486        964      0.547      0.407      0.458      0.201\n",
      "     longitudinalCrack       2486       1586      0.574       0.52      0.554      0.299\n",
      "           blockyCrack       2486         13        0.4      0.462      0.527      0.336\n",
      "              cracking       2486       1492      0.655      0.615      0.663      0.375\n",
      "             pitGroove       2486        816      0.601      0.473      0.537       0.26\n",
      "      repairMeshCracks       2486         19      0.833      0.526      0.715       0.61\n",
      "          repairCracks       2486        313      0.543      0.422      0.444      0.206\n",
      "  repairPitsAndGrooves       2486         11      0.667      0.182      0.426      0.244\n",
      "Speed: 0.3ms preprocess, 38.0ms inference, 0.0ms loss, 0.9ms postprocess per image\n",
      "Results saved to \u001b[1mruns/detect/val278\u001b[0m\n"
     ]
    },
    {
     "name": "stdout",
     "output_type": "stream",
     "text": [
      "1\t0.5012331800478909\n"
     ]
    },
    {
     "name": "stderr",
     "output_type": "stream",
     "text": [
      "Ultralytics YOLOv8.0.186 🚀 Python-3.8.5 torch-1.9.1+cu102 CUDA:2 (Tesla K80, 11441MiB)\n",
      "Model summary (fused): 168 layers, 11128680 parameters, 0 gradients, 28.5 GFLOPs\n",
      "\u001b[34m\u001b[1mval: \u001b[0mScanning /home/ubuntu/zoucheng/yolo/gg_noA/test.cache... 2486 images, 0 backgrounds, 0 corrupt: 100%|██████████| 2486/2486 [00:00<?, ?it/s]\n",
      "                 Class     Images  Instances      Box(P          R      mAP50  mAP50-95): 100%|██████████| 156/156 [01:48<00:00,  1.44it/s]\n",
      "                   all       2486       5214      0.582      0.454       0.53      0.308\n",
      "       transverseCrack       2486        964      0.524      0.413      0.451      0.197\n",
      "     longitudinalCrack       2486       1586      0.602      0.489      0.556      0.307\n",
      "           blockyCrack       2486         13      0.538      0.538      0.596      0.352\n",
      "              cracking       2486       1492      0.652      0.628      0.668      0.376\n",
      "             pitGroove       2486        816      0.566      0.483      0.527      0.252\n",
      "      repairMeshCracks       2486         19       0.75      0.474      0.662      0.581\n",
      "          repairCracks       2486        313      0.522      0.425      0.437      0.201\n",
      "  repairPitsAndGrooves       2486         11        0.5      0.182      0.343      0.199\n",
      "Speed: 0.4ms preprocess, 38.0ms inference, 0.0ms loss, 1.2ms postprocess per image\n",
      "Results saved to \u001b[1mruns/detect/val279\u001b[0m\n",
      "Ultralytics YOLOv8.0.186 🚀 Python-3.8.5 torch-1.9.1+cu102 CUDA:2 (Tesla K80, 11441MiB)\n"
     ]
    },
    {
     "name": "stdout",
     "output_type": "stream",
     "text": [
      "2\t0.5020241268033245\n"
     ]
    },
    {
     "name": "stderr",
     "output_type": "stream",
     "text": [
      "Model summary (fused): 168 layers, 11128680 parameters, 0 gradients, 28.5 GFLOPs\n",
      "\u001b[34m\u001b[1mval: \u001b[0mScanning /home/ubuntu/zoucheng/yolo/gg_noA/test.cache... 2486 images, 0 backgrounds, 0 corrupt: 100%|██████████| 2486/2486 [00:00<?, ?it/s]\n",
      "                 Class     Images  Instances      Box(P          R      mAP50  mAP50-95): 100%|██████████| 156/156 [02:27<00:00,  1.06it/s]\n",
      "                   all       2486       5214      0.589      0.436      0.527       0.31\n",
      "       transverseCrack       2486        964      0.552      0.391      0.459        0.2\n",
      "     longitudinalCrack       2486       1586      0.596      0.503      0.559      0.302\n",
      "           blockyCrack       2486         13      0.444      0.538      0.563      0.332\n",
      "              cracking       2486       1492      0.694       0.59      0.664      0.378\n",
      "             pitGroove       2486        816      0.636       0.43       0.53      0.261\n",
      "      repairMeshCracks       2486         19      0.711      0.526       0.67      0.583\n",
      "          repairCracks       2486        313       0.58      0.422       0.45        0.2\n",
      "  repairPitsAndGrooves       2486         11        0.5     0.0909       0.32      0.224\n",
      "Speed: 0.4ms preprocess, 54.0ms inference, 0.0ms loss, 1.0ms postprocess per image\n",
      "Results saved to \u001b[1mruns/detect/val280\u001b[0m\n",
      "Ultralytics YOLOv8.0.186 🚀 Python-3.8.5 torch-1.9.1+cu102 CUDA:2 (Tesla K80, 11441MiB)\n"
     ]
    },
    {
     "name": "stdout",
     "output_type": "stream",
     "text": [
      "3\t0.48600552757337234\n"
     ]
    },
    {
     "name": "stderr",
     "output_type": "stream",
     "text": [
      "Model summary (fused): 168 layers, 11128680 parameters, 0 gradients, 28.5 GFLOPs\n",
      "\u001b[34m\u001b[1mval: \u001b[0mScanning /home/ubuntu/zoucheng/yolo/gg_noA/test.cache... 2486 images, 0 backgrounds, 0 corrupt: 100%|██████████| 2486/2486 [00:00<?, ?it/s]\n",
      "                 Class     Images  Instances      Box(P          R      mAP50  mAP50-95): 100%|██████████| 156/156 [02:27<00:00,  1.06it/s]\n",
      "                   all       2486       5214      0.593       0.45      0.536      0.307\n",
      "       transverseCrack       2486        964      0.554      0.402       0.47      0.204\n",
      "     longitudinalCrack       2486       1586       0.63      0.484      0.567      0.309\n",
      "           blockyCrack       2486         13      0.417      0.538      0.536      0.291\n",
      "              cracking       2486       1492      0.674      0.611      0.663      0.378\n",
      "             pitGroove       2486        816       0.62      0.442      0.528      0.259\n",
      "      repairMeshCracks       2486         19      0.769      0.526      0.686      0.592\n",
      "          repairCracks       2486        313       0.58      0.415      0.454      0.208\n",
      "  repairPitsAndGrooves       2486         11        0.5      0.182      0.388      0.217\n",
      "Speed: 0.4ms preprocess, 38.0ms inference, 0.0ms loss, 1.0ms postprocess per image\n",
      "Results saved to \u001b[1mruns/detect/val281\u001b[0m\n"
     ]
    },
    {
     "name": "stdout",
     "output_type": "stream",
     "text": [
      "4\t0.5020990498492914\n"
     ]
    }
   ],
   "source": [
    "from ultralytics import YOLO\n",
    "for i in range(0,5):\n",
    "    model = YOLO(f'endx/train_split{i}/weights/best.pt')  # load an official model\n",
    "    # model = YOLO('path/to/best.pt')  # load a custom model\n",
    "\n",
    "    # Validate the model\n",
    "    metrics = model.val(data = 'data/ai_datanoA.yaml',device=2,iou=0.5,conf=0.3) # no arguments needed, dataset and settings remembered\n",
    "    #     metrics.box.f1\n",
    "    print(i,metrics.box.f1.mean(),sep='\\t')"
   ]
  },
  {
   "cell_type": "code",
   "execution_count": 7,
   "metadata": {},
   "outputs": [
    {
     "name": "stderr",
     "output_type": "stream",
     "text": [
      "Ultralytics YOLOv8.0.186 🚀 Python-3.8.5 torch-1.9.1+cu102 CUDA:2 (Tesla K80, 11441MiB)\n",
      "Model summary (fused): 168 layers, 11128680 parameters, 0 gradients, 28.5 GFLOPs\n",
      "\u001b[34m\u001b[1mval: \u001b[0mScanning /home/ubuntu/zoucheng/yolo/gr_ai_kuochong/test.cache... 2595 images, 1 backgrounds, 0 corrupt: 100%|██████████| 2595/2595 [00:00<?, ?it/s]\n",
      "\u001b[34m\u001b[1mval: \u001b[0mWARNING ⚠️ /home/ubuntu/zoucheng/yolo/gr_ai_kuochong/test/54.jpg: corrupt JPEG restored and saved\n",
      "                 Class     Images  Instances      Box(P          R      mAP50  mAP50-95): 100%|██████████| 163/163 [01:48<00:00,  1.50it/s]\n",
      "                   all       2595       5446       0.59      0.434      0.517      0.295\n",
      "       transverseCrack       2595       1018      0.524      0.417      0.457      0.196\n",
      "     longitudinalCrack       2595       1720      0.588      0.544      0.562      0.309\n",
      "           blockyCrack       2595         39      0.467      0.359      0.444      0.285\n",
      "              cracking       2595       1440      0.665      0.636      0.671      0.383\n",
      "             pitGroove       2595        834      0.586      0.452      0.523      0.246\n",
      "      repairMeshCracks       2595         48      0.667        0.5      0.629      0.483\n",
      "          repairCracks       2595        313      0.506      0.419       0.42      0.201\n",
      "  repairPitsAndGrooves       2595         34      0.714      0.147      0.425      0.255\n",
      "Speed: 0.3ms preprocess, 36.9ms inference, 0.0ms loss, 0.9ms postprocess per image\n",
      "Results saved to \u001b[1mruns/detect/val282\u001b[0m\n"
     ]
    },
    {
     "name": "stdout",
     "output_type": "stream",
     "text": [
      "0\t0.48369005427039324\n"
     ]
    },
    {
     "name": "stderr",
     "output_type": "stream",
     "text": [
      "Ultralytics YOLOv8.0.186 🚀 Python-3.8.5 torch-1.9.1+cu102 CUDA:2 (Tesla K80, 11441MiB)\n",
      "Model summary (fused): 168 layers, 11128680 parameters, 0 gradients, 28.5 GFLOPs\n",
      "\u001b[34m\u001b[1mval: \u001b[0mScanning /home/ubuntu/zoucheng/yolo/gr_ai_kuochong/test.cache... 2595 images, 1 backgrounds, 0 corrupt: 100%|██████████| 2595/2595 [00:00<?, ?it/s]\n",
      "\u001b[34m\u001b[1mval: \u001b[0mWARNING ⚠️ /home/ubuntu/zoucheng/yolo/gr_ai_kuochong/test/54.jpg: corrupt JPEG restored and saved\n",
      "                 Class     Images  Instances      Box(P          R      mAP50  mAP50-95): 100%|██████████| 163/163 [01:57<00:00,  1.39it/s]\n",
      "                   all       2595       5446      0.576      0.411      0.502      0.284\n",
      "       transverseCrack       2595       1018      0.532      0.402      0.453      0.191\n",
      "     longitudinalCrack       2595       1720      0.635      0.472      0.551      0.306\n",
      "           blockyCrack       2595         39      0.536      0.385      0.484      0.303\n",
      "              cracking       2595       1440      0.701      0.607      0.667      0.382\n",
      "             pitGroove       2595        834      0.622      0.372      0.488      0.238\n",
      "      repairMeshCracks       2595         48       0.52      0.542      0.606      0.466\n",
      "          repairCracks       2595        313      0.559      0.364      0.434      0.203\n",
      "  repairPitsAndGrooves       2595         34        0.5      0.147      0.336      0.186\n",
      "Speed: 0.5ms preprocess, 38.5ms inference, 0.0ms loss, 2.1ms postprocess per image\n",
      "Results saved to \u001b[1mruns/detect/val283\u001b[0m\n"
     ]
    },
    {
     "name": "stdout",
     "output_type": "stream",
     "text": [
      "1\t0.4702019204867426\n"
     ]
    },
    {
     "name": "stderr",
     "output_type": "stream",
     "text": [
      "Ultralytics YOLOv8.0.186 🚀 Python-3.8.5 torch-1.9.1+cu102 CUDA:2 (Tesla K80, 11441MiB)\n",
      "Model summary (fused): 168 layers, 11128680 parameters, 0 gradients, 28.5 GFLOPs\n",
      "\u001b[34m\u001b[1mval: \u001b[0mScanning /home/ubuntu/zoucheng/yolo/gr_ai_kuochong/test.cache... 2595 images, 1 backgrounds, 0 corrupt: 100%|██████████| 2595/2595 [00:00<?, ?it/s]\n",
      "\u001b[34m\u001b[1mval: \u001b[0mWARNING ⚠️ /home/ubuntu/zoucheng/yolo/gr_ai_kuochong/test/54.jpg: corrupt JPEG restored and saved\n",
      "                 Class     Images  Instances      Box(P          R      mAP50  mAP50-95): 100%|██████████| 163/163 [01:51<00:00,  1.46it/s]\n",
      "                   all       2595       5446      0.611      0.405      0.519      0.292\n",
      "       transverseCrack       2595       1018       0.55      0.386      0.453      0.198\n",
      "     longitudinalCrack       2595       1720      0.604       0.52      0.563      0.308\n",
      "           blockyCrack       2595         39      0.481      0.333      0.457      0.295\n",
      "              cracking       2595       1440        0.7      0.626       0.68      0.387\n",
      "             pitGroove       2595        834      0.627      0.416      0.518      0.246\n",
      "      repairMeshCracks       2595         48        0.6      0.438       0.58      0.437\n",
      "          repairCracks       2595        313      0.525      0.406      0.429      0.203\n",
      "  repairPitsAndGrooves       2595         34        0.8      0.118       0.47      0.261\n",
      "Speed: 1.5ms preprocess, 36.8ms inference, 0.0ms loss, 1.0ms postprocess per image\n",
      "Results saved to \u001b[1mruns/detect/val284\u001b[0m\n"
     ]
    },
    {
     "name": "stdout",
     "output_type": "stream",
     "text": [
      "2\t0.4671133569509677\n"
     ]
    },
    {
     "name": "stderr",
     "output_type": "stream",
     "text": [
      "Ultralytics YOLOv8.0.186 🚀 Python-3.8.5 torch-1.9.1+cu102 CUDA:2 (Tesla K80, 11441MiB)\n",
      "Model summary (fused): 168 layers, 11128680 parameters, 0 gradients, 28.5 GFLOPs\n",
      "\u001b[34m\u001b[1mval: \u001b[0mScanning /home/ubuntu/zoucheng/yolo/gr_ai_kuochong/test.cache... 2595 images, 1 backgrounds, 0 corrupt: 100%|██████████| 2595/2595 [00:00<?, ?it/s]\n",
      "\u001b[34m\u001b[1mval: \u001b[0mWARNING ⚠️ /home/ubuntu/zoucheng/yolo/gr_ai_kuochong/test/54.jpg: corrupt JPEG restored and saved\n",
      "                 Class     Images  Instances      Box(P          R      mAP50  mAP50-95): 100%|██████████| 163/163 [01:56<00:00,  1.39it/s]\n",
      "                   all       2595       5446      0.548      0.429      0.503      0.282\n",
      "       transverseCrack       2595       1018      0.523      0.417      0.453      0.196\n",
      "     longitudinalCrack       2595       1720      0.587      0.514      0.548      0.292\n",
      "           blockyCrack       2595         39      0.556      0.385      0.512      0.358\n",
      "              cracking       2595       1440      0.661      0.603      0.659      0.369\n",
      "             pitGroove       2595        834        0.6      0.428       0.52      0.246\n",
      "      repairMeshCracks       2595         48      0.676      0.521      0.644      0.469\n",
      "          repairCracks       2595        313      0.506      0.419      0.458      0.208\n",
      "  repairPitsAndGrooves       2595         34      0.278      0.147       0.23       0.12\n",
      "Speed: 3.5ms preprocess, 36.9ms inference, 0.0ms loss, 0.9ms postprocess per image\n",
      "Results saved to \u001b[1mruns/detect/val285\u001b[0m\n"
     ]
    },
    {
     "name": "stdout",
     "output_type": "stream",
     "text": [
      "3\t0.47946511934522096\n"
     ]
    }
   ],
   "source": [
    "from ultralytics import YOLO\n",
    "for i in range(0,4):\n",
    "    model = YOLO(f'kuochong/train_split{i}/weights/best.pt')  # load an official model\n",
    "    # model = YOLO('path/to/best.pt')  # load a custom model\n",
    "\n",
    "    # Validate the model\n",
    "    metrics = model.val(data = 'data/ai_data.yaml',device=2,iou=0.5,conf=0.3) # no arguments needed, dataset and settings remembered\n",
    "    #     metrics.box.f1\n",
    "    print(i,metrics.box.f1.mean(),sep='\\t')"
   ]
  },
  {
   "cell_type": "code",
   "execution_count": 3,
   "metadata": {},
   "outputs": [
    {
     "name": "stderr",
     "output_type": "stream",
     "text": [
      "Ultralytics YOLOv8.0.186 🚀 Python-3.8.5 torch-1.9.1+cu102 CUDA:3 (Tesla K80, 11441MiB)\n",
      "Model summary (fused): 168 layers, 11128680 parameters, 0 gradients, 28.5 GFLOPs\n"
     ]
    },
    {
     "name": "stdout",
     "output_type": "stream",
     "text": [
      "ERROR! Session/line number was not unique in database. History logging moved to new session 386\n"
     ]
    },
    {
     "name": "stderr",
     "output_type": "stream",
     "text": [
      "\u001b[34m\u001b[1mval: \u001b[0mScanning /home/ubuntu/zoucheng/yolo/07/test.cache... 987 images, 7 backgrounds, 0 corrupt: 100%|██████████| 987/987 [00:00<?, ?it/s]\n",
      "                 Class     Images  Instances      Box(P          R      mAP50  mAP50-95): 100%|██████████| 62/62 [00:35<00:00,  1.76it/s]\n",
      "                   all        987       1932      0.494      0.361      0.416       0.23\n",
      "       transverseCrack        987        122      0.338      0.139      0.213      0.111\n",
      "     longitudinalCrack        987        757      0.615      0.524      0.562      0.319\n",
      "           blockyCrack        987         40      0.465        0.5      0.468      0.304\n",
      "              cracking        987        390      0.669      0.492      0.591       0.28\n",
      "             pitGroove        987        218      0.572      0.233      0.406      0.186\n",
      "      repairMeshCracks        987         43       0.61      0.535       0.59      0.395\n",
      "          repairCracks        987        311      0.409      0.347      0.321      0.148\n",
      "  repairPitsAndGrooves        987         51      0.274      0.118      0.174     0.0949\n",
      "Speed: 0.3ms preprocess, 29.6ms inference, 0.0ms loss, 1.5ms postprocess per image\n",
      "Results saved to \u001b[1mruns/detect/val297\u001b[0m\n"
     ]
    },
    {
     "name": "stdout",
     "output_type": "stream",
     "text": [
      "0\t0.40668368753250916\n"
     ]
    },
    {
     "name": "stderr",
     "output_type": "stream",
     "text": [
      "Ultralytics YOLOv8.0.186 🚀 Python-3.8.5 torch-1.9.1+cu102 CUDA:3 (Tesla K80, 11441MiB)\n",
      "Model summary (fused): 168 layers, 11128680 parameters, 0 gradients, 28.5 GFLOPs\n",
      "\u001b[34m\u001b[1mval: \u001b[0mScanning /home/ubuntu/zoucheng/yolo/07/test.cache... 987 images, 7 backgrounds, 0 corrupt: 100%|██████████| 987/987 [00:00<?, ?it/s]\n",
      "                 Class     Images  Instances      Box(P          R      mAP50  mAP50-95): 100%|██████████| 62/62 [00:42<00:00,  1.47it/s]\n",
      "                   all        987       1932      0.481      0.384      0.409      0.226\n",
      "       transverseCrack        987        122      0.351      0.164      0.217       0.11\n",
      "     longitudinalCrack        987        757      0.583      0.557      0.556       0.31\n",
      "           blockyCrack        987         40      0.453       0.45      0.441      0.304\n",
      "              cracking        987        390      0.652      0.513      0.601      0.282\n",
      "             pitGroove        987        218      0.504      0.289      0.372      0.163\n",
      "      repairMeshCracks        987         43      0.609      0.579      0.594      0.399\n",
      "          repairCracks        987        311      0.415      0.383      0.328      0.147\n",
      "  repairPitsAndGrooves        987         51      0.284      0.137      0.163     0.0922\n",
      "Speed: 4.5ms preprocess, 29.7ms inference, 0.0ms loss, 1.3ms postprocess per image\n",
      "Results saved to \u001b[1mruns/detect/val298\u001b[0m\n"
     ]
    },
    {
     "name": "stdout",
     "output_type": "stream",
     "text": [
      "1\t0.42037141433960046\n"
     ]
    },
    {
     "name": "stderr",
     "output_type": "stream",
     "text": [
      "Ultralytics YOLOv8.0.186 🚀 Python-3.8.5 torch-1.9.1+cu102 CUDA:3 (Tesla K80, 11441MiB)\n",
      "Model summary (fused): 168 layers, 11128680 parameters, 0 gradients, 28.5 GFLOPs\n",
      "\u001b[34m\u001b[1mval: \u001b[0mScanning /home/ubuntu/zoucheng/yolo/07/test.cache... 987 images, 7 backgrounds, 0 corrupt: 100%|██████████| 987/987 [00:00<?, ?it/s]\n",
      "                 Class     Images  Instances      Box(P          R      mAP50  mAP50-95): 100%|██████████| 62/62 [00:37<00:00,  1.66it/s]\n",
      "                   all        987       1932      0.467      0.392       0.42      0.232\n",
      "       transverseCrack        987        122      0.286       0.18      0.215      0.104\n",
      "     longitudinalCrack        987        757      0.581      0.567      0.572      0.325\n",
      "           blockyCrack        987         40      0.422      0.475       0.45      0.312\n",
      "              cracking        987        390      0.657      0.536      0.602      0.285\n",
      "             pitGroove        987        218      0.532      0.266      0.395      0.169\n",
      "      repairMeshCracks        987         43      0.628      0.628      0.625       0.42\n",
      "          repairCracks        987        311      0.456       0.37      0.355      0.162\n",
      "  repairPitsAndGrooves        987         51      0.176      0.118      0.143     0.0802\n",
      "Speed: 0.9ms preprocess, 29.8ms inference, 0.0ms loss, 1.9ms postprocess per image\n",
      "Results saved to \u001b[1mruns/detect/val299\u001b[0m\n"
     ]
    },
    {
     "name": "stdout",
     "output_type": "stream",
     "text": [
      "2\t0.42055481331716815\n"
     ]
    },
    {
     "name": "stderr",
     "output_type": "stream",
     "text": [
      "Ultralytics YOLOv8.0.186 🚀 Python-3.8.5 torch-1.9.1+cu102 CUDA:3 (Tesla K80, 11441MiB)\n",
      "Model summary (fused): 168 layers, 11128680 parameters, 0 gradients, 28.5 GFLOPs\n",
      "\u001b[34m\u001b[1mval: \u001b[0mScanning /home/ubuntu/zoucheng/yolo/07/test.cache... 987 images, 7 backgrounds, 0 corrupt: 100%|██████████| 987/987 [00:00<?, ?it/s]\n",
      "                 Class     Images  Instances      Box(P          R      mAP50  mAP50-95): 100%|██████████| 62/62 [00:35<00:00,  1.74it/s]\n",
      "                   all        987       1932      0.472      0.396      0.422      0.236\n",
      "       transverseCrack        987        122      0.328      0.156      0.221       0.11\n",
      "     longitudinalCrack        987        757      0.609      0.542      0.569      0.328\n",
      "           blockyCrack        987         40      0.389      0.525      0.458      0.316\n",
      "              cracking        987        390      0.663      0.526      0.583      0.277\n",
      "             pitGroove        987        218      0.505      0.252      0.383      0.169\n",
      "      repairMeshCracks        987         43      0.605      0.605       0.62      0.425\n",
      "          repairCracks        987        311       0.42       0.37      0.351      0.163\n",
      "  repairPitsAndGrooves        987         51      0.256      0.196      0.193     0.0982\n",
      "Speed: 0.3ms preprocess, 29.7ms inference, 0.0ms loss, 1.0ms postprocess per image\n",
      "Results saved to \u001b[1mruns/detect/val300\u001b[0m\n"
     ]
    },
    {
     "name": "stdout",
     "output_type": "stream",
     "text": [
      "3\t0.4217907035142086\n"
     ]
    },
    {
     "ename": "ConnectionError",
     "evalue": "HTTPSConnectionPool(host='api.github.com', port=443): Max retries exceeded with url: /repos/ultralytics/assets/releases/tags/v0.0.0 (Caused by NewConnectionError('<urllib3.connection.HTTPSConnection object at 0x7f5098253f10>: Failed to establish a new connection: [Errno 110] Connection timed out'))",
     "output_type": "error",
     "traceback": [
      "\u001b[0;31m---------------------------------------------------------------------------\u001b[0m",
      "\u001b[0;31mTimeoutError\u001b[0m                              Traceback (most recent call last)",
      "\u001b[0;32m~/anaconda3/lib/python3.8/site-packages/urllib3/connection.py\u001b[0m in \u001b[0;36m_new_conn\u001b[0;34m(self)\u001b[0m\n\u001b[1;32m    158\u001b[0m         \u001b[0;32mtry\u001b[0m\u001b[0;34m:\u001b[0m\u001b[0;34m\u001b[0m\u001b[0;34m\u001b[0m\u001b[0m\n\u001b[0;32m--> 159\u001b[0;31m             conn = connection.create_connection(\n\u001b[0m\u001b[1;32m    160\u001b[0m                 \u001b[0;34m(\u001b[0m\u001b[0mself\u001b[0m\u001b[0;34m.\u001b[0m\u001b[0m_dns_host\u001b[0m\u001b[0;34m,\u001b[0m \u001b[0mself\u001b[0m\u001b[0;34m.\u001b[0m\u001b[0mport\u001b[0m\u001b[0;34m)\u001b[0m\u001b[0;34m,\u001b[0m \u001b[0mself\u001b[0m\u001b[0;34m.\u001b[0m\u001b[0mtimeout\u001b[0m\u001b[0;34m,\u001b[0m \u001b[0;34m**\u001b[0m\u001b[0mextra_kw\u001b[0m\u001b[0;34m\u001b[0m\u001b[0;34m\u001b[0m\u001b[0m\n",
      "\u001b[0;32m~/anaconda3/lib/python3.8/site-packages/urllib3/util/connection.py\u001b[0m in \u001b[0;36mcreate_connection\u001b[0;34m(address, timeout, source_address, socket_options)\u001b[0m\n\u001b[1;32m     83\u001b[0m     \u001b[0;32mif\u001b[0m \u001b[0merr\u001b[0m \u001b[0;32mis\u001b[0m \u001b[0;32mnot\u001b[0m \u001b[0;32mNone\u001b[0m\u001b[0;34m:\u001b[0m\u001b[0;34m\u001b[0m\u001b[0;34m\u001b[0m\u001b[0m\n\u001b[0;32m---> 84\u001b[0;31m         \u001b[0;32mraise\u001b[0m \u001b[0merr\u001b[0m\u001b[0;34m\u001b[0m\u001b[0;34m\u001b[0m\u001b[0m\n\u001b[0m\u001b[1;32m     85\u001b[0m \u001b[0;34m\u001b[0m\u001b[0m\n",
      "\u001b[0;32m~/anaconda3/lib/python3.8/site-packages/urllib3/util/connection.py\u001b[0m in \u001b[0;36mcreate_connection\u001b[0;34m(address, timeout, source_address, socket_options)\u001b[0m\n\u001b[1;32m     73\u001b[0m                 \u001b[0msock\u001b[0m\u001b[0;34m.\u001b[0m\u001b[0mbind\u001b[0m\u001b[0;34m(\u001b[0m\u001b[0msource_address\u001b[0m\u001b[0;34m)\u001b[0m\u001b[0;34m\u001b[0m\u001b[0;34m\u001b[0m\u001b[0m\n\u001b[0;32m---> 74\u001b[0;31m             \u001b[0msock\u001b[0m\u001b[0;34m.\u001b[0m\u001b[0mconnect\u001b[0m\u001b[0;34m(\u001b[0m\u001b[0msa\u001b[0m\u001b[0;34m)\u001b[0m\u001b[0;34m\u001b[0m\u001b[0;34m\u001b[0m\u001b[0m\n\u001b[0m\u001b[1;32m     75\u001b[0m             \u001b[0;32mreturn\u001b[0m \u001b[0msock\u001b[0m\u001b[0;34m\u001b[0m\u001b[0;34m\u001b[0m\u001b[0m\n",
      "\u001b[0;31mTimeoutError\u001b[0m: [Errno 110] Connection timed out",
      "\nDuring handling of the above exception, another exception occurred:\n",
      "\u001b[0;31mNewConnectionError\u001b[0m                        Traceback (most recent call last)",
      "\u001b[0;32m~/anaconda3/lib/python3.8/site-packages/urllib3/connectionpool.py\u001b[0m in \u001b[0;36murlopen\u001b[0;34m(self, method, url, body, headers, retries, redirect, assert_same_host, timeout, pool_timeout, release_conn, chunked, body_pos, **response_kw)\u001b[0m\n\u001b[1;32m    669\u001b[0m             \u001b[0;31m# Make the request on the httplib connection object.\u001b[0m\u001b[0;34m\u001b[0m\u001b[0;34m\u001b[0m\u001b[0;34m\u001b[0m\u001b[0m\n\u001b[0;32m--> 670\u001b[0;31m             httplib_response = self._make_request(\n\u001b[0m\u001b[1;32m    671\u001b[0m                 \u001b[0mconn\u001b[0m\u001b[0;34m,\u001b[0m\u001b[0;34m\u001b[0m\u001b[0;34m\u001b[0m\u001b[0m\n",
      "\u001b[0;32m~/anaconda3/lib/python3.8/site-packages/urllib3/connectionpool.py\u001b[0m in \u001b[0;36m_make_request\u001b[0;34m(self, conn, method, url, timeout, chunked, **httplib_request_kw)\u001b[0m\n\u001b[1;32m    380\u001b[0m         \u001b[0;32mtry\u001b[0m\u001b[0;34m:\u001b[0m\u001b[0;34m\u001b[0m\u001b[0;34m\u001b[0m\u001b[0m\n\u001b[0;32m--> 381\u001b[0;31m             \u001b[0mself\u001b[0m\u001b[0;34m.\u001b[0m\u001b[0m_validate_conn\u001b[0m\u001b[0;34m(\u001b[0m\u001b[0mconn\u001b[0m\u001b[0;34m)\u001b[0m\u001b[0;34m\u001b[0m\u001b[0;34m\u001b[0m\u001b[0m\n\u001b[0m\u001b[1;32m    382\u001b[0m         \u001b[0;32mexcept\u001b[0m \u001b[0;34m(\u001b[0m\u001b[0mSocketTimeout\u001b[0m\u001b[0;34m,\u001b[0m \u001b[0mBaseSSLError\u001b[0m\u001b[0;34m)\u001b[0m \u001b[0;32mas\u001b[0m \u001b[0me\u001b[0m\u001b[0;34m:\u001b[0m\u001b[0;34m\u001b[0m\u001b[0;34m\u001b[0m\u001b[0m\n",
      "\u001b[0;32m~/anaconda3/lib/python3.8/site-packages/urllib3/connectionpool.py\u001b[0m in \u001b[0;36m_validate_conn\u001b[0;34m(self, conn)\u001b[0m\n\u001b[1;32m    977\u001b[0m         \u001b[0;32mif\u001b[0m \u001b[0;32mnot\u001b[0m \u001b[0mgetattr\u001b[0m\u001b[0;34m(\u001b[0m\u001b[0mconn\u001b[0m\u001b[0;34m,\u001b[0m \u001b[0;34m\"sock\"\u001b[0m\u001b[0;34m,\u001b[0m \u001b[0;32mNone\u001b[0m\u001b[0;34m)\u001b[0m\u001b[0;34m:\u001b[0m  \u001b[0;31m# AppEngine might not have  `.sock`\u001b[0m\u001b[0;34m\u001b[0m\u001b[0;34m\u001b[0m\u001b[0m\n\u001b[0;32m--> 978\u001b[0;31m             \u001b[0mconn\u001b[0m\u001b[0;34m.\u001b[0m\u001b[0mconnect\u001b[0m\u001b[0;34m(\u001b[0m\u001b[0;34m)\u001b[0m\u001b[0;34m\u001b[0m\u001b[0;34m\u001b[0m\u001b[0m\n\u001b[0m\u001b[1;32m    979\u001b[0m \u001b[0;34m\u001b[0m\u001b[0m\n",
      "\u001b[0;32m~/anaconda3/lib/python3.8/site-packages/urllib3/connection.py\u001b[0m in \u001b[0;36mconnect\u001b[0;34m(self)\u001b[0m\n\u001b[1;32m    308\u001b[0m         \u001b[0;31m# Add certificate verification\u001b[0m\u001b[0;34m\u001b[0m\u001b[0;34m\u001b[0m\u001b[0;34m\u001b[0m\u001b[0m\n\u001b[0;32m--> 309\u001b[0;31m         \u001b[0mconn\u001b[0m \u001b[0;34m=\u001b[0m \u001b[0mself\u001b[0m\u001b[0;34m.\u001b[0m\u001b[0m_new_conn\u001b[0m\u001b[0;34m(\u001b[0m\u001b[0;34m)\u001b[0m\u001b[0;34m\u001b[0m\u001b[0;34m\u001b[0m\u001b[0m\n\u001b[0m\u001b[1;32m    310\u001b[0m         \u001b[0mhostname\u001b[0m \u001b[0;34m=\u001b[0m \u001b[0mself\u001b[0m\u001b[0;34m.\u001b[0m\u001b[0mhost\u001b[0m\u001b[0;34m\u001b[0m\u001b[0;34m\u001b[0m\u001b[0m\n",
      "\u001b[0;32m~/anaconda3/lib/python3.8/site-packages/urllib3/connection.py\u001b[0m in \u001b[0;36m_new_conn\u001b[0;34m(self)\u001b[0m\n\u001b[1;32m    170\u001b[0m         \u001b[0;32mexcept\u001b[0m \u001b[0mSocketError\u001b[0m \u001b[0;32mas\u001b[0m \u001b[0me\u001b[0m\u001b[0;34m:\u001b[0m\u001b[0;34m\u001b[0m\u001b[0;34m\u001b[0m\u001b[0m\n\u001b[0;32m--> 171\u001b[0;31m             raise NewConnectionError(\n\u001b[0m\u001b[1;32m    172\u001b[0m                 \u001b[0mself\u001b[0m\u001b[0;34m,\u001b[0m \u001b[0;34m\"Failed to establish a new connection: %s\"\u001b[0m \u001b[0;34m%\u001b[0m \u001b[0me\u001b[0m\u001b[0;34m\u001b[0m\u001b[0;34m\u001b[0m\u001b[0m\n",
      "\u001b[0;31mNewConnectionError\u001b[0m: <urllib3.connection.HTTPSConnection object at 0x7f5098253f10>: Failed to establish a new connection: [Errno 110] Connection timed out",
      "\nDuring handling of the above exception, another exception occurred:\n",
      "\u001b[0;31mMaxRetryError\u001b[0m                             Traceback (most recent call last)",
      "\u001b[0;32m~/anaconda3/lib/python3.8/site-packages/requests/adapters.py\u001b[0m in \u001b[0;36msend\u001b[0;34m(self, request, stream, timeout, verify, cert, proxies)\u001b[0m\n\u001b[1;32m    438\u001b[0m             \u001b[0;32mif\u001b[0m \u001b[0;32mnot\u001b[0m \u001b[0mchunked\u001b[0m\u001b[0;34m:\u001b[0m\u001b[0;34m\u001b[0m\u001b[0;34m\u001b[0m\u001b[0m\n\u001b[0;32m--> 439\u001b[0;31m                 resp = conn.urlopen(\n\u001b[0m\u001b[1;32m    440\u001b[0m                     \u001b[0mmethod\u001b[0m\u001b[0;34m=\u001b[0m\u001b[0mrequest\u001b[0m\u001b[0;34m.\u001b[0m\u001b[0mmethod\u001b[0m\u001b[0;34m,\u001b[0m\u001b[0;34m\u001b[0m\u001b[0;34m\u001b[0m\u001b[0m\n",
      "\u001b[0;32m~/anaconda3/lib/python3.8/site-packages/urllib3/connectionpool.py\u001b[0m in \u001b[0;36murlopen\u001b[0;34m(self, method, url, body, headers, retries, redirect, assert_same_host, timeout, pool_timeout, release_conn, chunked, body_pos, **response_kw)\u001b[0m\n\u001b[1;32m    725\u001b[0m \u001b[0;34m\u001b[0m\u001b[0m\n\u001b[0;32m--> 726\u001b[0;31m             retries = retries.increment(\n\u001b[0m\u001b[1;32m    727\u001b[0m                 \u001b[0mmethod\u001b[0m\u001b[0;34m,\u001b[0m \u001b[0murl\u001b[0m\u001b[0;34m,\u001b[0m \u001b[0merror\u001b[0m\u001b[0;34m=\u001b[0m\u001b[0me\u001b[0m\u001b[0;34m,\u001b[0m \u001b[0m_pool\u001b[0m\u001b[0;34m=\u001b[0m\u001b[0mself\u001b[0m\u001b[0;34m,\u001b[0m \u001b[0m_stacktrace\u001b[0m\u001b[0;34m=\u001b[0m\u001b[0msys\u001b[0m\u001b[0;34m.\u001b[0m\u001b[0mexc_info\u001b[0m\u001b[0;34m(\u001b[0m\u001b[0;34m)\u001b[0m\u001b[0;34m[\u001b[0m\u001b[0;36m2\u001b[0m\u001b[0;34m]\u001b[0m\u001b[0;34m\u001b[0m\u001b[0;34m\u001b[0m\u001b[0m\n",
      "\u001b[0;32m~/anaconda3/lib/python3.8/site-packages/urllib3/util/retry.py\u001b[0m in \u001b[0;36mincrement\u001b[0;34m(self, method, url, response, error, _pool, _stacktrace)\u001b[0m\n\u001b[1;32m    445\u001b[0m         \u001b[0;32mif\u001b[0m \u001b[0mnew_retry\u001b[0m\u001b[0;34m.\u001b[0m\u001b[0mis_exhausted\u001b[0m\u001b[0;34m(\u001b[0m\u001b[0;34m)\u001b[0m\u001b[0;34m:\u001b[0m\u001b[0;34m\u001b[0m\u001b[0;34m\u001b[0m\u001b[0m\n\u001b[0;32m--> 446\u001b[0;31m             \u001b[0;32mraise\u001b[0m \u001b[0mMaxRetryError\u001b[0m\u001b[0;34m(\u001b[0m\u001b[0m_pool\u001b[0m\u001b[0;34m,\u001b[0m \u001b[0murl\u001b[0m\u001b[0;34m,\u001b[0m \u001b[0merror\u001b[0m \u001b[0;32mor\u001b[0m \u001b[0mResponseError\u001b[0m\u001b[0;34m(\u001b[0m\u001b[0mcause\u001b[0m\u001b[0;34m)\u001b[0m\u001b[0;34m)\u001b[0m\u001b[0;34m\u001b[0m\u001b[0;34m\u001b[0m\u001b[0m\n\u001b[0m\u001b[1;32m    447\u001b[0m \u001b[0;34m\u001b[0m\u001b[0m\n",
      "\u001b[0;31mMaxRetryError\u001b[0m: HTTPSConnectionPool(host='api.github.com', port=443): Max retries exceeded with url: /repos/ultralytics/assets/releases/tags/v0.0.0 (Caused by NewConnectionError('<urllib3.connection.HTTPSConnection object at 0x7f5098253f10>: Failed to establish a new connection: [Errno 110] Connection timed out'))",
      "\nDuring handling of the above exception, another exception occurred:\n",
      "\u001b[0;31mConnectionError\u001b[0m                           Traceback (most recent call last)",
      "\u001b[0;32m<ipython-input-3-aef0cd81978a>\u001b[0m in \u001b[0;36m<module>\u001b[0;34m\u001b[0m\n\u001b[1;32m      1\u001b[0m \u001b[0;32mfrom\u001b[0m \u001b[0multralytics\u001b[0m \u001b[0;32mimport\u001b[0m \u001b[0mYOLO\u001b[0m\u001b[0;34m\u001b[0m\u001b[0;34m\u001b[0m\u001b[0m\n\u001b[1;32m      2\u001b[0m \u001b[0;32mfor\u001b[0m \u001b[0mi\u001b[0m \u001b[0;32min\u001b[0m \u001b[0mrange\u001b[0m\u001b[0;34m(\u001b[0m\u001b[0;36m0\u001b[0m\u001b[0;34m,\u001b[0m\u001b[0;36m5\u001b[0m\u001b[0;34m)\u001b[0m\u001b[0;34m:\u001b[0m\u001b[0;34m\u001b[0m\u001b[0;34m\u001b[0m\u001b[0m\n\u001b[0;32m----> 3\u001b[0;31m     \u001b[0mmodel\u001b[0m \u001b[0;34m=\u001b[0m \u001b[0mYOLO\u001b[0m\u001b[0;34m(\u001b[0m\u001b[0;34mf'3500_val/train_split{i}/weights/best.pt'\u001b[0m\u001b[0;34m)\u001b[0m  \u001b[0;31m# load an official model\u001b[0m\u001b[0;34m\u001b[0m\u001b[0;34m\u001b[0m\u001b[0m\n\u001b[0m\u001b[1;32m      4\u001b[0m     \u001b[0;31m# model = YOLO('path/to/best.pt')  # load a custom model\u001b[0m\u001b[0;34m\u001b[0m\u001b[0;34m\u001b[0m\u001b[0;34m\u001b[0m\u001b[0m\n\u001b[1;32m      5\u001b[0m \u001b[0;34m\u001b[0m\u001b[0m\n",
      "\u001b[0;32m~/anaconda3/lib/python3.8/site-packages/ultralytics/engine/model.py\u001b[0m in \u001b[0;36m__init__\u001b[0;34m(self, model, task)\u001b[0m\n\u001b[1;32m     90\u001b[0m             \u001b[0mself\u001b[0m\u001b[0;34m.\u001b[0m\u001b[0m_new\u001b[0m\u001b[0;34m(\u001b[0m\u001b[0mmodel\u001b[0m\u001b[0;34m,\u001b[0m \u001b[0mtask\u001b[0m\u001b[0;34m)\u001b[0m\u001b[0;34m\u001b[0m\u001b[0;34m\u001b[0m\u001b[0m\n\u001b[1;32m     91\u001b[0m         \u001b[0;32melse\u001b[0m\u001b[0;34m:\u001b[0m\u001b[0;34m\u001b[0m\u001b[0;34m\u001b[0m\u001b[0m\n\u001b[0;32m---> 92\u001b[0;31m             \u001b[0mself\u001b[0m\u001b[0;34m.\u001b[0m\u001b[0m_load\u001b[0m\u001b[0;34m(\u001b[0m\u001b[0mmodel\u001b[0m\u001b[0;34m,\u001b[0m \u001b[0mtask\u001b[0m\u001b[0;34m)\u001b[0m\u001b[0;34m\u001b[0m\u001b[0;34m\u001b[0m\u001b[0m\n\u001b[0m\u001b[1;32m     93\u001b[0m \u001b[0;34m\u001b[0m\u001b[0m\n\u001b[1;32m     94\u001b[0m     \u001b[0;32mdef\u001b[0m \u001b[0m__call__\u001b[0m\u001b[0;34m(\u001b[0m\u001b[0mself\u001b[0m\u001b[0;34m,\u001b[0m \u001b[0msource\u001b[0m\u001b[0;34m=\u001b[0m\u001b[0;32mNone\u001b[0m\u001b[0;34m,\u001b[0m \u001b[0mstream\u001b[0m\u001b[0;34m=\u001b[0m\u001b[0;32mFalse\u001b[0m\u001b[0;34m,\u001b[0m \u001b[0;34m**\u001b[0m\u001b[0mkwargs\u001b[0m\u001b[0;34m)\u001b[0m\u001b[0;34m:\u001b[0m\u001b[0;34m\u001b[0m\u001b[0;34m\u001b[0m\u001b[0m\n",
      "\u001b[0;32m~/anaconda3/lib/python3.8/site-packages/ultralytics/engine/model.py\u001b[0m in \u001b[0;36m_load\u001b[0;34m(self, weights, task)\u001b[0m\n\u001b[1;32m    135\u001b[0m         \u001b[0msuffix\u001b[0m \u001b[0;34m=\u001b[0m \u001b[0mPath\u001b[0m\u001b[0;34m(\u001b[0m\u001b[0mweights\u001b[0m\u001b[0;34m)\u001b[0m\u001b[0;34m.\u001b[0m\u001b[0msuffix\u001b[0m\u001b[0;34m\u001b[0m\u001b[0;34m\u001b[0m\u001b[0m\n\u001b[1;32m    136\u001b[0m         \u001b[0;32mif\u001b[0m \u001b[0msuffix\u001b[0m \u001b[0;34m==\u001b[0m \u001b[0;34m'.pt'\u001b[0m\u001b[0;34m:\u001b[0m\u001b[0;34m\u001b[0m\u001b[0;34m\u001b[0m\u001b[0m\n\u001b[0;32m--> 137\u001b[0;31m             \u001b[0mself\u001b[0m\u001b[0;34m.\u001b[0m\u001b[0mmodel\u001b[0m\u001b[0;34m,\u001b[0m \u001b[0mself\u001b[0m\u001b[0;34m.\u001b[0m\u001b[0mckpt\u001b[0m \u001b[0;34m=\u001b[0m \u001b[0mattempt_load_one_weight\u001b[0m\u001b[0;34m(\u001b[0m\u001b[0mweights\u001b[0m\u001b[0;34m)\u001b[0m\u001b[0;34m\u001b[0m\u001b[0;34m\u001b[0m\u001b[0m\n\u001b[0m\u001b[1;32m    138\u001b[0m             \u001b[0mself\u001b[0m\u001b[0;34m.\u001b[0m\u001b[0mtask\u001b[0m \u001b[0;34m=\u001b[0m \u001b[0mself\u001b[0m\u001b[0;34m.\u001b[0m\u001b[0mmodel\u001b[0m\u001b[0;34m.\u001b[0m\u001b[0margs\u001b[0m\u001b[0;34m[\u001b[0m\u001b[0;34m'task'\u001b[0m\u001b[0;34m]\u001b[0m\u001b[0;34m\u001b[0m\u001b[0;34m\u001b[0m\u001b[0m\n\u001b[1;32m    139\u001b[0m             \u001b[0mself\u001b[0m\u001b[0;34m.\u001b[0m\u001b[0moverrides\u001b[0m \u001b[0;34m=\u001b[0m \u001b[0mself\u001b[0m\u001b[0;34m.\u001b[0m\u001b[0mmodel\u001b[0m\u001b[0;34m.\u001b[0m\u001b[0margs\u001b[0m \u001b[0;34m=\u001b[0m \u001b[0mself\u001b[0m\u001b[0;34m.\u001b[0m\u001b[0m_reset_ckpt_args\u001b[0m\u001b[0;34m(\u001b[0m\u001b[0mself\u001b[0m\u001b[0;34m.\u001b[0m\u001b[0mmodel\u001b[0m\u001b[0;34m.\u001b[0m\u001b[0margs\u001b[0m\u001b[0;34m)\u001b[0m\u001b[0;34m\u001b[0m\u001b[0;34m\u001b[0m\u001b[0m\n",
      "\u001b[0;32m~/anaconda3/lib/python3.8/site-packages/ultralytics/nn/tasks.py\u001b[0m in \u001b[0;36mattempt_load_one_weight\u001b[0;34m(weight, device, inplace, fuse)\u001b[0m\n\u001b[1;32m    586\u001b[0m \u001b[0;32mdef\u001b[0m \u001b[0mattempt_load_one_weight\u001b[0m\u001b[0;34m(\u001b[0m\u001b[0mweight\u001b[0m\u001b[0;34m,\u001b[0m \u001b[0mdevice\u001b[0m\u001b[0;34m=\u001b[0m\u001b[0;32mNone\u001b[0m\u001b[0;34m,\u001b[0m \u001b[0minplace\u001b[0m\u001b[0;34m=\u001b[0m\u001b[0;32mTrue\u001b[0m\u001b[0;34m,\u001b[0m \u001b[0mfuse\u001b[0m\u001b[0;34m=\u001b[0m\u001b[0;32mFalse\u001b[0m\u001b[0;34m)\u001b[0m\u001b[0;34m:\u001b[0m\u001b[0;34m\u001b[0m\u001b[0;34m\u001b[0m\u001b[0m\n\u001b[1;32m    587\u001b[0m     \u001b[0;34m\"\"\"Loads a single model weights.\"\"\"\u001b[0m\u001b[0;34m\u001b[0m\u001b[0;34m\u001b[0m\u001b[0m\n\u001b[0;32m--> 588\u001b[0;31m     \u001b[0mckpt\u001b[0m\u001b[0;34m,\u001b[0m \u001b[0mweight\u001b[0m \u001b[0;34m=\u001b[0m \u001b[0mtorch_safe_load\u001b[0m\u001b[0;34m(\u001b[0m\u001b[0mweight\u001b[0m\u001b[0;34m)\u001b[0m  \u001b[0;31m# load ckpt\u001b[0m\u001b[0;34m\u001b[0m\u001b[0;34m\u001b[0m\u001b[0m\n\u001b[0m\u001b[1;32m    589\u001b[0m     \u001b[0margs\u001b[0m \u001b[0;34m=\u001b[0m \u001b[0;34m{\u001b[0m\u001b[0;34m**\u001b[0m\u001b[0mDEFAULT_CFG_DICT\u001b[0m\u001b[0;34m,\u001b[0m \u001b[0;34m**\u001b[0m\u001b[0;34m(\u001b[0m\u001b[0mckpt\u001b[0m\u001b[0;34m.\u001b[0m\u001b[0mget\u001b[0m\u001b[0;34m(\u001b[0m\u001b[0;34m'train_args'\u001b[0m\u001b[0;34m,\u001b[0m \u001b[0;34m{\u001b[0m\u001b[0;34m}\u001b[0m\u001b[0;34m)\u001b[0m\u001b[0;34m)\u001b[0m\u001b[0;34m}\u001b[0m  \u001b[0;31m# combine model and default args, preferring model args\u001b[0m\u001b[0;34m\u001b[0m\u001b[0;34m\u001b[0m\u001b[0m\n\u001b[1;32m    590\u001b[0m     \u001b[0mmodel\u001b[0m \u001b[0;34m=\u001b[0m \u001b[0;34m(\u001b[0m\u001b[0mckpt\u001b[0m\u001b[0;34m.\u001b[0m\u001b[0mget\u001b[0m\u001b[0;34m(\u001b[0m\u001b[0;34m'ema'\u001b[0m\u001b[0;34m)\u001b[0m \u001b[0;32mor\u001b[0m \u001b[0mckpt\u001b[0m\u001b[0;34m[\u001b[0m\u001b[0;34m'model'\u001b[0m\u001b[0;34m]\u001b[0m\u001b[0;34m)\u001b[0m\u001b[0;34m.\u001b[0m\u001b[0mto\u001b[0m\u001b[0;34m(\u001b[0m\u001b[0mdevice\u001b[0m\u001b[0;34m)\u001b[0m\u001b[0;34m.\u001b[0m\u001b[0mfloat\u001b[0m\u001b[0;34m(\u001b[0m\u001b[0;34m)\u001b[0m  \u001b[0;31m# FP32 model\u001b[0m\u001b[0;34m\u001b[0m\u001b[0;34m\u001b[0m\u001b[0m\n",
      "\u001b[0;32m~/anaconda3/lib/python3.8/site-packages/ultralytics/nn/tasks.py\u001b[0m in \u001b[0;36mtorch_safe_load\u001b[0;34m(weight)\u001b[0m\n\u001b[1;32m    519\u001b[0m \u001b[0;34m\u001b[0m\u001b[0m\n\u001b[1;32m    520\u001b[0m     \u001b[0mcheck_suffix\u001b[0m\u001b[0;34m(\u001b[0m\u001b[0mfile\u001b[0m\u001b[0;34m=\u001b[0m\u001b[0mweight\u001b[0m\u001b[0;34m,\u001b[0m \u001b[0msuffix\u001b[0m\u001b[0;34m=\u001b[0m\u001b[0;34m'.pt'\u001b[0m\u001b[0;34m)\u001b[0m\u001b[0;34m\u001b[0m\u001b[0;34m\u001b[0m\u001b[0m\n\u001b[0;32m--> 521\u001b[0;31m     \u001b[0mfile\u001b[0m \u001b[0;34m=\u001b[0m \u001b[0mattempt_download_asset\u001b[0m\u001b[0;34m(\u001b[0m\u001b[0mweight\u001b[0m\u001b[0;34m)\u001b[0m  \u001b[0;31m# search online if missing locally\u001b[0m\u001b[0;34m\u001b[0m\u001b[0;34m\u001b[0m\u001b[0m\n\u001b[0m\u001b[1;32m    522\u001b[0m     \u001b[0;32mtry\u001b[0m\u001b[0;34m:\u001b[0m\u001b[0;34m\u001b[0m\u001b[0;34m\u001b[0m\u001b[0m\n\u001b[1;32m    523\u001b[0m         with temporary_modules({\n",
      "\u001b[0;32m~/anaconda3/lib/python3.8/site-packages/ultralytics/utils/downloads.py\u001b[0m in \u001b[0;36mattempt_download_asset\u001b[0;34m(file, repo, release)\u001b[0m\n\u001b[1;32m    368\u001b[0m \u001b[0;34m\u001b[0m\u001b[0m\n\u001b[1;32m    369\u001b[0m         \u001b[0;32melse\u001b[0m\u001b[0;34m:\u001b[0m\u001b[0;34m\u001b[0m\u001b[0;34m\u001b[0m\u001b[0m\n\u001b[0;32m--> 370\u001b[0;31m             \u001b[0mtag\u001b[0m\u001b[0;34m,\u001b[0m \u001b[0massets\u001b[0m \u001b[0;34m=\u001b[0m \u001b[0mget_github_assets\u001b[0m\u001b[0;34m(\u001b[0m\u001b[0mrepo\u001b[0m\u001b[0;34m,\u001b[0m \u001b[0mrelease\u001b[0m\u001b[0;34m)\u001b[0m\u001b[0;34m\u001b[0m\u001b[0;34m\u001b[0m\u001b[0m\n\u001b[0m\u001b[1;32m    371\u001b[0m             \u001b[0;32mif\u001b[0m \u001b[0;32mnot\u001b[0m \u001b[0massets\u001b[0m\u001b[0;34m:\u001b[0m\u001b[0;34m\u001b[0m\u001b[0;34m\u001b[0m\u001b[0m\n\u001b[1;32m    372\u001b[0m                 \u001b[0mtag\u001b[0m\u001b[0;34m,\u001b[0m \u001b[0massets\u001b[0m \u001b[0;34m=\u001b[0m \u001b[0mget_github_assets\u001b[0m\u001b[0;34m(\u001b[0m\u001b[0mrepo\u001b[0m\u001b[0;34m)\u001b[0m  \u001b[0;31m# latest release\u001b[0m\u001b[0;34m\u001b[0m\u001b[0;34m\u001b[0m\u001b[0m\n",
      "\u001b[0;32m~/anaconda3/lib/python3.8/site-packages/ultralytics/utils/downloads.py\u001b[0m in \u001b[0;36mget_github_assets\u001b[0;34m(repo, version, retry)\u001b[0m\n\u001b[1;32m    331\u001b[0m         \u001b[0mversion\u001b[0m \u001b[0;34m=\u001b[0m \u001b[0;34mf'tags/{version}'\u001b[0m  \u001b[0;31m# i.e. tags/v6.2\u001b[0m\u001b[0;34m\u001b[0m\u001b[0;34m\u001b[0m\u001b[0m\n\u001b[1;32m    332\u001b[0m     \u001b[0murl\u001b[0m \u001b[0;34m=\u001b[0m \u001b[0;34mf'https://api.github.com/repos/{repo}/releases/{version}'\u001b[0m\u001b[0;34m\u001b[0m\u001b[0;34m\u001b[0m\u001b[0m\n\u001b[0;32m--> 333\u001b[0;31m     \u001b[0mr\u001b[0m \u001b[0;34m=\u001b[0m \u001b[0mrequests\u001b[0m\u001b[0;34m.\u001b[0m\u001b[0mget\u001b[0m\u001b[0;34m(\u001b[0m\u001b[0murl\u001b[0m\u001b[0;34m)\u001b[0m  \u001b[0;31m# github api\u001b[0m\u001b[0;34m\u001b[0m\u001b[0;34m\u001b[0m\u001b[0m\n\u001b[0m\u001b[1;32m    334\u001b[0m     \u001b[0;32mif\u001b[0m \u001b[0mr\u001b[0m\u001b[0;34m.\u001b[0m\u001b[0mstatus_code\u001b[0m \u001b[0;34m!=\u001b[0m \u001b[0;36m200\u001b[0m \u001b[0;32mand\u001b[0m \u001b[0mr\u001b[0m\u001b[0;34m.\u001b[0m\u001b[0mreason\u001b[0m \u001b[0;34m!=\u001b[0m \u001b[0;34m'rate limit exceeded'\u001b[0m \u001b[0;32mand\u001b[0m \u001b[0mretry\u001b[0m\u001b[0;34m:\u001b[0m  \u001b[0;31m# failed and not 403 rate limit exceeded\u001b[0m\u001b[0;34m\u001b[0m\u001b[0;34m\u001b[0m\u001b[0m\n\u001b[1;32m    335\u001b[0m         \u001b[0mr\u001b[0m \u001b[0;34m=\u001b[0m \u001b[0mrequests\u001b[0m\u001b[0;34m.\u001b[0m\u001b[0mget\u001b[0m\u001b[0;34m(\u001b[0m\u001b[0murl\u001b[0m\u001b[0;34m)\u001b[0m  \u001b[0;31m# try again\u001b[0m\u001b[0;34m\u001b[0m\u001b[0;34m\u001b[0m\u001b[0m\n",
      "\u001b[0;32m~/anaconda3/lib/python3.8/site-packages/requests/api.py\u001b[0m in \u001b[0;36mget\u001b[0;34m(url, params, **kwargs)\u001b[0m\n\u001b[1;32m     74\u001b[0m \u001b[0;34m\u001b[0m\u001b[0m\n\u001b[1;32m     75\u001b[0m     \u001b[0mkwargs\u001b[0m\u001b[0;34m.\u001b[0m\u001b[0msetdefault\u001b[0m\u001b[0;34m(\u001b[0m\u001b[0;34m'allow_redirects'\u001b[0m\u001b[0;34m,\u001b[0m \u001b[0;32mTrue\u001b[0m\u001b[0;34m)\u001b[0m\u001b[0;34m\u001b[0m\u001b[0;34m\u001b[0m\u001b[0m\n\u001b[0;32m---> 76\u001b[0;31m     \u001b[0;32mreturn\u001b[0m \u001b[0mrequest\u001b[0m\u001b[0;34m(\u001b[0m\u001b[0;34m'get'\u001b[0m\u001b[0;34m,\u001b[0m \u001b[0murl\u001b[0m\u001b[0;34m,\u001b[0m \u001b[0mparams\u001b[0m\u001b[0;34m=\u001b[0m\u001b[0mparams\u001b[0m\u001b[0;34m,\u001b[0m \u001b[0;34m**\u001b[0m\u001b[0mkwargs\u001b[0m\u001b[0;34m)\u001b[0m\u001b[0;34m\u001b[0m\u001b[0;34m\u001b[0m\u001b[0m\n\u001b[0m\u001b[1;32m     77\u001b[0m \u001b[0;34m\u001b[0m\u001b[0m\n\u001b[1;32m     78\u001b[0m \u001b[0;34m\u001b[0m\u001b[0m\n",
      "\u001b[0;32m~/anaconda3/lib/python3.8/site-packages/requests/api.py\u001b[0m in \u001b[0;36mrequest\u001b[0;34m(method, url, **kwargs)\u001b[0m\n\u001b[1;32m     59\u001b[0m     \u001b[0;31m# cases, and look like a memory leak in others.\u001b[0m\u001b[0;34m\u001b[0m\u001b[0;34m\u001b[0m\u001b[0;34m\u001b[0m\u001b[0m\n\u001b[1;32m     60\u001b[0m     \u001b[0;32mwith\u001b[0m \u001b[0msessions\u001b[0m\u001b[0;34m.\u001b[0m\u001b[0mSession\u001b[0m\u001b[0;34m(\u001b[0m\u001b[0;34m)\u001b[0m \u001b[0;32mas\u001b[0m \u001b[0msession\u001b[0m\u001b[0;34m:\u001b[0m\u001b[0;34m\u001b[0m\u001b[0;34m\u001b[0m\u001b[0m\n\u001b[0;32m---> 61\u001b[0;31m         \u001b[0;32mreturn\u001b[0m \u001b[0msession\u001b[0m\u001b[0;34m.\u001b[0m\u001b[0mrequest\u001b[0m\u001b[0;34m(\u001b[0m\u001b[0mmethod\u001b[0m\u001b[0;34m=\u001b[0m\u001b[0mmethod\u001b[0m\u001b[0;34m,\u001b[0m \u001b[0murl\u001b[0m\u001b[0;34m=\u001b[0m\u001b[0murl\u001b[0m\u001b[0;34m,\u001b[0m \u001b[0;34m**\u001b[0m\u001b[0mkwargs\u001b[0m\u001b[0;34m)\u001b[0m\u001b[0;34m\u001b[0m\u001b[0;34m\u001b[0m\u001b[0m\n\u001b[0m\u001b[1;32m     62\u001b[0m \u001b[0;34m\u001b[0m\u001b[0m\n\u001b[1;32m     63\u001b[0m \u001b[0;34m\u001b[0m\u001b[0m\n",
      "\u001b[0;32m~/anaconda3/lib/python3.8/site-packages/requests/sessions.py\u001b[0m in \u001b[0;36mrequest\u001b[0;34m(self, method, url, params, data, headers, cookies, files, auth, timeout, allow_redirects, proxies, hooks, stream, verify, cert, json)\u001b[0m\n\u001b[1;32m    528\u001b[0m         }\n\u001b[1;32m    529\u001b[0m         \u001b[0msend_kwargs\u001b[0m\u001b[0;34m.\u001b[0m\u001b[0mupdate\u001b[0m\u001b[0;34m(\u001b[0m\u001b[0msettings\u001b[0m\u001b[0;34m)\u001b[0m\u001b[0;34m\u001b[0m\u001b[0;34m\u001b[0m\u001b[0m\n\u001b[0;32m--> 530\u001b[0;31m         \u001b[0mresp\u001b[0m \u001b[0;34m=\u001b[0m \u001b[0mself\u001b[0m\u001b[0;34m.\u001b[0m\u001b[0msend\u001b[0m\u001b[0;34m(\u001b[0m\u001b[0mprep\u001b[0m\u001b[0;34m,\u001b[0m \u001b[0;34m**\u001b[0m\u001b[0msend_kwargs\u001b[0m\u001b[0;34m)\u001b[0m\u001b[0;34m\u001b[0m\u001b[0;34m\u001b[0m\u001b[0m\n\u001b[0m\u001b[1;32m    531\u001b[0m \u001b[0;34m\u001b[0m\u001b[0m\n\u001b[1;32m    532\u001b[0m         \u001b[0;32mreturn\u001b[0m \u001b[0mresp\u001b[0m\u001b[0;34m\u001b[0m\u001b[0;34m\u001b[0m\u001b[0m\n",
      "\u001b[0;32m~/anaconda3/lib/python3.8/site-packages/requests/sessions.py\u001b[0m in \u001b[0;36msend\u001b[0;34m(self, request, **kwargs)\u001b[0m\n\u001b[1;32m    641\u001b[0m \u001b[0;34m\u001b[0m\u001b[0m\n\u001b[1;32m    642\u001b[0m         \u001b[0;31m# Send the request\u001b[0m\u001b[0;34m\u001b[0m\u001b[0;34m\u001b[0m\u001b[0;34m\u001b[0m\u001b[0m\n\u001b[0;32m--> 643\u001b[0;31m         \u001b[0mr\u001b[0m \u001b[0;34m=\u001b[0m \u001b[0madapter\u001b[0m\u001b[0;34m.\u001b[0m\u001b[0msend\u001b[0m\u001b[0;34m(\u001b[0m\u001b[0mrequest\u001b[0m\u001b[0;34m,\u001b[0m \u001b[0;34m**\u001b[0m\u001b[0mkwargs\u001b[0m\u001b[0;34m)\u001b[0m\u001b[0;34m\u001b[0m\u001b[0;34m\u001b[0m\u001b[0m\n\u001b[0m\u001b[1;32m    644\u001b[0m \u001b[0;34m\u001b[0m\u001b[0m\n\u001b[1;32m    645\u001b[0m         \u001b[0;31m# Total elapsed time of the request (approximately)\u001b[0m\u001b[0;34m\u001b[0m\u001b[0;34m\u001b[0m\u001b[0;34m\u001b[0m\u001b[0m\n",
      "\u001b[0;32m~/anaconda3/lib/python3.8/site-packages/requests/adapters.py\u001b[0m in \u001b[0;36msend\u001b[0;34m(self, request, stream, timeout, verify, cert, proxies)\u001b[0m\n\u001b[1;32m    514\u001b[0m                 \u001b[0;32mraise\u001b[0m \u001b[0mSSLError\u001b[0m\u001b[0;34m(\u001b[0m\u001b[0me\u001b[0m\u001b[0;34m,\u001b[0m \u001b[0mrequest\u001b[0m\u001b[0;34m=\u001b[0m\u001b[0mrequest\u001b[0m\u001b[0;34m)\u001b[0m\u001b[0;34m\u001b[0m\u001b[0;34m\u001b[0m\u001b[0m\n\u001b[1;32m    515\u001b[0m \u001b[0;34m\u001b[0m\u001b[0m\n\u001b[0;32m--> 516\u001b[0;31m             \u001b[0;32mraise\u001b[0m \u001b[0mConnectionError\u001b[0m\u001b[0;34m(\u001b[0m\u001b[0me\u001b[0m\u001b[0;34m,\u001b[0m \u001b[0mrequest\u001b[0m\u001b[0;34m=\u001b[0m\u001b[0mrequest\u001b[0m\u001b[0;34m)\u001b[0m\u001b[0;34m\u001b[0m\u001b[0;34m\u001b[0m\u001b[0m\n\u001b[0m\u001b[1;32m    517\u001b[0m \u001b[0;34m\u001b[0m\u001b[0m\n\u001b[1;32m    518\u001b[0m         \u001b[0;32mexcept\u001b[0m \u001b[0mClosedPoolError\u001b[0m \u001b[0;32mas\u001b[0m \u001b[0me\u001b[0m\u001b[0;34m:\u001b[0m\u001b[0;34m\u001b[0m\u001b[0;34m\u001b[0m\u001b[0m\n",
      "\u001b[0;31mConnectionError\u001b[0m: HTTPSConnectionPool(host='api.github.com', port=443): Max retries exceeded with url: /repos/ultralytics/assets/releases/tags/v0.0.0 (Caused by NewConnectionError('<urllib3.connection.HTTPSConnection object at 0x7f5098253f10>: Failed to establish a new connection: [Errno 110] Connection timed out'))"
     ]
    }
   ],
   "source": [
    "from ultralytics import YOLO\n",
    "for i in range(0,5):\n",
    "    model = YOLO(f'3500_val/train_split{i}/weights/best.pt')  # load an official model\n",
    "    # model = YOLO('path/to/best.pt')  # load a custom model\n",
    "\n",
    "    # Validate the model\n",
    "    metrics = model.val(data = 'data/07.yaml',device=3,iou=0.5,conf=0.3) # no arguments needed, dataset and settings remembered\n",
    "    #     metrics.box.f1\n",
    "    print(i,metrics.box.f1.mean(),sep='\\t')"
   ]
  },
  {
   "cell_type": "code",
   "execution_count": null,
   "metadata": {},
   "outputs": [],
   "source": [
    "from ultralytics import YOLO\n",
    "for i in range(0,5):\n",
    "    model = YOLO(f'3500_test/train_split{i}/weights/best.pt')  # load an official model\n",
    "    # model = YOLO('path/to/best.pt')  # load a custom model\n",
    "\n",
    "    # Validate the model\n",
    "    metrics = model.val(data = 'data/07.yaml',device=3,iou=0.5,conf=0.3) # no arguments needed, dataset and settings remembered\n",
    "    #     metrics.box.f1\n",
    "    print(i,metrics.box.f1.mean(),sep='\\t')"
   ]
  },
  {
   "cell_type": "code",
   "execution_count": 2,
   "metadata": {},
   "outputs": [
    {
     "name": "stderr",
     "output_type": "stream",
     "text": [
      "Ultralytics YOLOv8.0.186 🚀 Python-3.8.5 torch-1.9.1+cu102 CUDA:3 (Tesla K80, 11441MiB)\n",
      "Model summary (fused): 168 layers, 11128680 parameters, 0 gradients, 28.5 GFLOPs\n",
      "\u001b[34m\u001b[1mval: \u001b[0mScanning /home/ubuntu/zoucheng/yolo/07/test.cache... 987 images, 7 backgrounds, 0 corrupt: 100%|██████████| 987/987 [00:00<?, ?it/s]\n",
      "                 Class     Images  Instances      Box(P          R      mAP50  mAP50-95): 100%|██████████| 62/62 [00:53<00:00,  1.16it/s]\n",
      "                   all        987       1932      0.563      0.383      0.472      0.274\n",
      "       transverseCrack        987        122      0.327      0.156      0.213      0.113\n",
      "     longitudinalCrack        987        757      0.595      0.539      0.556      0.323\n",
      "           blockyCrack        987         40      0.634      0.475       0.59      0.425\n",
      "              cracking        987        390      0.672      0.492       0.59      0.303\n",
      "             pitGroove        987        218      0.638      0.275      0.432      0.209\n",
      "      repairMeshCracks        987         43      0.793      0.535      0.703      0.508\n",
      "          repairCracks        987        311      0.452      0.354      0.353      0.157\n",
      "  repairPitsAndGrooves        987         51       0.39      0.235      0.336      0.152\n",
      "Speed: 5.9ms preprocess, 30.9ms inference, 0.0ms loss, 8.8ms postprocess per image\n",
      "Results saved to \u001b[1mruns/detect/val295\u001b[0m\n"
     ]
    },
    {
     "name": "stdout",
     "output_type": "stream",
     "text": [
      "0.4502234517603968\n"
     ]
    }
   ],
   "source": [
    "from ultralytics import YOLO\n",
    "# for i in range(0,4):\n",
    "model = YOLO(f'3500/8_22/weights/best.pt')  # load an official model\n",
    "# model = YOLO('path/to/best.pt')  # load a custom model\n",
    "\n",
    "# Validate the model\n",
    "metrics = model.val(data = 'data/07.yaml',device=3,iou=0.5,conf=0.3) # no arguments needed, dataset and settings remembered\n",
    "#     metrics.box.f1\n",
    "print(metrics.box.f1.mean(),sep='\\t')"
   ]
  },
  {
   "cell_type": "code",
   "execution_count": 4,
   "metadata": {},
   "outputs": [
    {
     "name": "stderr",
     "output_type": "stream",
     "text": [
      "Ultralytics YOLOv8.0.186 🚀 Python-3.8.5 torch-1.9.1+cu102 CUDA:3 (Tesla K80, 11441MiB)\n",
      "Model summary (fused): 168 layers, 11128680 parameters, 0 gradients, 28.5 GFLOPs\n",
      "\u001b[34m\u001b[1mval: \u001b[0mScanning /home/ubuntu/zoucheng/yolo/07/test.cache... 987 images, 7 backgrounds, 0 corrupt: 100%|██████████| 987/987 [00:00<?, ?it/s]\n",
      "                 Class     Images  Instances      Box(P          R      mAP50  mAP50-95): 100%|██████████| 62/62 [00:34<00:00,  1.81it/s]\n",
      "                   all        987       1932      0.563      0.383      0.472      0.274\n",
      "       transverseCrack        987        122      0.327      0.156      0.213      0.113\n",
      "     longitudinalCrack        987        757      0.595      0.539      0.556      0.323\n",
      "           blockyCrack        987         40      0.634      0.475       0.59      0.425\n",
      "              cracking        987        390      0.672      0.492       0.59      0.303\n",
      "             pitGroove        987        218      0.638      0.275      0.432      0.209\n",
      "      repairMeshCracks        987         43      0.793      0.535      0.703      0.508\n",
      "          repairCracks        987        311      0.452      0.354      0.353      0.157\n",
      "  repairPitsAndGrooves        987         51       0.39      0.235      0.336      0.152\n",
      "Speed: 0.5ms preprocess, 29.4ms inference, 0.0ms loss, 1.1ms postprocess per image\n",
      "Results saved to \u001b[1mruns/detect/val301\u001b[0m\n"
     ]
    },
    {
     "name": "stdout",
     "output_type": "stream",
     "text": [
      "0.4502234517603968\n"
     ]
    }
   ],
   "source": [
    "from ultralytics import YOLO\n",
    "# for i in range(0,4):\n",
    "model = YOLO(f'3500/8_22/weights/best.pt')  # load an official model\n",
    "# model = YOLO('path/to/best.pt')  # load a custom model\n",
    "\n",
    "# Validate the model\n",
    "metrics = model.val(data = 'data/07.yaml',device=3,iou=0.5,conf=0.3) # no arguments needed, dataset and settings remembered\n",
    "#     metrics.box.f1\n",
    "print(metrics.box.f1.mean(),sep='\\t')"
   ]
  },
  {
   "cell_type": "code",
   "execution_count": null,
   "metadata": {},
   "outputs": [],
   "source": []
  }
 ],
 "metadata": {
  "kernelspec": {
   "display_name": "Python 3",
   "language": "python",
   "name": "python3"
  },
  "language_info": {
   "codemirror_mode": {
    "name": "ipython",
    "version": 3
   },
   "file_extension": ".py",
   "mimetype": "text/x-python",
   "name": "python",
   "nbconvert_exporter": "python",
   "pygments_lexer": "ipython3",
   "version": "3.8.5"
  }
 },
 "nbformat": 4,
 "nbformat_minor": 4
}
